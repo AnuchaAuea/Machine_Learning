{
 "cells": [
  {
   "cell_type": "markdown",
   "id": "756ff398",
   "metadata": {},
   "source": [
    "\n",
    "# Data Science Job Salaries Analysis\n",
    "\n",
    "\n",
    "\n",
    "### Columns Description\n",
    "\n",
    "- **work_year**: The year in which the data was recorded.\n",
    "- **experience_level**: The level of experience required for the job. Categories include:\n",
    "  - 'EN' - Entry-level\n",
    "  - 'MI' - Mid-level\n",
    "  - 'SE' - Senior-level\n",
    "  - 'EX' - Executive-level\n",
    "- **employment_type**: The nature of employment. Types include:\n",
    "  - 'FT' - Full-time\n",
    "  - 'PT' - Part-time\n",
    "  - 'CT' - Contract\n",
    "  - 'FL' - Freelance\n",
    "- **job_title**: The title of the job, e.g., 'Data Scientist', 'ML Engineer'.\n",
    "- **salary**: The salary amount in the specified currency.\n",
    "- **salary_currency**: The currency in which the salary is paid, e.g., USD, EUR.\n",
    "- **salary_in_usd**: The salary converted into USD for standardization purposes.\n",
    "- **employee_residence**: The country or region where the employee resides.\n",
    "- **remote_ratio**: Indicates the extent to which a job is remote, with values like 0 (non-remote), 50 (partially remote), and 100 (fully remote).\n",
    "- **company_location**: The location of the company offering the job.\n",
    "- **company_size**: The size of the company, categorized as:\n",
    "  - 'S' - Small (1-50 employees)\n",
    "  - 'M' - Medium (51-250 employees)\n",
    "  - 'L' - Large (251+ employees)\n"
   ]
  },
  {
   "cell_type": "code",
   "execution_count": 7,
   "id": "e09ba931",
   "metadata": {},
   "outputs": [
    {
     "name": "stdout",
     "output_type": "stream",
     "text": [
      "Notebook cleaned.\n"
     ]
    }
   ],
   "source": [
    "import IPython\n",
    "import sys\n",
    "\n",
    "def clean_notebook():\n",
    "    IPython.display.clear_output(wait=True)\n",
    "    print(\"Notebook cleaned.\")\n",
    "!pip install openai\n",
    "!pip install python-dotenv\n",
    "!pip install -U langchain-openai\n",
    "!pip install langchain-experimental\n",
    "!pip install tabulate\n",
    "\n",
    "\n",
    "# Clean up the notebook\n",
    "clean_notebook()"
   ]
  },
  {
   "cell_type": "markdown",
   "id": "7868a68f",
   "metadata": {},
   "source": [
    "| Question                                                                 | Pandas Code                                           |\n",
    "|--------------------------------------------------------------------------|-------------------------------------------------------|\n",
    "| How many unique job titles are present in the dataset?                   | `df['job_title'].nunique()`                           |\n",
    "| What is the average salary in USD for all job titles?                    | `df['salary_in_usd'].mean()`                          |\n",
    "| Which job title has the highest average salary?                          | `df.groupby('job_title')['salary_in_usd'].mean().idxmax()` |\n",
    "| What is the median salary in USD for data scientists?                    | `df[df['job_title'] == 'Data Scientist']['salary_in_usd'].median()` |\n",
    "| How many different employment types are represented in the dataset?      | `df['employment_type'].nunique()`                     |\n",
    "| What is the average salary difference between remote and non-remote jobs?| `df[df['remote_ratio'] == 100]['salary_in_usd'].mean() - df[df['remote_ratio'] != 100]['salary_in_usd'].mean()` |\n",
    "| How many employees are located in 'CA' (Canada)?                         | `df[df['employee_residence'] == 'CA'].shape[0]`       |\n",
    "| What is the most common company size?                                    | `df['company_size'].mode()[0]`                        |\n",
    "| How many employees work in large-sized companies?                        | `df[df['company_size'] == 'L'].shape[0]`              |\n",
    "| Find the maximum salary in USD for 'Data Engineer' positions.            | `df[df['job_title'] == 'Data Engineer']['salary_in_usd'].max()` |\n",
    "| What is the average salary in EUR?                                       | `df[df['salary_currency'] == 'EUR']['salary'].mean()` |\n",
    "| Which country has the most remote jobs?                                  | `df[df['remote_ratio'] == 100]['employee_residence'].value_counts().idxmax()` |\n",
    "| How many job titles have an average salary above $100,000?               | `(df.groupby('job_title')['salary_in_usd'].mean() > 100000).sum()` |\n",
    "| What is the most common employee residence country?                      | `df['employee_residence'].mode()[0]`                  |\n",
    "| Find the average salary for each company size category.                  | `df.groupby('company_size')['salary_in_usd'].mean()`  |\n",
    "| Which job title has the most employees?                                  | `df['job_title'].value_counts().idxmax()`             |\n"
   ]
  },
  {
   "cell_type": "code",
   "execution_count": 1,
   "id": "a8cfde86",
   "metadata": {},
   "outputs": [
    {
     "data": {
      "text/plain": [
       "True"
      ]
     },
     "execution_count": 1,
     "metadata": {},
     "output_type": "execute_result"
    }
   ],
   "source": [
    "import os\n",
    "from openai import OpenAI\n",
    "from dotenv import load_dotenv\n",
    "\n",
    "# Load environment variables\n",
    "load_dotenv()"
   ]
  },
  {
   "cell_type": "code",
   "execution_count": 2,
   "id": "5dfdc2a3",
   "metadata": {},
   "outputs": [
    {
     "data": {
      "text/html": [
       "<div>\n",
       "<style scoped>\n",
       "    .dataframe tbody tr th:only-of-type {\n",
       "        vertical-align: middle;\n",
       "    }\n",
       "\n",
       "    .dataframe tbody tr th {\n",
       "        vertical-align: top;\n",
       "    }\n",
       "\n",
       "    .dataframe thead th {\n",
       "        text-align: right;\n",
       "    }\n",
       "</style>\n",
       "<table border=\"1\" class=\"dataframe\">\n",
       "  <thead>\n",
       "    <tr style=\"text-align: right;\">\n",
       "      <th></th>\n",
       "      <th>work_year</th>\n",
       "      <th>experience_level</th>\n",
       "      <th>employment_type</th>\n",
       "      <th>job_title</th>\n",
       "      <th>salary</th>\n",
       "      <th>salary_currency</th>\n",
       "      <th>salary_in_usd</th>\n",
       "      <th>employee_residence</th>\n",
       "      <th>remote_ratio</th>\n",
       "      <th>company_location</th>\n",
       "      <th>company_size</th>\n",
       "    </tr>\n",
       "  </thead>\n",
       "  <tbody>\n",
       "    <tr>\n",
       "      <th>0</th>\n",
       "      <td>2023</td>\n",
       "      <td>SE</td>\n",
       "      <td>FT</td>\n",
       "      <td>Principal Data Scientist</td>\n",
       "      <td>80000</td>\n",
       "      <td>EUR</td>\n",
       "      <td>85847</td>\n",
       "      <td>ES</td>\n",
       "      <td>100</td>\n",
       "      <td>ES</td>\n",
       "      <td>L</td>\n",
       "    </tr>\n",
       "    <tr>\n",
       "      <th>1</th>\n",
       "      <td>2023</td>\n",
       "      <td>MI</td>\n",
       "      <td>CT</td>\n",
       "      <td>ML Engineer</td>\n",
       "      <td>30000</td>\n",
       "      <td>USD</td>\n",
       "      <td>30000</td>\n",
       "      <td>US</td>\n",
       "      <td>100</td>\n",
       "      <td>US</td>\n",
       "      <td>S</td>\n",
       "    </tr>\n",
       "    <tr>\n",
       "      <th>2</th>\n",
       "      <td>2023</td>\n",
       "      <td>MI</td>\n",
       "      <td>CT</td>\n",
       "      <td>ML Engineer</td>\n",
       "      <td>25500</td>\n",
       "      <td>USD</td>\n",
       "      <td>25500</td>\n",
       "      <td>US</td>\n",
       "      <td>100</td>\n",
       "      <td>US</td>\n",
       "      <td>S</td>\n",
       "    </tr>\n",
       "    <tr>\n",
       "      <th>3</th>\n",
       "      <td>2023</td>\n",
       "      <td>SE</td>\n",
       "      <td>FT</td>\n",
       "      <td>Data Scientist</td>\n",
       "      <td>175000</td>\n",
       "      <td>USD</td>\n",
       "      <td>175000</td>\n",
       "      <td>CA</td>\n",
       "      <td>100</td>\n",
       "      <td>CA</td>\n",
       "      <td>M</td>\n",
       "    </tr>\n",
       "    <tr>\n",
       "      <th>4</th>\n",
       "      <td>2023</td>\n",
       "      <td>SE</td>\n",
       "      <td>FT</td>\n",
       "      <td>Data Scientist</td>\n",
       "      <td>120000</td>\n",
       "      <td>USD</td>\n",
       "      <td>120000</td>\n",
       "      <td>CA</td>\n",
       "      <td>100</td>\n",
       "      <td>CA</td>\n",
       "      <td>M</td>\n",
       "    </tr>\n",
       "  </tbody>\n",
       "</table>\n",
       "</div>"
      ],
      "text/plain": [
       "   work_year experience_level employment_type                 job_title  \\\n",
       "0       2023               SE              FT  Principal Data Scientist   \n",
       "1       2023               MI              CT               ML Engineer   \n",
       "2       2023               MI              CT               ML Engineer   \n",
       "3       2023               SE              FT            Data Scientist   \n",
       "4       2023               SE              FT            Data Scientist   \n",
       "\n",
       "   salary salary_currency  salary_in_usd employee_residence  remote_ratio  \\\n",
       "0   80000             EUR          85847                 ES           100   \n",
       "1   30000             USD          30000                 US           100   \n",
       "2   25500             USD          25500                 US           100   \n",
       "3  175000             USD         175000                 CA           100   \n",
       "4  120000             USD         120000                 CA           100   \n",
       "\n",
       "  company_location company_size  \n",
       "0               ES            L  \n",
       "1               US            S  \n",
       "2               US            S  \n",
       "3               CA            M  \n",
       "4               CA            M  "
      ]
     },
     "execution_count": 2,
     "metadata": {},
     "output_type": "execute_result"
    }
   ],
   "source": [
    "import pandas as pd\n",
    "\n",
    "df = pd.read_csv(\"./ds_salaries.csv\")\n",
    "df.head()"
   ]
  },
  {
   "cell_type": "code",
   "execution_count": 17,
   "id": "c4399b7c",
   "metadata": {},
   "outputs": [],
   "source": [
    "import pandas as pd\n",
    "from langchain_openai import OpenAI\n",
    "from langchain.prompts import PromptTemplate\n",
    "from langchain.chains import LLMChain\n",
    "\n",
    "# Initialize the language model\n",
    "llm = OpenAI(temperature=0)\n",
    "\n",
    "# Create a prompt template\n",
    "prompt_template = PromptTemplate(\n",
    "    input_variables=[\"question\", \"df_info\"],\n",
    "    template=\"\"\"Given the following question about a pandas DataFrame and the DataFrame information provided, generate only  pandas code without any description to answer it. \n",
    "Do not execute the code, just provide it.\n",
    "\n",
    "Question: {question}\n",
    "\n",
    "DataFrame Info:\n",
    "{df_info}\n",
    "\n",
    "Pandas code:\n",
    "\"\"\"\n",
    ")"
   ]
  },
  {
   "cell_type": "code",
   "execution_count": 21,
   "id": "37a031ee",
   "metadata": {},
   "outputs": [
    {
     "name": "stdout",
     "output_type": "stream",
     "text": [
      "Columns: work_year, experience_level, employment_type, job_title, salary, salary_currency, salary_in_usd, employee_residence, remote_ratio, company_location, company_size, age\n",
      "Shape: (3755, 12)\n",
      "Data types:\n",
      "  work_year: int64\n",
      "  experience_level: object\n",
      "  employment_type: object\n",
      "  job_title: object\n",
      "  salary: int64\n",
      "  salary_currency: object\n",
      "  salary_in_usd: int64\n",
      "  employee_residence: object\n",
      "  remote_ratio: int64\n",
      "  company_location: object\n",
      "  company_size: object\n",
      "  age: int64\n",
      "First few rows:\n",
      "   work_year experience_level employment_type                 job_title  salary salary_currency  salary_in_usd employee_residence  remote_ratio company_location company_size  age\n",
      "0       2023               SE              FT  Principal Data Scientist   80000             EUR          85847                 ES           100               ES            L    0\n",
      "1       2023               MI              CT               ML Engineer   30000             USD          30000                 US           100               US            S    0\n",
      "2       2023               MI              CT               ML Engineer   25500             USD          25500                 US           100               US            S    0\n",
      "3       2023               SE              FT            Data Scientist  175000             USD         175000                 CA           100               CA            M    0\n",
      "4       2023               SE              FT            Data Scientist  120000             USD         120000                 CA           100               CA            M    0\n"
     ]
    }
   ],
   "source": [
    "\n",
    "def get_dataframe_info(df):\n",
    "    \"\"\"Get basic information about the DataFrame.\"\"\"\n",
    "    info = f\"Columns: {', '.join(df.columns)}\\n\"\n",
    "    info += f\"Shape: {df.shape}\\n\"\n",
    "    info += \"Data types:\\n\"\n",
    "    for col, dtype in df.dtypes.items():\n",
    "        info += f\"  {col}: {dtype}\\n\"\n",
    "    info += f\"First few rows:\\n{df.head().to_string()}\"\n",
    "    return info\n",
    "\n",
    "print(get_dataframe_info(df))"
   ]
  },
  {
   "cell_type": "code",
   "execution_count": 19,
   "id": "1b65cdb5",
   "metadata": {},
   "outputs": [
    {
     "name": "stdout",
     "output_type": "stream",
     "text": [
      "Generated code:\n",
      "df[df['job_title'] == 'Data Scientist']['salary_in_usd'].median()\n"
     ]
    },
    {
     "data": {
      "text/plain": [
       "\"df[df['job_title'] == 'Data Scientist']['salary_in_usd'].median()\""
      ]
     },
     "execution_count": 19,
     "metadata": {},
     "output_type": "execute_result"
    }
   ],
   "source": [
    "\n",
    "\n",
    "# Create an LLMChain\n",
    "chain = LLMChain(llm=llm, prompt=prompt_template)\n",
    "\n",
    "def get_dataframe_info(df):\n",
    "    \"\"\"Get basic information about the DataFrame.\"\"\"\n",
    "    info = f\"Columns: {', '.join(df.columns)}\\n\"\n",
    "    info += f\"Shape: {df.shape}\\n\"\n",
    "    info += \"Data types:\\n\"\n",
    "    for col, dtype in df.dtypes.items():\n",
    "        info += f\"  {col}: {dtype}\\n\"\n",
    "    info += f\"First few rows:\\n{df.head().to_string()}\"\n",
    "    return info\n",
    "\n",
    "def query_dataframe(question):\n",
    "    # Get DataFrame info\n",
    "    df_info = get_dataframe_info(df)\n",
    "    \n",
    "    # Generate pandas code using LangChain\n",
    "    response = chain.run(question=question, df_info=df_info)\n",
    "    print(f\"Generated code:\\n{response}\")\n",
    "    \n",
    "    return response\n",
    "\n",
    "# Example usage\n",
    "question = \"What is the median salary in USD for data scientists?\"\n",
    "pandas_code = query_dataframe(question)\n",
    "\n",
    "# print(\"\\nTo execute this code and get the result, you can use:\")\n",
    "# print(\"exec(pandas_code)\")\n",
    "# print(\"This will create a 'result' variable with the output.\")\n",
    "# print(\"\\nMake sure to review the code before executing it.\")\n",
    "\n",
    "pandas_code"
   ]
  },
  {
   "cell_type": "code",
   "execution_count": 9,
   "id": "10184046",
   "metadata": {},
   "outputs": [
    {
     "data": {
      "text/plain": [
       "\"df['age'] = 2023 - df['work_year']\\ndf['age'].mean()\""
      ]
     },
     "execution_count": 9,
     "metadata": {},
     "output_type": "execute_result"
    }
   ],
   "source": [
    "pandas_code "
   ]
  },
  {
   "cell_type": "code",
   "execution_count": 10,
   "id": "e58fbeef",
   "metadata": {},
   "outputs": [],
   "source": [
    "exec(pandas_code)"
   ]
  },
  {
   "cell_type": "code",
   "execution_count": 5,
   "id": "07903288",
   "metadata": {},
   "outputs": [],
   "source": [
    "import pandas as pd\n",
    "from langchain_openai import OpenAI\n",
    "from langchain.prompts import PromptTemplate\n",
    "from langchain.chains import LLMChain\n",
    "from langchain_experimental.agents.agent_toolkits import create_pandas_dataframe_agent\n",
    "\n",
    "# Load your CSV file\n",
    "\n",
    "\n",
    "# Initialize the language model\n",
    "llm = OpenAI(temperature=0)\n",
    "\n",
    "# Create a prompt template\n",
    "prompt_template = PromptTemplate(\n",
    "    input_variables=[\"question\"],\n",
    "    template=\"Given the following question about a pandas DataFrame, generate the appropriate pandas code to answer it: {question}\"\n",
    ")\n"
   ]
  },
  {
   "cell_type": "code",
   "execution_count": 6,
   "id": "d5b4e24e",
   "metadata": {},
   "outputs": [],
   "source": [
    "agent = create_pandas_dataframe_agent(llm, df, verbose=True,allow_dangerous_code=True)"
   ]
  },
  {
   "cell_type": "code",
   "execution_count": 16,
   "id": "df50549b",
   "metadata": {},
   "outputs": [
    {
     "ename": "ValueError",
     "evalue": "Missing some input keys: {'df_info'}",
     "output_type": "error",
     "traceback": [
      "\u001b[0;31m---------------------------------------------------------------------------\u001b[0m",
      "\u001b[0;31mValueError\u001b[0m                                Traceback (most recent call last)",
      "Cell \u001b[0;32mIn[16], line 18\u001b[0m\n\u001b[1;32m     16\u001b[0m \u001b[38;5;66;03m# Example usage\u001b[39;00m\n\u001b[1;32m     17\u001b[0m question \u001b[38;5;241m=\u001b[39m \u001b[38;5;124m\"\u001b[39m\u001b[38;5;124mWhat is the median salary in USD for data scientists?\u001b[39m\u001b[38;5;124m\"\u001b[39m\n\u001b[0;32m---> 18\u001b[0m result \u001b[38;5;241m=\u001b[39m \u001b[43mquery_dataframe\u001b[49m\u001b[43m(\u001b[49m\u001b[43mquestion\u001b[49m\u001b[43m)\u001b[49m\n\u001b[1;32m     19\u001b[0m \u001b[38;5;28mprint\u001b[39m(\u001b[38;5;124mf\u001b[39m\u001b[38;5;124m\"\u001b[39m\u001b[38;5;124mResult: \u001b[39m\u001b[38;5;132;01m{\u001b[39;00mresult\u001b[38;5;132;01m}\u001b[39;00m\u001b[38;5;124m\"\u001b[39m)\n",
      "Cell \u001b[0;32mIn[16], line 9\u001b[0m, in \u001b[0;36mquery_dataframe\u001b[0;34m(question)\u001b[0m\n\u001b[1;32m      7\u001b[0m \u001b[38;5;28;01mdef\u001b[39;00m \u001b[38;5;21mquery_dataframe\u001b[39m(question):\n\u001b[1;32m      8\u001b[0m     \u001b[38;5;66;03m# Generate pandas code using LangChain\u001b[39;00m\n\u001b[0;32m----> 9\u001b[0m     response \u001b[38;5;241m=\u001b[39m \u001b[43mchain\u001b[49m\u001b[38;5;241;43m.\u001b[39;49m\u001b[43mrun\u001b[49m\u001b[43m(\u001b[49m\u001b[43mquestion\u001b[49m\u001b[38;5;241;43m=\u001b[39;49m\u001b[43mquestion\u001b[49m\u001b[43m)\u001b[49m\n\u001b[1;32m     10\u001b[0m     \u001b[38;5;28mprint\u001b[39m(\u001b[38;5;124mf\u001b[39m\u001b[38;5;124m\"\u001b[39m\u001b[38;5;124mGenerated code: \u001b[39m\u001b[38;5;132;01m{\u001b[39;00mresponse\u001b[38;5;132;01m}\u001b[39;00m\u001b[38;5;124m\"\u001b[39m)\n\u001b[1;32m     12\u001b[0m     \u001b[38;5;66;03m# Use the pandas DataFrame agent to execute the query\u001b[39;00m\n",
      "File \u001b[0;32m~/anaconda3/envs/torch/lib/python3.10/site-packages/langchain_core/_api/deprecation.py:168\u001b[0m, in \u001b[0;36mdeprecated.<locals>.deprecate.<locals>.warning_emitting_wrapper\u001b[0;34m(*args, **kwargs)\u001b[0m\n\u001b[1;32m    166\u001b[0m     warned \u001b[38;5;241m=\u001b[39m \u001b[38;5;28;01mTrue\u001b[39;00m\n\u001b[1;32m    167\u001b[0m     emit_warning()\n\u001b[0;32m--> 168\u001b[0m \u001b[38;5;28;01mreturn\u001b[39;00m \u001b[43mwrapped\u001b[49m\u001b[43m(\u001b[49m\u001b[38;5;241;43m*\u001b[39;49m\u001b[43margs\u001b[49m\u001b[43m,\u001b[49m\u001b[43m \u001b[49m\u001b[38;5;241;43m*\u001b[39;49m\u001b[38;5;241;43m*\u001b[39;49m\u001b[43mkwargs\u001b[49m\u001b[43m)\u001b[49m\n",
      "File \u001b[0;32m~/anaconda3/envs/torch/lib/python3.10/site-packages/langchain/chains/base.py:605\u001b[0m, in \u001b[0;36mChain.run\u001b[0;34m(self, callbacks, tags, metadata, *args, **kwargs)\u001b[0m\n\u001b[1;32m    600\u001b[0m     \u001b[38;5;28;01mreturn\u001b[39;00m \u001b[38;5;28mself\u001b[39m(args[\u001b[38;5;241m0\u001b[39m], callbacks\u001b[38;5;241m=\u001b[39mcallbacks, tags\u001b[38;5;241m=\u001b[39mtags, metadata\u001b[38;5;241m=\u001b[39mmetadata)[\n\u001b[1;32m    601\u001b[0m         _output_key\n\u001b[1;32m    602\u001b[0m     ]\n\u001b[1;32m    604\u001b[0m \u001b[38;5;28;01mif\u001b[39;00m kwargs \u001b[38;5;129;01mand\u001b[39;00m \u001b[38;5;129;01mnot\u001b[39;00m args:\n\u001b[0;32m--> 605\u001b[0m     \u001b[38;5;28;01mreturn\u001b[39;00m \u001b[38;5;28;43mself\u001b[39;49m\u001b[43m(\u001b[49m\u001b[43mkwargs\u001b[49m\u001b[43m,\u001b[49m\u001b[43m \u001b[49m\u001b[43mcallbacks\u001b[49m\u001b[38;5;241;43m=\u001b[39;49m\u001b[43mcallbacks\u001b[49m\u001b[43m,\u001b[49m\u001b[43m \u001b[49m\u001b[43mtags\u001b[49m\u001b[38;5;241;43m=\u001b[39;49m\u001b[43mtags\u001b[49m\u001b[43m,\u001b[49m\u001b[43m \u001b[49m\u001b[43mmetadata\u001b[49m\u001b[38;5;241;43m=\u001b[39;49m\u001b[43mmetadata\u001b[49m\u001b[43m)\u001b[49m[\n\u001b[1;32m    606\u001b[0m         _output_key\n\u001b[1;32m    607\u001b[0m     ]\n\u001b[1;32m    609\u001b[0m \u001b[38;5;28;01mif\u001b[39;00m \u001b[38;5;129;01mnot\u001b[39;00m kwargs \u001b[38;5;129;01mand\u001b[39;00m \u001b[38;5;129;01mnot\u001b[39;00m args:\n\u001b[1;32m    610\u001b[0m     \u001b[38;5;28;01mraise\u001b[39;00m \u001b[38;5;167;01mValueError\u001b[39;00m(\n\u001b[1;32m    611\u001b[0m         \u001b[38;5;124m\"\u001b[39m\u001b[38;5;124m`run` supported with either positional arguments or keyword arguments,\u001b[39m\u001b[38;5;124m\"\u001b[39m\n\u001b[1;32m    612\u001b[0m         \u001b[38;5;124m\"\u001b[39m\u001b[38;5;124m but none were provided.\u001b[39m\u001b[38;5;124m\"\u001b[39m\n\u001b[1;32m    613\u001b[0m     )\n",
      "File \u001b[0;32m~/anaconda3/envs/torch/lib/python3.10/site-packages/langchain_core/_api/deprecation.py:168\u001b[0m, in \u001b[0;36mdeprecated.<locals>.deprecate.<locals>.warning_emitting_wrapper\u001b[0;34m(*args, **kwargs)\u001b[0m\n\u001b[1;32m    166\u001b[0m     warned \u001b[38;5;241m=\u001b[39m \u001b[38;5;28;01mTrue\u001b[39;00m\n\u001b[1;32m    167\u001b[0m     emit_warning()\n\u001b[0;32m--> 168\u001b[0m \u001b[38;5;28;01mreturn\u001b[39;00m \u001b[43mwrapped\u001b[49m\u001b[43m(\u001b[49m\u001b[38;5;241;43m*\u001b[39;49m\u001b[43margs\u001b[49m\u001b[43m,\u001b[49m\u001b[43m \u001b[49m\u001b[38;5;241;43m*\u001b[39;49m\u001b[38;5;241;43m*\u001b[39;49m\u001b[43mkwargs\u001b[49m\u001b[43m)\u001b[49m\n",
      "File \u001b[0;32m~/anaconda3/envs/torch/lib/python3.10/site-packages/langchain/chains/base.py:383\u001b[0m, in \u001b[0;36mChain.__call__\u001b[0;34m(self, inputs, return_only_outputs, callbacks, tags, metadata, run_name, include_run_info)\u001b[0m\n\u001b[1;32m    351\u001b[0m \u001b[38;5;250m\u001b[39m\u001b[38;5;124;03m\"\"\"Execute the chain.\u001b[39;00m\n\u001b[1;32m    352\u001b[0m \n\u001b[1;32m    353\u001b[0m \u001b[38;5;124;03mArgs:\u001b[39;00m\n\u001b[0;32m   (...)\u001b[0m\n\u001b[1;32m    374\u001b[0m \u001b[38;5;124;03m        `Chain.output_keys`.\u001b[39;00m\n\u001b[1;32m    375\u001b[0m \u001b[38;5;124;03m\"\"\"\u001b[39;00m\n\u001b[1;32m    376\u001b[0m config \u001b[38;5;241m=\u001b[39m {\n\u001b[1;32m    377\u001b[0m     \u001b[38;5;124m\"\u001b[39m\u001b[38;5;124mcallbacks\u001b[39m\u001b[38;5;124m\"\u001b[39m: callbacks,\n\u001b[1;32m    378\u001b[0m     \u001b[38;5;124m\"\u001b[39m\u001b[38;5;124mtags\u001b[39m\u001b[38;5;124m\"\u001b[39m: tags,\n\u001b[1;32m    379\u001b[0m     \u001b[38;5;124m\"\u001b[39m\u001b[38;5;124mmetadata\u001b[39m\u001b[38;5;124m\"\u001b[39m: metadata,\n\u001b[1;32m    380\u001b[0m     \u001b[38;5;124m\"\u001b[39m\u001b[38;5;124mrun_name\u001b[39m\u001b[38;5;124m\"\u001b[39m: run_name,\n\u001b[1;32m    381\u001b[0m }\n\u001b[0;32m--> 383\u001b[0m \u001b[38;5;28;01mreturn\u001b[39;00m \u001b[38;5;28;43mself\u001b[39;49m\u001b[38;5;241;43m.\u001b[39;49m\u001b[43minvoke\u001b[49m\u001b[43m(\u001b[49m\n\u001b[1;32m    384\u001b[0m \u001b[43m    \u001b[49m\u001b[43minputs\u001b[49m\u001b[43m,\u001b[49m\n\u001b[1;32m    385\u001b[0m \u001b[43m    \u001b[49m\u001b[43mcast\u001b[49m\u001b[43m(\u001b[49m\u001b[43mRunnableConfig\u001b[49m\u001b[43m,\u001b[49m\u001b[43m \u001b[49m\u001b[43m{\u001b[49m\u001b[43mk\u001b[49m\u001b[43m:\u001b[49m\u001b[43m \u001b[49m\u001b[43mv\u001b[49m\u001b[43m \u001b[49m\u001b[38;5;28;43;01mfor\u001b[39;49;00m\u001b[43m \u001b[49m\u001b[43mk\u001b[49m\u001b[43m,\u001b[49m\u001b[43m \u001b[49m\u001b[43mv\u001b[49m\u001b[43m \u001b[49m\u001b[38;5;129;43;01min\u001b[39;49;00m\u001b[43m \u001b[49m\u001b[43mconfig\u001b[49m\u001b[38;5;241;43m.\u001b[39;49m\u001b[43mitems\u001b[49m\u001b[43m(\u001b[49m\u001b[43m)\u001b[49m\u001b[43m \u001b[49m\u001b[38;5;28;43;01mif\u001b[39;49;00m\u001b[43m \u001b[49m\u001b[43mv\u001b[49m\u001b[43m \u001b[49m\u001b[38;5;129;43;01mis\u001b[39;49;00m\u001b[43m \u001b[49m\u001b[38;5;129;43;01mnot\u001b[39;49;00m\u001b[43m \u001b[49m\u001b[38;5;28;43;01mNone\u001b[39;49;00m\u001b[43m}\u001b[49m\u001b[43m)\u001b[49m\u001b[43m,\u001b[49m\n\u001b[1;32m    386\u001b[0m \u001b[43m    \u001b[49m\u001b[43mreturn_only_outputs\u001b[49m\u001b[38;5;241;43m=\u001b[39;49m\u001b[43mreturn_only_outputs\u001b[49m\u001b[43m,\u001b[49m\n\u001b[1;32m    387\u001b[0m \u001b[43m    \u001b[49m\u001b[43minclude_run_info\u001b[49m\u001b[38;5;241;43m=\u001b[39;49m\u001b[43minclude_run_info\u001b[49m\u001b[43m,\u001b[49m\n\u001b[1;32m    388\u001b[0m \u001b[43m\u001b[49m\u001b[43m)\u001b[49m\n",
      "File \u001b[0;32m~/anaconda3/envs/torch/lib/python3.10/site-packages/langchain/chains/base.py:166\u001b[0m, in \u001b[0;36mChain.invoke\u001b[0;34m(self, input, config, **kwargs)\u001b[0m\n\u001b[1;32m    164\u001b[0m \u001b[38;5;28;01mexcept\u001b[39;00m \u001b[38;5;167;01mBaseException\u001b[39;00m \u001b[38;5;28;01mas\u001b[39;00m e:\n\u001b[1;32m    165\u001b[0m     run_manager\u001b[38;5;241m.\u001b[39mon_chain_error(e)\n\u001b[0;32m--> 166\u001b[0m     \u001b[38;5;28;01mraise\u001b[39;00m e\n\u001b[1;32m    167\u001b[0m run_manager\u001b[38;5;241m.\u001b[39mon_chain_end(outputs)\n\u001b[1;32m    169\u001b[0m \u001b[38;5;28;01mif\u001b[39;00m include_run_info:\n",
      "File \u001b[0;32m~/anaconda3/envs/torch/lib/python3.10/site-packages/langchain/chains/base.py:154\u001b[0m, in \u001b[0;36mChain.invoke\u001b[0;34m(self, input, config, **kwargs)\u001b[0m\n\u001b[1;32m    147\u001b[0m run_manager \u001b[38;5;241m=\u001b[39m callback_manager\u001b[38;5;241m.\u001b[39mon_chain_start(\n\u001b[1;32m    148\u001b[0m     dumpd(\u001b[38;5;28mself\u001b[39m),\n\u001b[1;32m    149\u001b[0m     inputs,\n\u001b[1;32m    150\u001b[0m     run_id,\n\u001b[1;32m    151\u001b[0m     name\u001b[38;5;241m=\u001b[39mrun_name,\n\u001b[1;32m    152\u001b[0m )\n\u001b[1;32m    153\u001b[0m \u001b[38;5;28;01mtry\u001b[39;00m:\n\u001b[0;32m--> 154\u001b[0m     \u001b[38;5;28;43mself\u001b[39;49m\u001b[38;5;241;43m.\u001b[39;49m\u001b[43m_validate_inputs\u001b[49m\u001b[43m(\u001b[49m\u001b[43minputs\u001b[49m\u001b[43m)\u001b[49m\n\u001b[1;32m    155\u001b[0m     outputs \u001b[38;5;241m=\u001b[39m (\n\u001b[1;32m    156\u001b[0m         \u001b[38;5;28mself\u001b[39m\u001b[38;5;241m.\u001b[39m_call(inputs, run_manager\u001b[38;5;241m=\u001b[39mrun_manager)\n\u001b[1;32m    157\u001b[0m         \u001b[38;5;28;01mif\u001b[39;00m new_arg_supported\n\u001b[1;32m    158\u001b[0m         \u001b[38;5;28;01melse\u001b[39;00m \u001b[38;5;28mself\u001b[39m\u001b[38;5;241m.\u001b[39m_call(inputs)\n\u001b[1;32m    159\u001b[0m     )\n\u001b[1;32m    161\u001b[0m     final_outputs: Dict[\u001b[38;5;28mstr\u001b[39m, Any] \u001b[38;5;241m=\u001b[39m \u001b[38;5;28mself\u001b[39m\u001b[38;5;241m.\u001b[39mprep_outputs(\n\u001b[1;32m    162\u001b[0m         inputs, outputs, return_only_outputs\n\u001b[1;32m    163\u001b[0m     )\n",
      "File \u001b[0;32m~/anaconda3/envs/torch/lib/python3.10/site-packages/langchain/chains/base.py:284\u001b[0m, in \u001b[0;36mChain._validate_inputs\u001b[0;34m(self, inputs)\u001b[0m\n\u001b[1;32m    282\u001b[0m missing_keys \u001b[38;5;241m=\u001b[39m \u001b[38;5;28mset\u001b[39m(\u001b[38;5;28mself\u001b[39m\u001b[38;5;241m.\u001b[39minput_keys)\u001b[38;5;241m.\u001b[39mdifference(inputs)\n\u001b[1;32m    283\u001b[0m \u001b[38;5;28;01mif\u001b[39;00m missing_keys:\n\u001b[0;32m--> 284\u001b[0m     \u001b[38;5;28;01mraise\u001b[39;00m \u001b[38;5;167;01mValueError\u001b[39;00m(\u001b[38;5;124mf\u001b[39m\u001b[38;5;124m\"\u001b[39m\u001b[38;5;124mMissing some input keys: \u001b[39m\u001b[38;5;132;01m{\u001b[39;00mmissing_keys\u001b[38;5;132;01m}\u001b[39;00m\u001b[38;5;124m\"\u001b[39m)\n",
      "\u001b[0;31mValueError\u001b[0m: Missing some input keys: {'df_info'}"
     ]
    }
   ],
   "source": [
    "\n",
    "# Create an LLMChain\n",
    "chain = LLMChain(llm=llm, prompt=prompt_template)\n",
    "\n",
    "# Create a pandas DataFrame agent\n",
    "agent = create_pandas_dataframe_agent(llm, df, verbose=True,allow_dangerous_code=True)\n",
    "\n",
    "def query_dataframe(question):\n",
    "    # Generate pandas code using LangChain\n",
    "    response = chain.run(question=question)\n",
    "    print(f\"Generated code: {response}\")\n",
    "    \n",
    "    # Use the pandas DataFrame agent to execute the query\n",
    "    result = agent.run(response)\n",
    "    return result\n",
    "\n",
    "# Example usage\n",
    "question = \"What is the median salary in USD for data scientists?\"\n",
    "result = query_dataframe(question)\n",
    "print(f\"Result: {result}\")"
   ]
  },
  {
   "cell_type": "markdown",
   "id": "3cdff9cc",
   "metadata": {},
   "source": [
    "## Question: How many unique job titles are present in the dataset?"
   ]
  },
  {
   "cell_type": "code",
   "execution_count": 5,
   "id": "978dc9b7",
   "metadata": {},
   "outputs": [
    {
     "data": {
      "text/plain": [
       "93"
      ]
     },
     "execution_count": 5,
     "metadata": {},
     "output_type": "execute_result"
    }
   ],
   "source": [
    "# Solution:\n",
    "df['job_title'].nunique()"
   ]
  },
  {
   "cell_type": "markdown",
   "id": "ce4b649c",
   "metadata": {},
   "source": [
    "## Question: What is the average salary in USD for all job titles?"
   ]
  },
  {
   "cell_type": "code",
   "execution_count": 6,
   "id": "5d19a8e3",
   "metadata": {},
   "outputs": [
    {
     "data": {
      "text/plain": [
       "137570.38988015978"
      ]
     },
     "execution_count": 6,
     "metadata": {},
     "output_type": "execute_result"
    }
   ],
   "source": [
    "# Solution:\n",
    "df['salary_in_usd'].mean()"
   ]
  },
  {
   "cell_type": "markdown",
   "id": "5153bd1c",
   "metadata": {},
   "source": [
    "## Question: Which job title has the highest average salary?"
   ]
  },
  {
   "cell_type": "code",
   "execution_count": 7,
   "id": "8115b6a6",
   "metadata": {},
   "outputs": [
    {
     "data": {
      "text/plain": [
       "'Data Science Tech Lead'"
      ]
     },
     "execution_count": 7,
     "metadata": {},
     "output_type": "execute_result"
    }
   ],
   "source": [
    "# Solution:\n",
    "df.groupby('job_title')['salary_in_usd'].mean().idxmax()"
   ]
  },
  {
   "cell_type": "markdown",
   "id": "ea563955",
   "metadata": {},
   "source": [
    "## Question: What is the median salary in USD for data scientists?"
   ]
  },
  {
   "cell_type": "code",
   "execution_count": 8,
   "id": "5d3ed1d9",
   "metadata": {},
   "outputs": [
    {
     "data": {
      "text/plain": [
       "141525.0"
      ]
     },
     "execution_count": 8,
     "metadata": {},
     "output_type": "execute_result"
    }
   ],
   "source": [
    "# Solution:\n",
    "df[df['job_title'] == 'Data Scientist']['salary_in_usd'].median()"
   ]
  },
  {
   "cell_type": "markdown",
   "id": "a4254e06",
   "metadata": {},
   "source": [
    "## Question: How many jobs are fully remote (remote_ratio = 100)?"
   ]
  },
  {
   "cell_type": "code",
   "execution_count": 9,
   "id": "081a0be7",
   "metadata": {},
   "outputs": [
    {
     "data": {
      "text/plain": [
       "1643"
      ]
     },
     "execution_count": 9,
     "metadata": {},
     "output_type": "execute_result"
    }
   ],
   "source": [
    "# Solution:\n",
    "df[df['remote_ratio'] == 100].shape[0]"
   ]
  },
  {
   "cell_type": "markdown",
   "id": "42a410a7",
   "metadata": {},
   "source": [
    "## Question: Which company location has the highest number of employees?"
   ]
  },
  {
   "cell_type": "code",
   "execution_count": 10,
   "id": "078aff2a",
   "metadata": {},
   "outputs": [
    {
     "data": {
      "text/plain": [
       "'US'"
      ]
     },
     "execution_count": 10,
     "metadata": {},
     "output_type": "execute_result"
    }
   ],
   "source": [
    "# Solution:\n",
    "df['company_location'].value_counts().idxmax()"
   ]
  },
  {
   "cell_type": "markdown",
   "id": "ad457b20",
   "metadata": {},
   "source": [
    "## Question: What percentage of employees work in small-sized companies?"
   ]
  },
  {
   "cell_type": "code",
   "execution_count": 11,
   "id": "fe7104d8",
   "metadata": {},
   "outputs": [
    {
     "data": {
      "text/plain": [
       "3.9414114513981358"
      ]
     },
     "execution_count": 11,
     "metadata": {},
     "output_type": "execute_result"
    }
   ],
   "source": [
    "# Solution:\n",
    "(df['company_size'] == 'S').mean() * 100"
   ]
  },
  {
   "cell_type": "markdown",
   "id": "4fd1d364",
   "metadata": {},
   "source": [
    "## Question: What is the most common employment type?"
   ]
  },
  {
   "cell_type": "code",
   "execution_count": 12,
   "id": "704eace9",
   "metadata": {},
   "outputs": [
    {
     "data": {
      "text/plain": [
       "'FT'"
      ]
     },
     "execution_count": 12,
     "metadata": {},
     "output_type": "execute_result"
    }
   ],
   "source": [
    "# Solution:\n",
    "df['employment_type'].mode()[0]"
   ]
  },
  {
   "cell_type": "markdown",
   "id": "1d78f82d",
   "metadata": {},
   "source": [
    "## Question: Find the range of salaries in USD for machine learning engineers."
   ]
  },
  {
   "cell_type": "code",
   "execution_count": 13,
   "id": "644d8ea6",
   "metadata": {},
   "outputs": [
    {
     "data": {
      "text/plain": [
       "min     15966\n",
       "max    289076\n",
       "Name: salary_in_usd, dtype: int64"
      ]
     },
     "execution_count": 13,
     "metadata": {},
     "output_type": "execute_result"
    }
   ],
   "source": [
    "# Solution:\n",
    "df[df['job_title'] == 'ML Engineer']['salary_in_usd'].agg(['min', 'max'])"
   ]
  },
  {
   "cell_type": "markdown",
   "id": "c7917a27",
   "metadata": {},
   "source": [
    "## Question: How many employees work in medium-sized companies?"
   ]
  },
  {
   "cell_type": "code",
   "execution_count": 14,
   "id": "b0b1b3a2",
   "metadata": {},
   "outputs": [
    {
     "data": {
      "text/plain": [
       "3153"
      ]
     },
     "execution_count": 14,
     "metadata": {},
     "output_type": "execute_result"
    }
   ],
   "source": [
    "# Solution:\n",
    "df[df['company_size'] == 'M'].shape[0]"
   ]
  },
  {
   "cell_type": "markdown",
   "id": "693d87a0",
   "metadata": {},
   "source": [
    "## Question: What is the average salary for 'Data Analyst' positions in the US?"
   ]
  },
  {
   "cell_type": "code",
   "execution_count": 15,
   "id": "5908bf39",
   "metadata": {},
   "outputs": [
    {
     "data": {
      "text/plain": [
       "117505.387283237"
      ]
     },
     "execution_count": 15,
     "metadata": {},
     "output_type": "execute_result"
    }
   ],
   "source": [
    "# Solution:\n",
    "df[(df['job_title'] == 'Data Analyst') & (df['employee_residence'] == 'US')]['salary_in_usd'].mean()"
   ]
  },
  {
   "cell_type": "markdown",
   "id": "8ebf7780",
   "metadata": {},
   "source": [
    "## Question: Which experience level has the highest average salary?"
   ]
  },
  {
   "cell_type": "code",
   "execution_count": 16,
   "id": "a7476d06",
   "metadata": {},
   "outputs": [
    {
     "data": {
      "text/plain": [
       "'EX'"
      ]
     },
     "execution_count": 16,
     "metadata": {},
     "output_type": "execute_result"
    }
   ],
   "source": [
    "# Solution:\n",
    "df.groupby('experience_level')['salary_in_usd'].mean().idxmax()"
   ]
  },
  {
   "cell_type": "markdown",
   "id": "0ade9567",
   "metadata": {},
   "source": [
    "## Question: How many employees have 'EN' (Entry-level) experience?"
   ]
  },
  {
   "cell_type": "code",
   "execution_count": 17,
   "id": "6c5f2c1b",
   "metadata": {},
   "outputs": [
    {
     "data": {
      "text/plain": [
       "320"
      ]
     },
     "execution_count": 17,
     "metadata": {},
     "output_type": "execute_result"
    }
   ],
   "source": [
    "# Solution:\n",
    "df[df['experience_level'] == 'EN'].shape[0]"
   ]
  },
  {
   "cell_type": "markdown",
   "id": "011b4935",
   "metadata": {},
   "source": [
    "## Question: What is the total number of employees in the dataset?"
   ]
  },
  {
   "cell_type": "code",
   "execution_count": 18,
   "id": "f15240ae",
   "metadata": {},
   "outputs": [
    {
     "data": {
      "text/plain": [
       "3755"
      ]
     },
     "execution_count": 18,
     "metadata": {},
     "output_type": "execute_result"
    }
   ],
   "source": [
    "# Solution:\n",
    "df.shape[0]"
   ]
  },
  {
   "cell_type": "markdown",
   "id": "19bdd86d",
   "metadata": {},
   "source": [
    "## Question: How many different salary currencies are used in the dataset?"
   ]
  },
  {
   "cell_type": "code",
   "execution_count": 19,
   "id": "7de0cb01",
   "metadata": {},
   "outputs": [
    {
     "data": {
      "text/plain": [
       "20"
      ]
     },
     "execution_count": 19,
     "metadata": {},
     "output_type": "execute_result"
    }
   ],
   "source": [
    "# Solution:\n",
    "df['salary_currency'].nunique()"
   ]
  },
  {
   "cell_type": "markdown",
   "id": "f6425835",
   "metadata": {},
   "source": [
    "## Question: What is the most frequent job title in the dataset?"
   ]
  },
  {
   "cell_type": "code",
   "execution_count": 20,
   "id": "392e2cca",
   "metadata": {},
   "outputs": [
    {
     "data": {
      "text/plain": [
       "'Data Engineer'"
      ]
     },
     "execution_count": 20,
     "metadata": {},
     "output_type": "execute_result"
    }
   ],
   "source": [
    "# Solution:\n",
    "df['job_title'].mode()[0]"
   ]
  },
  {
   "cell_type": "markdown",
   "id": "6122cec5",
   "metadata": {},
   "source": [
    "## Question: Find the average remote ratio for 'Senior-level' positions."
   ]
  },
  {
   "cell_type": "code",
   "execution_count": 21,
   "id": "5d38e9bf",
   "metadata": {},
   "outputs": [
    {
     "data": {
      "text/plain": [
       "45.07154213036566"
      ]
     },
     "execution_count": 21,
     "metadata": {},
     "output_type": "execute_result"
    }
   ],
   "source": [
    "# Solution:\n",
    "df[df['experience_level'] == 'SE']['remote_ratio'].mean()"
   ]
  },
  {
   "cell_type": "markdown",
   "id": "160b7a04",
   "metadata": {},
   "source": [
    "## Question: Which job title has the lowest average salary?"
   ]
  },
  {
   "cell_type": "code",
   "execution_count": 22,
   "id": "c378d4e4",
   "metadata": {},
   "outputs": [
    {
     "data": {
      "text/plain": [
       "'Power BI Developer'"
      ]
     },
     "execution_count": 22,
     "metadata": {},
     "output_type": "execute_result"
    }
   ],
   "source": [
    "# Solution:\n",
    "df.groupby('job_title')['salary_in_usd'].mean().idxmin()"
   ]
  },
  {
   "cell_type": "markdown",
   "id": "54440632",
   "metadata": {},
   "source": [
    "## Question: How many different employment types are represented in the dataset?"
   ]
  },
  {
   "cell_type": "code",
   "execution_count": 23,
   "id": "19eddce8",
   "metadata": {},
   "outputs": [
    {
     "data": {
      "text/plain": [
       "4"
      ]
     },
     "execution_count": 23,
     "metadata": {},
     "output_type": "execute_result"
    }
   ],
   "source": [
    "# Solution:\n",
    "df['employment_type'].nunique()"
   ]
  },
  {
   "cell_type": "markdown",
   "id": "2698f39d",
   "metadata": {},
   "source": [
    "## Question: What is the average salary difference between remote and non-remote jobs?"
   ]
  },
  {
   "cell_type": "code",
   "execution_count": 24,
   "id": "42cf36dc",
   "metadata": {},
   "outputs": [
    {
     "data": {
      "text/plain": [
       "-1936.0599539022369"
      ]
     },
     "execution_count": 24,
     "metadata": {},
     "output_type": "execute_result"
    }
   ],
   "source": [
    "# Solution:\n",
    "df[df['remote_ratio'] == 100]['salary_in_usd'].mean() - df[df['remote_ratio'] != 100]['salary_in_usd'].mean()"
   ]
  },
  {
   "cell_type": "markdown",
   "id": "27dee92c",
   "metadata": {},
   "source": [
    "## Question: How many employees are located in 'CA' (Canada)?"
   ]
  },
  {
   "cell_type": "code",
   "execution_count": 25,
   "id": "1e40d765",
   "metadata": {},
   "outputs": [
    {
     "data": {
      "text/plain": [
       "85"
      ]
     },
     "execution_count": 25,
     "metadata": {},
     "output_type": "execute_result"
    }
   ],
   "source": [
    "# Solution:\n",
    "df[df['employee_residence'] == 'CA'].shape[0]"
   ]
  },
  {
   "cell_type": "markdown",
   "id": "ec42e873",
   "metadata": {},
   "source": [
    "## Question: What is the most common company size?"
   ]
  },
  {
   "cell_type": "code",
   "execution_count": 26,
   "id": "aad58aa7",
   "metadata": {},
   "outputs": [
    {
     "data": {
      "text/plain": [
       "'M'"
      ]
     },
     "execution_count": 26,
     "metadata": {},
     "output_type": "execute_result"
    }
   ],
   "source": [
    "# Solution:\n",
    "df['company_size'].mode()[0]"
   ]
  },
  {
   "cell_type": "markdown",
   "id": "58d7acc9",
   "metadata": {},
   "source": [
    "## Question: How many employees work in large-sized companies?"
   ]
  },
  {
   "cell_type": "code",
   "execution_count": 27,
   "id": "a1c1df40",
   "metadata": {},
   "outputs": [
    {
     "data": {
      "text/plain": [
       "454"
      ]
     },
     "execution_count": 27,
     "metadata": {},
     "output_type": "execute_result"
    }
   ],
   "source": [
    "# Solution:\n",
    "df[df['company_size'] == 'L'].shape[0]"
   ]
  },
  {
   "cell_type": "markdown",
   "id": "a008cb09",
   "metadata": {},
   "source": [
    "## Question: Find the maximum salary in USD for 'Data Engineer' positions."
   ]
  },
  {
   "cell_type": "code",
   "execution_count": 28,
   "id": "58e805f1",
   "metadata": {},
   "outputs": [
    {
     "data": {
      "text/plain": [
       "324000"
      ]
     },
     "execution_count": 28,
     "metadata": {},
     "output_type": "execute_result"
    }
   ],
   "source": [
    "# Solution:\n",
    "df[df['job_title'] == 'Data Engineer']['salary_in_usd'].max()"
   ]
  },
  {
   "cell_type": "markdown",
   "id": "72b01d18",
   "metadata": {},
   "source": [
    "## Question: What is the average salary in EUR?"
   ]
  },
  {
   "cell_type": "code",
   "execution_count": 29,
   "id": "e21cad46",
   "metadata": {},
   "outputs": [
    {
     "data": {
      "text/plain": [
       "57174.063559322036"
      ]
     },
     "execution_count": 29,
     "metadata": {},
     "output_type": "execute_result"
    }
   ],
   "source": [
    "# Solution:\n",
    "df[df['salary_currency'] == 'EUR']['salary'].mean()"
   ]
  },
  {
   "cell_type": "markdown",
   "id": "925b0a94",
   "metadata": {},
   "source": [
    "## Question: Which country has the most remote jobs?"
   ]
  },
  {
   "cell_type": "code",
   "execution_count": 30,
   "id": "00da5fac",
   "metadata": {},
   "outputs": [
    {
     "data": {
      "text/plain": [
       "'US'"
      ]
     },
     "execution_count": 30,
     "metadata": {},
     "output_type": "execute_result"
    }
   ],
   "source": [
    "# Solution:\n",
    "df[df['remote_ratio'] == 100]['employee_residence'].value_counts().idxmax()"
   ]
  },
  {
   "cell_type": "markdown",
   "id": "1edec309",
   "metadata": {},
   "source": [
    "## Question: How many job titles have an average salary above $100,000?"
   ]
  },
  {
   "cell_type": "code",
   "execution_count": 31,
   "id": "fbb7f315",
   "metadata": {},
   "outputs": [
    {
     "data": {
      "text/plain": [
       "55"
      ]
     },
     "execution_count": 31,
     "metadata": {},
     "output_type": "execute_result"
    }
   ],
   "source": [
    "# Solution:\n",
    "(df.groupby('job_title')['salary_in_usd'].mean() > 100000).sum()"
   ]
  },
  {
   "cell_type": "markdown",
   "id": "57c87838",
   "metadata": {},
   "source": [
    "## Question: What is the most common employee residence country?"
   ]
  },
  {
   "cell_type": "code",
   "execution_count": 32,
   "id": "c8cdd54a",
   "metadata": {},
   "outputs": [
    {
     "data": {
      "text/plain": [
       "'US'"
      ]
     },
     "execution_count": 32,
     "metadata": {},
     "output_type": "execute_result"
    }
   ],
   "source": [
    "# Solution:\n",
    "df['employee_residence'].mode()[0]"
   ]
  },
  {
   "cell_type": "markdown",
   "id": "5105adb5",
   "metadata": {},
   "source": [
    "## Question: Find the average salary for each company size category."
   ]
  },
  {
   "cell_type": "code",
   "execution_count": 33,
   "id": "a0ee6169",
   "metadata": {},
   "outputs": [
    {
     "data": {
      "text/plain": [
       "company_size\n",
       "L    118300.982379\n",
       "M    143130.548367\n",
       "S     78226.682432\n",
       "Name: salary_in_usd, dtype: float64"
      ]
     },
     "execution_count": 33,
     "metadata": {},
     "output_type": "execute_result"
    }
   ],
   "source": [
    "# Solution:\n",
    "df.groupby('company_size')['salary_in_usd'].mean()"
   ]
  },
  {
   "cell_type": "markdown",
   "id": "c508a1c7",
   "metadata": {},
   "source": [
    "## Question: Which job title has the most employees?"
   ]
  },
  {
   "cell_type": "code",
   "execution_count": 34,
   "id": "940c2dc4",
   "metadata": {},
   "outputs": [
    {
     "data": {
      "text/plain": [
       "'Data Engineer'"
      ]
     },
     "execution_count": 34,
     "metadata": {},
     "output_type": "execute_result"
    }
   ],
   "source": [
    "# Solution:\n",
    "df['job_title'].value_counts().idxmax()"
   ]
  }
 ],
 "metadata": {
  "kernelspec": {
   "display_name": "torch",
   "language": "python",
   "name": "python3"
  },
  "language_info": {
   "codemirror_mode": {
    "name": "ipython",
    "version": 3
   },
   "file_extension": ".py",
   "mimetype": "text/x-python",
   "name": "python",
   "nbconvert_exporter": "python",
   "pygments_lexer": "ipython3",
   "version": "3.10.13"
  }
 },
 "nbformat": 4,
 "nbformat_minor": 5
}
