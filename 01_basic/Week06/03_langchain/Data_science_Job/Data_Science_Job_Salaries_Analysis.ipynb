{
 "cells": [
  {
   "cell_type": "markdown",
   "id": "756ff398",
   "metadata": {},
   "source": [
    "\n",
    "# Data Science Job Salaries Analysis\n",
    "\n",
    "\n",
    "\n",
    "### Columns Description\n",
    "\n",
    "- **work_year**: The year in which the data was recorded.\n",
    "- **experience_level**: The level of experience required for the job. Categories include:\n",
    "  - 'EN' - Entry-level\n",
    "  - 'MI' - Mid-level\n",
    "  - 'SE' - Senior-level\n",
    "  - 'EX' - Executive-level\n",
    "- **employment_type**: The nature of employment. Types include:\n",
    "  - 'FT' - Full-time\n",
    "  - 'PT' - Part-time\n",
    "  - 'CT' - Contract\n",
    "  - 'FL' - Freelance\n",
    "- **job_title**: The title of the job, e.g., 'Data Scientist', 'ML Engineer'.\n",
    "- **salary**: The salary amount in the specified currency.\n",
    "- **salary_currency**: The currency in which the salary is paid, e.g., USD, EUR.\n",
    "- **salary_in_usd**: The salary converted into USD for standardization purposes.\n",
    "- **employee_residence**: The country or region where the employee resides.\n",
    "- **remote_ratio**: Indicates the extent to which a job is remote, with values like 0 (non-remote), 50 (partially remote), and 100 (fully remote).\n",
    "- **company_location**: The location of the company offering the job.\n",
    "- **company_size**: The size of the company, categorized as:\n",
    "  - 'S' - Small (1-50 employees)\n",
    "  - 'M' - Medium (51-250 employees)\n",
    "  - 'L' - Large (251+ employees)\n"
   ]
  },
  {
   "cell_type": "code",
   "execution_count": 7,
   "id": "e09ba931",
   "metadata": {},
   "outputs": [
    {
     "name": "stdout",
     "output_type": "stream",
     "text": [
      "Notebook cleaned.\n"
     ]
    }
   ],
   "source": [
    "import IPython\n",
    "import sys\n",
    "\n",
    "def clean_notebook():\n",
    "    IPython.display.clear_output(wait=True)\n",
    "    print(\"Notebook cleaned.\")\n",
    "!pip install openai\n",
    "!pip install python-dotenv\n",
    "!pip install -U langchain-openai\n",
    "!pip install langchain-experimental\n",
    "!pip install tabulate\n",
    "\n",
    "\n",
    "# Clean up the notebook\n",
    "clean_notebook()"
   ]
  },
  {
   "cell_type": "markdown",
   "id": "7868a68f",
   "metadata": {},
   "source": [
    "| Question                                                                 | Pandas Code                                           |\n",
    "|--------------------------------------------------------------------------|-------------------------------------------------------|\n",
    "| How many unique job titles are present in the dataset?                   | `df['job_title'].nunique()`                           |\n",
    "| What is the average salary in USD for all job titles?                    | `df['salary_in_usd'].mean()`                          |\n",
    "| Which job title has the highest average salary?                          | `df.groupby('job_title')['salary_in_usd'].mean().idxmax()` |\n",
    "| What is the median salary in USD for data scientists?                    | `df[df['job_title'] == 'Data Scientist']['salary_in_usd'].median()` |\n",
    "| How many different employment types are represented in the dataset?      | `df['employment_type'].nunique()`                     |\n",
    "| What is the average salary difference between remote and non-remote jobs?| `df[df['remote_ratio'] == 100]['salary_in_usd'].mean() - df[df['remote_ratio'] != 100]['salary_in_usd'].mean()` |\n",
    "| How many employees are located in 'CA' (Canada)?                         | `df[df['employee_residence'] == 'CA'].shape[0]`       |\n",
    "| What is the most common company size?                                    | `df['company_size'].mode()[0]`                        |\n",
    "| How many employees work in large-sized companies?                        | `df[df['company_size'] == 'L'].shape[0]`              |\n",
    "| Find the maximum salary in USD for 'Data Engineer' positions.            | `df[df['job_title'] == 'Data Engineer']['salary_in_usd'].max()` |\n",
    "| What is the average salary in EUR?                                       | `df[df['salary_currency'] == 'EUR']['salary'].mean()` |\n",
    "| Which country has the most remote jobs?                                  | `df[df['remote_ratio'] == 100]['employee_residence'].value_counts().idxmax()` |\n",
    "| How many job titles have an average salary above $100,000?               | `(df.groupby('job_title')['salary_in_usd'].mean() > 100000).sum()` |\n",
    "| What is the most common employee residence country?                      | `df['employee_residence'].mode()[0]`                  |\n",
    "| Find the average salary for each company size category.                  | `df.groupby('company_size')['salary_in_usd'].mean()`  |\n",
    "| Which job title has the most employees?                                  | `df['job_title'].value_counts().idxmax()`             |\n"
   ]
  },
  {
   "cell_type": "code",
   "execution_count": 27,
   "id": "ab220a18",
   "metadata": {},
   "outputs": [
    {
     "data": {
      "text/html": [
       "<div>\n",
       "<style scoped>\n",
       "    .dataframe tbody tr th:only-of-type {\n",
       "        vertical-align: middle;\n",
       "    }\n",
       "\n",
       "    .dataframe tbody tr th {\n",
       "        vertical-align: top;\n",
       "    }\n",
       "\n",
       "    .dataframe thead th {\n",
       "        text-align: right;\n",
       "    }\n",
       "</style>\n",
       "<table border=\"1\" class=\"dataframe\">\n",
       "  <thead>\n",
       "    <tr style=\"text-align: right;\">\n",
       "      <th></th>\n",
       "      <th>Question</th>\n",
       "      <th>Pandas Code</th>\n",
       "    </tr>\n",
       "  </thead>\n",
       "  <tbody>\n",
       "    <tr>\n",
       "      <th>0</th>\n",
       "      <td>How many unique job titles are present in the ...</td>\n",
       "      <td>df['job_title'].nunique()</td>\n",
       "    </tr>\n",
       "    <tr>\n",
       "      <th>1</th>\n",
       "      <td>What is the average salary in USD for all job ...</td>\n",
       "      <td>df['salary_in_usd'].mean()</td>\n",
       "    </tr>\n",
       "    <tr>\n",
       "      <th>2</th>\n",
       "      <td>Which job title has the highest average salary?</td>\n",
       "      <td>df.groupby('job_title')['salary_in_usd'].mean(...</td>\n",
       "    </tr>\n",
       "    <tr>\n",
       "      <th>3</th>\n",
       "      <td>What is the median salary in USD for data scie...</td>\n",
       "      <td>df[df['job_title'] == 'Data Scientist']['salar...</td>\n",
       "    </tr>\n",
       "    <tr>\n",
       "      <th>4</th>\n",
       "      <td>How many different employment types are repres...</td>\n",
       "      <td>df['employment_type'].nunique()</td>\n",
       "    </tr>\n",
       "    <tr>\n",
       "      <th>5</th>\n",
       "      <td>What is the average salary difference between ...</td>\n",
       "      <td>df[df['remote_ratio'] == 100]['salary_in_usd']...</td>\n",
       "    </tr>\n",
       "    <tr>\n",
       "      <th>6</th>\n",
       "      <td>How many employees are located in 'CA' (Canada)?</td>\n",
       "      <td>df[df['employee_residence'] == 'CA'].shape[0]</td>\n",
       "    </tr>\n",
       "    <tr>\n",
       "      <th>7</th>\n",
       "      <td>What is the most common company size?</td>\n",
       "      <td>df['company_size'].mode()[0]</td>\n",
       "    </tr>\n",
       "    <tr>\n",
       "      <th>8</th>\n",
       "      <td>How many employees work in large-sized companies?</td>\n",
       "      <td>df[df['company_size'] == 'L'].shape[0]</td>\n",
       "    </tr>\n",
       "    <tr>\n",
       "      <th>9</th>\n",
       "      <td>Find the maximum salary in USD for 'Data Engin...</td>\n",
       "      <td>df[df['job_title'] == 'Data Engineer']['salary...</td>\n",
       "    </tr>\n",
       "    <tr>\n",
       "      <th>10</th>\n",
       "      <td>What is the average salary in EUR?</td>\n",
       "      <td>df[df['salary_currency'] == 'EUR']['salary'].m...</td>\n",
       "    </tr>\n",
       "    <tr>\n",
       "      <th>11</th>\n",
       "      <td>Which country has the most remote jobs?</td>\n",
       "      <td>df[df['remote_ratio'] == 100]['employee_reside...</td>\n",
       "    </tr>\n",
       "    <tr>\n",
       "      <th>12</th>\n",
       "      <td>How many job titles have an average salary abo...</td>\n",
       "      <td>(df.groupby('job_title')['salary_in_usd'].mean...</td>\n",
       "    </tr>\n",
       "    <tr>\n",
       "      <th>13</th>\n",
       "      <td>What is the most common employee residence cou...</td>\n",
       "      <td>df['employee_residence'].mode()[0]</td>\n",
       "    </tr>\n",
       "    <tr>\n",
       "      <th>14</th>\n",
       "      <td>Find the average salary for each company size ...</td>\n",
       "      <td>df.groupby('company_size')['salary_in_usd'].me...</td>\n",
       "    </tr>\n",
       "    <tr>\n",
       "      <th>15</th>\n",
       "      <td>Which job title has the most employees?</td>\n",
       "      <td>df['job_title'].value_counts().idxmax()</td>\n",
       "    </tr>\n",
       "  </tbody>\n",
       "</table>\n",
       "</div>"
      ],
      "text/plain": [
       "                                             Question  \\\n",
       "0   How many unique job titles are present in the ...   \n",
       "1   What is the average salary in USD for all job ...   \n",
       "2     Which job title has the highest average salary?   \n",
       "3   What is the median salary in USD for data scie...   \n",
       "4   How many different employment types are repres...   \n",
       "5   What is the average salary difference between ...   \n",
       "6    How many employees are located in 'CA' (Canada)?   \n",
       "7               What is the most common company size?   \n",
       "8   How many employees work in large-sized companies?   \n",
       "9   Find the maximum salary in USD for 'Data Engin...   \n",
       "10                 What is the average salary in EUR?   \n",
       "11            Which country has the most remote jobs?   \n",
       "12  How many job titles have an average salary abo...   \n",
       "13  What is the most common employee residence cou...   \n",
       "14  Find the average salary for each company size ...   \n",
       "15            Which job title has the most employees?   \n",
       "\n",
       "                                          Pandas Code  \n",
       "0                           df['job_title'].nunique()  \n",
       "1                          df['salary_in_usd'].mean()  \n",
       "2   df.groupby('job_title')['salary_in_usd'].mean(...  \n",
       "3   df[df['job_title'] == 'Data Scientist']['salar...  \n",
       "4                     df['employment_type'].nunique()  \n",
       "5   df[df['remote_ratio'] == 100]['salary_in_usd']...  \n",
       "6       df[df['employee_residence'] == 'CA'].shape[0]  \n",
       "7                        df['company_size'].mode()[0]  \n",
       "8              df[df['company_size'] == 'L'].shape[0]  \n",
       "9   df[df['job_title'] == 'Data Engineer']['salary...  \n",
       "10  df[df['salary_currency'] == 'EUR']['salary'].m...  \n",
       "11  df[df['remote_ratio'] == 100]['employee_reside...  \n",
       "12  (df.groupby('job_title')['salary_in_usd'].mean...  \n",
       "13                 df['employee_residence'].mode()[0]  \n",
       "14  df.groupby('company_size')['salary_in_usd'].me...  \n",
       "15            df['job_title'].value_counts().idxmax()  "
      ]
     },
     "execution_count": 27,
     "metadata": {},
     "output_type": "execute_result"
    }
   ],
   "source": [
    "import pandas as pd\n",
    "\n",
    "# Creating a DataFrame with the questions and corresponding Pandas code\n",
    "questions_and_code_df = pd.DataFrame({\n",
    "    \"Question\": [\n",
    "        \"How many unique job titles are present in the dataset?\",\n",
    "        \"What is the average salary in USD for all job titles?\",\n",
    "        \"Which job title has the highest average salary?\",\n",
    "        \"What is the median salary in USD for data scientists?\",\n",
    "        \"How many different employment types are represented in the dataset?\",\n",
    "        \"What is the average salary difference between remote and non-remote jobs?\",\n",
    "        \"How many employees are located in 'CA' (Canada)?\",\n",
    "        \"What is the most common company size?\",\n",
    "        \"How many employees work in large-sized companies?\",\n",
    "        \"Find the maximum salary in USD for 'Data Engineer' positions.\",\n",
    "        \"What is the average salary in EUR?\",\n",
    "        \"Which country has the most remote jobs?\",\n",
    "        \"How many job titles have an average salary above $100,000?\",\n",
    "        \"What is the most common employee residence country?\",\n",
    "        \"Find the average salary for each company size category.\",\n",
    "        \"Which job title has the most employees?\"\n",
    "    ],\n",
    "    \"Pandas Code\": [\n",
    "        \"df['job_title'].nunique()\",\n",
    "        \"df['salary_in_usd'].mean()\",\n",
    "        \"df.groupby('job_title')['salary_in_usd'].mean().idxmax()\",\n",
    "        \"df[df['job_title'] == 'Data Scientist']['salary_in_usd'].median()\",\n",
    "        \"df['employment_type'].nunique()\",\n",
    "        \"df[df['remote_ratio'] == 100]['salary_in_usd'].mean() - df[df['remote_ratio'] != 100]['salary_in_usd'].mean()\",\n",
    "        \"df[df['employee_residence'] == 'CA'].shape[0]\",\n",
    "        \"df['company_size'].mode()[0]\",\n",
    "        \"df[df['company_size'] == 'L'].shape[0]\",\n",
    "        \"df[df['job_title'] == 'Data Engineer']['salary_in_usd'].max()\",\n",
    "        \"df[df['salary_currency'] == 'EUR']['salary'].mean()\",\n",
    "        \"df[df['remote_ratio'] == 100]['employee_residence'].value_counts().idxmax()\",\n",
    "        \"(df.groupby('job_title')['salary_in_usd'].mean() > 100000).sum()\",\n",
    "        \"df['employee_residence'].mode()[0]\",\n",
    "        \"df.groupby('company_size')['salary_in_usd'].mean()\",\n",
    "        \"df['job_title'].value_counts().idxmax()\"\n",
    "    ]\n",
    "})\n",
    "\n",
    "questions_and_code_df"
   ]
  },
  {
   "cell_type": "code",
   "execution_count": 28,
   "id": "a8cfde86",
   "metadata": {},
   "outputs": [
    {
     "data": {
      "text/plain": [
       "True"
      ]
     },
     "execution_count": 28,
     "metadata": {},
     "output_type": "execute_result"
    }
   ],
   "source": [
    "import os\n",
    "from openai import OpenAI\n",
    "from dotenv import load_dotenv\n",
    "\n",
    "# Load environment variables\n",
    "load_dotenv()"
   ]
  },
  {
   "cell_type": "code",
   "execution_count": 29,
   "id": "5dfdc2a3",
   "metadata": {},
   "outputs": [
    {
     "data": {
      "text/html": [
       "<div>\n",
       "<style scoped>\n",
       "    .dataframe tbody tr th:only-of-type {\n",
       "        vertical-align: middle;\n",
       "    }\n",
       "\n",
       "    .dataframe tbody tr th {\n",
       "        vertical-align: top;\n",
       "    }\n",
       "\n",
       "    .dataframe thead th {\n",
       "        text-align: right;\n",
       "    }\n",
       "</style>\n",
       "<table border=\"1\" class=\"dataframe\">\n",
       "  <thead>\n",
       "    <tr style=\"text-align: right;\">\n",
       "      <th></th>\n",
       "      <th>work_year</th>\n",
       "      <th>experience_level</th>\n",
       "      <th>employment_type</th>\n",
       "      <th>job_title</th>\n",
       "      <th>salary</th>\n",
       "      <th>salary_currency</th>\n",
       "      <th>salary_in_usd</th>\n",
       "      <th>employee_residence</th>\n",
       "      <th>remote_ratio</th>\n",
       "      <th>company_location</th>\n",
       "      <th>company_size</th>\n",
       "    </tr>\n",
       "  </thead>\n",
       "  <tbody>\n",
       "    <tr>\n",
       "      <th>0</th>\n",
       "      <td>2023</td>\n",
       "      <td>SE</td>\n",
       "      <td>FT</td>\n",
       "      <td>Principal Data Scientist</td>\n",
       "      <td>80000</td>\n",
       "      <td>EUR</td>\n",
       "      <td>85847</td>\n",
       "      <td>ES</td>\n",
       "      <td>100</td>\n",
       "      <td>ES</td>\n",
       "      <td>L</td>\n",
       "    </tr>\n",
       "    <tr>\n",
       "      <th>1</th>\n",
       "      <td>2023</td>\n",
       "      <td>MI</td>\n",
       "      <td>CT</td>\n",
       "      <td>ML Engineer</td>\n",
       "      <td>30000</td>\n",
       "      <td>USD</td>\n",
       "      <td>30000</td>\n",
       "      <td>US</td>\n",
       "      <td>100</td>\n",
       "      <td>US</td>\n",
       "      <td>S</td>\n",
       "    </tr>\n",
       "    <tr>\n",
       "      <th>2</th>\n",
       "      <td>2023</td>\n",
       "      <td>MI</td>\n",
       "      <td>CT</td>\n",
       "      <td>ML Engineer</td>\n",
       "      <td>25500</td>\n",
       "      <td>USD</td>\n",
       "      <td>25500</td>\n",
       "      <td>US</td>\n",
       "      <td>100</td>\n",
       "      <td>US</td>\n",
       "      <td>S</td>\n",
       "    </tr>\n",
       "    <tr>\n",
       "      <th>3</th>\n",
       "      <td>2023</td>\n",
       "      <td>SE</td>\n",
       "      <td>FT</td>\n",
       "      <td>Data Scientist</td>\n",
       "      <td>175000</td>\n",
       "      <td>USD</td>\n",
       "      <td>175000</td>\n",
       "      <td>CA</td>\n",
       "      <td>100</td>\n",
       "      <td>CA</td>\n",
       "      <td>M</td>\n",
       "    </tr>\n",
       "    <tr>\n",
       "      <th>4</th>\n",
       "      <td>2023</td>\n",
       "      <td>SE</td>\n",
       "      <td>FT</td>\n",
       "      <td>Data Scientist</td>\n",
       "      <td>120000</td>\n",
       "      <td>USD</td>\n",
       "      <td>120000</td>\n",
       "      <td>CA</td>\n",
       "      <td>100</td>\n",
       "      <td>CA</td>\n",
       "      <td>M</td>\n",
       "    </tr>\n",
       "  </tbody>\n",
       "</table>\n",
       "</div>"
      ],
      "text/plain": [
       "   work_year experience_level employment_type                 job_title  \\\n",
       "0       2023               SE              FT  Principal Data Scientist   \n",
       "1       2023               MI              CT               ML Engineer   \n",
       "2       2023               MI              CT               ML Engineer   \n",
       "3       2023               SE              FT            Data Scientist   \n",
       "4       2023               SE              FT            Data Scientist   \n",
       "\n",
       "   salary salary_currency  salary_in_usd employee_residence  remote_ratio  \\\n",
       "0   80000             EUR          85847                 ES           100   \n",
       "1   30000             USD          30000                 US           100   \n",
       "2   25500             USD          25500                 US           100   \n",
       "3  175000             USD         175000                 CA           100   \n",
       "4  120000             USD         120000                 CA           100   \n",
       "\n",
       "  company_location company_size  \n",
       "0               ES            L  \n",
       "1               US            S  \n",
       "2               US            S  \n",
       "3               CA            M  \n",
       "4               CA            M  "
      ]
     },
     "execution_count": 29,
     "metadata": {},
     "output_type": "execute_result"
    }
   ],
   "source": [
    "import pandas as pd\n",
    "\n",
    "df = pd.read_csv(\"./ds_salaries.csv\")\n",
    "df.head()"
   ]
  },
  {
   "cell_type": "code",
   "execution_count": 30,
   "id": "c4399b7c",
   "metadata": {},
   "outputs": [],
   "source": [
    "import pandas as pd\n",
    "from langchain_openai import OpenAI\n",
    "from langchain.prompts import PromptTemplate\n",
    "from langchain.chains import LLMChain\n",
    "\n",
    "# Initialize the language model\n",
    "llm = OpenAI(temperature=0)\n",
    "\n",
    "template_string = \"\"\"Given the following question about a pandas DataFrame and the DataFrame information provided, generate only  pandas code without any description to answer it. \n",
    "Do not execute the code, just provide it.\n",
    "\n",
    "Question: {question}\n",
    "\n",
    "DataFrame Info:\n",
    "{df_info}\n",
    "\n",
    "Pandas code:\n",
    "\"\"\"\n",
    "\n",
    "\n",
    "# Create a prompt template\n",
    "prompt_template = PromptTemplate(\n",
    "    input_variables=[\"question\", \"df_info\"],\n",
    "    template=template_string\n",
    ")"
   ]
  },
  {
   "cell_type": "code",
   "execution_count": 31,
   "id": "37a031ee",
   "metadata": {},
   "outputs": [
    {
     "name": "stdout",
     "output_type": "stream",
     "text": [
      "Columns: work_year, experience_level, employment_type, job_title, salary, salary_currency, salary_in_usd, employee_residence, remote_ratio, company_location, company_size\n",
      "Shape: (3755, 11)\n",
      "Data types:\n",
      "  work_year: int64\n",
      "  experience_level: object\n",
      "  employment_type: object\n",
      "  job_title: object\n",
      "  salary: int64\n",
      "  salary_currency: object\n",
      "  salary_in_usd: int64\n",
      "  employee_residence: object\n",
      "  remote_ratio: int64\n",
      "  company_location: object\n",
      "  company_size: object\n",
      "First few rows:\n",
      "   work_year experience_level employment_type                 job_title  salary salary_currency  salary_in_usd employee_residence  remote_ratio company_location company_size\n",
      "0       2023               SE              FT  Principal Data Scientist   80000             EUR          85847                 ES           100               ES            L\n",
      "1       2023               MI              CT               ML Engineer   30000             USD          30000                 US           100               US            S\n",
      "2       2023               MI              CT               ML Engineer   25500             USD          25500                 US           100               US            S\n",
      "3       2023               SE              FT            Data Scientist  175000             USD         175000                 CA           100               CA            M\n",
      "4       2023               SE              FT            Data Scientist  120000             USD         120000                 CA           100               CA            M\n"
     ]
    }
   ],
   "source": [
    "\n",
    "def get_dataframe_info(df):\n",
    "    \"\"\"Get basic information about the DataFrame.\"\"\"\n",
    "    info = f\"Columns: {', '.join(df.columns)}\\n\"\n",
    "    info += f\"Shape: {df.shape}\\n\"\n",
    "    info += \"Data types:\\n\"\n",
    "    for col, dtype in df.dtypes.items():\n",
    "        info += f\"  {col}: {dtype}\\n\"\n",
    "    info += f\"First few rows:\\n{df.head().to_string()}\"\n",
    "    return info\n",
    "\n",
    "print(get_dataframe_info(df))"
   ]
  },
  {
   "cell_type": "code",
   "execution_count": 24,
   "id": "d9436392",
   "metadata": {},
   "outputs": [
    {
     "name": "stdout",
     "output_type": "stream",
     "text": [
      "Given the following question about a pandas DataFrame and the DataFrame information provided, generate only  pandas code without any description to answer it. \n",
      "Do not execute the code, just provide it.\n",
      "\n",
      "Question: How many unique job titles are present in the dataset?\n",
      "\n",
      "DataFrame Info:\n",
      "Columns: work_year, experience_level, employment_type, job_title, salary, salary_currency, salary_in_usd, employee_residence, remote_ratio, company_location, company_size\n",
      "Shape: (3755, 11)\n",
      "Data types:\n",
      "  work_year: int64\n",
      "  experience_level: object\n",
      "  employment_type: object\n",
      "  job_title: object\n",
      "  salary: int64\n",
      "  salary_currency: object\n",
      "  salary_in_usd: int64\n",
      "  employee_residence: object\n",
      "  remote_ratio: int64\n",
      "  company_location: object\n",
      "  company_size: object\n",
      "First few rows:\n",
      "   work_year experience_level employment_type                 job_title  salary salary_currency  salary_in_usd employee_residence  remote_ratio company_location company_size\n",
      "0       2023               SE              FT  Principal Data Scientist   80000             EUR          85847                 ES           100               ES            L\n",
      "1       2023               MI              CT               ML Engineer   30000             USD          30000                 US           100               US            S\n",
      "2       2023               MI              CT               ML Engineer   25500             USD          25500                 US           100               US            S\n",
      "3       2023               SE              FT            Data Scientist  175000             USD         175000                 CA           100               CA            M\n",
      "4       2023               SE              FT            Data Scientist  120000             USD         120000                 CA           100               CA            M\n",
      "\n",
      "Pandas code:\n",
      "\n"
     ]
    }
   ],
   "source": [
    "results = prompt_template.format(question=\"How many unique job titles are present in the dataset?\", df_info=get_dataframe_info(df))\n",
    "\n",
    "print(results)"
   ]
  },
  {
   "cell_type": "code",
   "execution_count": 32,
   "id": "1b65cdb5",
   "metadata": {},
   "outputs": [
    {
     "data": {
      "text/plain": [
       "\"df[df['job_title'] == 'Data Scientist']['salary_in_usd'].median()\""
      ]
     },
     "execution_count": 32,
     "metadata": {},
     "output_type": "execute_result"
    }
   ],
   "source": [
    "\n",
    "\n",
    "# Create an LLMChain\n",
    "chain = LLMChain(llm=llm, prompt=prompt_template)\n",
    "\n",
    "def get_dataframe_info(df):\n",
    "    \"\"\"Get basic information about the DataFrame.\"\"\"\n",
    "    info = f\"Columns: {', '.join(df.columns)}\\n\"\n",
    "    info += f\"Shape: {df.shape}\\n\"\n",
    "    info += \"Data types:\\n\"\n",
    "    for col, dtype in df.dtypes.items():\n",
    "        info += f\"  {col}: {dtype}\\n\"\n",
    "    info += f\"First few rows:\\n{df.head().to_string()}\"\n",
    "    return info\n",
    "\n",
    "def query_dataframe(question):\n",
    "    # Get DataFrame info\n",
    "    df_info = get_dataframe_info(df)\n",
    "    \n",
    "    # Generate pandas code using LangChain\n",
    "    response = chain.invoke({\"question\": question, \"df_info\": df_info})\n",
    "  \n",
    "    \n",
    "    return response['text']\n",
    "\n",
    "# Example usage\n",
    "question = \"What is the median salary in USD for data scientists?\"\n",
    "pandas_code = query_dataframe(question)\n",
    "\n",
    "\n",
    "pandas_code"
   ]
  },
  {
   "cell_type": "code",
   "execution_count": 36,
   "id": "829b5acc",
   "metadata": {},
   "outputs": [
    {
     "name": "stderr",
     "output_type": "stream",
     "text": [
      "  6%|▋         | 1/16 [00:00<00:09,  1.58it/s]"
     ]
    },
    {
     "name": "stdout",
     "output_type": "stream",
     "text": [
      "Question: How many unique job titles are present in the dataset?\n",
      "Pandas code: df['job_title'].nunique()\n",
      "\n"
     ]
    },
    {
     "name": "stderr",
     "output_type": "stream",
     "text": [
      " 12%|█▎        | 2/16 [00:01<00:08,  1.66it/s]"
     ]
    },
    {
     "name": "stdout",
     "output_type": "stream",
     "text": [
      "Question: What is the average salary in USD for all job titles?\n",
      "Pandas code: df['salary_in_usd'].mean()\n",
      "\n"
     ]
    },
    {
     "name": "stderr",
     "output_type": "stream",
     "text": [
      " 19%|█▉        | 3/16 [00:01<00:08,  1.55it/s]"
     ]
    },
    {
     "name": "stdout",
     "output_type": "stream",
     "text": [
      "Question: Which job title has the highest average salary?\n",
      "Pandas code: df.groupby('job_title')['salary'].mean().idxmax()\n",
      "\n"
     ]
    },
    {
     "name": "stderr",
     "output_type": "stream",
     "text": [
      " 25%|██▌       | 4/16 [00:02<00:07,  1.60it/s]"
     ]
    },
    {
     "name": "stdout",
     "output_type": "stream",
     "text": [
      "Question: What is the median salary in USD for data scientists?\n",
      "Pandas code: df[df['job_title'] == 'Data Scientist']['salary_in_usd'].median()\n",
      "\n"
     ]
    },
    {
     "name": "stderr",
     "output_type": "stream",
     "text": [
      " 31%|███▏      | 5/16 [00:03<00:06,  1.61it/s]"
     ]
    },
    {
     "name": "stdout",
     "output_type": "stream",
     "text": [
      "Question: How many different employment types are represented in the dataset?\n",
      "Pandas code: \n",
      "df['employment_type'].nunique()\n",
      "\n"
     ]
    },
    {
     "name": "stderr",
     "output_type": "stream",
     "text": [
      " 38%|███▊      | 6/16 [00:04<00:07,  1.35it/s]"
     ]
    },
    {
     "name": "stdout",
     "output_type": "stream",
     "text": [
      "Question: What is the average salary difference between remote and non-remote jobs?\n",
      "Pandas code: df['salary_difference'] = df[df['remote_ratio'] == 100]['salary_in_usd'].mean() - df[df['remote_ratio'] != 100]['salary_in_usd'].mean()\n",
      "\n"
     ]
    },
    {
     "name": "stderr",
     "output_type": "stream",
     "text": [
      " 44%|████▍     | 7/16 [00:04<00:06,  1.44it/s]"
     ]
    },
    {
     "name": "stdout",
     "output_type": "stream",
     "text": [
      "Question: How many employees are located in 'CA' (Canada)?\n",
      "Pandas code: df[df['employee_residence'] == 'CA'].shape[0]\n",
      "\n"
     ]
    },
    {
     "name": "stderr",
     "output_type": "stream",
     "text": [
      " 50%|█████     | 8/16 [00:05<00:05,  1.54it/s]"
     ]
    },
    {
     "name": "stdout",
     "output_type": "stream",
     "text": [
      "Question: What is the most common company size?\n",
      "Pandas code: df['company_size'].value_counts().idxmax()\n",
      "\n"
     ]
    },
    {
     "name": "stderr",
     "output_type": "stream",
     "text": [
      " 56%|█████▋    | 9/16 [00:05<00:04,  1.56it/s]"
     ]
    },
    {
     "name": "stdout",
     "output_type": "stream",
     "text": [
      "Question: How many employees work in large-sized companies?\n",
      "Pandas code: df[df['company_size'] == 'L'].shape[0]\n",
      "\n"
     ]
    },
    {
     "name": "stderr",
     "output_type": "stream",
     "text": [
      " 62%|██████▎   | 10/16 [00:06<00:03,  1.55it/s]"
     ]
    },
    {
     "name": "stdout",
     "output_type": "stream",
     "text": [
      "Question: Find the maximum salary in USD for 'Data Engineer' positions.\n",
      "Pandas code: \n",
      "df[df['job_title'] == 'Data Engineer']['salary_in_usd'].max()\n",
      "\n"
     ]
    },
    {
     "name": "stderr",
     "output_type": "stream",
     "text": [
      " 69%|██████▉   | 11/16 [00:07<00:03,  1.63it/s]"
     ]
    },
    {
     "name": "stdout",
     "output_type": "stream",
     "text": [
      "Question: What is the average salary in EUR?\n",
      "Pandas code: df['salary'].mean()\n",
      "\n"
     ]
    },
    {
     "name": "stderr",
     "output_type": "stream",
     "text": [
      " 75%|███████▌  | 12/16 [00:07<00:02,  1.55it/s]"
     ]
    },
    {
     "name": "stdout",
     "output_type": "stream",
     "text": [
      "Question: Which country has the most remote jobs?\n",
      "Pandas code: df.groupby('employee_residence')['remote_ratio'].sum().idxmax()\n",
      "\n"
     ]
    },
    {
     "name": "stderr",
     "output_type": "stream",
     "text": [
      " 81%|████████▏ | 13/16 [00:08<00:01,  1.55it/s]"
     ]
    },
    {
     "name": "stdout",
     "output_type": "stream",
     "text": [
      "Question: How many job titles have an average salary above $100,000?\n",
      "Pandas code: df[df['salary_in_usd'] > 100000]['job_title'].nunique()\n",
      "\n"
     ]
    },
    {
     "name": "stderr",
     "output_type": "stream",
     "text": [
      " 88%|████████▊ | 14/16 [00:09<00:01,  1.56it/s]"
     ]
    },
    {
     "name": "stdout",
     "output_type": "stream",
     "text": [
      "Question: What is the most common employee residence country?\n",
      "Pandas code: df['employee_residence'].value_counts().idxmax()\n",
      "\n"
     ]
    },
    {
     "name": "stderr",
     "output_type": "stream",
     "text": [
      " 94%|█████████▍| 15/16 [00:09<00:00,  1.61it/s]"
     ]
    },
    {
     "name": "stdout",
     "output_type": "stream",
     "text": [
      "Question: Find the average salary for each company size category.\n",
      "Pandas code: df.groupby('company_size')['salary_in_usd'].mean()\n",
      "\n"
     ]
    },
    {
     "name": "stderr",
     "output_type": "stream",
     "text": [
      "100%|██████████| 16/16 [00:10<00:00,  1.56it/s]"
     ]
    },
    {
     "name": "stdout",
     "output_type": "stream",
     "text": [
      "Question: Which job title has the most employees?\n",
      "Pandas code: df['job_title'].value_counts().idxmax()\n",
      "\n"
     ]
    },
    {
     "name": "stderr",
     "output_type": "stream",
     "text": [
      "\n"
     ]
    }
   ],
   "source": [
    "from tqdm import tqdm\n",
    "\n",
    "output_code = []\n",
    "\n",
    "for question in tqdm(questions_and_code_df[\"Question\"]):\n",
    "    pandas_code = query_dataframe(question)\n",
    "    output_code.append( pandas_code)\n",
    "    print(f\"Question: {question}\\nPandas code: {pandas_code}\\n\")\n",
    "\n"
   ]
  },
  {
   "cell_type": "code",
   "execution_count": 37,
   "id": "3c4a3768",
   "metadata": {},
   "outputs": [],
   "source": [
    "questions_and_code_df[\"estimated Code\"] = output_code"
   ]
  },
  {
   "cell_type": "code",
   "execution_count": 38,
   "id": "9ae5f184",
   "metadata": {},
   "outputs": [
    {
     "data": {
      "text/html": [
       "<div>\n",
       "<style scoped>\n",
       "    .dataframe tbody tr th:only-of-type {\n",
       "        vertical-align: middle;\n",
       "    }\n",
       "\n",
       "    .dataframe tbody tr th {\n",
       "        vertical-align: top;\n",
       "    }\n",
       "\n",
       "    .dataframe thead th {\n",
       "        text-align: right;\n",
       "    }\n",
       "</style>\n",
       "<table border=\"1\" class=\"dataframe\">\n",
       "  <thead>\n",
       "    <tr style=\"text-align: right;\">\n",
       "      <th></th>\n",
       "      <th>Question</th>\n",
       "      <th>Pandas Code</th>\n",
       "      <th>estimated Code</th>\n",
       "    </tr>\n",
       "  </thead>\n",
       "  <tbody>\n",
       "    <tr>\n",
       "      <th>0</th>\n",
       "      <td>How many unique job titles are present in the ...</td>\n",
       "      <td>df['job_title'].nunique()</td>\n",
       "      <td>df['job_title'].nunique()</td>\n",
       "    </tr>\n",
       "    <tr>\n",
       "      <th>1</th>\n",
       "      <td>What is the average salary in USD for all job ...</td>\n",
       "      <td>df['salary_in_usd'].mean()</td>\n",
       "      <td>df['salary_in_usd'].mean()</td>\n",
       "    </tr>\n",
       "    <tr>\n",
       "      <th>2</th>\n",
       "      <td>Which job title has the highest average salary?</td>\n",
       "      <td>df.groupby('job_title')['salary_in_usd'].mean(...</td>\n",
       "      <td>df.groupby('job_title')['salary'].mean().idxmax()</td>\n",
       "    </tr>\n",
       "    <tr>\n",
       "      <th>3</th>\n",
       "      <td>What is the median salary in USD for data scie...</td>\n",
       "      <td>df[df['job_title'] == 'Data Scientist']['salar...</td>\n",
       "      <td>df[df['job_title'] == 'Data Scientist']['salar...</td>\n",
       "    </tr>\n",
       "    <tr>\n",
       "      <th>4</th>\n",
       "      <td>How many different employment types are repres...</td>\n",
       "      <td>df['employment_type'].nunique()</td>\n",
       "      <td>\\ndf['employment_type'].nunique()</td>\n",
       "    </tr>\n",
       "    <tr>\n",
       "      <th>5</th>\n",
       "      <td>What is the average salary difference between ...</td>\n",
       "      <td>df[df['remote_ratio'] == 100]['salary_in_usd']...</td>\n",
       "      <td>df['salary_difference'] = df[df['remote_ratio'...</td>\n",
       "    </tr>\n",
       "    <tr>\n",
       "      <th>6</th>\n",
       "      <td>How many employees are located in 'CA' (Canada)?</td>\n",
       "      <td>df[df['employee_residence'] == 'CA'].shape[0]</td>\n",
       "      <td>df[df['employee_residence'] == 'CA'].shape[0]</td>\n",
       "    </tr>\n",
       "    <tr>\n",
       "      <th>7</th>\n",
       "      <td>What is the most common company size?</td>\n",
       "      <td>df['company_size'].mode()[0]</td>\n",
       "      <td>df['company_size'].value_counts().idxmax()</td>\n",
       "    </tr>\n",
       "    <tr>\n",
       "      <th>8</th>\n",
       "      <td>How many employees work in large-sized companies?</td>\n",
       "      <td>df[df['company_size'] == 'L'].shape[0]</td>\n",
       "      <td>df[df['company_size'] == 'L'].shape[0]</td>\n",
       "    </tr>\n",
       "    <tr>\n",
       "      <th>9</th>\n",
       "      <td>Find the maximum salary in USD for 'Data Engin...</td>\n",
       "      <td>df[df['job_title'] == 'Data Engineer']['salary...</td>\n",
       "      <td>\\ndf[df['job_title'] == 'Data Engineer']['sala...</td>\n",
       "    </tr>\n",
       "    <tr>\n",
       "      <th>10</th>\n",
       "      <td>What is the average salary in EUR?</td>\n",
       "      <td>df[df['salary_currency'] == 'EUR']['salary'].m...</td>\n",
       "      <td>df['salary'].mean()</td>\n",
       "    </tr>\n",
       "    <tr>\n",
       "      <th>11</th>\n",
       "      <td>Which country has the most remote jobs?</td>\n",
       "      <td>df[df['remote_ratio'] == 100]['employee_reside...</td>\n",
       "      <td>df.groupby('employee_residence')['remote_ratio...</td>\n",
       "    </tr>\n",
       "    <tr>\n",
       "      <th>12</th>\n",
       "      <td>How many job titles have an average salary abo...</td>\n",
       "      <td>(df.groupby('job_title')['salary_in_usd'].mean...</td>\n",
       "      <td>df[df['salary_in_usd'] &gt; 100000]['job_title']....</td>\n",
       "    </tr>\n",
       "    <tr>\n",
       "      <th>13</th>\n",
       "      <td>What is the most common employee residence cou...</td>\n",
       "      <td>df['employee_residence'].mode()[0]</td>\n",
       "      <td>df['employee_residence'].value_counts().idxmax()</td>\n",
       "    </tr>\n",
       "    <tr>\n",
       "      <th>14</th>\n",
       "      <td>Find the average salary for each company size ...</td>\n",
       "      <td>df.groupby('company_size')['salary_in_usd'].me...</td>\n",
       "      <td>df.groupby('company_size')['salary_in_usd'].me...</td>\n",
       "    </tr>\n",
       "    <tr>\n",
       "      <th>15</th>\n",
       "      <td>Which job title has the most employees?</td>\n",
       "      <td>df['job_title'].value_counts().idxmax()</td>\n",
       "      <td>df['job_title'].value_counts().idxmax()</td>\n",
       "    </tr>\n",
       "  </tbody>\n",
       "</table>\n",
       "</div>"
      ],
      "text/plain": [
       "                                             Question  \\\n",
       "0   How many unique job titles are present in the ...   \n",
       "1   What is the average salary in USD for all job ...   \n",
       "2     Which job title has the highest average salary?   \n",
       "3   What is the median salary in USD for data scie...   \n",
       "4   How many different employment types are repres...   \n",
       "5   What is the average salary difference between ...   \n",
       "6    How many employees are located in 'CA' (Canada)?   \n",
       "7               What is the most common company size?   \n",
       "8   How many employees work in large-sized companies?   \n",
       "9   Find the maximum salary in USD for 'Data Engin...   \n",
       "10                 What is the average salary in EUR?   \n",
       "11            Which country has the most remote jobs?   \n",
       "12  How many job titles have an average salary abo...   \n",
       "13  What is the most common employee residence cou...   \n",
       "14  Find the average salary for each company size ...   \n",
       "15            Which job title has the most employees?   \n",
       "\n",
       "                                          Pandas Code  \\\n",
       "0                           df['job_title'].nunique()   \n",
       "1                          df['salary_in_usd'].mean()   \n",
       "2   df.groupby('job_title')['salary_in_usd'].mean(...   \n",
       "3   df[df['job_title'] == 'Data Scientist']['salar...   \n",
       "4                     df['employment_type'].nunique()   \n",
       "5   df[df['remote_ratio'] == 100]['salary_in_usd']...   \n",
       "6       df[df['employee_residence'] == 'CA'].shape[0]   \n",
       "7                        df['company_size'].mode()[0]   \n",
       "8              df[df['company_size'] == 'L'].shape[0]   \n",
       "9   df[df['job_title'] == 'Data Engineer']['salary...   \n",
       "10  df[df['salary_currency'] == 'EUR']['salary'].m...   \n",
       "11  df[df['remote_ratio'] == 100]['employee_reside...   \n",
       "12  (df.groupby('job_title')['salary_in_usd'].mean...   \n",
       "13                 df['employee_residence'].mode()[0]   \n",
       "14  df.groupby('company_size')['salary_in_usd'].me...   \n",
       "15            df['job_title'].value_counts().idxmax()   \n",
       "\n",
       "                                       estimated Code  \n",
       "0                           df['job_title'].nunique()  \n",
       "1                          df['salary_in_usd'].mean()  \n",
       "2   df.groupby('job_title')['salary'].mean().idxmax()  \n",
       "3   df[df['job_title'] == 'Data Scientist']['salar...  \n",
       "4                   \\ndf['employment_type'].nunique()  \n",
       "5   df['salary_difference'] = df[df['remote_ratio'...  \n",
       "6       df[df['employee_residence'] == 'CA'].shape[0]  \n",
       "7          df['company_size'].value_counts().idxmax()  \n",
       "8              df[df['company_size'] == 'L'].shape[0]  \n",
       "9   \\ndf[df['job_title'] == 'Data Engineer']['sala...  \n",
       "10                                df['salary'].mean()  \n",
       "11  df.groupby('employee_residence')['remote_ratio...  \n",
       "12  df[df['salary_in_usd'] > 100000]['job_title']....  \n",
       "13   df['employee_residence'].value_counts().idxmax()  \n",
       "14  df.groupby('company_size')['salary_in_usd'].me...  \n",
       "15            df['job_title'].value_counts().idxmax()  "
      ]
     },
     "execution_count": 38,
     "metadata": {},
     "output_type": "execute_result"
    }
   ],
   "source": [
    "questions_and_code_df"
   ]
  },
  {
   "cell_type": "code",
   "execution_count": null,
   "id": "19b74a74",
   "metadata": {},
   "outputs": [],
   "source": []
  }
 ],
 "metadata": {
  "kernelspec": {
   "display_name": "torch",
   "language": "python",
   "name": "python3"
  },
  "language_info": {
   "codemirror_mode": {
    "name": "ipython",
    "version": 3
   },
   "file_extension": ".py",
   "mimetype": "text/x-python",
   "name": "python",
   "nbconvert_exporter": "python",
   "pygments_lexer": "ipython3",
   "version": "3.10.13"
  }
 },
 "nbformat": 4,
 "nbformat_minor": 5
}
