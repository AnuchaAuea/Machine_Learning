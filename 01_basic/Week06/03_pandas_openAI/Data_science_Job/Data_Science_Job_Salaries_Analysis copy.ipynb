{
 "cells": [
  {
   "cell_type": "markdown",
   "id": "756ff398",
   "metadata": {},
   "source": [
    "\n",
    "# Data Science Job Salaries Analysis\n",
    "\n",
    "\n",
    "\n",
    "### Columns Description\n",
    "\n",
    "- **work_year**: The year in which the data was recorded.\n",
    "- **experience_level**: The level of experience required for the job. Categories include:\n",
    "  - 'EN' - Entry-level\n",
    "  - 'MI' - Mid-level\n",
    "  - 'SE' - Senior-level\n",
    "  - 'EX' - Executive-level\n",
    "- **employment_type**: The nature of employment. Types include:\n",
    "  - 'FT' - Full-time\n",
    "  - 'PT' - Part-time\n",
    "  - 'CT' - Contract\n",
    "  - 'FL' - Freelance\n",
    "- **job_title**: The title of the job, e.g., 'Data Scientist', 'ML Engineer'.\n",
    "- **salary**: The salary amount in the specified currency.\n",
    "- **salary_currency**: The currency in which the salary is paid, e.g., USD, EUR.\n",
    "- **salary_in_usd**: The salary converted into USD for standardization purposes.\n",
    "- **employee_residence**: The country or region where the employee resides.\n",
    "- **remote_ratio**: Indicates the extent to which a job is remote, with values like 0 (non-remote), 50 (partially remote), and 100 (fully remote).\n",
    "- **company_location**: The location of the company offering the job.\n",
    "- **company_size**: The size of the company, categorized as:\n",
    "  - 'S' - Small (1-50 employees)\n",
    "  - 'M' - Medium (51-250 employees)\n",
    "  - 'L' - Large (251+ employees)\n"
   ]
  },
  {
   "cell_type": "code",
   "execution_count": 7,
   "id": "e09ba931",
   "metadata": {},
   "outputs": [
    {
     "name": "stdout",
     "output_type": "stream",
     "text": [
      "Notebook cleaned.\n"
     ]
    }
   ],
   "source": [
    "import IPython\n",
    "import sys\n",
    "\n",
    "def clean_notebook():\n",
    "    IPython.display.clear_output(wait=True)\n",
    "    print(\"Notebook cleaned.\")\n",
    "!pip install openai\n",
    "!pip install python-dotenv\n",
    "!pip install -U langchain-openai\n",
    "!pip install langchain-experimental\n",
    "!pip install tabulate\n",
    "\n",
    "\n",
    "# Clean up the notebook\n",
    "clean_notebook()"
   ]
  },
  {
   "cell_type": "markdown",
   "id": "7868a68f",
   "metadata": {},
   "source": [
    "| Question                                                                 | Pandas Code                                           |\n",
    "|--------------------------------------------------------------------------|-------------------------------------------------------|\n",
    "| How many unique job titles are present in the dataset?                   | `df['job_title'].nunique()`                           |\n",
    "| What is the average salary in USD for all job titles?                    | `df['salary_in_usd'].mean()`                          |\n",
    "| Which job title has the highest average salary?                          | `df.groupby('job_title')['salary_in_usd'].mean().idxmax()` |\n",
    "| What is the median salary in USD for data scientists?                    | `df[df['job_title'] == 'Data Scientist']['salary_in_usd'].median()` |\n",
    "| How many different employment types are represented in the dataset?      | `df['employment_type'].nunique()`                     |\n",
    "| What is the average salary difference between remote and non-remote jobs?| `df[df['remote_ratio'] == 100]['salary_in_usd'].mean() - df[df['remote_ratio'] != 100]['salary_in_usd'].mean()` |\n",
    "| How many employees are located in 'CA' (Canada)?                         | `df[df['employee_residence'] == 'CA'].shape[0]`       |\n",
    "| What is the most common company size?                                    | `df['company_size'].mode()[0]`                        |\n",
    "| How many employees work in large-sized companies?                        | `df[df['company_size'] == 'L'].shape[0]`              |\n",
    "| Find the maximum salary in USD for 'Data Engineer' positions.            | `df[df['job_title'] == 'Data Engineer']['salary_in_usd'].max()` |\n",
    "| What is the average salary in EUR?                                       | `df[df['salary_currency'] == 'EUR']['salary'].mean()` |\n",
    "| Which country has the most remote jobs?                                  | `df[df['remote_ratio'] == 100]['employee_residence'].value_counts().idxmax()` |\n",
    "| How many job titles have an average salary above $100,000?               | `(df.groupby('job_title')['salary_in_usd'].mean() > 100000).sum()` |\n",
    "| What is the most common employee residence country?                      | `df['employee_residence'].mode()[0]`                  |\n",
    "| Find the average salary for each company size category.                  | `df.groupby('company_size')['salary_in_usd'].mean()`  |\n",
    "| Which job title has the most employees?                                  | `df['job_title'].value_counts().idxmax()`             |\n"
   ]
  },
  {
   "cell_type": "code",
   "execution_count": 2,
   "id": "ab220a18",
   "metadata": {},
   "outputs": [
    {
     "data": {
      "text/html": [
       "<div>\n",
       "<style scoped>\n",
       "    .dataframe tbody tr th:only-of-type {\n",
       "        vertical-align: middle;\n",
       "    }\n",
       "\n",
       "    .dataframe tbody tr th {\n",
       "        vertical-align: top;\n",
       "    }\n",
       "\n",
       "    .dataframe thead th {\n",
       "        text-align: right;\n",
       "    }\n",
       "</style>\n",
       "<table border=\"1\" class=\"dataframe\">\n",
       "  <thead>\n",
       "    <tr style=\"text-align: right;\">\n",
       "      <th></th>\n",
       "      <th>Question</th>\n",
       "      <th>Pandas Code</th>\n",
       "    </tr>\n",
       "  </thead>\n",
       "  <tbody>\n",
       "    <tr>\n",
       "      <th>0</th>\n",
       "      <td>How many unique job titles are present in the ...</td>\n",
       "      <td>df['job_title'].nunique()</td>\n",
       "    </tr>\n",
       "    <tr>\n",
       "      <th>1</th>\n",
       "      <td>What is the average salary in USD for all job ...</td>\n",
       "      <td>df['salary_in_usd'].mean()</td>\n",
       "    </tr>\n",
       "    <tr>\n",
       "      <th>2</th>\n",
       "      <td>Which job title has the highest average salary?</td>\n",
       "      <td>df.groupby('job_title')['salary_in_usd'].mean(...</td>\n",
       "    </tr>\n",
       "    <tr>\n",
       "      <th>3</th>\n",
       "      <td>What is the median salary in USD for data scie...</td>\n",
       "      <td>df[df['job_title'] == 'Data Scientist']['salar...</td>\n",
       "    </tr>\n",
       "    <tr>\n",
       "      <th>4</th>\n",
       "      <td>How many different employment types are repres...</td>\n",
       "      <td>df['employment_type'].nunique()</td>\n",
       "    </tr>\n",
       "    <tr>\n",
       "      <th>5</th>\n",
       "      <td>What is the average salary difference between ...</td>\n",
       "      <td>df[df['remote_ratio'] == 100]['salary_in_usd']...</td>\n",
       "    </tr>\n",
       "    <tr>\n",
       "      <th>6</th>\n",
       "      <td>How many employees are located in 'CA' (Canada)?</td>\n",
       "      <td>df[df['employee_residence'] == 'CA'].shape[0]</td>\n",
       "    </tr>\n",
       "    <tr>\n",
       "      <th>7</th>\n",
       "      <td>What is the most common company size?</td>\n",
       "      <td>df['company_size'].mode()[0]</td>\n",
       "    </tr>\n",
       "    <tr>\n",
       "      <th>8</th>\n",
       "      <td>How many employees work in large-sized companies?</td>\n",
       "      <td>df[df['company_size'] == 'L'].shape[0]</td>\n",
       "    </tr>\n",
       "    <tr>\n",
       "      <th>9</th>\n",
       "      <td>Find the maximum salary in USD for 'Data Engin...</td>\n",
       "      <td>df[df['job_title'] == 'Data Engineer']['salary...</td>\n",
       "    </tr>\n",
       "    <tr>\n",
       "      <th>10</th>\n",
       "      <td>What is the average salary in EUR?</td>\n",
       "      <td>df[df['salary_currency'] == 'EUR']['salary'].m...</td>\n",
       "    </tr>\n",
       "    <tr>\n",
       "      <th>11</th>\n",
       "      <td>Which country has the most remote jobs?</td>\n",
       "      <td>df[df['remote_ratio'] == 100]['employee_reside...</td>\n",
       "    </tr>\n",
       "    <tr>\n",
       "      <th>12</th>\n",
       "      <td>How many job titles have an average salary abo...</td>\n",
       "      <td>(df.groupby('job_title')['salary_in_usd'].mean...</td>\n",
       "    </tr>\n",
       "    <tr>\n",
       "      <th>13</th>\n",
       "      <td>What is the most common employee residence cou...</td>\n",
       "      <td>df['employee_residence'].mode()[0]</td>\n",
       "    </tr>\n",
       "    <tr>\n",
       "      <th>14</th>\n",
       "      <td>Find the average salary for each company size ...</td>\n",
       "      <td>df.groupby('company_size')['salary_in_usd'].me...</td>\n",
       "    </tr>\n",
       "    <tr>\n",
       "      <th>15</th>\n",
       "      <td>Which job title has the most employees?</td>\n",
       "      <td>df['job_title'].value_counts().idxmax()</td>\n",
       "    </tr>\n",
       "  </tbody>\n",
       "</table>\n",
       "</div>"
      ],
      "text/plain": [
       "                                             Question  \\\n",
       "0   How many unique job titles are present in the ...   \n",
       "1   What is the average salary in USD for all job ...   \n",
       "2     Which job title has the highest average salary?   \n",
       "3   What is the median salary in USD for data scie...   \n",
       "4   How many different employment types are repres...   \n",
       "5   What is the average salary difference between ...   \n",
       "6    How many employees are located in 'CA' (Canada)?   \n",
       "7               What is the most common company size?   \n",
       "8   How many employees work in large-sized companies?   \n",
       "9   Find the maximum salary in USD for 'Data Engin...   \n",
       "10                 What is the average salary in EUR?   \n",
       "11            Which country has the most remote jobs?   \n",
       "12  How many job titles have an average salary abo...   \n",
       "13  What is the most common employee residence cou...   \n",
       "14  Find the average salary for each company size ...   \n",
       "15            Which job title has the most employees?   \n",
       "\n",
       "                                          Pandas Code  \n",
       "0                           df['job_title'].nunique()  \n",
       "1                          df['salary_in_usd'].mean()  \n",
       "2   df.groupby('job_title')['salary_in_usd'].mean(...  \n",
       "3   df[df['job_title'] == 'Data Scientist']['salar...  \n",
       "4                     df['employment_type'].nunique()  \n",
       "5   df[df['remote_ratio'] == 100]['salary_in_usd']...  \n",
       "6       df[df['employee_residence'] == 'CA'].shape[0]  \n",
       "7                        df['company_size'].mode()[0]  \n",
       "8              df[df['company_size'] == 'L'].shape[0]  \n",
       "9   df[df['job_title'] == 'Data Engineer']['salary...  \n",
       "10  df[df['salary_currency'] == 'EUR']['salary'].m...  \n",
       "11  df[df['remote_ratio'] == 100]['employee_reside...  \n",
       "12  (df.groupby('job_title')['salary_in_usd'].mean...  \n",
       "13                 df['employee_residence'].mode()[0]  \n",
       "14  df.groupby('company_size')['salary_in_usd'].me...  \n",
       "15            df['job_title'].value_counts().idxmax()  "
      ]
     },
     "execution_count": 2,
     "metadata": {},
     "output_type": "execute_result"
    }
   ],
   "source": [
    "import pandas as pd\n",
    "\n",
    "# Creating a DataFrame with the questions and corresponding Pandas code\n",
    "questions_and_code_df = pd.DataFrame({\n",
    "    \"Question\": [\n",
    "        \"How many unique job titles are present in the dataset?\",\n",
    "        \"What is the average salary in USD for all job titles?\",\n",
    "        \"Which job title has the highest average salary?\",\n",
    "        \"What is the median salary in USD for data scientists?\",\n",
    "        \"How many different employment types are represented in the dataset?\",\n",
    "        \"What is the average salary difference between remote and non-remote jobs?\",\n",
    "        \"How many employees are located in 'CA' (Canada)?\",\n",
    "        \"What is the most common company size?\",\n",
    "        \"How many employees work in large-sized companies?\",\n",
    "        \"Find the maximum salary in USD for 'Data Engineer' positions.\",\n",
    "        \"What is the average salary in EUR?\",\n",
    "        \"Which country has the most remote jobs?\",\n",
    "        \"How many job titles have an average salary above $100,000?\",\n",
    "        \"What is the most common employee residence country?\",\n",
    "        \"Find the average salary for each company size category.\",\n",
    "        \"Which job title has the most employees?\"\n",
    "    ],\n",
    "    \"Pandas Code\": [\n",
    "        \"df['job_title'].nunique()\",\n",
    "        \"df['salary_in_usd'].mean()\",\n",
    "        \"df.groupby('job_title')['salary_in_usd'].mean().idxmax()\",\n",
    "        \"df[df['job_title'] == 'Data Scientist']['salary_in_usd'].median()\",\n",
    "        \"df['employment_type'].nunique()\",\n",
    "        \"df[df['remote_ratio'] == 100]['salary_in_usd'].mean() - df[df['remote_ratio'] != 100]['salary_in_usd'].mean()\",\n",
    "        \"df[df['employee_residence'] == 'CA'].shape[0]\",\n",
    "        \"df['company_size'].mode()[0]\",\n",
    "        \"df[df['company_size'] == 'L'].shape[0]\",\n",
    "        \"df[df['job_title'] == 'Data Engineer']['salary_in_usd'].max()\",\n",
    "        \"df[df['salary_currency'] == 'EUR']['salary'].mean()\",\n",
    "        \"df[df['remote_ratio'] == 100]['employee_residence'].value_counts().idxmax()\",\n",
    "        \"(df.groupby('job_title')['salary_in_usd'].mean() > 100000).sum()\",\n",
    "        \"df['employee_residence'].mode()[0]\",\n",
    "        \"df.groupby('company_size')['salary_in_usd'].mean()\",\n",
    "        \"df['job_title'].value_counts().idxmax()\"\n",
    "    ]\n",
    "})\n",
    "\n",
    "questions_and_code_df"
   ]
  },
  {
   "cell_type": "code",
   "execution_count": 2,
   "id": "a8cfde86",
   "metadata": {},
   "outputs": [
    {
     "data": {
      "text/plain": [
       "True"
      ]
     },
     "execution_count": 2,
     "metadata": {},
     "output_type": "execute_result"
    }
   ],
   "source": [
    "import os\n",
    "from openai import OpenAI\n",
    "from dotenv import load_dotenv\n",
    "\n",
    "# Load environment variables\n",
    "load_dotenv()"
   ]
  },
  {
   "cell_type": "code",
   "execution_count": 1,
   "id": "5dfdc2a3",
   "metadata": {},
   "outputs": [
    {
     "data": {
      "text/html": [
       "<div>\n",
       "<style scoped>\n",
       "    .dataframe tbody tr th:only-of-type {\n",
       "        vertical-align: middle;\n",
       "    }\n",
       "\n",
       "    .dataframe tbody tr th {\n",
       "        vertical-align: top;\n",
       "    }\n",
       "\n",
       "    .dataframe thead th {\n",
       "        text-align: right;\n",
       "    }\n",
       "</style>\n",
       "<table border=\"1\" class=\"dataframe\">\n",
       "  <thead>\n",
       "    <tr style=\"text-align: right;\">\n",
       "      <th></th>\n",
       "      <th>work_year</th>\n",
       "      <th>experience_level</th>\n",
       "      <th>employment_type</th>\n",
       "      <th>job_title</th>\n",
       "      <th>salary</th>\n",
       "      <th>salary_currency</th>\n",
       "      <th>salary_in_usd</th>\n",
       "      <th>employee_residence</th>\n",
       "      <th>remote_ratio</th>\n",
       "      <th>company_location</th>\n",
       "      <th>company_size</th>\n",
       "    </tr>\n",
       "  </thead>\n",
       "  <tbody>\n",
       "    <tr>\n",
       "      <th>0</th>\n",
       "      <td>2023</td>\n",
       "      <td>SE</td>\n",
       "      <td>FT</td>\n",
       "      <td>Principal Data Scientist</td>\n",
       "      <td>80000</td>\n",
       "      <td>EUR</td>\n",
       "      <td>85847</td>\n",
       "      <td>ES</td>\n",
       "      <td>100</td>\n",
       "      <td>ES</td>\n",
       "      <td>L</td>\n",
       "    </tr>\n",
       "    <tr>\n",
       "      <th>1</th>\n",
       "      <td>2023</td>\n",
       "      <td>MI</td>\n",
       "      <td>CT</td>\n",
       "      <td>ML Engineer</td>\n",
       "      <td>30000</td>\n",
       "      <td>USD</td>\n",
       "      <td>30000</td>\n",
       "      <td>US</td>\n",
       "      <td>100</td>\n",
       "      <td>US</td>\n",
       "      <td>S</td>\n",
       "    </tr>\n",
       "    <tr>\n",
       "      <th>2</th>\n",
       "      <td>2023</td>\n",
       "      <td>MI</td>\n",
       "      <td>CT</td>\n",
       "      <td>ML Engineer</td>\n",
       "      <td>25500</td>\n",
       "      <td>USD</td>\n",
       "      <td>25500</td>\n",
       "      <td>US</td>\n",
       "      <td>100</td>\n",
       "      <td>US</td>\n",
       "      <td>S</td>\n",
       "    </tr>\n",
       "    <tr>\n",
       "      <th>3</th>\n",
       "      <td>2023</td>\n",
       "      <td>SE</td>\n",
       "      <td>FT</td>\n",
       "      <td>Data Scientist</td>\n",
       "      <td>175000</td>\n",
       "      <td>USD</td>\n",
       "      <td>175000</td>\n",
       "      <td>CA</td>\n",
       "      <td>100</td>\n",
       "      <td>CA</td>\n",
       "      <td>M</td>\n",
       "    </tr>\n",
       "    <tr>\n",
       "      <th>4</th>\n",
       "      <td>2023</td>\n",
       "      <td>SE</td>\n",
       "      <td>FT</td>\n",
       "      <td>Data Scientist</td>\n",
       "      <td>120000</td>\n",
       "      <td>USD</td>\n",
       "      <td>120000</td>\n",
       "      <td>CA</td>\n",
       "      <td>100</td>\n",
       "      <td>CA</td>\n",
       "      <td>M</td>\n",
       "    </tr>\n",
       "  </tbody>\n",
       "</table>\n",
       "</div>"
      ],
      "text/plain": [
       "   work_year experience_level employment_type                 job_title  \\\n",
       "0       2023               SE              FT  Principal Data Scientist   \n",
       "1       2023               MI              CT               ML Engineer   \n",
       "2       2023               MI              CT               ML Engineer   \n",
       "3       2023               SE              FT            Data Scientist   \n",
       "4       2023               SE              FT            Data Scientist   \n",
       "\n",
       "   salary salary_currency  salary_in_usd employee_residence  remote_ratio  \\\n",
       "0   80000             EUR          85847                 ES           100   \n",
       "1   30000             USD          30000                 US           100   \n",
       "2   25500             USD          25500                 US           100   \n",
       "3  175000             USD         175000                 CA           100   \n",
       "4  120000             USD         120000                 CA           100   \n",
       "\n",
       "  company_location company_size  \n",
       "0               ES            L  \n",
       "1               US            S  \n",
       "2               US            S  \n",
       "3               CA            M  \n",
       "4               CA            M  "
      ]
     },
     "execution_count": 1,
     "metadata": {},
     "output_type": "execute_result"
    }
   ],
   "source": [
    "import pandas as pd\n",
    "\n",
    "df = pd.read_csv(\"./ds_salaries.csv\")\n",
    "df.head()"
   ]
  },
  {
   "cell_type": "code",
   "execution_count": 17,
   "id": "c4399b7c",
   "metadata": {},
   "outputs": [],
   "source": [
    "import pandas as pd\n",
    "from langchain_openai import OpenAI\n",
    "from langchain.prompts import PromptTemplate\n",
    "from langchain.chains import LLMChain\n",
    "\n",
    "# Initialize the language model\n",
    "llm = OpenAI(temperature=0)\n",
    "\n",
    "template_string = \"\"\"Given the following question about a pandas DataFrame and the DataFrame information provided, generate only  pandas code without any description to answer it. \n",
    "Do not execute the code, just provide it.\n",
    "\n",
    "Question: {question}\n",
    "\n",
    "DataFrame Info:\n",
    "{df_info}\n",
    "\n",
    "Pandas code:\n",
    "\"\"\"\n",
    "\n",
    "\n",
    "# Create a prompt template\n",
    "prompt_template = PromptTemplate(\n",
    "    input_variables=[\"question\", \"df_info\"],\n",
    "    template=template_string\n",
    ")"
   ]
  },
  {
   "cell_type": "code",
   "execution_count": 21,
   "id": "37a031ee",
   "metadata": {},
   "outputs": [
    {
     "name": "stdout",
     "output_type": "stream",
     "text": [
      "Columns: work_year, experience_level, employment_type, job_title, salary, salary_currency, salary_in_usd, employee_residence, remote_ratio, company_location, company_size, age\n",
      "Shape: (3755, 12)\n",
      "Data types:\n",
      "  work_year: int64\n",
      "  experience_level: object\n",
      "  employment_type: object\n",
      "  job_title: object\n",
      "  salary: int64\n",
      "  salary_currency: object\n",
      "  salary_in_usd: int64\n",
      "  employee_residence: object\n",
      "  remote_ratio: int64\n",
      "  company_location: object\n",
      "  company_size: object\n",
      "  age: int64\n",
      "First few rows:\n",
      "   work_year experience_level employment_type                 job_title  salary salary_currency  salary_in_usd employee_residence  remote_ratio company_location company_size  age\n",
      "0       2023               SE              FT  Principal Data Scientist   80000             EUR          85847                 ES           100               ES            L    0\n",
      "1       2023               MI              CT               ML Engineer   30000             USD          30000                 US           100               US            S    0\n",
      "2       2023               MI              CT               ML Engineer   25500             USD          25500                 US           100               US            S    0\n",
      "3       2023               SE              FT            Data Scientist  175000             USD         175000                 CA           100               CA            M    0\n",
      "4       2023               SE              FT            Data Scientist  120000             USD         120000                 CA           100               CA            M    0\n"
     ]
    }
   ],
   "source": [
    "\n",
    "def get_dataframe_info(df):\n",
    "    \"\"\"Get basic information about the DataFrame.\"\"\"\n",
    "    info = f\"Columns: {', '.join(df.columns)}\\n\"\n",
    "    info += f\"Shape: {df.shape}\\n\"\n",
    "    info += \"Data types:\\n\"\n",
    "    for col, dtype in df.dtypes.items():\n",
    "        info += f\"  {col}: {dtype}\\n\"\n",
    "    info += f\"First few rows:\\n{df.head().to_string()}\"\n",
    "    return info\n",
    "\n",
    "print(get_dataframe_info(df))"
   ]
  },
  {
   "cell_type": "code",
   "execution_count": 19,
   "id": "1b65cdb5",
   "metadata": {},
   "outputs": [
    {
     "name": "stdout",
     "output_type": "stream",
     "text": [
      "Generated code:\n",
      "df[df['job_title'] == 'Data Scientist']['salary_in_usd'].median()\n"
     ]
    },
    {
     "data": {
      "text/plain": [
       "\"df[df['job_title'] == 'Data Scientist']['salary_in_usd'].median()\""
      ]
     },
     "execution_count": 19,
     "metadata": {},
     "output_type": "execute_result"
    }
   ],
   "source": [
    "\n",
    "\n",
    "# Create an LLMChain\n",
    "chain = LLMChain(llm=llm, prompt=prompt_template)\n",
    "\n",
    "def get_dataframe_info(df):\n",
    "    \"\"\"Get basic information about the DataFrame.\"\"\"\n",
    "    info = f\"Columns: {', '.join(df.columns)}\\n\"\n",
    "    info += f\"Shape: {df.shape}\\n\"\n",
    "    info += \"Data types:\\n\"\n",
    "    for col, dtype in df.dtypes.items():\n",
    "        info += f\"  {col}: {dtype}\\n\"\n",
    "    info += f\"First few rows:\\n{df.head().to_string()}\"\n",
    "    return info\n",
    "\n",
    "def query_dataframe(question):\n",
    "    # Get DataFrame info\n",
    "    df_info = get_dataframe_info(df)\n",
    "    \n",
    "    # Generate pandas code using LangChain\n",
    "    response = chain.run(question=question, df_info=df_info)\n",
    "    print(f\"Generated code:\\n{response}\")\n",
    "    \n",
    "    return response\n",
    "\n",
    "# Example usage\n",
    "question = \"What is the median salary in USD for data scientists?\"\n",
    "pandas_code = query_dataframe(question)\n",
    "\n",
    "# print(\"\\nTo execute this code and get the result, you can use:\")\n",
    "# print(\"exec(pandas_code)\")\n",
    "# print(\"This will create a 'result' variable with the output.\")\n",
    "# print(\"\\nMake sure to review the code before executing it.\")\n",
    "\n",
    "pandas_code"
   ]
  },
  {
   "cell_type": "code",
   "execution_count": 9,
   "id": "10184046",
   "metadata": {},
   "outputs": [
    {
     "data": {
      "text/plain": [
       "\"df['age'] = 2023 - df['work_year']\\ndf['age'].mean()\""
      ]
     },
     "execution_count": 9,
     "metadata": {},
     "output_type": "execute_result"
    }
   ],
   "source": [
    "pandas_code "
   ]
  },
  {
   "cell_type": "code",
   "execution_count": 10,
   "id": "e58fbeef",
   "metadata": {},
   "outputs": [],
   "source": [
    "exec(pandas_code)"
   ]
  },
  {
   "cell_type": "code",
   "execution_count": 3,
   "id": "07903288",
   "metadata": {},
   "outputs": [],
   "source": [
    "import pandas as pd\n",
    "from langchain_openai import OpenAI\n",
    "from langchain.prompts import PromptTemplate\n",
    "from langchain.chains import LLMChain\n",
    "from langchain_experimental.agents.agent_toolkits import create_pandas_dataframe_agent\n",
    "\n",
    "# Load your CSV file\n",
    "\n",
    "\n",
    "# Initialize the language model\n",
    "llm = OpenAI(temperature=0)\n",
    "\n",
    "# Create a prompt template\n",
    "prompt_template = PromptTemplate(\n",
    "    input_variables=[\"question\"],\n",
    "    template=\"Given the following question about a pandas DataFrame, generate the appropriate pandas code to answer it: {question}\"\n",
    ")\n"
   ]
  },
  {
   "cell_type": "code",
   "execution_count": 8,
   "id": "a2a8ca2a",
   "metadata": {},
   "outputs": [
    {
     "data": {
      "text/plain": [
       "'Given the following question about a pandas DataFrame, generate the appropriate pandas code to answer it: {question}'"
      ]
     },
     "execution_count": 8,
     "metadata": {},
     "output_type": "execute_result"
    }
   ],
   "source": [
    "prompt_template.template"
   ]
  },
  {
   "cell_type": "code",
   "execution_count": 23,
   "id": "df50549b",
   "metadata": {},
   "outputs": [
    {
     "name": "stdout",
     "output_type": "stream",
     "text": [
      "Generated code: \n",
      "\n",
      "Assuming the DataFrame is named \"df\" and the column containing salaries is named \"Salary\":\n",
      "\n",
      "df[df[\"Job Title\"] == \"Data Scientist\"][\"Salary\"].median()\n",
      "\n",
      "\n",
      "\u001b[1m> Entering new AgentExecutor chain...\u001b[0m\n",
      "\u001b[32;1m\u001b[1;3mThought: I need to find the median salary for data scientists in the dataframe.\n",
      "Action: python_repl_ast\n",
      "Action Input: df[df[\"Job Title\"] == \"Data Scientist\"][\"Salary\"].median()\u001b[0m\u001b[36;1m\u001b[1;3mKeyError: 'Job Title'\u001b[0m\u001b[32;1m\u001b[1;3mI need to check the column names in the dataframe.\n",
      "Action: python_repl_ast\n",
      "Action Input: df.columns\u001b[0m\u001b[36;1m\u001b[1;3mIndex(['work_year', 'experience_level', 'employment_type', 'job_title',\n",
      "       'salary', 'salary_currency', 'salary_in_usd', 'employee_residence',\n",
      "       'remote_ratio', 'company_location', 'company_size', 'age'],\n",
      "      dtype='object')\u001b[0m\u001b[32;1m\u001b[1;3mI need to use the correct column name for \"Job Title\".\n",
      "Action: python_repl_ast\n",
      "Action Input: df[df[\"job_title\"] == \"Data Scientist\"][\"salary\"].median()\u001b[0m\u001b[36;1m\u001b[1;3m145000.0\u001b[0m\u001b[32;1m\u001b[1;3mI now know the final answer.\n",
      "Final Answer: The median salary for data scientists in the dataframe is $145,000.\u001b[0m\n",
      "\n",
      "\u001b[1m> Finished chain.\u001b[0m\n",
      "Result: The median salary for data scientists in the dataframe is $145,000.\n"
     ]
    }
   ],
   "source": [
    "\n",
    "# Create an LLMChain\n",
    "chain = LLMChain(llm=llm, prompt=prompt_template)\n",
    "\n",
    "# Create a pandas DataFrame agent\n",
    "agent = create_pandas_dataframe_agent(llm, df, verbose=True,allow_dangerous_code=True)\n",
    "\n",
    "def query_dataframe(question):\n",
    "    # Generate pandas code using LangChain\n",
    "    response = chain.run(question=question)\n",
    "    print(f\"Generated code: {response}\")\n",
    "    \n",
    "    # Use the pandas DataFrame agent to execute the query\n",
    "    result = agent.run(response)\n",
    "    return result\n",
    "\n",
    "# Example usage\n",
    "question = \"What is the median salary in USD for data scientists?\"\n",
    "result = query_dataframe(question)\n",
    "print(f\"Result: {result}\")"
   ]
  },
  {
   "cell_type": "markdown",
   "id": "3cdff9cc",
   "metadata": {},
   "source": [
    "## Question: How many unique job titles are present in the dataset?"
   ]
  },
  {
   "cell_type": "code",
   "execution_count": 5,
   "id": "978dc9b7",
   "metadata": {},
   "outputs": [
    {
     "data": {
      "text/plain": [
       "93"
      ]
     },
     "execution_count": 5,
     "metadata": {},
     "output_type": "execute_result"
    }
   ],
   "source": [
    "# Solution:\n",
    "df['job_title'].nunique()"
   ]
  },
  {
   "cell_type": "markdown",
   "id": "ce4b649c",
   "metadata": {},
   "source": [
    "## Question: What is the average salary in USD for all job titles?"
   ]
  },
  {
   "cell_type": "code",
   "execution_count": 6,
   "id": "5d19a8e3",
   "metadata": {},
   "outputs": [
    {
     "data": {
      "text/plain": [
       "137570.38988015978"
      ]
     },
     "execution_count": 6,
     "metadata": {},
     "output_type": "execute_result"
    }
   ],
   "source": [
    "# Solution:\n",
    "df['salary_in_usd'].mean()"
   ]
  },
  {
   "cell_type": "markdown",
   "id": "5153bd1c",
   "metadata": {},
   "source": [
    "## Question: Which job title has the highest average salary?"
   ]
  },
  {
   "cell_type": "code",
   "execution_count": 7,
   "id": "8115b6a6",
   "metadata": {},
   "outputs": [
    {
     "data": {
      "text/plain": [
       "'Data Science Tech Lead'"
      ]
     },
     "execution_count": 7,
     "metadata": {},
     "output_type": "execute_result"
    }
   ],
   "source": [
    "# Solution:\n",
    "df.groupby('job_title')['salary_in_usd'].mean().idxmax()"
   ]
  },
  {
   "cell_type": "markdown",
   "id": "ea563955",
   "metadata": {},
   "source": [
    "## Question: What is the median salary in USD for data scientists?"
   ]
  },
  {
   "cell_type": "code",
   "execution_count": 8,
   "id": "5d3ed1d9",
   "metadata": {},
   "outputs": [
    {
     "data": {
      "text/plain": [
       "141525.0"
      ]
     },
     "execution_count": 8,
     "metadata": {},
     "output_type": "execute_result"
    }
   ],
   "source": [
    "# Solution:\n",
    "df[df['job_title'] == 'Data Scientist']['salary_in_usd'].median()"
   ]
  },
  {
   "cell_type": "markdown",
   "id": "a4254e06",
   "metadata": {},
   "source": [
    "## Question: How many jobs are fully remote (remote_ratio = 100)?"
   ]
  },
  {
   "cell_type": "code",
   "execution_count": 9,
   "id": "081a0be7",
   "metadata": {},
   "outputs": [
    {
     "data": {
      "text/plain": [
       "1643"
      ]
     },
     "execution_count": 9,
     "metadata": {},
     "output_type": "execute_result"
    }
   ],
   "source": [
    "# Solution:\n",
    "df[df['remote_ratio'] == 100].shape[0]"
   ]
  },
  {
   "cell_type": "markdown",
   "id": "42a410a7",
   "metadata": {},
   "source": [
    "## Question: Which company location has the highest number of employees?"
   ]
  },
  {
   "cell_type": "code",
   "execution_count": 10,
   "id": "078aff2a",
   "metadata": {},
   "outputs": [
    {
     "data": {
      "text/plain": [
       "'US'"
      ]
     },
     "execution_count": 10,
     "metadata": {},
     "output_type": "execute_result"
    }
   ],
   "source": [
    "# Solution:\n",
    "df['company_location'].value_counts().idxmax()"
   ]
  },
  {
   "cell_type": "markdown",
   "id": "ad457b20",
   "metadata": {},
   "source": [
    "## Question: What percentage of employees work in small-sized companies?"
   ]
  },
  {
   "cell_type": "code",
   "execution_count": 11,
   "id": "fe7104d8",
   "metadata": {},
   "outputs": [
    {
     "data": {
      "text/plain": [
       "3.9414114513981358"
      ]
     },
     "execution_count": 11,
     "metadata": {},
     "output_type": "execute_result"
    }
   ],
   "source": [
    "# Solution:\n",
    "(df['company_size'] == 'S').mean() * 100"
   ]
  },
  {
   "cell_type": "markdown",
   "id": "4fd1d364",
   "metadata": {},
   "source": [
    "## Question: What is the most common employment type?"
   ]
  },
  {
   "cell_type": "code",
   "execution_count": 12,
   "id": "704eace9",
   "metadata": {},
   "outputs": [
    {
     "data": {
      "text/plain": [
       "'FT'"
      ]
     },
     "execution_count": 12,
     "metadata": {},
     "output_type": "execute_result"
    }
   ],
   "source": [
    "# Solution:\n",
    "df['employment_type'].mode()[0]"
   ]
  },
  {
   "cell_type": "markdown",
   "id": "1d78f82d",
   "metadata": {},
   "source": [
    "## Question: Find the range of salaries in USD for machine learning engineers."
   ]
  },
  {
   "cell_type": "code",
   "execution_count": 13,
   "id": "644d8ea6",
   "metadata": {},
   "outputs": [
    {
     "data": {
      "text/plain": [
       "min     15966\n",
       "max    289076\n",
       "Name: salary_in_usd, dtype: int64"
      ]
     },
     "execution_count": 13,
     "metadata": {},
     "output_type": "execute_result"
    }
   ],
   "source": [
    "# Solution:\n",
    "df[df['job_title'] == 'ML Engineer']['salary_in_usd'].agg(['min', 'max'])"
   ]
  },
  {
   "cell_type": "markdown",
   "id": "c7917a27",
   "metadata": {},
   "source": [
    "## Question: How many employees work in medium-sized companies?"
   ]
  },
  {
   "cell_type": "code",
   "execution_count": 14,
   "id": "b0b1b3a2",
   "metadata": {},
   "outputs": [
    {
     "data": {
      "text/plain": [
       "3153"
      ]
     },
     "execution_count": 14,
     "metadata": {},
     "output_type": "execute_result"
    }
   ],
   "source": [
    "# Solution:\n",
    "df[df['company_size'] == 'M'].shape[0]"
   ]
  },
  {
   "cell_type": "markdown",
   "id": "693d87a0",
   "metadata": {},
   "source": [
    "## Question: What is the average salary for 'Data Analyst' positions in the US?"
   ]
  },
  {
   "cell_type": "code",
   "execution_count": 15,
   "id": "5908bf39",
   "metadata": {},
   "outputs": [
    {
     "data": {
      "text/plain": [
       "117505.387283237"
      ]
     },
     "execution_count": 15,
     "metadata": {},
     "output_type": "execute_result"
    }
   ],
   "source": [
    "# Solution:\n",
    "df[(df['job_title'] == 'Data Analyst') & (df['employee_residence'] == 'US')]['salary_in_usd'].mean()"
   ]
  },
  {
   "cell_type": "markdown",
   "id": "8ebf7780",
   "metadata": {},
   "source": [
    "## Question: Which experience level has the highest average salary?"
   ]
  },
  {
   "cell_type": "code",
   "execution_count": 16,
   "id": "a7476d06",
   "metadata": {},
   "outputs": [
    {
     "data": {
      "text/plain": [
       "'EX'"
      ]
     },
     "execution_count": 16,
     "metadata": {},
     "output_type": "execute_result"
    }
   ],
   "source": [
    "# Solution:\n",
    "df.groupby('experience_level')['salary_in_usd'].mean().idxmax()"
   ]
  },
  {
   "cell_type": "markdown",
   "id": "0ade9567",
   "metadata": {},
   "source": [
    "## Question: How many employees have 'EN' (Entry-level) experience?"
   ]
  },
  {
   "cell_type": "code",
   "execution_count": 17,
   "id": "6c5f2c1b",
   "metadata": {},
   "outputs": [
    {
     "data": {
      "text/plain": [
       "320"
      ]
     },
     "execution_count": 17,
     "metadata": {},
     "output_type": "execute_result"
    }
   ],
   "source": [
    "# Solution:\n",
    "df[df['experience_level'] == 'EN'].shape[0]"
   ]
  },
  {
   "cell_type": "markdown",
   "id": "011b4935",
   "metadata": {},
   "source": [
    "## Question: What is the total number of employees in the dataset?"
   ]
  },
  {
   "cell_type": "code",
   "execution_count": 18,
   "id": "f15240ae",
   "metadata": {},
   "outputs": [
    {
     "data": {
      "text/plain": [
       "3755"
      ]
     },
     "execution_count": 18,
     "metadata": {},
     "output_type": "execute_result"
    }
   ],
   "source": [
    "# Solution:\n",
    "df.shape[0]"
   ]
  },
  {
   "cell_type": "markdown",
   "id": "19bdd86d",
   "metadata": {},
   "source": [
    "## Question: How many different salary currencies are used in the dataset?"
   ]
  },
  {
   "cell_type": "code",
   "execution_count": 19,
   "id": "7de0cb01",
   "metadata": {},
   "outputs": [
    {
     "data": {
      "text/plain": [
       "20"
      ]
     },
     "execution_count": 19,
     "metadata": {},
     "output_type": "execute_result"
    }
   ],
   "source": [
    "# Solution:\n",
    "df['salary_currency'].nunique()"
   ]
  },
  {
   "cell_type": "markdown",
   "id": "f6425835",
   "metadata": {},
   "source": [
    "## Question: What is the most frequent job title in the dataset?"
   ]
  },
  {
   "cell_type": "code",
   "execution_count": 20,
   "id": "392e2cca",
   "metadata": {},
   "outputs": [
    {
     "data": {
      "text/plain": [
       "'Data Engineer'"
      ]
     },
     "execution_count": 20,
     "metadata": {},
     "output_type": "execute_result"
    }
   ],
   "source": [
    "# Solution:\n",
    "df['job_title'].mode()[0]"
   ]
  },
  {
   "cell_type": "markdown",
   "id": "6122cec5",
   "metadata": {},
   "source": [
    "## Question: Find the average remote ratio for 'Senior-level' positions."
   ]
  },
  {
   "cell_type": "code",
   "execution_count": 21,
   "id": "5d38e9bf",
   "metadata": {},
   "outputs": [
    {
     "data": {
      "text/plain": [
       "45.07154213036566"
      ]
     },
     "execution_count": 21,
     "metadata": {},
     "output_type": "execute_result"
    }
   ],
   "source": [
    "# Solution:\n",
    "df[df['experience_level'] == 'SE']['remote_ratio'].mean()"
   ]
  },
  {
   "cell_type": "markdown",
   "id": "160b7a04",
   "metadata": {},
   "source": [
    "## Question: Which job title has the lowest average salary?"
   ]
  },
  {
   "cell_type": "code",
   "execution_count": 22,
   "id": "c378d4e4",
   "metadata": {},
   "outputs": [
    {
     "data": {
      "text/plain": [
       "'Power BI Developer'"
      ]
     },
     "execution_count": 22,
     "metadata": {},
     "output_type": "execute_result"
    }
   ],
   "source": [
    "# Solution:\n",
    "df.groupby('job_title')['salary_in_usd'].mean().idxmin()"
   ]
  },
  {
   "cell_type": "markdown",
   "id": "54440632",
   "metadata": {},
   "source": [
    "## Question: How many different employment types are represented in the dataset?"
   ]
  },
  {
   "cell_type": "code",
   "execution_count": 23,
   "id": "19eddce8",
   "metadata": {},
   "outputs": [
    {
     "data": {
      "text/plain": [
       "4"
      ]
     },
     "execution_count": 23,
     "metadata": {},
     "output_type": "execute_result"
    }
   ],
   "source": [
    "# Solution:\n",
    "df['employment_type'].nunique()"
   ]
  },
  {
   "cell_type": "markdown",
   "id": "2698f39d",
   "metadata": {},
   "source": [
    "## Question: What is the average salary difference between remote and non-remote jobs?"
   ]
  },
  {
   "cell_type": "code",
   "execution_count": 24,
   "id": "42cf36dc",
   "metadata": {},
   "outputs": [
    {
     "data": {
      "text/plain": [
       "-1936.0599539022369"
      ]
     },
     "execution_count": 24,
     "metadata": {},
     "output_type": "execute_result"
    }
   ],
   "source": [
    "# Solution:\n",
    "df[df['remote_ratio'] == 100]['salary_in_usd'].mean() - df[df['remote_ratio'] != 100]['salary_in_usd'].mean()"
   ]
  },
  {
   "cell_type": "markdown",
   "id": "27dee92c",
   "metadata": {},
   "source": [
    "## Question: How many employees are located in 'CA' (Canada)?"
   ]
  },
  {
   "cell_type": "code",
   "execution_count": 25,
   "id": "1e40d765",
   "metadata": {},
   "outputs": [
    {
     "data": {
      "text/plain": [
       "85"
      ]
     },
     "execution_count": 25,
     "metadata": {},
     "output_type": "execute_result"
    }
   ],
   "source": [
    "# Solution:\n",
    "df[df['employee_residence'] == 'CA'].shape[0]"
   ]
  },
  {
   "cell_type": "markdown",
   "id": "ec42e873",
   "metadata": {},
   "source": [
    "## Question: What is the most common company size?"
   ]
  },
  {
   "cell_type": "code",
   "execution_count": 26,
   "id": "aad58aa7",
   "metadata": {},
   "outputs": [
    {
     "data": {
      "text/plain": [
       "'M'"
      ]
     },
     "execution_count": 26,
     "metadata": {},
     "output_type": "execute_result"
    }
   ],
   "source": [
    "# Solution:\n",
    "df['company_size'].mode()[0]"
   ]
  },
  {
   "cell_type": "markdown",
   "id": "58d7acc9",
   "metadata": {},
   "source": [
    "## Question: How many employees work in large-sized companies?"
   ]
  },
  {
   "cell_type": "code",
   "execution_count": 27,
   "id": "a1c1df40",
   "metadata": {},
   "outputs": [
    {
     "data": {
      "text/plain": [
       "454"
      ]
     },
     "execution_count": 27,
     "metadata": {},
     "output_type": "execute_result"
    }
   ],
   "source": [
    "# Solution:\n",
    "df[df['company_size'] == 'L'].shape[0]"
   ]
  },
  {
   "cell_type": "markdown",
   "id": "a008cb09",
   "metadata": {},
   "source": [
    "## Question: Find the maximum salary in USD for 'Data Engineer' positions."
   ]
  },
  {
   "cell_type": "code",
   "execution_count": 28,
   "id": "58e805f1",
   "metadata": {},
   "outputs": [
    {
     "data": {
      "text/plain": [
       "324000"
      ]
     },
     "execution_count": 28,
     "metadata": {},
     "output_type": "execute_result"
    }
   ],
   "source": [
    "# Solution:\n",
    "df[df['job_title'] == 'Data Engineer']['salary_in_usd'].max()"
   ]
  },
  {
   "cell_type": "markdown",
   "id": "72b01d18",
   "metadata": {},
   "source": [
    "## Question: What is the average salary in EUR?"
   ]
  },
  {
   "cell_type": "code",
   "execution_count": 29,
   "id": "e21cad46",
   "metadata": {},
   "outputs": [
    {
     "data": {
      "text/plain": [
       "57174.063559322036"
      ]
     },
     "execution_count": 29,
     "metadata": {},
     "output_type": "execute_result"
    }
   ],
   "source": [
    "# Solution:\n",
    "df[df['salary_currency'] == 'EUR']['salary'].mean()"
   ]
  },
  {
   "cell_type": "markdown",
   "id": "925b0a94",
   "metadata": {},
   "source": [
    "## Question: Which country has the most remote jobs?"
   ]
  },
  {
   "cell_type": "code",
   "execution_count": 30,
   "id": "00da5fac",
   "metadata": {},
   "outputs": [
    {
     "data": {
      "text/plain": [
       "'US'"
      ]
     },
     "execution_count": 30,
     "metadata": {},
     "output_type": "execute_result"
    }
   ],
   "source": [
    "# Solution:\n",
    "df[df['remote_ratio'] == 100]['employee_residence'].value_counts().idxmax()"
   ]
  },
  {
   "cell_type": "markdown",
   "id": "1edec309",
   "metadata": {},
   "source": [
    "## Question: How many job titles have an average salary above $100,000?"
   ]
  },
  {
   "cell_type": "code",
   "execution_count": 31,
   "id": "fbb7f315",
   "metadata": {},
   "outputs": [
    {
     "data": {
      "text/plain": [
       "55"
      ]
     },
     "execution_count": 31,
     "metadata": {},
     "output_type": "execute_result"
    }
   ],
   "source": [
    "# Solution:\n",
    "(df.groupby('job_title')['salary_in_usd'].mean() > 100000).sum()"
   ]
  },
  {
   "cell_type": "markdown",
   "id": "57c87838",
   "metadata": {},
   "source": [
    "## Question: What is the most common employee residence country?"
   ]
  },
  {
   "cell_type": "code",
   "execution_count": 32,
   "id": "c8cdd54a",
   "metadata": {},
   "outputs": [
    {
     "data": {
      "text/plain": [
       "'US'"
      ]
     },
     "execution_count": 32,
     "metadata": {},
     "output_type": "execute_result"
    }
   ],
   "source": [
    "# Solution:\n",
    "df['employee_residence'].mode()[0]"
   ]
  },
  {
   "cell_type": "markdown",
   "id": "5105adb5",
   "metadata": {},
   "source": [
    "## Question: Find the average salary for each company size category."
   ]
  },
  {
   "cell_type": "code",
   "execution_count": 33,
   "id": "a0ee6169",
   "metadata": {},
   "outputs": [
    {
     "data": {
      "text/plain": [
       "company_size\n",
       "L    118300.982379\n",
       "M    143130.548367\n",
       "S     78226.682432\n",
       "Name: salary_in_usd, dtype: float64"
      ]
     },
     "execution_count": 33,
     "metadata": {},
     "output_type": "execute_result"
    }
   ],
   "source": [
    "# Solution:\n",
    "df.groupby('company_size')['salary_in_usd'].mean()"
   ]
  },
  {
   "cell_type": "markdown",
   "id": "c508a1c7",
   "metadata": {},
   "source": [
    "## Question: Which job title has the most employees?"
   ]
  },
  {
   "cell_type": "code",
   "execution_count": 34,
   "id": "940c2dc4",
   "metadata": {},
   "outputs": [
    {
     "data": {
      "text/plain": [
       "'Data Engineer'"
      ]
     },
     "execution_count": 34,
     "metadata": {},
     "output_type": "execute_result"
    }
   ],
   "source": [
    "# Solution:\n",
    "df['job_title'].value_counts().idxmax()"
   ]
  }
 ],
 "metadata": {
  "kernelspec": {
   "display_name": "torch",
   "language": "python",
   "name": "python3"
  },
  "language_info": {
   "codemirror_mode": {
    "name": "ipython",
    "version": 3
   },
   "file_extension": ".py",
   "mimetype": "text/x-python",
   "name": "python",
   "nbconvert_exporter": "python",
   "pygments_lexer": "ipython3",
   "version": "3.10.13"
  }
 },
 "nbformat": 4,
 "nbformat_minor": 5
}
