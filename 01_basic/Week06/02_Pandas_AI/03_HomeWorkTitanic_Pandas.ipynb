{
 "cells": [
  {
   "cell_type": "markdown",
   "id": "4320dea2",
   "metadata": {},
   "source": [
    "### Load the Titanic dataset into a pandas DataFrame."
   ]
  },
  {
   "cell_type": "markdown",
   "id": "937dbfd4",
   "metadata": {},
   "source": [
    "### A general description of each column typically found in the Titanic dataset based on common knowledge:\n",
    "\n",
    "1. **PassengerId**: A unique identifier for each passenger.\n",
    "2. **Survived**: Binary indicator of survival (0 = No, 1 = Yes).\n",
    "3. **Pclass**: Passenger class (1 = First, 2 = Second, 3 = Third).\n",
    "4. **Name**: Name of the passenger.\n",
    "5. **Sex**: Gender of the passenger (male/female).\n",
    "6. **Age**: Age of the passenger in years.\n",
    "7. **SibSp**: Number of siblings/spouses aboard the Titanic.\n",
    "8. **Parch**: Number of parents/children aboard the Titanic.\n",
    "9. **Ticket**: Ticket number.\n",
    "10. **Fare**: Passenger fare (monetary amount).\n",
    "11. **Cabin**: Cabin number.\n",
    "12. **Embarked**: Port of embarkation (C = Cherbourg, Q = Queenstown, S = Southampton).\n",
    "\n",
    "### Typical Data Characteristics:\n",
    "- **Survived**: A categorical column often used to analyze survival rates based on different features.\n",
    "- **Pclass**: Another categorical feature that shows a correlation with survival rates, often indicating socioeconomic status.\n",
    "- **Age**: Often contains missing values; crucial for analysis related to age demographics.\n",
    "- **Sex**: Commonly analyzed to see survival rate differences between genders.\n",
    "- **Fare**: Can show a wide range, reflecting different ticket prices; often analyzed in relation to passenger class and survival.\n",
    "- **Embarked**: Often used to explore geographic and socio-economic differences among passengers.\n",
    "\n",
    "If you can upload the CSV file or provide a different link, I can provide more specific insights based on the actual data.\n"
   ]
  },
  {
   "cell_type": "code",
   "execution_count": 1,
   "id": "43144756",
   "metadata": {},
   "outputs": [],
   "source": [
    "import pandas as pd\n",
    "url = 'https://raw.githubusercontent.com/rajeevratan84/datascienceforbusiness/master/titanic.csv'\n",
    "df = pd.read_csv(url)"
   ]
  },
  {
   "cell_type": "markdown",
   "id": "f4ba58a2",
   "metadata": {},
   "source": [
    "| #  | Question | Pandas Code |\n",
    "|----|----------|-------------|\n",
    "| 2  | Display the first 5 rows of the dataset. | `df.head()` |\n",
    "| 3  | Check the data types of the columns. | `df.dtypes` |\n",
    "| 4  | Find the number of missing values in each column. | `df.isnull().sum()` |\n",
    "| 5  | Fill missing values in the 'Age' column with the mean age. | `df['age'].fillna(df['age'].mean(), inplace=True)` |\n",
    "| 6  | Drop the 'Cabin' column from the dataset. | `df.drop(columns=['cabin'], inplace=True)` |\n",
    "| 7  | Find the number of passengers who survived. | `survivors = df[df['survived'] == 1]`<br>`survivors.shape[0]` |\n",
    "| 8  | Calculate the percentage of passengers who survived. | `(survivors.shape[0] / df.shape[0]) * 100` |\n",
    "| 9  | Group the data by 'Pclass' and calculate the mean 'Fare' for each class. | `df.groupby('pclass')['fare'].mean()` |\n",
    "| 10 | Find the most common embarkation point. | `df['embarked'].mode()[0]` |\n",
    "| 11 | Count the number of male and female passengers. | `df['sex'].value_counts()` |\n",
    "| 12 | Create a new column 'FamilySize' combining 'SibSp' and 'Parch'. | `df['FamilySize'] = df['sibsp'] + df['parch']` |\n",
    "| 13 | Find the youngest passenger. | `df['age'].min()` |\n",
    "| 14 | Sort the dataset by 'Fare' in descending order. | `df.sort_values('fare', ascending=False)` |\n",
    "| 15 | Find the average age of passengers in each 'Pclass'. | `df.groupby('pclass')['age'].mean()` |\n",
    "| 16 | Create a histogram of the 'Age' column. | `df['age'].hist(bins=20)` |\n",
    "| 17 | Find the total number of unique names in the dataset. | `df['name'].nunique()` |\n",
    "| 18 | Extract the title from each passenger's name. | `df['Title'] = df['name'].apply(lambda x: x.split(',')[1].split('.')[0].strip())` |\n",
    "| 19 | Calculate the survival rate for each 'Title'. | `df.groupby('Title')['survived'].mean()` |\n",
    "| 20 | Replace missing 'Embarked' values with the most common embarkation point. | `most_common_embarked = df['embarked'].mode()[0]`<br>`df['embarked'].fillna(most_common_embarked, inplace=True)` |\n",
    "| 21 | Find the passenger with the highest fare. | `df.loc[df['fare'].idxmax()]` |\n",
    "| 22 | Calculate the number of passengers in each age group (0-10, 11-20, etc.). | `age_groups = pd.cut(df['age'], bins=range(0, 101, 10))`<br>`df.groupby(age_groups)['name'].count()` |\n",
    "| 23 | Check the correlation between 'Age' and 'Fare'. | `df[['age', 'fare']].corr()` |\n",
    "| 24 | Encode the 'Sex' column as numeric (0 for male, 1 for female). | `df['SexEncoded'] = df['sex'].map({'male': 0, 'female': 1})` |\n",
    "| 25 | Create a pivot table showing the average age of passengers by 'Pclass' and 'Sex'. | `df.pivot_table('age', index='pclass', columns='sex', aggfunc='mean')` |\n",
    "| 26 | Filter out passengers under 18 years old. | `minors = df[df['age'] < 18]` |\n",
    "| 27 | Calculate the survival rate by 'FamilySize'. | `df.groupby('FamilySize')['survived'].mean()` |\n",
    "| 28 | Find the most common ticket prefix. | `df['TicketPrefix'] = df['ticket'].apply(lambda x: x.split()[0] if not x.isdigit() else 'None')`<br>`df['TicketPrefix'].value_counts().idxmax()` |\n",
    "| 29 | Normalize the 'Fare' column. | `df['FareNormalized'] = (df['fare'] - df['fare'].min()) / (df['fare'].max() - df['fare'].min())` |\n",
    "| 30 | Create a bar plot of the number of passengers by 'Embarked' and 'Survived' status. | `import matplotlib.pyplot as plt`<br>`pd.crosstab(df['embarked'], df['survived']).plot(kind='bar', stacked=True)`<br>`plt.xlabel('Embarked')`<br>`plt.ylabel('Number of Passengers')`<br>`plt.title('Survival by Embarked Status')`<br>`plt.show()` |\n"
   ]
  },
  {
   "cell_type": "markdown",
   "id": "39cc1fd0",
   "metadata": {},
   "source": [
    "### Display the first 5 rows of the dataset."
   ]
  },
  {
   "cell_type": "code",
   "execution_count": 2,
   "id": "511ee5e6",
   "metadata": {},
   "outputs": [
    {
     "data": {
      "text/html": [
       "<div>\n",
       "<style scoped>\n",
       "    .dataframe tbody tr th:only-of-type {\n",
       "        vertical-align: middle;\n",
       "    }\n",
       "\n",
       "    .dataframe tbody tr th {\n",
       "        vertical-align: top;\n",
       "    }\n",
       "\n",
       "    .dataframe thead th {\n",
       "        text-align: right;\n",
       "    }\n",
       "</style>\n",
       "<table border=\"1\" class=\"dataframe\">\n",
       "  <thead>\n",
       "    <tr style=\"text-align: right;\">\n",
       "      <th></th>\n",
       "      <th>pclass</th>\n",
       "      <th>name</th>\n",
       "      <th>sex</th>\n",
       "      <th>age</th>\n",
       "      <th>sibsp</th>\n",
       "      <th>parch</th>\n",
       "      <th>ticket</th>\n",
       "      <th>fare</th>\n",
       "      <th>cabin</th>\n",
       "      <th>embarked</th>\n",
       "      <th>survived</th>\n",
       "    </tr>\n",
       "  </thead>\n",
       "  <tbody>\n",
       "    <tr>\n",
       "      <th>0</th>\n",
       "      <td>1</td>\n",
       "      <td>Allen, Miss. Elisabeth Walton</td>\n",
       "      <td>female</td>\n",
       "      <td>29.0000</td>\n",
       "      <td>0</td>\n",
       "      <td>0</td>\n",
       "      <td>24160</td>\n",
       "      <td>211.3375</td>\n",
       "      <td>B5</td>\n",
       "      <td>S</td>\n",
       "      <td>1</td>\n",
       "    </tr>\n",
       "    <tr>\n",
       "      <th>1</th>\n",
       "      <td>1</td>\n",
       "      <td>Allison, Master. Hudson Trevor</td>\n",
       "      <td>male</td>\n",
       "      <td>0.9167</td>\n",
       "      <td>1</td>\n",
       "      <td>2</td>\n",
       "      <td>113781</td>\n",
       "      <td>151.5500</td>\n",
       "      <td>C22 C26</td>\n",
       "      <td>S</td>\n",
       "      <td>1</td>\n",
       "    </tr>\n",
       "    <tr>\n",
       "      <th>2</th>\n",
       "      <td>1</td>\n",
       "      <td>Allison, Miss. Helen Loraine</td>\n",
       "      <td>female</td>\n",
       "      <td>2.0000</td>\n",
       "      <td>1</td>\n",
       "      <td>2</td>\n",
       "      <td>113781</td>\n",
       "      <td>151.5500</td>\n",
       "      <td>C22 C26</td>\n",
       "      <td>S</td>\n",
       "      <td>0</td>\n",
       "    </tr>\n",
       "    <tr>\n",
       "      <th>3</th>\n",
       "      <td>1</td>\n",
       "      <td>Allison, Mr. Hudson Joshua Creighton</td>\n",
       "      <td>male</td>\n",
       "      <td>30.0000</td>\n",
       "      <td>1</td>\n",
       "      <td>2</td>\n",
       "      <td>113781</td>\n",
       "      <td>151.5500</td>\n",
       "      <td>C22 C26</td>\n",
       "      <td>S</td>\n",
       "      <td>0</td>\n",
       "    </tr>\n",
       "    <tr>\n",
       "      <th>4</th>\n",
       "      <td>1</td>\n",
       "      <td>Allison, Mrs. Hudson J C (Bessie Waldo Daniels)</td>\n",
       "      <td>female</td>\n",
       "      <td>25.0000</td>\n",
       "      <td>1</td>\n",
       "      <td>2</td>\n",
       "      <td>113781</td>\n",
       "      <td>151.5500</td>\n",
       "      <td>C22 C26</td>\n",
       "      <td>S</td>\n",
       "      <td>0</td>\n",
       "    </tr>\n",
       "  </tbody>\n",
       "</table>\n",
       "</div>"
      ],
      "text/plain": [
       "   pclass                                             name     sex      age  \\\n",
       "0       1                    Allen, Miss. Elisabeth Walton  female  29.0000   \n",
       "1       1                   Allison, Master. Hudson Trevor    male   0.9167   \n",
       "2       1                     Allison, Miss. Helen Loraine  female   2.0000   \n",
       "3       1             Allison, Mr. Hudson Joshua Creighton    male  30.0000   \n",
       "4       1  Allison, Mrs. Hudson J C (Bessie Waldo Daniels)  female  25.0000   \n",
       "\n",
       "   sibsp  parch  ticket      fare    cabin embarked  survived  \n",
       "0      0      0   24160  211.3375       B5        S         1  \n",
       "1      1      2  113781  151.5500  C22 C26        S         1  \n",
       "2      1      2  113781  151.5500  C22 C26        S         0  \n",
       "3      1      2  113781  151.5500  C22 C26        S         0  \n",
       "4      1      2  113781  151.5500  C22 C26        S         0  "
      ]
     },
     "execution_count": 2,
     "metadata": {},
     "output_type": "execute_result"
    }
   ],
   "source": []
  },
  {
   "cell_type": "markdown",
   "id": "55c7f2a6",
   "metadata": {},
   "source": [
    "### Check the data types of the columns."
   ]
  },
  {
   "cell_type": "code",
   "execution_count": 3,
   "id": "44b5e734",
   "metadata": {},
   "outputs": [
    {
     "data": {
      "text/plain": [
       "pclass        int64\n",
       "name         object\n",
       "sex          object\n",
       "age         float64\n",
       "sibsp         int64\n",
       "parch         int64\n",
       "ticket       object\n",
       "fare        float64\n",
       "cabin        object\n",
       "embarked     object\n",
       "survived      int64\n",
       "dtype: object"
      ]
     },
     "execution_count": 3,
     "metadata": {},
     "output_type": "execute_result"
    }
   ],
   "source": []
  },
  {
   "cell_type": "markdown",
   "id": "8b5f6bc7",
   "metadata": {},
   "source": [
    "### Find the number of missing values in each column."
   ]
  },
  {
   "cell_type": "code",
   "execution_count": 4,
   "id": "8b37fd87",
   "metadata": {},
   "outputs": [
    {
     "data": {
      "text/plain": [
       "pclass         0\n",
       "name           0\n",
       "sex            0\n",
       "age          263\n",
       "sibsp          0\n",
       "parch          0\n",
       "ticket         0\n",
       "fare           1\n",
       "cabin       1014\n",
       "embarked       2\n",
       "survived       0\n",
       "dtype: int64"
      ]
     },
     "execution_count": 4,
     "metadata": {},
     "output_type": "execute_result"
    }
   ],
   "source": []
  },
  {
   "cell_type": "markdown",
   "id": "b37c2df5",
   "metadata": {},
   "source": [
    "### Fill missing values in the 'Age' column with the mean age."
   ]
  },
  {
   "cell_type": "code",
   "execution_count": 5,
   "id": "dd98f4af",
   "metadata": {},
   "outputs": [],
   "source": []
  },
  {
   "cell_type": "markdown",
   "id": "d15637ba",
   "metadata": {},
   "source": [
    "### Drop the 'Cabin' column from the dataset."
   ]
  },
  {
   "cell_type": "code",
   "execution_count": 6,
   "id": "e04875ec",
   "metadata": {},
   "outputs": [],
   "source": []
  },
  {
   "cell_type": "markdown",
   "id": "04ae5f4a",
   "metadata": {},
   "source": [
    "### Find the number of passengers who survived."
   ]
  },
  {
   "cell_type": "code",
   "execution_count": 7,
   "id": "4becaf78",
   "metadata": {},
   "outputs": [
    {
     "data": {
      "text/plain": [
       "500"
      ]
     },
     "execution_count": 7,
     "metadata": {},
     "output_type": "execute_result"
    }
   ],
   "source": []
  },
  {
   "cell_type": "markdown",
   "id": "60f0ddb7",
   "metadata": {},
   "source": [
    "### Calculate the percentage of passengers who survived."
   ]
  },
  {
   "cell_type": "code",
   "execution_count": 8,
   "id": "a59a7723",
   "metadata": {},
   "outputs": [
    {
     "data": {
      "text/plain": [
       "38.19709702062643"
      ]
     },
     "execution_count": 8,
     "metadata": {},
     "output_type": "execute_result"
    }
   ],
   "source": []
  },
  {
   "cell_type": "markdown",
   "id": "2fd45f47",
   "metadata": {},
   "source": [
    "### Group the data by 'Pclass' and calculate the mean 'Fare' for each class."
   ]
  },
  {
   "cell_type": "code",
   "execution_count": 9,
   "id": "701f0efc",
   "metadata": {},
   "outputs": [
    {
     "data": {
      "text/plain": [
       "pclass\n",
       "1    87.508992\n",
       "2    21.179196\n",
       "3    13.302889\n",
       "Name: fare, dtype: float64"
      ]
     },
     "execution_count": 9,
     "metadata": {},
     "output_type": "execute_result"
    }
   ],
   "source": []
  },
  {
   "cell_type": "markdown",
   "id": "c238f4fc",
   "metadata": {},
   "source": [
    "### Find the most common embarkation point."
   ]
  },
  {
   "cell_type": "code",
   "execution_count": 10,
   "id": "5eb6f2b0",
   "metadata": {},
   "outputs": [
    {
     "data": {
      "text/plain": [
       "'S'"
      ]
     },
     "execution_count": 10,
     "metadata": {},
     "output_type": "execute_result"
    }
   ],
   "source": []
  },
  {
   "cell_type": "markdown",
   "id": "0e55d402",
   "metadata": {},
   "source": [
    "### Count the number of male and female passengers."
   ]
  },
  {
   "cell_type": "code",
   "execution_count": 11,
   "id": "0e70130b",
   "metadata": {},
   "outputs": [
    {
     "data": {
      "text/plain": [
       "male      843\n",
       "female    466\n",
       "Name: sex, dtype: int64"
      ]
     },
     "execution_count": 11,
     "metadata": {},
     "output_type": "execute_result"
    }
   ],
   "source": []
  },
  {
   "cell_type": "markdown",
   "id": "cb6389ce",
   "metadata": {},
   "source": [
    "### Create a new column 'FamilySize' combining 'SibSp' and 'Parch'."
   ]
  },
  {
   "cell_type": "code",
   "execution_count": 12,
   "id": "f257f416",
   "metadata": {},
   "outputs": [],
   "source": []
  },
  {
   "cell_type": "markdown",
   "id": "7bcd9325",
   "metadata": {},
   "source": [
    "### Find the youngest passenger."
   ]
  },
  {
   "cell_type": "code",
   "execution_count": 13,
   "id": "eb6ffece",
   "metadata": {},
   "outputs": [
    {
     "data": {
      "text/plain": [
       "0.1667"
      ]
     },
     "execution_count": 13,
     "metadata": {},
     "output_type": "execute_result"
    }
   ],
   "source": []
  },
  {
   "cell_type": "markdown",
   "id": "a1cfd7c3",
   "metadata": {},
   "source": [
    "### Sort the dataset by 'Fare' in descending order."
   ]
  },
  {
   "cell_type": "code",
   "execution_count": 14,
   "id": "b37e2c95",
   "metadata": {},
   "outputs": [
    {
     "data": {
      "text/html": [
       "<div>\n",
       "<style scoped>\n",
       "    .dataframe tbody tr th:only-of-type {\n",
       "        vertical-align: middle;\n",
       "    }\n",
       "\n",
       "    .dataframe tbody tr th {\n",
       "        vertical-align: top;\n",
       "    }\n",
       "\n",
       "    .dataframe thead th {\n",
       "        text-align: right;\n",
       "    }\n",
       "</style>\n",
       "<table border=\"1\" class=\"dataframe\">\n",
       "  <thead>\n",
       "    <tr style=\"text-align: right;\">\n",
       "      <th></th>\n",
       "      <th>pclass</th>\n",
       "      <th>name</th>\n",
       "      <th>sex</th>\n",
       "      <th>age</th>\n",
       "      <th>sibsp</th>\n",
       "      <th>parch</th>\n",
       "      <th>ticket</th>\n",
       "      <th>fare</th>\n",
       "      <th>embarked</th>\n",
       "      <th>survived</th>\n",
       "      <th>FamilySize</th>\n",
       "    </tr>\n",
       "  </thead>\n",
       "  <tbody>\n",
       "    <tr>\n",
       "      <th>183</th>\n",
       "      <td>1</td>\n",
       "      <td>Lesurer, Mr. Gustave J</td>\n",
       "      <td>male</td>\n",
       "      <td>35.000000</td>\n",
       "      <td>0</td>\n",
       "      <td>0</td>\n",
       "      <td>PC 17755</td>\n",
       "      <td>512.3292</td>\n",
       "      <td>C</td>\n",
       "      <td>1</td>\n",
       "      <td>0</td>\n",
       "    </tr>\n",
       "    <tr>\n",
       "      <th>302</th>\n",
       "      <td>1</td>\n",
       "      <td>Ward, Miss. Anna</td>\n",
       "      <td>female</td>\n",
       "      <td>35.000000</td>\n",
       "      <td>0</td>\n",
       "      <td>0</td>\n",
       "      <td>PC 17755</td>\n",
       "      <td>512.3292</td>\n",
       "      <td>C</td>\n",
       "      <td>1</td>\n",
       "      <td>0</td>\n",
       "    </tr>\n",
       "    <tr>\n",
       "      <th>49</th>\n",
       "      <td>1</td>\n",
       "      <td>Cardeza, Mr. Thomas Drake Martinez</td>\n",
       "      <td>male</td>\n",
       "      <td>36.000000</td>\n",
       "      <td>0</td>\n",
       "      <td>1</td>\n",
       "      <td>PC 17755</td>\n",
       "      <td>512.3292</td>\n",
       "      <td>C</td>\n",
       "      <td>1</td>\n",
       "      <td>1</td>\n",
       "    </tr>\n",
       "    <tr>\n",
       "      <th>50</th>\n",
       "      <td>1</td>\n",
       "      <td>Cardeza, Mrs. James Warburton Martinez (Charlo...</td>\n",
       "      <td>female</td>\n",
       "      <td>58.000000</td>\n",
       "      <td>0</td>\n",
       "      <td>1</td>\n",
       "      <td>PC 17755</td>\n",
       "      <td>512.3292</td>\n",
       "      <td>C</td>\n",
       "      <td>1</td>\n",
       "      <td>1</td>\n",
       "    </tr>\n",
       "    <tr>\n",
       "      <th>113</th>\n",
       "      <td>1</td>\n",
       "      <td>Fortune, Miss. Mabel Helen</td>\n",
       "      <td>female</td>\n",
       "      <td>23.000000</td>\n",
       "      <td>3</td>\n",
       "      <td>2</td>\n",
       "      <td>19950</td>\n",
       "      <td>263.0000</td>\n",
       "      <td>S</td>\n",
       "      <td>1</td>\n",
       "      <td>5</td>\n",
       "    </tr>\n",
       "    <tr>\n",
       "      <th>...</th>\n",
       "      <td>...</td>\n",
       "      <td>...</td>\n",
       "      <td>...</td>\n",
       "      <td>...</td>\n",
       "      <td>...</td>\n",
       "      <td>...</td>\n",
       "      <td>...</td>\n",
       "      <td>...</td>\n",
       "      <td>...</td>\n",
       "      <td>...</td>\n",
       "      <td>...</td>\n",
       "    </tr>\n",
       "    <tr>\n",
       "      <th>363</th>\n",
       "      <td>2</td>\n",
       "      <td>Campbell, Mr. William</td>\n",
       "      <td>male</td>\n",
       "      <td>29.881135</td>\n",
       "      <td>0</td>\n",
       "      <td>0</td>\n",
       "      <td>239853</td>\n",
       "      <td>0.0000</td>\n",
       "      <td>S</td>\n",
       "      <td>0</td>\n",
       "      <td>0</td>\n",
       "    </tr>\n",
       "    <tr>\n",
       "      <th>384</th>\n",
       "      <td>2</td>\n",
       "      <td>Cunningham, Mr. Alfred Fleming</td>\n",
       "      <td>male</td>\n",
       "      <td>29.881135</td>\n",
       "      <td>0</td>\n",
       "      <td>0</td>\n",
       "      <td>239853</td>\n",
       "      <td>0.0000</td>\n",
       "      <td>S</td>\n",
       "      <td>0</td>\n",
       "      <td>0</td>\n",
       "    </tr>\n",
       "    <tr>\n",
       "      <th>581</th>\n",
       "      <td>2</td>\n",
       "      <td>Watson, Mr. Ennis Hastings</td>\n",
       "      <td>male</td>\n",
       "      <td>29.881135</td>\n",
       "      <td>0</td>\n",
       "      <td>0</td>\n",
       "      <td>239856</td>\n",
       "      <td>0.0000</td>\n",
       "      <td>S</td>\n",
       "      <td>0</td>\n",
       "      <td>0</td>\n",
       "    </tr>\n",
       "    <tr>\n",
       "      <th>410</th>\n",
       "      <td>2</td>\n",
       "      <td>Frost, Mr. Anthony Wood \"Archie\"</td>\n",
       "      <td>male</td>\n",
       "      <td>29.881135</td>\n",
       "      <td>0</td>\n",
       "      <td>0</td>\n",
       "      <td>239854</td>\n",
       "      <td>0.0000</td>\n",
       "      <td>S</td>\n",
       "      <td>0</td>\n",
       "      <td>0</td>\n",
       "    </tr>\n",
       "    <tr>\n",
       "      <th>1225</th>\n",
       "      <td>3</td>\n",
       "      <td>Storey, Mr. Thomas</td>\n",
       "      <td>male</td>\n",
       "      <td>60.500000</td>\n",
       "      <td>0</td>\n",
       "      <td>0</td>\n",
       "      <td>3701</td>\n",
       "      <td>NaN</td>\n",
       "      <td>S</td>\n",
       "      <td>0</td>\n",
       "      <td>0</td>\n",
       "    </tr>\n",
       "  </tbody>\n",
       "</table>\n",
       "<p>1309 rows × 11 columns</p>\n",
       "</div>"
      ],
      "text/plain": [
       "      pclass                                               name     sex  \\\n",
       "183        1                             Lesurer, Mr. Gustave J    male   \n",
       "302        1                                   Ward, Miss. Anna  female   \n",
       "49         1                 Cardeza, Mr. Thomas Drake Martinez    male   \n",
       "50         1  Cardeza, Mrs. James Warburton Martinez (Charlo...  female   \n",
       "113        1                         Fortune, Miss. Mabel Helen  female   \n",
       "...      ...                                                ...     ...   \n",
       "363        2                              Campbell, Mr. William    male   \n",
       "384        2                     Cunningham, Mr. Alfred Fleming    male   \n",
       "581        2                         Watson, Mr. Ennis Hastings    male   \n",
       "410        2                   Frost, Mr. Anthony Wood \"Archie\"    male   \n",
       "1225       3                                 Storey, Mr. Thomas    male   \n",
       "\n",
       "            age  sibsp  parch    ticket      fare embarked  survived  \\\n",
       "183   35.000000      0      0  PC 17755  512.3292        C         1   \n",
       "302   35.000000      0      0  PC 17755  512.3292        C         1   \n",
       "49    36.000000      0      1  PC 17755  512.3292        C         1   \n",
       "50    58.000000      0      1  PC 17755  512.3292        C         1   \n",
       "113   23.000000      3      2     19950  263.0000        S         1   \n",
       "...         ...    ...    ...       ...       ...      ...       ...   \n",
       "363   29.881135      0      0    239853    0.0000        S         0   \n",
       "384   29.881135      0      0    239853    0.0000        S         0   \n",
       "581   29.881135      0      0    239856    0.0000        S         0   \n",
       "410   29.881135      0      0    239854    0.0000        S         0   \n",
       "1225  60.500000      0      0      3701       NaN        S         0   \n",
       "\n",
       "      FamilySize  \n",
       "183            0  \n",
       "302            0  \n",
       "49             1  \n",
       "50             1  \n",
       "113            5  \n",
       "...          ...  \n",
       "363            0  \n",
       "384            0  \n",
       "581            0  \n",
       "410            0  \n",
       "1225           0  \n",
       "\n",
       "[1309 rows x 11 columns]"
      ]
     },
     "execution_count": 14,
     "metadata": {},
     "output_type": "execute_result"
    }
   ],
   "source": []
  },
  {
   "cell_type": "markdown",
   "id": "87743626",
   "metadata": {},
   "source": [
    "### Find the average age of passengers in each 'Pclass'."
   ]
  },
  {
   "cell_type": "code",
   "execution_count": 15,
   "id": "35f43b27",
   "metadata": {},
   "outputs": [
    {
     "data": {
      "text/plain": [
       "pclass\n",
       "1    38.039569\n",
       "2    29.528333\n",
       "3    26.302223\n",
       "Name: age, dtype: float64"
      ]
     },
     "execution_count": 15,
     "metadata": {},
     "output_type": "execute_result"
    }
   ],
   "source": []
  },
  {
   "cell_type": "markdown",
   "id": "3dd56cb4",
   "metadata": {},
   "source": [
    "### Create a histogram of the 'Age' column."
   ]
  },
  {
   "cell_type": "code",
   "execution_count": 16,
   "id": "bafb23b7",
   "metadata": {},
   "outputs": [
    {
     "data": {
      "text/plain": [
       "<Axes: >"
      ]
     },
     "execution_count": 16,
     "metadata": {},
     "output_type": "execute_result"
    },
    {
     "data": {
      "image/png": "[encoded data removed]",
      "text/plain": [
       "<Figure size 640x480 with 1 Axes>"
      ]
     },
     "metadata": {},
     "output_type": "display_data"
    }
   ],
   "source": []
  },
  {
   "cell_type": "markdown",
   "id": "ce5064be",
   "metadata": {},
   "source": [
    "### Find the total number of unique names in the dataset."
   ]
  },
  {
   "cell_type": "code",
   "execution_count": 17,
   "id": "abdfdb8e",
   "metadata": {},
   "outputs": [
    {
     "data": {
      "text/plain": [
       "1307"
      ]
     },
     "execution_count": 17,
     "metadata": {},
     "output_type": "execute_result"
    }
   ],
   "source": []
  },
  {
   "cell_type": "markdown",
   "id": "7d1ddab3",
   "metadata": {},
   "source": [
    "### Extract the title from each passenger's name."
   ]
  },
  {
   "cell_type": "code",
   "execution_count": 18,
   "id": "611228ff",
   "metadata": {},
   "outputs": [],
   "source": []
  },
  {
   "cell_type": "markdown",
   "id": "a3316267",
   "metadata": {},
   "source": [
    "### Calculate the survival rate for each 'Title'."
   ]
  },
  {
   "cell_type": "code",
   "execution_count": 19,
   "id": "4ee61940",
   "metadata": {},
   "outputs": [
    {
     "data": {
      "text/plain": [
       "Title\n",
       "Capt            0.000000\n",
       "Col             0.500000\n",
       "Don             0.000000\n",
       "Dona            1.000000\n",
       "Dr              0.500000\n",
       "Jonkheer        0.000000\n",
       "Lady            1.000000\n",
       "Major           0.500000\n",
       "Master          0.508197\n",
       "Miss            0.676923\n",
       "Mlle            1.000000\n",
       "Mme             1.000000\n",
       "Mr              0.162483\n",
       "Mrs             0.786802\n",
       "Ms              0.500000\n",
       "Rev             0.000000\n",
       "Sir             1.000000\n",
       "the Countess    1.000000\n",
       "Name: survived, dtype: float64"
      ]
     },
     "execution_count": 19,
     "metadata": {},
     "output_type": "execute_result"
    }
   ],
   "source": []
  },
  {
   "cell_type": "markdown",
   "id": "000fa9f2",
   "metadata": {},
   "source": [
    "### Replace missing 'Embarked' values with the most common embarkation point."
   ]
  },
  {
   "cell_type": "code",
   "execution_count": 20,
   "id": "fc62b1e6",
   "metadata": {},
   "outputs": [],
   "source": []
  },
  {
   "cell_type": "markdown",
   "id": "cc45073a",
   "metadata": {},
   "source": [
    "### Find the passenger with the highest fare."
   ]
  },
  {
   "cell_type": "code",
   "execution_count": 21,
   "id": "6e206f2e",
   "metadata": {},
   "outputs": [
    {
     "data": {
      "text/plain": [
       "pclass                                         1\n",
       "name          Cardeza, Mr. Thomas Drake Martinez\n",
       "sex                                         male\n",
       "age                                         36.0\n",
       "sibsp                                          0\n",
       "parch                                          1\n",
       "ticket                                  PC 17755\n",
       "fare                                    512.3292\n",
       "embarked                                       C\n",
       "survived                                       1\n",
       "FamilySize                                     1\n",
       "Title                                         Mr\n",
       "Name: 49, dtype: object"
      ]
     },
     "execution_count": 21,
     "metadata": {},
     "output_type": "execute_result"
    }
   ],
   "source": []
  },
  {
   "cell_type": "markdown",
   "id": "27c1f659",
   "metadata": {},
   "source": [
    "### Calculate the number of passengers in each age group (0-10, 11-20, etc.)."
   ]
  },
  {
   "cell_type": "code",
   "execution_count": 22,
   "id": "6010acd0",
   "metadata": {},
   "outputs": [
    {
     "data": {
      "text/plain": [
       "age\n",
       "(0, 10]       86\n",
       "(10, 20]     162\n",
       "(20, 30]     624\n",
       "(30, 40]     210\n",
       "(40, 50]     132\n",
       "(50, 60]      62\n",
       "(60, 70]      27\n",
       "(70, 80]       6\n",
       "(80, 90]       0\n",
       "(90, 100]      0\n",
       "Name: name, dtype: int64"
      ]
     },
     "execution_count": 22,
     "metadata": {},
     "output_type": "execute_result"
    }
   ],
   "source": []
  },
  {
   "cell_type": "markdown",
   "id": "7d8a8053",
   "metadata": {},
   "source": [
    "### Check the correlation between 'Age' and 'Fare'."
   ]
  },
  {
   "cell_type": "code",
   "execution_count": 23,
   "id": "83235f1d",
   "metadata": {},
   "outputs": [
    {
     "data": {
      "text/html": [
       "<div>\n",
       "<style scoped>\n",
       "    .dataframe tbody tr th:only-of-type {\n",
       "        vertical-align: middle;\n",
       "    }\n",
       "\n",
       "    .dataframe tbody tr th {\n",
       "        vertical-align: top;\n",
       "    }\n",
       "\n",
       "    .dataframe thead th {\n",
       "        text-align: right;\n",
       "    }\n",
       "</style>\n",
       "<table border=\"1\" class=\"dataframe\">\n",
       "  <thead>\n",
       "    <tr style=\"text-align: right;\">\n",
       "      <th></th>\n",
       "      <th>age</th>\n",
       "      <th>fare</th>\n",
       "    </tr>\n",
       "  </thead>\n",
       "  <tbody>\n",
       "    <tr>\n",
       "      <th>age</th>\n",
       "      <td>1.000000</td>\n",
       "      <td>0.171892</td>\n",
       "    </tr>\n",
       "    <tr>\n",
       "      <th>fare</th>\n",
       "      <td>0.171892</td>\n",
       "      <td>1.000000</td>\n",
       "    </tr>\n",
       "  </tbody>\n",
       "</table>\n",
       "</div>"
      ],
      "text/plain": [
       "           age      fare\n",
       "age   1.000000  0.171892\n",
       "fare  0.171892  1.000000"
      ]
     },
     "execution_count": 23,
     "metadata": {},
     "output_type": "execute_result"
    }
   ],
   "source": []
  },
  {
   "cell_type": "markdown",
   "id": "876aa97f",
   "metadata": {},
   "source": [
    "### Encode the 'Sex' column as numeric (0 for male, 1 for female)."
   ]
  },
  {
   "cell_type": "code",
   "execution_count": 24,
   "id": "55718e58",
   "metadata": {},
   "outputs": [],
   "source": []
  },
  {
   "cell_type": "markdown",
   "id": "9671e3f1",
   "metadata": {},
   "source": [
    "### Create a pivot table showing the average age of passengers by 'Pclass' and 'Sex'."
   ]
  },
  {
   "cell_type": "code",
   "execution_count": 25,
   "id": "ba107445",
   "metadata": {},
   "outputs": [
    {
     "data": {
      "text/html": [
       "<div>\n",
       "<style scoped>\n",
       "    .dataframe tbody tr th:only-of-type {\n",
       "        vertical-align: middle;\n",
       "    }\n",
       "\n",
       "    .dataframe tbody tr th {\n",
       "        vertical-align: top;\n",
       "    }\n",
       "\n",
       "    .dataframe thead th {\n",
       "        text-align: right;\n",
       "    }\n",
       "</style>\n",
       "<table border=\"1\" class=\"dataframe\">\n",
       "  <thead>\n",
       "    <tr style=\"text-align: right;\">\n",
       "      <th>sex</th>\n",
       "      <th>female</th>\n",
       "      <th>male</th>\n",
       "    </tr>\n",
       "    <tr>\n",
       "      <th>pclass</th>\n",
       "      <th></th>\n",
       "      <th></th>\n",
       "    </tr>\n",
       "  </thead>\n",
       "  <tbody>\n",
       "    <tr>\n",
       "      <th>1</th>\n",
       "      <td>36.490920</td>\n",
       "      <td>39.285410</td>\n",
       "    </tr>\n",
       "    <tr>\n",
       "      <th>2</th>\n",
       "      <td>27.566605</td>\n",
       "      <td>30.744375</td>\n",
       "    </tr>\n",
       "    <tr>\n",
       "      <th>3</th>\n",
       "      <td>24.465552</td>\n",
       "      <td>27.106930</td>\n",
       "    </tr>\n",
       "  </tbody>\n",
       "</table>\n",
       "</div>"
      ],
      "text/plain": [
       "sex        female       male\n",
       "pclass                      \n",
       "1       36.490920  39.285410\n",
       "2       27.566605  30.744375\n",
       "3       24.465552  27.106930"
      ]
     },
     "execution_count": 25,
     "metadata": {},
     "output_type": "execute_result"
    }
   ],
   "source": []
  },
  {
   "cell_type": "markdown",
   "id": "53115ff7",
   "metadata": {},
   "source": [
    "### Filter out passengers under 18 years old."
   ]
  },
  {
   "cell_type": "code",
   "execution_count": 26,
   "id": "6630d304",
   "metadata": {},
   "outputs": [],
   "source": []
  },
  {
   "cell_type": "markdown",
   "id": "1907d899",
   "metadata": {},
   "source": [
    "### Calculate the survival rate by 'FamilySize'."
   ]
  },
  {
   "cell_type": "code",
   "execution_count": 27,
   "id": "3d123bc7",
   "metadata": {},
   "outputs": [
    {
     "data": {
      "text/plain": [
       "FamilySize\n",
       "0     0.302532\n",
       "1     0.536170\n",
       "2     0.566038\n",
       "3     0.697674\n",
       "4     0.272727\n",
       "5     0.200000\n",
       "6     0.250000\n",
       "7     0.000000\n",
       "10    0.000000\n",
       "Name: survived, dtype: float64"
      ]
     },
     "execution_count": 27,
     "metadata": {},
     "output_type": "execute_result"
    }
   ],
   "source": []
  },
  {
   "cell_type": "markdown",
   "id": "a33bb579",
   "metadata": {},
   "source": [
    "### Find the most common ticket prefix."
   ]
  },
  {
   "cell_type": "code",
   "execution_count": 28,
   "id": "d91508cf",
   "metadata": {},
   "outputs": [
    {
     "data": {
      "text/plain": [
       "'None'"
      ]
     },
     "execution_count": 28,
     "metadata": {},
     "output_type": "execute_result"
    }
   ],
   "source": []
  },
  {
   "cell_type": "markdown",
   "id": "cbd4e709",
   "metadata": {},
   "source": [
    "### Normalize the 'Fare' column."
   ]
  },
  {
   "cell_type": "code",
   "execution_count": 29,
   "id": "d09cccaa",
   "metadata": {},
   "outputs": [],
   "source": []
  },
  {
   "cell_type": "markdown",
   "id": "39fb1005",
   "metadata": {},
   "source": [
    "### Create a bar plot of the number of passengers by 'Embarked' and 'Survived' status."
   ]
  },
  {
   "cell_type": "code",
   "execution_count": 30,
   "id": "fa117de4",
   "metadata": {},
   "outputs": [
    {
     "data": {
      "image/png": "[encoded data removed]",
      "text/plain": [
       "<Figure size 640x480 with 1 Axes>"
      ]
     },
     "metadata": {},
     "output_type": "display_data"
    }
   ],
   "source": []
  }
 ],
 "metadata": {
  "kernelspec": {
   "display_name": "torch",
   "language": "python",
   "name": "python3"
  },
  "language_info": {
   "codemirror_mode": {
    "name": "ipython",
    "version": 3
   },
   "file_extension": ".py",
   "mimetype": "text/x-python",
   "name": "python",
   "nbconvert_exporter": "python",
   "pygments_lexer": "ipython3",
   "version": "3.10.13"
  }
 },
 "nbformat": 4,
 "nbformat_minor": 5
}
