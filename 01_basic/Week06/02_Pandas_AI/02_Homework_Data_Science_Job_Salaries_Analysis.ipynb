{
 "cells": [
  {
   "cell_type": "markdown",
   "id": "756ff398",
   "metadata": {},
   "source": [
    "\n",
    "# Data Science Job Salaries Analysis\n",
    "\n",
    "\n",
    "\n",
    "### Columns Description\n",
    "\n",
    "- **work_year**: The year in which the data was recorded.\n",
    "- **experience_level**: The level of experience required for the job. Categories include:\n",
    "  - 'EN' - Entry-level\n",
    "  - 'MI' - Mid-level\n",
    "  - 'SE' - Senior-level\n",
    "  - 'EX' - Executive-level\n",
    "- **employment_type**: The nature of employment. Types include:\n",
    "  - 'FT' - Full-time\n",
    "  - 'PT' - Part-time\n",
    "  - 'CT' - Contract\n",
    "  - 'FL' - Freelance\n",
    "- **job_title**: The title of the job, e.g., 'Data Scientist', 'ML Engineer'.\n",
    "- **salary**: The salary amount in the specified currency.\n",
    "- **salary_currency**: The currency in which the salary is paid, e.g., USD, EUR.\n",
    "- **salary_in_usd**: The salary converted into USD for standardization purposes.\n",
    "- **employee_residence**: The country or region where the employee resides.\n",
    "- **remote_ratio**: Indicates the extent to which a job is remote, with values like 0 (non-remote), 50 (partially remote), and 100 (fully remote).\n",
    "- **company_location**: The location of the company offering the job.\n",
    "- **company_size**: The size of the company, categorized as:\n",
    "  - 'S' - Small (1-50 employees)\n",
    "  - 'M' - Medium (51-250 employees)\n",
    "  - 'L' - Large (251+ employees)\n"
   ]
  },
  {
   "cell_type": "code",
   "execution_count": 1,
   "id": "e09ba931",
   "metadata": {},
   "outputs": [
    {
     "name": "stdout",
     "output_type": "stream",
     "text": [
      "Notebook cleaned.\n"
     ]
    }
   ],
   "source": [
    "import IPython\n",
    "import sys\n",
    "\n",
    "def clean_notebook():\n",
    "    IPython.display.clear_output(wait=True)\n",
    "    print(\"Notebook cleaned.\")\n",
    "!pip install --upgrade pandasai\n",
    "!pip install openai\n",
    "!pip install gradio\n",
    "!pip install python-dotenv\n",
    "\n",
    "# Clean up the notebook\n",
    "clean_notebook()"
   ]
  },
  {
   "cell_type": "code",
   "execution_count": 2,
   "id": "7e5ed039",
   "metadata": {},
   "outputs": [
    {
     "data": {
      "text/plain": [
       "True"
      ]
     },
     "execution_count": 2,
     "metadata": {},
     "output_type": "execute_result"
    }
   ],
   "source": [
    "import os\n",
    "from openai import OpenAI\n",
    "from dotenv import load_dotenv\n",
    "\n",
    "# Load environment variables\n",
    "load_dotenv()"
   ]
  },
  {
   "cell_type": "code",
   "execution_count": 3,
   "id": "e7b4c01a",
   "metadata": {},
   "outputs": [],
   "source": [
    "import os\n",
    "import pandas as pd\n",
    "from langchain_openai import OpenAI\n",
    "from pandasai import SmartDataframe\n",
    "\n",
    "llm =  OpenAI(api_key=os.getenv(\"OPENAI_API_KEY\"))\n"
   ]
  },
  {
   "cell_type": "code",
   "execution_count": 4,
   "id": "bec0a287",
   "metadata": {},
   "outputs": [
    {
     "data": {
      "text/html": [
       "<div>\n",
       "<style scoped>\n",
       "    .dataframe tbody tr th:only-of-type {\n",
       "        vertical-align: middle;\n",
       "    }\n",
       "\n",
       "    .dataframe tbody tr th {\n",
       "        vertical-align: top;\n",
       "    }\n",
       "\n",
       "    .dataframe thead th {\n",
       "        text-align: right;\n",
       "    }\n",
       "</style>\n",
       "<table border=\"1\" class=\"dataframe\">\n",
       "  <thead>\n",
       "    <tr style=\"text-align: right;\">\n",
       "      <th></th>\n",
       "      <th>work_year</th>\n",
       "      <th>experience_level</th>\n",
       "      <th>employment_type</th>\n",
       "      <th>job_title</th>\n",
       "      <th>salary</th>\n",
       "      <th>salary_currency</th>\n",
       "      <th>salary_in_usd</th>\n",
       "      <th>employee_residence</th>\n",
       "      <th>remote_ratio</th>\n",
       "      <th>company_location</th>\n",
       "      <th>company_size</th>\n",
       "    </tr>\n",
       "  </thead>\n",
       "  <tbody>\n",
       "    <tr>\n",
       "      <th>0</th>\n",
       "      <td>2023</td>\n",
       "      <td>SE</td>\n",
       "      <td>FT</td>\n",
       "      <td>Principal Data Scientist</td>\n",
       "      <td>80000</td>\n",
       "      <td>EUR</td>\n",
       "      <td>85847</td>\n",
       "      <td>ES</td>\n",
       "      <td>100</td>\n",
       "      <td>ES</td>\n",
       "      <td>L</td>\n",
       "    </tr>\n",
       "    <tr>\n",
       "      <th>1</th>\n",
       "      <td>2023</td>\n",
       "      <td>MI</td>\n",
       "      <td>CT</td>\n",
       "      <td>ML Engineer</td>\n",
       "      <td>30000</td>\n",
       "      <td>USD</td>\n",
       "      <td>30000</td>\n",
       "      <td>US</td>\n",
       "      <td>100</td>\n",
       "      <td>US</td>\n",
       "      <td>S</td>\n",
       "    </tr>\n",
       "    <tr>\n",
       "      <th>2</th>\n",
       "      <td>2023</td>\n",
       "      <td>MI</td>\n",
       "      <td>CT</td>\n",
       "      <td>ML Engineer</td>\n",
       "      <td>25500</td>\n",
       "      <td>USD</td>\n",
       "      <td>25500</td>\n",
       "      <td>US</td>\n",
       "      <td>100</td>\n",
       "      <td>US</td>\n",
       "      <td>S</td>\n",
       "    </tr>\n",
       "    <tr>\n",
       "      <th>3</th>\n",
       "      <td>2023</td>\n",
       "      <td>SE</td>\n",
       "      <td>FT</td>\n",
       "      <td>Data Scientist</td>\n",
       "      <td>175000</td>\n",
       "      <td>USD</td>\n",
       "      <td>175000</td>\n",
       "      <td>CA</td>\n",
       "      <td>100</td>\n",
       "      <td>CA</td>\n",
       "      <td>M</td>\n",
       "    </tr>\n",
       "    <tr>\n",
       "      <th>4</th>\n",
       "      <td>2023</td>\n",
       "      <td>SE</td>\n",
       "      <td>FT</td>\n",
       "      <td>Data Scientist</td>\n",
       "      <td>120000</td>\n",
       "      <td>USD</td>\n",
       "      <td>120000</td>\n",
       "      <td>CA</td>\n",
       "      <td>100</td>\n",
       "      <td>CA</td>\n",
       "      <td>M</td>\n",
       "    </tr>\n",
       "    <tr>\n",
       "      <th>...</th>\n",
       "      <td>...</td>\n",
       "      <td>...</td>\n",
       "      <td>...</td>\n",
       "      <td>...</td>\n",
       "      <td>...</td>\n",
       "      <td>...</td>\n",
       "      <td>...</td>\n",
       "      <td>...</td>\n",
       "      <td>...</td>\n",
       "      <td>...</td>\n",
       "      <td>...</td>\n",
       "    </tr>\n",
       "    <tr>\n",
       "      <th>3750</th>\n",
       "      <td>2020</td>\n",
       "      <td>SE</td>\n",
       "      <td>FT</td>\n",
       "      <td>Data Scientist</td>\n",
       "      <td>412000</td>\n",
       "      <td>USD</td>\n",
       "      <td>412000</td>\n",
       "      <td>US</td>\n",
       "      <td>100</td>\n",
       "      <td>US</td>\n",
       "      <td>L</td>\n",
       "    </tr>\n",
       "    <tr>\n",
       "      <th>3751</th>\n",
       "      <td>2021</td>\n",
       "      <td>MI</td>\n",
       "      <td>FT</td>\n",
       "      <td>Principal Data Scientist</td>\n",
       "      <td>151000</td>\n",
       "      <td>USD</td>\n",
       "      <td>151000</td>\n",
       "      <td>US</td>\n",
       "      <td>100</td>\n",
       "      <td>US</td>\n",
       "      <td>L</td>\n",
       "    </tr>\n",
       "    <tr>\n",
       "      <th>3752</th>\n",
       "      <td>2020</td>\n",
       "      <td>EN</td>\n",
       "      <td>FT</td>\n",
       "      <td>Data Scientist</td>\n",
       "      <td>105000</td>\n",
       "      <td>USD</td>\n",
       "      <td>105000</td>\n",
       "      <td>US</td>\n",
       "      <td>100</td>\n",
       "      <td>US</td>\n",
       "      <td>S</td>\n",
       "    </tr>\n",
       "    <tr>\n",
       "      <th>3753</th>\n",
       "      <td>2020</td>\n",
       "      <td>EN</td>\n",
       "      <td>CT</td>\n",
       "      <td>Business Data Analyst</td>\n",
       "      <td>100000</td>\n",
       "      <td>USD</td>\n",
       "      <td>100000</td>\n",
       "      <td>US</td>\n",
       "      <td>100</td>\n",
       "      <td>US</td>\n",
       "      <td>L</td>\n",
       "    </tr>\n",
       "    <tr>\n",
       "      <th>3754</th>\n",
       "      <td>2021</td>\n",
       "      <td>SE</td>\n",
       "      <td>FT</td>\n",
       "      <td>Data Science Manager</td>\n",
       "      <td>7000000</td>\n",
       "      <td>INR</td>\n",
       "      <td>94665</td>\n",
       "      <td>IN</td>\n",
       "      <td>50</td>\n",
       "      <td>IN</td>\n",
       "      <td>L</td>\n",
       "    </tr>\n",
       "  </tbody>\n",
       "</table>\n",
       "<p>3755 rows × 11 columns</p>\n",
       "</div>"
      ],
      "text/plain": [
       "      work_year experience_level employment_type                 job_title  \\\n",
       "0          2023               SE              FT  Principal Data Scientist   \n",
       "1          2023               MI              CT               ML Engineer   \n",
       "2          2023               MI              CT               ML Engineer   \n",
       "3          2023               SE              FT            Data Scientist   \n",
       "4          2023               SE              FT            Data Scientist   \n",
       "...         ...              ...             ...                       ...   \n",
       "3750       2020               SE              FT            Data Scientist   \n",
       "3751       2021               MI              FT  Principal Data Scientist   \n",
       "3752       2020               EN              FT            Data Scientist   \n",
       "3753       2020               EN              CT     Business Data Analyst   \n",
       "3754       2021               SE              FT      Data Science Manager   \n",
       "\n",
       "       salary salary_currency  salary_in_usd employee_residence  remote_ratio  \\\n",
       "0       80000             EUR          85847                 ES           100   \n",
       "1       30000             USD          30000                 US           100   \n",
       "2       25500             USD          25500                 US           100   \n",
       "3      175000             USD         175000                 CA           100   \n",
       "4      120000             USD         120000                 CA           100   \n",
       "...       ...             ...            ...                ...           ...   \n",
       "3750   412000             USD         412000                 US           100   \n",
       "3751   151000             USD         151000                 US           100   \n",
       "3752   105000             USD         105000                 US           100   \n",
       "3753   100000             USD         100000                 US           100   \n",
       "3754  7000000             INR          94665                 IN            50   \n",
       "\n",
       "     company_location company_size  \n",
       "0                  ES            L  \n",
       "1                  US            S  \n",
       "2                  US            S  \n",
       "3                  CA            M  \n",
       "4                  CA            M  \n",
       "...               ...          ...  \n",
       "3750               US            L  \n",
       "3751               US            L  \n",
       "3752               US            S  \n",
       "3753               US            L  \n",
       "3754               IN            L  \n",
       "\n",
       "[3755 rows x 11 columns]"
      ]
     },
     "execution_count": 4,
     "metadata": {},
     "output_type": "execute_result"
    }
   ],
   "source": [
    "df = pd.read_csv(\"./ds_salaries.csv\")\n",
    "df"
   ]
  },
  {
   "cell_type": "code",
   "execution_count": 8,
   "id": "746eb386",
   "metadata": {},
   "outputs": [
    {
     "data": {
      "text/plain": [
       "<pandasai.smart_dataframe.SmartDataframe at 0x15f00b0d0>"
      ]
     },
     "execution_count": 8,
     "metadata": {},
     "output_type": "execute_result"
    }
   ],
   "source": [
    "dfs = SmartDataframe(df, config={\"llm\": llm})\n",
    "dfs"
   ]
  },
  {
   "cell_type": "markdown",
   "id": "ce4b649c",
   "metadata": {},
   "source": [
    "## Question: What is the average salary in USD for all job titles?\n",
    "\n",
    "Solution:\n",
    "df['salary_in_usd'].mean()"
   ]
  },
  {
   "cell_type": "code",
   "execution_count": 6,
   "id": "5d19a8e3",
   "metadata": {},
   "outputs": [
    {
     "data": {
      "text/plain": [
       "137570.38988015978"
      ]
     },
     "execution_count": 6,
     "metadata": {},
     "output_type": "execute_result"
    }
   ],
   "source": []
  },
  {
   "cell_type": "markdown",
   "id": "5153bd1c",
   "metadata": {},
   "source": [
    "## Question: Which job title has the highest average salary?\n",
    "\n",
    "Solution: df.groupby('job_title')['salary_in_usd'].mean().idxmax()"
   ]
  },
  {
   "cell_type": "code",
   "execution_count": null,
   "id": "8115b6a6",
   "metadata": {},
   "outputs": [],
   "source": [
    "\n"
   ]
  },
  {
   "cell_type": "markdown",
   "id": "ea563955",
   "metadata": {},
   "source": [
    "## Question: What is the median salary in USD for data scientists?\n",
    "\n",
    "Solution: df[df['job_title'] == 'Data Scientist']['salary_in_usd'].median()"
   ]
  },
  {
   "cell_type": "code",
   "execution_count": null,
   "id": "a70dd3c5",
   "metadata": {},
   "outputs": [],
   "source": []
  },
  {
   "cell_type": "markdown",
   "id": "a4254e06",
   "metadata": {},
   "source": [
    "## Question: How many jobs are fully remote (remote_ratio = 100)?\n",
    "Solution:df[df['remote_ratio'] == 100].shape[0]"
   ]
  },
  {
   "cell_type": "code",
   "execution_count": null,
   "id": "081a0be7",
   "metadata": {},
   "outputs": [],
   "source": []
  },
  {
   "cell_type": "markdown",
   "id": "42a410a7",
   "metadata": {},
   "source": [
    "## Question: Which company location has the highest number of employees?"
   ]
  },
  {
   "cell_type": "markdown",
   "id": "078aff2a",
   "metadata": {},
   "source": [
    "Solution: df['company_location'].value_counts().idxmax()"
   ]
  },
  {
   "cell_type": "code",
   "execution_count": null,
   "id": "09902b6f",
   "metadata": {},
   "outputs": [],
   "source": []
  },
  {
   "cell_type": "markdown",
   "id": "ad457b20",
   "metadata": {},
   "source": [
    "## Question: What percentage of employees work in small-sized companies?\n",
    "Solution:(df['company_size'] == 'S').mean() * 100"
   ]
  },
  {
   "cell_type": "code",
   "execution_count": null,
   "id": "7bcb1488",
   "metadata": {},
   "outputs": [],
   "source": []
  },
  {
   "cell_type": "markdown",
   "id": "4fd1d364",
   "metadata": {},
   "source": [
    "## Question: What is the most common employment type?\n",
    "Solution:df['employment_type'].mode()[0]"
   ]
  },
  {
   "cell_type": "code",
   "execution_count": null,
   "id": "704eace9",
   "metadata": {},
   "outputs": [],
   "source": []
  },
  {
   "cell_type": "markdown",
   "id": "1d78f82d",
   "metadata": {},
   "source": [
    "## Question: Find the range of salaries in USD for machine learning engineers.\n",
    "Solution: df[df['job_title'] == 'ML Engineer']['salary_in_usd'].agg(['min', 'max'])"
   ]
  },
  {
   "cell_type": "code",
   "execution_count": null,
   "id": "644d8ea6",
   "metadata": {},
   "outputs": [],
   "source": []
  },
  {
   "cell_type": "markdown",
   "id": "c7917a27",
   "metadata": {},
   "source": [
    "## Question: How many employees work in medium-sized companies?"
   ]
  },
  {
   "cell_type": "code",
   "execution_count": 1,
   "id": "b0b1b3a2",
   "metadata": {},
   "outputs": [],
   "source": [
    "# Solution: df[df['company_size'] == 'M'].shape[0]\n"
   ]
  },
  {
   "cell_type": "markdown",
   "id": "693d87a0",
   "metadata": {},
   "source": [
    "## Question: What is the average salary for 'Data Analyst' positions in the US?"
   ]
  },
  {
   "cell_type": "code",
   "execution_count": 2,
   "id": "5908bf39",
   "metadata": {},
   "outputs": [],
   "source": [
    "# Solution: df[(df['job_title'] == 'Data Analyst') & (df['employee_residence'] == 'US')]['salary_in_usd'].mean()"
   ]
  },
  {
   "cell_type": "markdown",
   "id": "8ebf7780",
   "metadata": {},
   "source": [
    "## Question: Which experience level has the highest average salary?"
   ]
  },
  {
   "cell_type": "code",
   "execution_count": 3,
   "id": "a7476d06",
   "metadata": {},
   "outputs": [],
   "source": [
    "# Solution: df.groupby('experience_level')['salary_in_usd'].mean().idxmax()"
   ]
  },
  {
   "cell_type": "markdown",
   "id": "0ade9567",
   "metadata": {},
   "source": [
    "## Question: How many employees have 'EN' (Entry-level) experience?"
   ]
  },
  {
   "cell_type": "code",
   "execution_count": 4,
   "id": "6c5f2c1b",
   "metadata": {},
   "outputs": [],
   "source": [
    "# Solution: df[df['experience_level'] == 'EN'].shape[0]"
   ]
  },
  {
   "cell_type": "markdown",
   "id": "011b4935",
   "metadata": {},
   "source": [
    "## Question: What is the total number of employees in the dataset?"
   ]
  },
  {
   "cell_type": "code",
   "execution_count": 5,
   "id": "f15240ae",
   "metadata": {},
   "outputs": [],
   "source": [
    "# Solution: df.shape[0]"
   ]
  },
  {
   "cell_type": "markdown",
   "id": "19bdd86d",
   "metadata": {},
   "source": [
    "## Question: How many different salary currencies are used in the dataset?"
   ]
  },
  {
   "cell_type": "code",
   "execution_count": 6,
   "id": "7de0cb01",
   "metadata": {},
   "outputs": [],
   "source": [
    "# Solution:df['salary_currency'].nunique()"
   ]
  },
  {
   "cell_type": "markdown",
   "id": "f6425835",
   "metadata": {},
   "source": [
    "## Question: What is the most frequent job title in the dataset?"
   ]
  },
  {
   "cell_type": "code",
   "execution_count": 20,
   "id": "392e2cca",
   "metadata": {},
   "outputs": [
    {
     "data": {
      "text/plain": [
       "'Data Engineer'"
      ]
     },
     "execution_count": 20,
     "metadata": {},
     "output_type": "execute_result"
    }
   ],
   "source": [
    "# Solution:df['job_title'].mode()[0]"
   ]
  },
  {
   "cell_type": "markdown",
   "id": "6122cec5",
   "metadata": {},
   "source": [
    "## Question: Find the average remote ratio for 'Senior-level' positions."
   ]
  },
  {
   "cell_type": "code",
   "execution_count": 7,
   "id": "5d38e9bf",
   "metadata": {},
   "outputs": [],
   "source": [
    "# Solution:df[df['experience_level'] == 'SE']['remote_ratio'].mean()"
   ]
  },
  {
   "cell_type": "markdown",
   "id": "160b7a04",
   "metadata": {},
   "source": [
    "## Question: Which job title has the lowest average salary?"
   ]
  },
  {
   "cell_type": "code",
   "execution_count": 8,
   "id": "c378d4e4",
   "metadata": {},
   "outputs": [],
   "source": [
    "# Solution:df.groupby('job_title')['salary_in_usd'].mean().idxmin()"
   ]
  },
  {
   "cell_type": "markdown",
   "id": "54440632",
   "metadata": {},
   "source": [
    "## Question: How many different employment types are represented in the dataset?"
   ]
  },
  {
   "cell_type": "code",
   "execution_count": 23,
   "id": "19eddce8",
   "metadata": {},
   "outputs": [
    {
     "data": {
      "text/plain": [
       "4"
      ]
     },
     "execution_count": 23,
     "metadata": {},
     "output_type": "execute_result"
    }
   ],
   "source": [
    "# Solution:df['employment_type'].nunique()"
   ]
  },
  {
   "cell_type": "markdown",
   "id": "2698f39d",
   "metadata": {},
   "source": [
    "## Question: What is the average salary difference between remote and non-remote jobs?"
   ]
  },
  {
   "cell_type": "code",
   "execution_count": 9,
   "id": "42cf36dc",
   "metadata": {},
   "outputs": [],
   "source": [
    "# Solution:df[df['remote_ratio'] == 100]['salary_in_usd'].mean() - df[df['remote_ratio'] != 100]['salary_in_usd'].mean()"
   ]
  },
  {
   "cell_type": "markdown",
   "id": "27dee92c",
   "metadata": {},
   "source": [
    "## Question: How many employees are located in 'CA' (Canada)?"
   ]
  },
  {
   "cell_type": "code",
   "execution_count": 10,
   "id": "1e40d765",
   "metadata": {},
   "outputs": [],
   "source": [
    "# Solution:df[df['employee_residence'] == 'CA'].shape[0]"
   ]
  },
  {
   "cell_type": "markdown",
   "id": "ec42e873",
   "metadata": {},
   "source": [
    "## Question: What is the most common company size?"
   ]
  },
  {
   "cell_type": "code",
   "execution_count": 11,
   "id": "aad58aa7",
   "metadata": {},
   "outputs": [],
   "source": [
    "# Solution:df['company_size'].mode()[0]"
   ]
  },
  {
   "cell_type": "markdown",
   "id": "58d7acc9",
   "metadata": {},
   "source": [
    "## Question: How many employees work in large-sized companies?"
   ]
  },
  {
   "cell_type": "code",
   "execution_count": 12,
   "id": "a1c1df40",
   "metadata": {},
   "outputs": [],
   "source": [
    "# Solution:df[df['company_size'] == 'L'].shape[0]"
   ]
  },
  {
   "cell_type": "markdown",
   "id": "a008cb09",
   "metadata": {},
   "source": [
    "## Question: Find the maximum salary in USD for 'Data Engineer' positions."
   ]
  },
  {
   "cell_type": "code",
   "execution_count": 13,
   "id": "58e805f1",
   "metadata": {},
   "outputs": [],
   "source": [
    "# Solution:df[df['job_title'] == 'Data Engineer']['salary_in_usd'].max()"
   ]
  },
  {
   "cell_type": "markdown",
   "id": "72b01d18",
   "metadata": {},
   "source": [
    "## Question: What is the average salary in EUR?"
   ]
  },
  {
   "cell_type": "code",
   "execution_count": 14,
   "id": "e21cad46",
   "metadata": {},
   "outputs": [],
   "source": [
    "# Solution:df[df['salary_currency'] == 'EUR']['salary'].mean()"
   ]
  },
  {
   "cell_type": "markdown",
   "id": "925b0a94",
   "metadata": {},
   "source": [
    "## Question: Which country has the most remote jobs?"
   ]
  },
  {
   "cell_type": "code",
   "execution_count": 15,
   "id": "00da5fac",
   "metadata": {},
   "outputs": [],
   "source": [
    "# Solution:df[df['remote_ratio'] == 100]['employee_residence'].value_counts().idxmax()"
   ]
  },
  {
   "cell_type": "markdown",
   "id": "1edec309",
   "metadata": {},
   "source": [
    "## Question: How many job titles have an average salary above $100,000?"
   ]
  },
  {
   "cell_type": "code",
   "execution_count": 16,
   "id": "fbb7f315",
   "metadata": {},
   "outputs": [],
   "source": [
    "# Solution:(df.groupby('job_title')['salary_in_usd'].mean() > 100000).sum()"
   ]
  },
  {
   "cell_type": "markdown",
   "id": "57c87838",
   "metadata": {},
   "source": [
    "## Question: What is the most common employee residence country?"
   ]
  },
  {
   "cell_type": "code",
   "execution_count": 17,
   "id": "c8cdd54a",
   "metadata": {},
   "outputs": [],
   "source": [
    "# Solution:df['employee_residence'].mode()[0]"
   ]
  },
  {
   "cell_type": "markdown",
   "id": "5105adb5",
   "metadata": {},
   "source": [
    "## Question: Find the average salary for each company size category."
   ]
  },
  {
   "cell_type": "code",
   "execution_count": 18,
   "id": "a0ee6169",
   "metadata": {},
   "outputs": [],
   "source": [
    "# Solution:df.groupby('company_size')['salary_in_usd'].mean()"
   ]
  },
  {
   "cell_type": "markdown",
   "id": "c508a1c7",
   "metadata": {},
   "source": [
    "## Question: Which job title has the most employees?"
   ]
  },
  {
   "cell_type": "code",
   "execution_count": 19,
   "id": "940c2dc4",
   "metadata": {},
   "outputs": [],
   "source": [
    "# Solution:df['job_title'].value_counts().idxmax()"
   ]
  },
  {
   "cell_type": "code",
   "execution_count": null,
   "id": "aea515bc",
   "metadata": {},
   "outputs": [],
   "source": []
  }
 ],
 "metadata": {
  "kernelspec": {
   "display_name": "torch",
   "language": "python",
   "name": "python3"
  },
  "language_info": {
   "codemirror_mode": {
    "name": "ipython",
    "version": 3
   },
   "file_extension": ".py",
   "mimetype": "text/x-python",
   "name": "python",
   "nbconvert_exporter": "python",
   "pygments_lexer": "ipython3",
   "version": "3.10.13"
  }
 },
 "nbformat": 4,
 "nbformat_minor": 5
}
