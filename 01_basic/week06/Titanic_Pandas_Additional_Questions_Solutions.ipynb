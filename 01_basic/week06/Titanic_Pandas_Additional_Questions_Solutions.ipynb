{
 "cells": [
  {
   "cell_type": "markdown",
   "id": "93de9713",
   "metadata": {},
   "source": [
    "### A general description of each column typically found in the Titanic dataset based on common knowledge:\n",
    "\n",
    "1. **PassengerId**: A unique identifier for each passenger.\n",
    "2. **Survived**: Binary indicator of survival (0 = No, 1 = Yes).\n",
    "3. **Pclass**: Passenger class (1 = First, 2 = Second, 3 = Third).\n",
    "4. **Name**: Name of the passenger.\n",
    "5. **Sex**: Gender of the passenger (male/female).\n",
    "6. **Age**: Age of the passenger in years.\n",
    "7. **SibSp**: Number of siblings/spouses aboard the Titanic.\n",
    "8. **Parch**: Number of parents/children aboard the Titanic.\n",
    "9. **Ticket**: Ticket number.\n",
    "10. **Fare**: Passenger fare (monetary amount).\n",
    "11. **Cabin**: Cabin number.\n",
    "12. **Embarked**: Port of embarkation (C = Cherbourg, Q = Queenstown, S = Southampton).\n",
    "\n",
    "### Typical Data Characteristics:\n",
    "- **Survived**: A categorical column often used to analyze survival rates based on different features.\n",
    "- **Pclass**: Another categorical feature that shows a correlation with survival rates, often indicating socioeconomic status.\n",
    "- **Age**: Often contains missing values; crucial for analysis related to age demographics.\n",
    "- **Sex**: Commonly analyzed to see survival rate differences between genders.\n",
    "- **Fare**: Can show a wide range, reflecting different ticket prices; often analyzed in relation to passenger class and survival.\n",
    "- **Embarked**: Often used to explore geographic and socio-economic differences among passengers.\n",
    "\n",
    "If you can upload the CSV file or provide a different link, I can provide more specific insights based on the actual data."
   ]
  },
  {
   "cell_type": "code",
   "execution_count": 44,
   "id": "e4b3efe8",
   "metadata": {},
   "outputs": [],
   "source": [
    "import pandas as pd\n",
    "url = 'https://raw.githubusercontent.com/rajeevratan84/datascienceforbusiness/master/titanic.csv'\n",
    "df = pd.read_csv(url)"
   ]
  },
  {
   "cell_type": "markdown",
   "id": "452254af",
   "metadata": {},
   "source": [
    "### Find the maximum and minimum fare paid by passengers."
   ]
  },
  {
   "cell_type": "code",
   "execution_count": 45,
   "id": "459d0cc2",
   "metadata": {},
   "outputs": [
    {
     "name": "stdout",
     "output_type": "stream",
     "text": [
      "Max fare:  512.3292\n"
     ]
    }
   ],
   "source": [
    "max_fare = df['fare'].max()\n",
    "min_fare = df['fare'].min()\n",
    "\n",
    "print('Max fare: ', max_fare)"
   ]
  },
  {
   "cell_type": "markdown",
   "id": "0296c66a",
   "metadata": {},
   "source": [
    "### Identify the passengers who paid more than 100 in fare."
   ]
  },
  {
   "cell_type": "code",
   "execution_count": 46,
   "id": "9918db5b",
   "metadata": {},
   "outputs": [
    {
     "name": "stdout",
     "output_type": "stream",
     "text": [
      "High fare passengers:       pclass                                             name     sex      age  \\\n",
      "0         1                    Allen, Miss. Elisabeth Walton  female  29.0000   \n",
      "1         1                   Allison, Master. Hudson Trevor    male   0.9167   \n",
      "2         1                     Allison, Miss. Helen Loraine  female   2.0000   \n",
      "3         1             Allison, Mr. Hudson Joshua Creighton    male  30.0000   \n",
      "4         1  Allison, Mrs. Hudson J C (Bessie Waldo Daniels)  female  25.0000   \n",
      "..      ...                                              ...     ...      ...   \n",
      "312       1                       Widener, Mr. George Dunton    male  50.0000   \n",
      "313       1                        Widener, Mr. Harry Elkins    male  27.0000   \n",
      "314       1     Widener, Mrs. George Dunton (Eleanor Elkins)  female  50.0000   \n",
      "319       1                        Wilson, Miss. Helen Alice  female  31.0000   \n",
      "322       1                         Young, Miss. Marie Grice  female  36.0000   \n",
      "\n",
      "     sibsp  parch    ticket      fare    cabin embarked  survived  \n",
      "0        0      0     24160  211.3375       B5        S         1  \n",
      "1        1      2    113781  151.5500  C22 C26        S         1  \n",
      "2        1      2    113781  151.5500  C22 C26        S         0  \n",
      "3        1      2    113781  151.5500  C22 C26        S         0  \n",
      "4        1      2    113781  151.5500  C22 C26        S         0  \n",
      "..     ...    ...       ...       ...      ...      ...       ...  \n",
      "312      1      1    113503  211.5000      C80        C         0  \n",
      "313      0      2    113503  211.5000      C82        C         0  \n",
      "314      1      1    113503  211.5000      C80        C         1  \n",
      "319      0      0     16966  134.5000  E39 E41        C         1  \n",
      "322      0      0  PC 17760  135.6333      C32        C         1  \n",
      "\n",
      "[84 rows x 11 columns]\n"
     ]
    }
   ],
   "source": [
    "high_fare_passengers = df[df['fare'] > 100]\n",
    "\n",
    "print('High fare passengers: ', high_fare_passengers)"
   ]
  },
  {
   "cell_type": "markdown",
   "id": "bb142f9c",
   "metadata": {},
   "source": [
    "### Find the median age of passengers."
   ]
  },
  {
   "cell_type": "code",
   "execution_count": 47,
   "id": "ff5b5e20",
   "metadata": {},
   "outputs": [
    {
     "name": "stdout",
     "output_type": "stream",
     "text": [
      "Median age:  28.0\n"
     ]
    }
   ],
   "source": [
    "median_age = df['age'].median()\n",
    "\n",
    "print('Median age: ', median_age)"
   ]
  },
  {
   "cell_type": "markdown",
   "id": "2a62d32f",
   "metadata": {},
   "source": [
    "### Determine the number of passengers who traveled alone (no siblings/spouses and no parents/children)."
   ]
  },
  {
   "cell_type": "code",
   "execution_count": 48,
   "id": "476dcbcc",
   "metadata": {},
   "outputs": [
    {
     "name": "stdout",
     "output_type": "stream",
     "text": [
      "Number of solo travelers:  790\n"
     ]
    }
   ],
   "source": [
    "solo_travelers = df[(df['sibsp'] == 0) & (df['parch'] == 0)]\n",
    "num_solo_travelers = solo_travelers.shape[0]\n",
    "\n",
    "print('Number of solo travelers: ', num_solo_travelers)"
   ]
  },
  {
   "cell_type": "markdown",
   "id": "7d3c96ee",
   "metadata": {},
   "source": [
    "### Calculate the average fare paid by passengers in each embarkation point."
   ]
  },
  {
   "cell_type": "code",
   "execution_count": 49,
   "id": "462f4f72",
   "metadata": {},
   "outputs": [
    {
     "name": "stdout",
     "output_type": "stream",
     "text": [
      "Average fare by embarkation:  embarked\n",
      "C    62.336267\n",
      "Q    12.409012\n",
      "S    27.418824\n",
      "Name: fare, dtype: float64\n"
     ]
    }
   ],
   "source": [
    "avg_fare_by_embarkation = df.groupby('embarked')['fare'].mean()\n",
    "\n",
    "print('Average fare by embarkation: ', avg_fare_by_embarkation)"
   ]
  },
  {
   "cell_type": "markdown",
   "id": "c6fa7303",
   "metadata": {},
   "source": [
    "### Find the correlation between 'Pclass' and 'Survived'."
   ]
  },
  {
   "cell_type": "code",
   "execution_count": 50,
   "id": "b7b837f3",
   "metadata": {},
   "outputs": [
    {
     "name": "stdout",
     "output_type": "stream",
     "text": [
      "Correlation between pclass and survived:  -0.31246936264967606\n"
     ]
    }
   ],
   "source": [
    "pclass_survived_corr = df['pclass'].corr(df['survived'])\n",
    "\n",
    "print('Correlation between pclass and survived: ', pclass_survived_corr)"
   ]
  },
  {
   "cell_type": "markdown",
   "id": "e511263a",
   "metadata": {},
   "source": [
    "### Identify passengers whose age is above 70."
   ]
  },
  {
   "cell_type": "code",
   "execution_count": 51,
   "id": "a9d2fe5c",
   "metadata": {},
   "outputs": [
    {
     "name": "stdout",
     "output_type": "stream",
     "text": [
      "Elderly passengers:        pclass                                               name     sex   age  \\\n",
      "9          1                            Artagaveytia, Mr. Ramon    male  71.0   \n",
      "14         1               Barkworth, Mr. Algernon Henry Wilson    male  80.0   \n",
      "61         1  Cavendish, Mrs. Tyrell William (Julia Florence...  female  76.0   \n",
      "135        1                          Goldschmidt, Mr. George B    male  71.0   \n",
      "727        3                               Connors, Mr. Patrick    male  70.5   \n",
      "1235       3                                Svensson, Mr. Johan    male  74.0   \n",
      "\n",
      "      sibsp  parch    ticket     fare cabin embarked  survived  \n",
      "9         0      0  PC 17609  49.5042   NaN        C         0  \n",
      "14        0      0     27042  30.0000   A23        S         1  \n",
      "61        1      0     19877  78.8500   C46        S         1  \n",
      "135       0      0  PC 17754  34.6542    A5        C         0  \n",
      "727       0      0    370369   7.7500   NaN        Q         0  \n",
      "1235      0      0    347060   7.7750   NaN        S         0  \n"
     ]
    }
   ],
   "source": [
    "elderly_passengers = df[df['age'] > 70]\n",
    "\n",
    "print('Elderly passengers: ', elderly_passengers)"
   ]
  },
  {
   "cell_type": "markdown",
   "id": "65b9a260",
   "metadata": {},
   "source": [
    "### Count the number of passengers for each unique 'Ticket' value."
   ]
  },
  {
   "cell_type": "code",
   "execution_count": 52,
   "id": "e9860218",
   "metadata": {},
   "outputs": [
    {
     "name": "stdout",
     "output_type": "stream",
     "text": [
      "Ticket counts:  CA. 2343    11\n",
      "1601         8\n",
      "CA 2144      8\n",
      "PC 17608     7\n",
      "347077       7\n",
      "            ..\n",
      "373450       1\n",
      "2223         1\n",
      "350046       1\n",
      "3101281      1\n",
      "315082       1\n",
      "Name: ticket, Length: 929, dtype: int64\n"
     ]
    }
   ],
   "source": [
    "ticket_counts = df['ticket'].value_counts()\n",
    "\n",
    "print('Ticket counts: ', ticket_counts)"
   ]
  },
  {
   "cell_type": "markdown",
   "id": "68cd6679",
   "metadata": {},
   "source": [
    "### Calculate the average 'Fare' for male and female passengers."
   ]
  },
  {
   "cell_type": "code",
   "execution_count": 53,
   "id": "fd6a5af9",
   "metadata": {},
   "outputs": [
    {
     "data": {
      "text/plain": [
       "sex\n",
       "female    46.198097\n",
       "male      26.154601\n",
       "Name: fare, dtype: float64"
      ]
     },
     "execution_count": 53,
     "metadata": {},
     "output_type": "execute_result"
    }
   ],
   "source": [
    "avg_fare_by_sex = df.groupby('sex')['fare'].mean()\n",
    "\n",
    "avg_fare_by_sex "
   ]
  },
  {
   "cell_type": "markdown",
   "id": "37190b8b",
   "metadata": {},
   "source": [
    "### Extract passengers with names starting with a particular letter, e.g., 'A'."
   ]
  },
  {
   "cell_type": "code",
   "execution_count": 54,
   "id": "ee5aebc1",
   "metadata": {},
   "outputs": [
    {
     "data": {
      "text/html": [
       "<div>\n",
       "<style scoped>\n",
       "    .dataframe tbody tr th:only-of-type {\n",
       "        vertical-align: middle;\n",
       "    }\n",
       "\n",
       "    .dataframe tbody tr th {\n",
       "        vertical-align: top;\n",
       "    }\n",
       "\n",
       "    .dataframe thead th {\n",
       "        text-align: right;\n",
       "    }\n",
       "</style>\n",
       "<table border=\"1\" class=\"dataframe\">\n",
       "  <thead>\n",
       "    <tr style=\"text-align: right;\">\n",
       "      <th></th>\n",
       "      <th>pclass</th>\n",
       "      <th>name</th>\n",
       "      <th>sex</th>\n",
       "      <th>age</th>\n",
       "      <th>sibsp</th>\n",
       "      <th>parch</th>\n",
       "      <th>ticket</th>\n",
       "      <th>fare</th>\n",
       "      <th>cabin</th>\n",
       "      <th>embarked</th>\n",
       "      <th>survived</th>\n",
       "    </tr>\n",
       "  </thead>\n",
       "  <tbody>\n",
       "    <tr>\n",
       "      <th>0</th>\n",
       "      <td>1</td>\n",
       "      <td>Allen, Miss. Elisabeth Walton</td>\n",
       "      <td>female</td>\n",
       "      <td>29.0000</td>\n",
       "      <td>0</td>\n",
       "      <td>0</td>\n",
       "      <td>24160</td>\n",
       "      <td>211.3375</td>\n",
       "      <td>B5</td>\n",
       "      <td>S</td>\n",
       "      <td>1</td>\n",
       "    </tr>\n",
       "    <tr>\n",
       "      <th>1</th>\n",
       "      <td>1</td>\n",
       "      <td>Allison, Master. Hudson Trevor</td>\n",
       "      <td>male</td>\n",
       "      <td>0.9167</td>\n",
       "      <td>1</td>\n",
       "      <td>2</td>\n",
       "      <td>113781</td>\n",
       "      <td>151.5500</td>\n",
       "      <td>C22 C26</td>\n",
       "      <td>S</td>\n",
       "      <td>1</td>\n",
       "    </tr>\n",
       "    <tr>\n",
       "      <th>2</th>\n",
       "      <td>1</td>\n",
       "      <td>Allison, Miss. Helen Loraine</td>\n",
       "      <td>female</td>\n",
       "      <td>2.0000</td>\n",
       "      <td>1</td>\n",
       "      <td>2</td>\n",
       "      <td>113781</td>\n",
       "      <td>151.5500</td>\n",
       "      <td>C22 C26</td>\n",
       "      <td>S</td>\n",
       "      <td>0</td>\n",
       "    </tr>\n",
       "    <tr>\n",
       "      <th>3</th>\n",
       "      <td>1</td>\n",
       "      <td>Allison, Mr. Hudson Joshua Creighton</td>\n",
       "      <td>male</td>\n",
       "      <td>30.0000</td>\n",
       "      <td>1</td>\n",
       "      <td>2</td>\n",
       "      <td>113781</td>\n",
       "      <td>151.5500</td>\n",
       "      <td>C22 C26</td>\n",
       "      <td>S</td>\n",
       "      <td>0</td>\n",
       "    </tr>\n",
       "    <tr>\n",
       "      <th>4</th>\n",
       "      <td>1</td>\n",
       "      <td>Allison, Mrs. Hudson J C (Bessie Waldo Daniels)</td>\n",
       "      <td>female</td>\n",
       "      <td>25.0000</td>\n",
       "      <td>1</td>\n",
       "      <td>2</td>\n",
       "      <td>113781</td>\n",
       "      <td>151.5500</td>\n",
       "      <td>C22 C26</td>\n",
       "      <td>S</td>\n",
       "      <td>0</td>\n",
       "    </tr>\n",
       "    <tr>\n",
       "      <th>...</th>\n",
       "      <td>...</td>\n",
       "      <td>...</td>\n",
       "      <td>...</td>\n",
       "      <td>...</td>\n",
       "      <td>...</td>\n",
       "      <td>...</td>\n",
       "      <td>...</td>\n",
       "      <td>...</td>\n",
       "      <td>...</td>\n",
       "      <td>...</td>\n",
       "      <td>...</td>\n",
       "    </tr>\n",
       "    <tr>\n",
       "      <th>649</th>\n",
       "      <td>3</td>\n",
       "      <td>Assam, Mr. Ali</td>\n",
       "      <td>male</td>\n",
       "      <td>23.0000</td>\n",
       "      <td>0</td>\n",
       "      <td>0</td>\n",
       "      <td>SOTON/O.Q. 3101309</td>\n",
       "      <td>7.0500</td>\n",
       "      <td>NaN</td>\n",
       "      <td>S</td>\n",
       "      <td>0</td>\n",
       "    </tr>\n",
       "    <tr>\n",
       "      <th>650</th>\n",
       "      <td>3</td>\n",
       "      <td>Attalah, Miss. Malake</td>\n",
       "      <td>female</td>\n",
       "      <td>17.0000</td>\n",
       "      <td>0</td>\n",
       "      <td>0</td>\n",
       "      <td>2627</td>\n",
       "      <td>14.4583</td>\n",
       "      <td>NaN</td>\n",
       "      <td>C</td>\n",
       "      <td>0</td>\n",
       "    </tr>\n",
       "    <tr>\n",
       "      <th>651</th>\n",
       "      <td>3</td>\n",
       "      <td>Attalah, Mr. Sleiman</td>\n",
       "      <td>male</td>\n",
       "      <td>30.0000</td>\n",
       "      <td>0</td>\n",
       "      <td>0</td>\n",
       "      <td>2694</td>\n",
       "      <td>7.2250</td>\n",
       "      <td>NaN</td>\n",
       "      <td>C</td>\n",
       "      <td>0</td>\n",
       "    </tr>\n",
       "    <tr>\n",
       "      <th>652</th>\n",
       "      <td>3</td>\n",
       "      <td>Augustsson, Mr. Albert</td>\n",
       "      <td>male</td>\n",
       "      <td>23.0000</td>\n",
       "      <td>0</td>\n",
       "      <td>0</td>\n",
       "      <td>347468</td>\n",
       "      <td>7.8542</td>\n",
       "      <td>NaN</td>\n",
       "      <td>S</td>\n",
       "      <td>0</td>\n",
       "    </tr>\n",
       "    <tr>\n",
       "      <th>653</th>\n",
       "      <td>3</td>\n",
       "      <td>Ayoub, Miss. Banoura</td>\n",
       "      <td>female</td>\n",
       "      <td>13.0000</td>\n",
       "      <td>0</td>\n",
       "      <td>0</td>\n",
       "      <td>2687</td>\n",
       "      <td>7.2292</td>\n",
       "      <td>NaN</td>\n",
       "      <td>C</td>\n",
       "      <td>1</td>\n",
       "    </tr>\n",
       "  </tbody>\n",
       "</table>\n",
       "<p>75 rows × 11 columns</p>\n",
       "</div>"
      ],
      "text/plain": [
       "     pclass                                             name     sex      age  \\\n",
       "0         1                    Allen, Miss. Elisabeth Walton  female  29.0000   \n",
       "1         1                   Allison, Master. Hudson Trevor    male   0.9167   \n",
       "2         1                     Allison, Miss. Helen Loraine  female   2.0000   \n",
       "3         1             Allison, Mr. Hudson Joshua Creighton    male  30.0000   \n",
       "4         1  Allison, Mrs. Hudson J C (Bessie Waldo Daniels)  female  25.0000   \n",
       "..      ...                                              ...     ...      ...   \n",
       "649       3                                   Assam, Mr. Ali    male  23.0000   \n",
       "650       3                            Attalah, Miss. Malake  female  17.0000   \n",
       "651       3                             Attalah, Mr. Sleiman    male  30.0000   \n",
       "652       3                           Augustsson, Mr. Albert    male  23.0000   \n",
       "653       3                             Ayoub, Miss. Banoura  female  13.0000   \n",
       "\n",
       "     sibsp  parch              ticket      fare    cabin embarked  survived  \n",
       "0        0      0               24160  211.3375       B5        S         1  \n",
       "1        1      2              113781  151.5500  C22 C26        S         1  \n",
       "2        1      2              113781  151.5500  C22 C26        S         0  \n",
       "3        1      2              113781  151.5500  C22 C26        S         0  \n",
       "4        1      2              113781  151.5500  C22 C26        S         0  \n",
       "..     ...    ...                 ...       ...      ...      ...       ...  \n",
       "649      0      0  SOTON/O.Q. 3101309    7.0500      NaN        S         0  \n",
       "650      0      0                2627   14.4583      NaN        C         0  \n",
       "651      0      0                2694    7.2250      NaN        C         0  \n",
       "652      0      0              347468    7.8542      NaN        S         0  \n",
       "653      0      0                2687    7.2292      NaN        C         1  \n",
       "\n",
       "[75 rows x 11 columns]"
      ]
     },
     "execution_count": 54,
     "metadata": {},
     "output_type": "execute_result"
    }
   ],
   "source": [
    "passengers_with_A = df[df['name'].str.startswith('A')]\n",
    "\n",
    "passengers_with_A "
   ]
  },
  {
   "cell_type": "markdown",
   "id": "e33be04f",
   "metadata": {},
   "source": [
    "### Find the standard deviation of the 'Fare' column."
   ]
  },
  {
   "cell_type": "code",
   "execution_count": 55,
   "id": "9f1eb5a2",
   "metadata": {},
   "outputs": [
    {
     "data": {
      "text/plain": [
       "51.758668239174135"
      ]
     },
     "execution_count": 55,
     "metadata": {},
     "output_type": "execute_result"
    }
   ],
   "source": [
    "fare_std_dev = df['fare'].std()\n",
    "\n",
    "fare_std_dev "
   ]
  },
  {
   "cell_type": "markdown",
   "id": "c1ab6f87",
   "metadata": {},
   "source": [
    "### Create a column 'FareCategory' that categorizes fares into 'Low', 'Medium', and 'High'."
   ]
  },
  {
   "cell_type": "code",
   "execution_count": 56,
   "id": "76af8f7f",
   "metadata": {},
   "outputs": [],
   "source": [
    "def categorize_fare(fare):\n",
    "    if fare < 50:\n",
    "        return 'Low'\n",
    "    elif fare < 100:\n",
    "        return 'Medium'\n",
    "    else:\n",
    "        return 'High'\n",
    "df['FareCategory'] = df['fare'].apply(categorize_fare)"
   ]
  },
  {
   "cell_type": "code",
   "execution_count": 57,
   "id": "9f62822d",
   "metadata": {},
   "outputs": [
    {
     "data": {
      "text/html": [
       "<div>\n",
       "<style scoped>\n",
       "    .dataframe tbody tr th:only-of-type {\n",
       "        vertical-align: middle;\n",
       "    }\n",
       "\n",
       "    .dataframe tbody tr th {\n",
       "        vertical-align: top;\n",
       "    }\n",
       "\n",
       "    .dataframe thead th {\n",
       "        text-align: right;\n",
       "    }\n",
       "</style>\n",
       "<table border=\"1\" class=\"dataframe\">\n",
       "  <thead>\n",
       "    <tr style=\"text-align: right;\">\n",
       "      <th></th>\n",
       "      <th>pclass</th>\n",
       "      <th>name</th>\n",
       "      <th>sex</th>\n",
       "      <th>age</th>\n",
       "      <th>sibsp</th>\n",
       "      <th>parch</th>\n",
       "      <th>ticket</th>\n",
       "      <th>fare</th>\n",
       "      <th>cabin</th>\n",
       "      <th>embarked</th>\n",
       "      <th>survived</th>\n",
       "      <th>FareCategory</th>\n",
       "    </tr>\n",
       "  </thead>\n",
       "  <tbody>\n",
       "    <tr>\n",
       "      <th>0</th>\n",
       "      <td>1</td>\n",
       "      <td>Allen, Miss. Elisabeth Walton</td>\n",
       "      <td>female</td>\n",
       "      <td>29.0000</td>\n",
       "      <td>0</td>\n",
       "      <td>0</td>\n",
       "      <td>24160</td>\n",
       "      <td>211.3375</td>\n",
       "      <td>B5</td>\n",
       "      <td>S</td>\n",
       "      <td>1</td>\n",
       "      <td>High</td>\n",
       "    </tr>\n",
       "    <tr>\n",
       "      <th>1</th>\n",
       "      <td>1</td>\n",
       "      <td>Allison, Master. Hudson Trevor</td>\n",
       "      <td>male</td>\n",
       "      <td>0.9167</td>\n",
       "      <td>1</td>\n",
       "      <td>2</td>\n",
       "      <td>113781</td>\n",
       "      <td>151.5500</td>\n",
       "      <td>C22 C26</td>\n",
       "      <td>S</td>\n",
       "      <td>1</td>\n",
       "      <td>High</td>\n",
       "    </tr>\n",
       "    <tr>\n",
       "      <th>2</th>\n",
       "      <td>1</td>\n",
       "      <td>Allison, Miss. Helen Loraine</td>\n",
       "      <td>female</td>\n",
       "      <td>2.0000</td>\n",
       "      <td>1</td>\n",
       "      <td>2</td>\n",
       "      <td>113781</td>\n",
       "      <td>151.5500</td>\n",
       "      <td>C22 C26</td>\n",
       "      <td>S</td>\n",
       "      <td>0</td>\n",
       "      <td>High</td>\n",
       "    </tr>\n",
       "    <tr>\n",
       "      <th>3</th>\n",
       "      <td>1</td>\n",
       "      <td>Allison, Mr. Hudson Joshua Creighton</td>\n",
       "      <td>male</td>\n",
       "      <td>30.0000</td>\n",
       "      <td>1</td>\n",
       "      <td>2</td>\n",
       "      <td>113781</td>\n",
       "      <td>151.5500</td>\n",
       "      <td>C22 C26</td>\n",
       "      <td>S</td>\n",
       "      <td>0</td>\n",
       "      <td>High</td>\n",
       "    </tr>\n",
       "    <tr>\n",
       "      <th>4</th>\n",
       "      <td>1</td>\n",
       "      <td>Allison, Mrs. Hudson J C (Bessie Waldo Daniels)</td>\n",
       "      <td>female</td>\n",
       "      <td>25.0000</td>\n",
       "      <td>1</td>\n",
       "      <td>2</td>\n",
       "      <td>113781</td>\n",
       "      <td>151.5500</td>\n",
       "      <td>C22 C26</td>\n",
       "      <td>S</td>\n",
       "      <td>0</td>\n",
       "      <td>High</td>\n",
       "    </tr>\n",
       "    <tr>\n",
       "      <th>...</th>\n",
       "      <td>...</td>\n",
       "      <td>...</td>\n",
       "      <td>...</td>\n",
       "      <td>...</td>\n",
       "      <td>...</td>\n",
       "      <td>...</td>\n",
       "      <td>...</td>\n",
       "      <td>...</td>\n",
       "      <td>...</td>\n",
       "      <td>...</td>\n",
       "      <td>...</td>\n",
       "      <td>...</td>\n",
       "    </tr>\n",
       "    <tr>\n",
       "      <th>1304</th>\n",
       "      <td>3</td>\n",
       "      <td>Zabour, Miss. Hileni</td>\n",
       "      <td>female</td>\n",
       "      <td>14.5000</td>\n",
       "      <td>1</td>\n",
       "      <td>0</td>\n",
       "      <td>2665</td>\n",
       "      <td>14.4542</td>\n",
       "      <td>NaN</td>\n",
       "      <td>C</td>\n",
       "      <td>0</td>\n",
       "      <td>Low</td>\n",
       "    </tr>\n",
       "    <tr>\n",
       "      <th>1305</th>\n",
       "      <td>3</td>\n",
       "      <td>Zabour, Miss. Thamine</td>\n",
       "      <td>female</td>\n",
       "      <td>NaN</td>\n",
       "      <td>1</td>\n",
       "      <td>0</td>\n",
       "      <td>2665</td>\n",
       "      <td>14.4542</td>\n",
       "      <td>NaN</td>\n",
       "      <td>C</td>\n",
       "      <td>0</td>\n",
       "      <td>Low</td>\n",
       "    </tr>\n",
       "    <tr>\n",
       "      <th>1306</th>\n",
       "      <td>3</td>\n",
       "      <td>Zakarian, Mr. Mapriededer</td>\n",
       "      <td>male</td>\n",
       "      <td>26.5000</td>\n",
       "      <td>0</td>\n",
       "      <td>0</td>\n",
       "      <td>2656</td>\n",
       "      <td>7.2250</td>\n",
       "      <td>NaN</td>\n",
       "      <td>C</td>\n",
       "      <td>0</td>\n",
       "      <td>Low</td>\n",
       "    </tr>\n",
       "    <tr>\n",
       "      <th>1307</th>\n",
       "      <td>3</td>\n",
       "      <td>Zakarian, Mr. Ortin</td>\n",
       "      <td>male</td>\n",
       "      <td>27.0000</td>\n",
       "      <td>0</td>\n",
       "      <td>0</td>\n",
       "      <td>2670</td>\n",
       "      <td>7.2250</td>\n",
       "      <td>NaN</td>\n",
       "      <td>C</td>\n",
       "      <td>0</td>\n",
       "      <td>Low</td>\n",
       "    </tr>\n",
       "    <tr>\n",
       "      <th>1308</th>\n",
       "      <td>3</td>\n",
       "      <td>Zimmerman, Mr. Leo</td>\n",
       "      <td>male</td>\n",
       "      <td>29.0000</td>\n",
       "      <td>0</td>\n",
       "      <td>0</td>\n",
       "      <td>315082</td>\n",
       "      <td>7.8750</td>\n",
       "      <td>NaN</td>\n",
       "      <td>S</td>\n",
       "      <td>0</td>\n",
       "      <td>Low</td>\n",
       "    </tr>\n",
       "  </tbody>\n",
       "</table>\n",
       "<p>1309 rows × 12 columns</p>\n",
       "</div>"
      ],
      "text/plain": [
       "      pclass                                             name     sex  \\\n",
       "0          1                    Allen, Miss. Elisabeth Walton  female   \n",
       "1          1                   Allison, Master. Hudson Trevor    male   \n",
       "2          1                     Allison, Miss. Helen Loraine  female   \n",
       "3          1             Allison, Mr. Hudson Joshua Creighton    male   \n",
       "4          1  Allison, Mrs. Hudson J C (Bessie Waldo Daniels)  female   \n",
       "...      ...                                              ...     ...   \n",
       "1304       3                             Zabour, Miss. Hileni  female   \n",
       "1305       3                            Zabour, Miss. Thamine  female   \n",
       "1306       3                        Zakarian, Mr. Mapriededer    male   \n",
       "1307       3                              Zakarian, Mr. Ortin    male   \n",
       "1308       3                               Zimmerman, Mr. Leo    male   \n",
       "\n",
       "          age  sibsp  parch  ticket      fare    cabin embarked  survived  \\\n",
       "0     29.0000      0      0   24160  211.3375       B5        S         1   \n",
       "1      0.9167      1      2  113781  151.5500  C22 C26        S         1   \n",
       "2      2.0000      1      2  113781  151.5500  C22 C26        S         0   \n",
       "3     30.0000      1      2  113781  151.5500  C22 C26        S         0   \n",
       "4     25.0000      1      2  113781  151.5500  C22 C26        S         0   \n",
       "...       ...    ...    ...     ...       ...      ...      ...       ...   \n",
       "1304  14.5000      1      0    2665   14.4542      NaN        C         0   \n",
       "1305      NaN      1      0    2665   14.4542      NaN        C         0   \n",
       "1306  26.5000      0      0    2656    7.2250      NaN        C         0   \n",
       "1307  27.0000      0      0    2670    7.2250      NaN        C         0   \n",
       "1308  29.0000      0      0  315082    7.8750      NaN        S         0   \n",
       "\n",
       "     FareCategory  \n",
       "0            High  \n",
       "1            High  \n",
       "2            High  \n",
       "3            High  \n",
       "4            High  \n",
       "...           ...  \n",
       "1304          Low  \n",
       "1305          Low  \n",
       "1306          Low  \n",
       "1307          Low  \n",
       "1308          Low  \n",
       "\n",
       "[1309 rows x 12 columns]"
      ]
     },
     "execution_count": 57,
     "metadata": {},
     "output_type": "execute_result"
    }
   ],
   "source": [
    "df"
   ]
  },
  {
   "cell_type": "markdown",
   "id": "a7b2d812",
   "metadata": {},
   "source": [
    "### Determine the number of unique cabin numbers."
   ]
  },
  {
   "cell_type": "code",
   "execution_count": 58,
   "id": "887c2075",
   "metadata": {},
   "outputs": [
    {
     "data": {
      "text/plain": [
       "186"
      ]
     },
     "execution_count": 58,
     "metadata": {},
     "output_type": "execute_result"
    }
   ],
   "source": [
    "unique_cabins = df['cabin'].nunique()\n",
    "unique_cabins "
   ]
  },
  {
   "cell_type": "markdown",
   "id": "d55bcd37",
   "metadata": {},
   "source": [
    "### Count the number of passengers who have a cabin number assigned."
   ]
  },
  {
   "cell_type": "code",
   "execution_count": 59,
   "id": "f2874afd",
   "metadata": {},
   "outputs": [
    {
     "data": {
      "text/plain": [
       "295"
      ]
     },
     "execution_count": 59,
     "metadata": {},
     "output_type": "execute_result"
    }
   ],
   "source": [
    "passengers_with_cabin = df['cabin'].notnull().sum()\n",
    "passengers_with_cabin "
   ]
  },
  {
   "cell_type": "markdown",
   "id": "cd5608fe",
   "metadata": {},
   "source": [
    "### Find the average age of survivors and non-survivors."
   ]
  },
  {
   "cell_type": "code",
   "execution_count": 60,
   "id": "49adaf02",
   "metadata": {},
   "outputs": [
    {
     "data": {
      "text/plain": [
       "survived\n",
       "0    30.545369\n",
       "1    28.918228\n",
       "Name: age, dtype: float64"
      ]
     },
     "execution_count": 60,
     "metadata": {},
     "output_type": "execute_result"
    }
   ],
   "source": [
    "avg_age_by_survival = df.groupby('survived')['age'].mean()\n",
    "avg_age_by_survival"
   ]
  },
  {
   "cell_type": "markdown",
   "id": "db0aed5e",
   "metadata": {},
   "source": [
    "### Calculate the total fare collected from all passengers."
   ]
  },
  {
   "cell_type": "code",
   "execution_count": 61,
   "id": "292225a2",
   "metadata": {},
   "outputs": [
    {
     "data": {
      "text/plain": [
       "43550.4869"
      ]
     },
     "execution_count": 61,
     "metadata": {},
     "output_type": "execute_result"
    }
   ],
   "source": [
    "total_fare_collected = df['fare'].sum()\n",
    "total_fare_collected"
   ]
  },
  {
   "cell_type": "markdown",
   "id": "a8537f9f",
   "metadata": {},
   "source": [
    "### Find the proportion of passengers in each class who survived."
   ]
  },
  {
   "cell_type": "code",
   "execution_count": 62,
   "id": "82e6c8ab",
   "metadata": {},
   "outputs": [
    {
     "data": {
      "text/plain": [
       "pclass\n",
       "1    0.619195\n",
       "2    0.429603\n",
       "3    0.255289\n",
       "Name: survived, dtype: float64"
      ]
     },
     "execution_count": 62,
     "metadata": {},
     "output_type": "execute_result"
    }
   ],
   "source": [
    "survival_rate_by_class = df.groupby('pclass')['survived'].mean()\n",
    "survival_rate_by_class"
   ]
  },
  {
   "cell_type": "markdown",
   "id": "3e55d3dd",
   "metadata": {},
   "source": [
    "### Identify the top 5 passengers who paid the highest fare."
   ]
  },
  {
   "cell_type": "code",
   "execution_count": 63,
   "id": "5e5d5170",
   "metadata": {},
   "outputs": [
    {
     "data": {
      "text/html": [
       "<div>\n",
       "<style scoped>\n",
       "    .dataframe tbody tr th:only-of-type {\n",
       "        vertical-align: middle;\n",
       "    }\n",
       "\n",
       "    .dataframe tbody tr th {\n",
       "        vertical-align: top;\n",
       "    }\n",
       "\n",
       "    .dataframe thead th {\n",
       "        text-align: right;\n",
       "    }\n",
       "</style>\n",
       "<table border=\"1\" class=\"dataframe\">\n",
       "  <thead>\n",
       "    <tr style=\"text-align: right;\">\n",
       "      <th></th>\n",
       "      <th>pclass</th>\n",
       "      <th>name</th>\n",
       "      <th>sex</th>\n",
       "      <th>age</th>\n",
       "      <th>sibsp</th>\n",
       "      <th>parch</th>\n",
       "      <th>ticket</th>\n",
       "      <th>fare</th>\n",
       "      <th>cabin</th>\n",
       "      <th>embarked</th>\n",
       "      <th>survived</th>\n",
       "      <th>FareCategory</th>\n",
       "    </tr>\n",
       "  </thead>\n",
       "  <tbody>\n",
       "    <tr>\n",
       "      <th>49</th>\n",
       "      <td>1</td>\n",
       "      <td>Cardeza, Mr. Thomas Drake Martinez</td>\n",
       "      <td>male</td>\n",
       "      <td>36.0</td>\n",
       "      <td>0</td>\n",
       "      <td>1</td>\n",
       "      <td>PC 17755</td>\n",
       "      <td>512.3292</td>\n",
       "      <td>B51 B53 B55</td>\n",
       "      <td>C</td>\n",
       "      <td>1</td>\n",
       "      <td>High</td>\n",
       "    </tr>\n",
       "    <tr>\n",
       "      <th>50</th>\n",
       "      <td>1</td>\n",
       "      <td>Cardeza, Mrs. James Warburton Martinez (Charlo...</td>\n",
       "      <td>female</td>\n",
       "      <td>58.0</td>\n",
       "      <td>0</td>\n",
       "      <td>1</td>\n",
       "      <td>PC 17755</td>\n",
       "      <td>512.3292</td>\n",
       "      <td>B51 B53 B55</td>\n",
       "      <td>C</td>\n",
       "      <td>1</td>\n",
       "      <td>High</td>\n",
       "    </tr>\n",
       "    <tr>\n",
       "      <th>183</th>\n",
       "      <td>1</td>\n",
       "      <td>Lesurer, Mr. Gustave J</td>\n",
       "      <td>male</td>\n",
       "      <td>35.0</td>\n",
       "      <td>0</td>\n",
       "      <td>0</td>\n",
       "      <td>PC 17755</td>\n",
       "      <td>512.3292</td>\n",
       "      <td>B101</td>\n",
       "      <td>C</td>\n",
       "      <td>1</td>\n",
       "      <td>High</td>\n",
       "    </tr>\n",
       "    <tr>\n",
       "      <th>302</th>\n",
       "      <td>1</td>\n",
       "      <td>Ward, Miss. Anna</td>\n",
       "      <td>female</td>\n",
       "      <td>35.0</td>\n",
       "      <td>0</td>\n",
       "      <td>0</td>\n",
       "      <td>PC 17755</td>\n",
       "      <td>512.3292</td>\n",
       "      <td>NaN</td>\n",
       "      <td>C</td>\n",
       "      <td>1</td>\n",
       "      <td>High</td>\n",
       "    </tr>\n",
       "    <tr>\n",
       "      <th>111</th>\n",
       "      <td>1</td>\n",
       "      <td>Fortune, Miss. Alice Elizabeth</td>\n",
       "      <td>female</td>\n",
       "      <td>24.0</td>\n",
       "      <td>3</td>\n",
       "      <td>2</td>\n",
       "      <td>19950</td>\n",
       "      <td>263.0000</td>\n",
       "      <td>C23 C25 C27</td>\n",
       "      <td>S</td>\n",
       "      <td>1</td>\n",
       "      <td>High</td>\n",
       "    </tr>\n",
       "  </tbody>\n",
       "</table>\n",
       "</div>"
      ],
      "text/plain": [
       "     pclass                                               name     sex   age  \\\n",
       "49        1                 Cardeza, Mr. Thomas Drake Martinez    male  36.0   \n",
       "50        1  Cardeza, Mrs. James Warburton Martinez (Charlo...  female  58.0   \n",
       "183       1                             Lesurer, Mr. Gustave J    male  35.0   \n",
       "302       1                                   Ward, Miss. Anna  female  35.0   \n",
       "111       1                     Fortune, Miss. Alice Elizabeth  female  24.0   \n",
       "\n",
       "     sibsp  parch    ticket      fare        cabin embarked  survived  \\\n",
       "49       0      1  PC 17755  512.3292  B51 B53 B55        C         1   \n",
       "50       0      1  PC 17755  512.3292  B51 B53 B55        C         1   \n",
       "183      0      0  PC 17755  512.3292         B101        C         1   \n",
       "302      0      0  PC 17755  512.3292          NaN        C         1   \n",
       "111      3      2     19950  263.0000  C23 C25 C27        S         1   \n",
       "\n",
       "    FareCategory  \n",
       "49          High  \n",
       "50          High  \n",
       "183         High  \n",
       "302         High  \n",
       "111         High  "
      ]
     },
     "execution_count": 63,
     "metadata": {},
     "output_type": "execute_result"
    }
   ],
   "source": [
    "top_fare_payers = df.nlargest(5, 'fare')\n",
    "top_fare_payers"
   ]
  },
  {
   "cell_type": "markdown",
   "id": "957f480b",
   "metadata": {},
   "source": [
    "### Find the most common first letter of the passenger names."
   ]
  },
  {
   "cell_type": "code",
   "execution_count": 64,
   "id": "2277a52f",
   "metadata": {},
   "outputs": [
    {
     "data": {
      "text/plain": [
       "'S'"
      ]
     },
     "execution_count": 64,
     "metadata": {},
     "output_type": "execute_result"
    }
   ],
   "source": [
    "most_common_initial = df['name'].str[0].mode()[0]\n",
    "most_common_initial"
   ]
  },
  {
   "cell_type": "markdown",
   "id": "0e82faa9",
   "metadata": {},
   "source": [
    "### Calculate the average number of siblings/spouses aboard for each passenger class."
   ]
  },
  {
   "cell_type": "code",
   "execution_count": 65,
   "id": "6ac80d26",
   "metadata": {},
   "outputs": [
    {
     "data": {
      "text/plain": [
       "pclass\n",
       "1    0.436533\n",
       "2    0.393502\n",
       "3    0.568406\n",
       "Name: sibsp, dtype: float64"
      ]
     },
     "execution_count": 65,
     "metadata": {},
     "output_type": "execute_result"
    }
   ],
   "source": [
    "avg_sibsp_by_class = df.groupby('pclass')['sibsp'].mean()\n",
    "avg_sibsp_by_class"
   ]
  },
  {
   "cell_type": "code",
   "execution_count": 66,
   "id": "53f3de28",
   "metadata": {},
   "outputs": [
    {
     "ename": "ModuleNotFoundError",
     "evalue": "No module named 'pandasai.prompts.pandasai'",
     "output_type": "error",
     "traceback": [
      "\u001b[0;31m---------------------------------------------------------------------------\u001b[0m",
      "\u001b[0;31mModuleNotFoundError\u001b[0m                       Traceback (most recent call last)",
      "Cell \u001b[0;32mIn[66], line 3\u001b[0m\n\u001b[1;32m      1\u001b[0m \u001b[38;5;28;01mimport\u001b[39;00m \u001b[38;5;21;01mpandas\u001b[39;00m \u001b[38;5;28;01mas\u001b[39;00m \u001b[38;5;21;01mpd\u001b[39;00m\n\u001b[1;32m      2\u001b[0m \u001b[38;5;28;01mfrom\u001b[39;00m \u001b[38;5;21;01mpandasai\u001b[39;00m \u001b[38;5;28;01mimport\u001b[39;00m SmartDataframe\n\u001b[0;32m----> 3\u001b[0m \u001b[38;5;28;01mfrom\u001b[39;00m \u001b[38;5;21;01mpandasai\u001b[39;00m\u001b[38;5;21;01m.\u001b[39;00m\u001b[38;5;21;01mprompts\u001b[39;00m\u001b[38;5;21;01m.\u001b[39;00m\u001b[38;5;21;01mpandasai\u001b[39;00m \u001b[38;5;28;01mimport\u001b[39;00m get_prompt\n\u001b[1;32m      5\u001b[0m \u001b[38;5;66;03m# Load the dataset\u001b[39;00m\n\u001b[1;32m      6\u001b[0m url \u001b[38;5;241m=\u001b[39m \u001b[38;5;124m'\u001b[39m\u001b[38;5;124mhttps://raw.githubusercontent.com/rajeevratan84/datascienceforbusiness/master/titanic.csv\u001b[39m\u001b[38;5;124m'\u001b[39m\n",
      "\u001b[0;31mModuleNotFoundError\u001b[0m: No module named 'pandasai.prompts.pandasai'"
     ]
    }
   ],
   "source": [
    "import pandas as pd\n",
    "from pandasai import SmartDataframe\n",
    "from pandasai.prompts.pandasai import get_prompt\n",
    "\n",
    "# Load the dataset\n",
    "url = 'https://raw.githubusercontent.com/rajeevratan84/datascienceforbusiness/master/titanic.csv'\n",
    "df = pd.read_csv(url)\n",
    "\n",
    "# Convert to SmartDataframe\n",
    "smart_df = SmartDataframe(df)\n",
    "\n",
    "# Example question and answer\n",
    "question = \"What is the average fare paid by passengers in each embarkation point?\"\n",
    "answer = smart_df.ask(question)\n",
    "\n",
    "print(answer)\n"
   ]
  },
  {
   "cell_type": "code",
   "execution_count": 71,
   "id": "112152ea",
   "metadata": {},
   "outputs": [
    {
     "data": {
      "text/plain": [
       "True"
      ]
     },
     "execution_count": 71,
     "metadata": {},
     "output_type": "execute_result"
    }
   ],
   "source": [
    "import os\n",
    "from openai import OpenAI\n",
    "from dotenv import load_dotenv\n",
    "\n",
    "# Load environment variables\n",
    "load_dotenv()"
   ]
  },
  {
   "cell_type": "code",
   "execution_count": 81,
   "id": "8dd04258",
   "metadata": {},
   "outputs": [],
   "source": [
    "import os\n",
    "import pandas as pd\n",
    "from langchain_openai import OpenAI\n",
    "from pandasai import SmartDataframe\n",
    "\n",
    "llm =  OpenAI(api_key=os.getenv(\"OPENAI_API_KEY\"))"
   ]
  },
  {
   "cell_type": "code",
   "execution_count": 82,
   "id": "e8a0c766",
   "metadata": {},
   "outputs": [
    {
     "name": "stdout",
     "output_type": "stream",
     "text": [
      "Question: What is the average fare paid by passengers?\n",
      "Answer: Unfortunately, I was not able to answer your question, because of the following error:\n",
      "\n",
      "Error code: 401 - {'error': {'message': 'Incorrect API key provided: sk-proj-*********************************************HAH1. You can find your API key at https://platform.openai.com/account/api-keys.', 'type': 'invalid_request_error', 'param': None, 'code': 'invalid_api_key'}}\n",
      "\n",
      "\n"
     ]
    },
    {
     "name": "stderr",
     "output_type": "stream",
     "text": [
      "Traceback (most recent call last):\n",
      "  File \"/Users/tuchsanai/anaconda3/envs/torch/lib/python3.10/site-packages/pandasai/pipelines/chat/generate_chat_pipeline.py\", line 335, in run\n",
      "    ).run(input)\n",
      "  File \"/Users/tuchsanai/anaconda3/envs/torch/lib/python3.10/site-packages/pandasai/pipelines/pipeline.py\", line 137, in run\n",
      "    raise e\n",
      "  File \"/Users/tuchsanai/anaconda3/envs/torch/lib/python3.10/site-packages/pandasai/pipelines/pipeline.py\", line 101, in run\n",
      "    step_output = logic.execute(\n",
      "  File \"/Users/tuchsanai/anaconda3/envs/torch/lib/python3.10/site-packages/pandasai/pipelines/chat/code_generator.py\", line 33, in execute\n",
      "    code = pipeline_context.config.llm.generate_code(input, pipeline_context)\n",
      "  File \"/Users/tuchsanai/anaconda3/envs/torch/lib/python3.10/site-packages/pandasai/llm/base.py\", line 201, in generate_code\n",
      "    response = self.call(instruction, context)\n",
      "  File \"/Users/tuchsanai/anaconda3/envs/torch/lib/python3.10/site-packages/pandasai/llm/langchain.py\", line 55, in call\n",
      "    res = self.langchain_llm.invoke(prompt)\n",
      "  File \"/Users/tuchsanai/anaconda3/envs/torch/lib/python3.10/site-packages/langchain_core/language_models/llms.py\", line 276, in invoke\n",
      "    self.generate_prompt(\n",
      "  File \"/Users/tuchsanai/anaconda3/envs/torch/lib/python3.10/site-packages/langchain_core/language_models/llms.py\", line 633, in generate_prompt\n",
      "    return self.generate(prompt_strings, stop=stop, callbacks=callbacks, **kwargs)\n",
      "  File \"/Users/tuchsanai/anaconda3/envs/torch/lib/python3.10/site-packages/langchain_core/language_models/llms.py\", line 803, in generate\n",
      "    output = self._generate_helper(\n",
      "  File \"/Users/tuchsanai/anaconda3/envs/torch/lib/python3.10/site-packages/langchain_core/language_models/llms.py\", line 670, in _generate_helper\n",
      "    raise e\n",
      "  File \"/Users/tuchsanai/anaconda3/envs/torch/lib/python3.10/site-packages/langchain_core/language_models/llms.py\", line 657, in _generate_helper\n",
      "    self._generate(\n",
      "  File \"/Users/tuchsanai/anaconda3/envs/torch/lib/python3.10/site-packages/langchain_openai/llms/base.py\", line 353, in _generate\n",
      "    response = self.client.create(prompt=_prompts, **params)\n",
      "  File \"/Users/tuchsanai/anaconda3/envs/torch/lib/python3.10/site-packages/openai/_utils/_utils.py\", line 277, in wrapper\n",
      "    return func(*args, **kwargs)\n",
      "  File \"/Users/tuchsanai/anaconda3/envs/torch/lib/python3.10/site-packages/openai/resources/completions.py\", line 528, in create\n",
      "    return self._post(\n",
      "  File \"/Users/tuchsanai/anaconda3/envs/torch/lib/python3.10/site-packages/openai/_base_client.py\", line 1250, in post\n",
      "    return cast(ResponseT, self.request(cast_to, opts, stream=stream, stream_cls=stream_cls))\n",
      "  File \"/Users/tuchsanai/anaconda3/envs/torch/lib/python3.10/site-packages/openai/_base_client.py\", line 931, in request\n",
      "    return self._request(\n",
      "  File \"/Users/tuchsanai/anaconda3/envs/torch/lib/python3.10/site-packages/openai/_base_client.py\", line 1030, in _request\n",
      "    raise self._make_status_error_from_response(err.response) from None\n",
      "openai.AuthenticationError: Error code: 401 - {'error': {'message': 'Incorrect API key provided: sk-proj-*********************************************HAH1. You can find your API key at https://platform.openai.com/account/api-keys.', 'type': 'invalid_request_error', 'param': None, 'code': 'invalid_api_key'}}\n"
     ]
    }
   ],
   "source": [
    "import os\n",
    "import pandas as pd\n",
    "from langchain_openai import OpenAI\n",
    "from pandasai import SmartDataframe\n",
    "\n",
    "# Ensure the OpenAI API key is set in your environment variables\n",
    "api_key = os.getenv(\"OPENAI_API_KEY\")\n",
    "if not api_key:\n",
    "    raise ValueError(\"OPENAI_API_KEY environment variable is not set.\")\n",
    "\n",
    "\n",
    "# Load the Titanic dataset\n",
    "url = 'https://raw.githubusercontent.com/rajeevratan84/datascienceforbusiness/master/titanic.csv'\n",
    "df = pd.read_csv(url)\n",
    "\n",
    "# Convert to SmartDataframe\n",
    "smart_df =  SmartDataframe(df, config={\"llm\": llm})\n",
    "\n",
    "# Example questions\n",
    "questions = [\n",
    "    \"What is the average fare paid by passengers?\",\n",
    "#     \"How many passengers survived?\",\n",
    "#     \"What is the correlation between age and fare?\",\n",
    "#     \"Which passengers paid more than 100 in fare?\",\n",
    "#     \"What is the median age of passengers?\"\n",
    " ]\n",
    "\n",
    "# Get answers for each question\n",
    "for question in questions:\n",
    "    print(f\"Question: {question}\")\n",
    "    answer = smart_df.chat(question)\n",
    "    print(f\"Answer: {answer}\\n\")\n"
   ]
  },
  {
   "cell_type": "code",
   "execution_count": null,
   "id": "df02422c",
   "metadata": {},
   "outputs": [],
   "source": []
  }
 ],
 "metadata": {
  "kernelspec": {
   "display_name": "torch",
   "language": "python",
   "name": "python3"
  },
  "language_info": {
   "codemirror_mode": {
    "name": "ipython",
    "version": 3
   },
   "file_extension": ".py",
   "mimetype": "text/x-python",
   "name": "python",
   "nbconvert_exporter": "python",
   "pygments_lexer": "ipython3",
   "version": "3.10.13"
  }
 },
 "nbformat": 4,
 "nbformat_minor": 5
}
