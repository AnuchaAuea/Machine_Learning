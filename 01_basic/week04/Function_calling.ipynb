{
  "cells": [
    {
      "cell_type": "markdown",
      "metadata": {},
      "source": [
        "# 🧠 Understanding Function Calling with OpenAI API (Function Tool Calling)\n",
        "\n",
        "In this lesson, we explore **Function Calling** with OpenAI's API — a powerful feature that allows the model to call specific functions based on user intent. This makes the model useful for building **AI agents**, **chatbots**, and **smart automation systems**.\n",
        "\n",
        "---\n",
        "\n",
        "## 🔧 What is Function Calling?\n",
        "\n",
        "Function calling lets the AI decide **when** and **how** to call an external function you've defined — based on the user's query. You define the function's name, parameters, and descriptions, and the model takes care of the rest.\n",
        "\n",
        "---\n",
        "\n",
        "## 🌦️ Example 1: `get_weather` Function\n",
        "\n",
        "This example shows how to define a simple function that gets the weather for a given location.\n",
        "\n",
        "### 🔍 Code:\n",
        "\n",
        "```python\n",
        "from openai import OpenAI\n",
        "\n",
        "client = OpenAI()\n",
        "\n",
        "tools = [{\n",
        "    \"type\": \"function\",\n",
        "    \"name\": \"get_weather\",\n",
        "    \"description\": \"Get current temperature for a given location.\",\n",
        "    \"parameters\": {\n",
        "        \"type\": \"object\",\n",
        "        \"properties\": {\n",
        "            \"location\": {\n",
        "                \"type\": \"string\",\n",
        "                \"description\": \"City and country e.g. Bogotá, Colombia\"\n",
        "            }\n",
        "        },\n",
        "        \"required\": [\"location\"],\n",
        "        \"additionalProperties\": False\n",
        "    }\n",
        "}]\n",
        "\n",
        "response = client.responses.create(\n",
        "    model=\"gpt-4.1\",\n",
        "    input=[{\"role\": \"user\", \"content\": \"What is the weather like in Paris today?\"}],\n",
        "    tools=tools\n",
        ")\n",
        "\n",
        "print(response.output)\n"
      ]
    },
    {
      "cell_type": "markdown",
      "metadata": {},
      "source": [
        "\n",
        "### 🧠 Explanation:\n",
        "\n",
        "* You define a tool named `get_weather` with one required parameter: `location`.\n",
        "* The user asks about the weather in Paris.\n",
        "* The model recognizes this intent and responds by calling the function with `{\"location\": \"Paris\"}`.\n",
        "* The result would be passed back to the user (from a real API or mock function).\n"
      ]
    },
    {
      "cell_type": "markdown",
      "metadata": {},
      "source": [
        "\n",
        "## 📧 Example 2: `send_email` Function\n",
        "\n",
        "Now, let’s see how we define a tool for sending an email.\n",
        "\n",
        "### 🔍 Code:\n",
        "\n",
        "```python\n",
        "from openai import OpenAI\n",
        "\n",
        "client = OpenAI()\n",
        "\n",
        "tools = [{\n",
        "    \"type\": \"function\",\n",
        "    \"name\": \"send_email\",\n",
        "    \"description\": \"Send an email to a recipient with a subject and body.\",\n",
        "    \"parameters\": {\n",
        "        \"type\": \"object\",\n",
        "        \"properties\": {\n",
        "            \"recipient\": {\n",
        "                \"type\": \"string\",\n",
        "                \"description\": \"The recipient's email address.\"\n",
        "            },\n",
        "            \"subject\": {\n",
        "                \"type\": \"string\",\n",
        "                \"description\": \"The subject of the email.\"\n",
        "            },\n",
        "            \"body\": {\n",
        "                \"type\": \"string\",\n",
        "                \"description\": \"The body content of the email.\"\n",
        "            }\n",
        "        },\n",
        "        \"required\": [\"recipient\", \"subject\", \"body\"],\n",
        "        \"additionalProperties\": False\n",
        "    }\n",
        "}]\n",
        "\n",
        "response = client.responses.create(\n",
        "    model=\"gpt-4.1\",\n",
        "    input=[{\"role\": \"user\", \"content\": \"Send an email to john@example.com about the meeting.\"}],\n",
        "    tools=tools\n",
        ")\n",
        "\n",
        "print(response.output)\n",
        "```\n",
        "\n",
        "### 🧠 Explanation:\n",
        "\n",
        "* The `send_email` tool requires 3 fields: `recipient`, `subject`, and `body`.\n",
        "* The model will extract this information from the user's request and call the function accordingly.\n",
        "* This could be used to automate real-world messaging systems with natural language.\n"
      ]
    },
    {
      "cell_type": "code",
      "execution_count": 1,
      "metadata": {},
      "outputs": [
        {
          "name": "stdout",
          "output_type": "stream",
          "text": [
            "Notebook cleaned.\n"
          ]
        }
      ],
      "source": [
        "import IPython\n",
        "import sys\n",
        "\n",
        "def clean_notebook():\n",
        "    IPython.display.clear_output(wait=True)\n",
        "    print(\"Notebook cleaned.\")\n",
        "\n",
        "!pip install openai\n",
        "!pip install python-dotenv\n",
        "\n",
        "# Clean up the notebook\n",
        "clean_notebook()"
      ]
    },
    {
      "cell_type": "code",
      "execution_count": 3,
      "metadata": {},
      "outputs": [
        {
          "data": {
            "text/plain": [
              "True"
            ]
          },
          "execution_count": 3,
          "metadata": {},
          "output_type": "execute_result"
        }
      ],
      "source": [
        "import os\n",
        "from openai import OpenAI\n",
        "from dotenv import load_dotenv\n",
        "\n",
        "# Load environment variables\n",
        "load_dotenv()"
      ]
    },
    {
      "cell_type": "code",
      "execution_count": 4,
      "metadata": {},
      "outputs": [],
      "source": [
        "import os\n",
        "from openai import OpenAI\n",
        "\n",
        "client = OpenAI(api_key=os.getenv(\"OPENAI_API_KEY\"))\n",
        "model_name = \"gpt-4.1\"    \n"
      ]
    },
    {
      "cell_type": "markdown",
      "metadata": {},
      "source": [
        "## Example: Weather Function\n",
        "\n",
        "This is a corrected and complete version of the provided code snippet. We'll define a mock weather function."
      ]
    },
    {
      "cell_type": "code",
      "execution_count": 21,
      "metadata": {},
      "outputs": [
        {
          "name": "stdout",
          "output_type": "stream",
          "text": [
            "ChatCompletionMessage(content=None, refusal=None, role='assistant', annotations=[], audio=None, function_call=None, tool_calls=[ChatCompletionMessageToolCall(id='call_UL8cviJWQefZbc4THMkCFwqB', function=Function(arguments='{\"location\":\"Paris, France\"}', name='get_weather'), type='function')])\n"
          ]
        }
      ],
      "source": [
        "import json\n",
        "\n",
        "# Define the mock function\n",
        "def get_weather(location):\n",
        "    # Mock response; in real scenario, call an API\n",
        "    return f\"The current temperature in {location} is 72°F.\"\n",
        "\n",
        "# Define the tool\n",
        "tools = [\n",
        "    {\n",
        "        \"type\": \"function\",\n",
        "        \"function\": {\n",
        "            \"name\": \"get_weather\",\n",
        "            \"description\": \"Get current temperature for a given location.\",\n",
        "            \"parameters\": {\n",
        "                \"type\": \"object\",\n",
        "                \"properties\": {\n",
        "                    \"location\": {\n",
        "                        \"type\": \"string\",\n",
        "                        \"description\": \"City and country e.g. Bogotá, Colombia\"\n",
        "                    }\n",
        "                },\n",
        "                \"required\": [\"location\"]\n",
        "            }\n",
        "        }\n",
        "    }\n",
        "]\n",
        "\n",
        "# User query\n",
        "messages = [{\"role\": \"user\", \"content\": \"What is the weather like in Paris today?\"}]\n",
        "\n",
        "# First API call\n",
        "response = client.chat.completions.create(\n",
        "    model=\"gpt-4o\",\n",
        "    messages=messages,\n",
        "    tools=tools,\n",
        "    tool_choice=\"auto\"\n",
        ")\n",
        "\n",
        "\n",
        "\n",
        "# Print model's response\n",
        "response_message = response.choices[0].message\n",
        "print(response_message)"
      ]
    },
    {
      "cell_type": "code",
      "execution_count": 22,
      "metadata": {},
      "outputs": [
        {
          "data": {
            "text/plain": [
              "[ChatCompletionMessageToolCall(id='call_UL8cviJWQefZbc4THMkCFwqB', function=Function(arguments='{\"location\":\"Paris, France\"}', name='get_weather'), type='function')]"
            ]
          },
          "execution_count": 22,
          "metadata": {},
          "output_type": "execute_result"
        }
      ],
      "source": [
        "response_message.tool_calls"
      ]
    },
    {
      "cell_type": "code",
      "execution_count": 24,
      "metadata": {},
      "outputs": [
        {
          "data": {
            "text/plain": [
              "Function(arguments='{\"location\":\"Paris, France\"}', name='get_weather')"
            ]
          },
          "execution_count": 24,
          "metadata": {},
          "output_type": "execute_result"
        }
      ],
      "source": [
        "response_message.tool_calls[0].function"
      ]
    },
    {
      "cell_type": "markdown",
      "metadata": {},
      "source": [
        "# Apply to the `get_weather` function to simulate a weather API call.\n"
      ]
    },
    {
      "cell_type": "code",
      "execution_count": 25,
      "metadata": {},
      "outputs": [
        {
          "name": "stdout",
          "output_type": "stream",
          "text": [
            "The current temperature in Paris, France is 72°F.\n"
          ]
        }
      ],
      "source": [
        "tool_calls = response_message.tool_calls\n",
        "\n",
        "# Handle tool calls\n",
        "if tool_calls:\n",
        "    messages.append(response_message)  # Append assistant's message\n",
        "    for tool_call in tool_calls:\n",
        "        function_name = tool_call.function.name\n",
        "        function_args = json.loads(tool_call.function.arguments)\n",
        "        \n",
        "        if function_name == \"get_weather\":\n",
        "            location = function_args[\"location\"]\n",
        "            function_response = get_weather(location)\n",
        "        \n",
        "        messages.append({\n",
        "            \"role\": \"tool\",\n",
        "            \"tool_call_id\": tool_call.id,\n",
        "            \"name\": function_name,\n",
        "            \"content\": function_response\n",
        "        })\n",
        "    \n",
        "    # Second API call for final response\n",
        "    second_response = client.chat.completions.create(\n",
        "        model=\"gpt-4o\",\n",
        "        messages=messages\n",
        "    )\n",
        "    print(second_response.choices[0].message.content)"
      ]
    },
    {
      "cell_type": "markdown",
      "metadata": {},
      "source": [
        "# Multiple  questions"
      ]
    },
    {
      "cell_type": "code",
      "execution_count": 17,
      "metadata": {},
      "outputs": [],
      "source": [
        "import openai\n",
        "import json\n",
        "\n",
        "# Define the mock function\n",
        "def get_weather(location):\n",
        "    # Mock response; in real scenario, call an API\n",
        "    return f\"The current temperature in {location} is 72°F.\"\n",
        "\n",
        "# Define the tool\n",
        "tools = [\n",
        "    {\n",
        "        \"type\": \"function\",\n",
        "        \"function\": {\n",
        "            \"name\": \"get_weather\",\n",
        "            \"description\": \"Get current temperature for a given location.\",\n",
        "            \"parameters\": {\n",
        "                \"type\": \"object\",\n",
        "                \"properties\": {\n",
        "                    \"location\": {\n",
        "                        \"type\": \"string\",\n",
        "                        \"description\": \"City and country e.g. Bogotá, Colombia\"\n",
        "                    }\n",
        "                },\n",
        "                \"required\": [\"location\"]\n",
        "            }\n",
        "        }\n",
        "    }\n",
        "]\n",
        "\n",
        "\n",
        "\n",
        "client = OpenAI(api_key=os.getenv(\"OPENAI_API_KEY\"))\n",
        "model_name = \"gpt-4.1\"    \n"
      ]
    },
    {
      "cell_type": "code",
      "execution_count": 18,
      "metadata": {},
      "outputs": [
        {
          "data": {
            "text/plain": [
              "['ตอนนี้ที่โตเกียว ประเทศญี่ปุ่น อุณหภูมิเท่าไหร่?',\n",
              " 'ช่วยบอกสภาพอากาศที่ไนโรบี ประเทศเคนยาให้หน่อย',\n",
              " 'วันนี้กรุงเทพฯ อากาศร้อนแค่ไหน?',\n",
              " 'ผมจะไปเที่ยวเบอร์ลิน ประเทศเยอรมนี อากาศเป็นยังไงบ้าง?',\n",
              " 'ตอนนี้ที่ซิดนีย์ ประเทศออสเตรเลีย อากาศเป็นอย่างไร?',\n",
              " 'ใครเป็นประธานาธิบดีของฝรั่งเศสคนปัจจุบัน?',\n",
              " 'อธิบายกระบวนการสังเคราะห์แสงให้หน่อย',\n",
              " 'เมืองหลวงของประเทศแคนาดาคือเมืองอะไร?',\n",
              " 'ช่วยสรุปเนื้อเรื่องของโรมิโอและจูเลียตหน่อย',\n",
              " 'ข้าวผัดทำอย่างไร?']"
            ]
          },
          "execution_count": 18,
          "metadata": {},
          "output_type": "execute_result"
        }
      ],
      "source": [
        "# List of questions\n",
        "questions = [\n",
        "    # คำถามที่เรียกใช้ฟังก์ชัน get_weather\n",
        "    \"ตอนนี้ที่โตเกียว ประเทศญี่ปุ่น อุณหภูมิเท่าไหร่?\",\n",
        "    \"ช่วยบอกสภาพอากาศที่ไนโรบี ประเทศเคนยาให้หน่อย\",\n",
        "    \"วันนี้กรุงเทพฯ อากาศร้อนแค่ไหน?\",\n",
        "    \"ผมจะไปเที่ยวเบอร์ลิน ประเทศเยอรมนี อากาศเป็นยังไงบ้าง?\",\n",
        "    \"ตอนนี้ที่ซิดนีย์ ประเทศออสเตรเลีย อากาศเป็นอย่างไร?\",\n",
        "    \n",
        "    # คำถามทั่วไป\n",
        "    \"ใครเป็นประธานาธิบดีของฝรั่งเศสคนปัจจุบัน?\",\n",
        "    \"อธิบายกระบวนการสังเคราะห์แสงให้หน่อย\",\n",
        "    \"เมืองหลวงของประเทศแคนาดาคือเมืองอะไร?\",\n",
        "    \"ช่วยสรุปเนื้อเรื่องของโรมิโอและจูเลียตหน่อย\",\n",
        "    \"ข้าวผัดทำอย่างไร?\"\n",
        "]\n",
        "\n",
        "questions"
      ]
    },
    {
      "cell_type": "code",
      "execution_count": 20,
      "metadata": {},
      "outputs": [
        {
          "name": "stdout",
          "output_type": "stream",
          "text": [
            "\n",
            "Testing question: ตอนนี้ที่โตเกียว ประเทศญี่ปุ่น อุณหภูมิเท่าไหร่?\n",
            "Initial response message:\n",
            "ChatCompletionMessage(content=None, refusal=None, role='assistant', annotations=[], audio=None, function_call=None, tool_calls=[ChatCompletionMessageToolCall(id='call_xUs6qnHPv3WgjibtHhNrgdIT', function=Function(arguments='{\"location\":\"Tokyo, Japan\"}', name='get_weather'), type='function')])\n",
            "Tool call detected. Executing the tool...\n",
            "Final response after tool execution:\n",
            "ขณะนี้ที่โตเกียว ประเทศญี่ปุ่น อุณหภูมิอยู่ที่ 72°F ค่ะ\n",
            "\n",
            "Testing question: ช่วยบอกสภาพอากาศที่ไนโรบี ประเทศเคนยาให้หน่อย\n",
            "Initial response message:\n",
            "ChatCompletionMessage(content=None, refusal=None, role='assistant', annotations=[], audio=None, function_call=None, tool_calls=[ChatCompletionMessageToolCall(id='call_6YFY6sR0QOBzt7gdEfNZhgeY', function=Function(arguments='{\"location\":\"Nairobi, Kenya\"}', name='get_weather'), type='function')])\n",
            "Tool call detected. Executing the tool...\n",
            "Final response after tool execution:\n",
            "อุณหภูมิปัจจุบันที่ไนโรบี ประเทศเคนยา อยู่ที่ 72°F\n",
            "\n",
            "Testing question: วันนี้กรุงเทพฯ อากาศร้อนแค่ไหน?\n",
            "Initial response message:\n",
            "ChatCompletionMessage(content=None, refusal=None, role='assistant', annotations=[], audio=None, function_call=None, tool_calls=[ChatCompletionMessageToolCall(id='call_PUxAVuuZgEMieh2P83Kc122D', function=Function(arguments='{\"location\":\"Bangkok, Thailand\"}', name='get_weather'), type='function')])\n",
            "Tool call detected. Executing the tool...\n",
            "Final response after tool execution:\n",
            "วันนี้กรุงเทพฯ อุณหภูมิอยู่ที่ประมาณ 72°F (22°C) ค่ะ\n",
            "\n",
            "Testing question: ผมจะไปเที่ยวเบอร์ลิน ประเทศเยอรมนี อากาศเป็นยังไงบ้าง?\n",
            "Initial response message:\n",
            "ChatCompletionMessage(content=None, refusal=None, role='assistant', annotations=[], audio=None, function_call=None, tool_calls=[ChatCompletionMessageToolCall(id='call_QzIaxxMaCfpdel13G2w2JW3N', function=Function(arguments='{\"location\":\"Berlin, Germany\"}', name='get_weather'), type='function')])\n",
            "Tool call detected. Executing the tool...\n",
            "Final response after tool execution:\n",
            "ตอนนี้อุณหภูมิในเบอร์ลิน ประเทศเยอรมนี อยู่ที่ 72 องศาฟาเรนไฮต์ ครับ/ค่ะ\n",
            "\n",
            "Testing question: ตอนนี้ที่ซิดนีย์ ประเทศออสเตรเลีย อากาศเป็นอย่างไร?\n",
            "Initial response message:\n",
            "ChatCompletionMessage(content=None, refusal=None, role='assistant', annotations=[], audio=None, function_call=None, tool_calls=[ChatCompletionMessageToolCall(id='call_9KqbbKgZFFeeQJ1PITBvbN5v', function=Function(arguments='{\"location\":\"Sydney, Australia\"}', name='get_weather'), type='function')])\n",
            "Tool call detected. Executing the tool...\n",
            "Final response after tool execution:\n",
            "ตอนนี้ที่ซิดนีย์ ประเทศออสเตรเลีย อุณหภูมิอยู่ที่ 72°F.\n",
            "\n",
            "Testing question: ใครเป็นประธานาธิบดีของฝรั่งเศสคนปัจจุบัน?\n",
            "Initial response message:\n",
            "ChatCompletionMessage(content='ประธานาธิบดีของฝรั่งเศสคนปัจจุบันคือ เอ็มมานูเอล มาครง (Emmanuel Macron) โดยเขาเริ่มดำรงตำแหน่งตั้งแต่วันที่ 14 พฤษภาคม 2017', refusal=None, role='assistant', annotations=[], audio=None, function_call=None, tool_calls=None)\n",
            "No tool call. Direct response:\n",
            "ประธานาธิบดีของฝรั่งเศสคนปัจจุบันคือ เอ็มมานูเอล มาครง (Emmanuel Macron) โดยเขาเริ่มดำรงตำแหน่งตั้งแต่วันที่ 14 พฤษภาคม 2017\n",
            "\n",
            "Testing question: อธิบายกระบวนการสังเคราะห์แสงให้หน่อย\n",
            "Initial response message:\n",
            "ChatCompletionMessage(content='กระบวนการสังเคราะห์แสง (Photosynthesis) เป็นกระบวนการที่พืช สาหร่าย และแบคทีเรียบางประเภทใช้เปลี่ยนพลังงานแสงเป็นพลังงานเคมีในรูปของน้ำตาลหรือสารอินทรีย์อื่น ๆ กระบวนการนี้เกิดขึ้นในคลอโรพลาสต์ของเซลล์พืชและสาหร่าย โดยสามารถอธิบายขั้นตอนได้ดังนี้:\\n\\n1. **การดูดซับแสง**: พืชใช้คลอโรฟิลล์ในคลอโรพลาสต์เพื่อดูดซับแสงจากดวงอาทิตย์ แสงนี้มีพลังงานที่จำเป็นสำหรับกระบวนการสังเคราะห์แสง\\n\\n2. **การแยกน้ำออก (Photolysis)**: แสงที่ถูกดูดซับช่วยแยกน้ำ (H₂O) ออกเป็นออกซิเจน (O₂), โปรตอน (H⁺), และอิเล็กตรอน (e⁻)\\n\\n3. **การสร้างพลังงาน**: อิเล็กตรอนที่ถูกแยกออกจะเดินทางผ่านระบบขนส่งอิเล็กตรอน ทำให้เกิดการเปลี่ยนแปลงพลังงานที่ใช้ในการสร้างสารพลังงานสูงคือ ATP (Adenosine Triphosphate) และ NADPH (Nicotinamide Adenine Dinucleotide Phosphate)\\n\\n4. **การคาร์บอกซิเลชัน (Calvin Cycle)**: ใช้ ATP และ NADPH ที่สร้างขึ้นจากส่วนแรกเพื่อเปลี่ยนคาร์บอนไดออกไซด์ (CO₂) ให้กลายเป็นกลูโคส (C₆H₁₂O₆) น้ำตาลชนิดหนึ่งที่ใช้เป็นแหล่งพลังงานและธาตุโครงสร้างสำหรับพืช\\n\\n5. **ผลผลิตสุดท้าย**: ออกซิเจนเป็นผลผลิตส่วนเกินที่ถูกปล่อยออกไปในบรรยากาศ ซึ่งเป็นประโยชน์ต่อมนุษย์และสิ่งมีชีวิตอื่น ๆ ที่ต้องการออกซิเจนในการหายใจ\\n\\nกระบวนการสังเคราะห์แสงเป็นกระบวนการที่สำคัญต่อชีวิตบนโลกเพราะมันเป็นแหล่งสำคัญของพลังงานและอ็อกซิเจนในระบบนิเวศ', refusal=None, role='assistant', annotations=[], audio=None, function_call=None, tool_calls=None)\n",
            "No tool call. Direct response:\n",
            "กระบวนการสังเคราะห์แสง (Photosynthesis) เป็นกระบวนการที่พืช สาหร่าย และแบคทีเรียบางประเภทใช้เปลี่ยนพลังงานแสงเป็นพลังงานเคมีในรูปของน้ำตาลหรือสารอินทรีย์อื่น ๆ กระบวนการนี้เกิดขึ้นในคลอโรพลาสต์ของเซลล์พืชและสาหร่าย โดยสามารถอธิบายขั้นตอนได้ดังนี้:\n",
            "\n",
            "1. **การดูดซับแสง**: พืชใช้คลอโรฟิลล์ในคลอโรพลาสต์เพื่อดูดซับแสงจากดวงอาทิตย์ แสงนี้มีพลังงานที่จำเป็นสำหรับกระบวนการสังเคราะห์แสง\n",
            "\n",
            "2. **การแยกน้ำออก (Photolysis)**: แสงที่ถูกดูดซับช่วยแยกน้ำ (H₂O) ออกเป็นออกซิเจน (O₂), โปรตอน (H⁺), และอิเล็กตรอน (e⁻)\n",
            "\n",
            "3. **การสร้างพลังงาน**: อิเล็กตรอนที่ถูกแยกออกจะเดินทางผ่านระบบขนส่งอิเล็กตรอน ทำให้เกิดการเปลี่ยนแปลงพลังงานที่ใช้ในการสร้างสารพลังงานสูงคือ ATP (Adenosine Triphosphate) และ NADPH (Nicotinamide Adenine Dinucleotide Phosphate)\n",
            "\n",
            "4. **การคาร์บอกซิเลชัน (Calvin Cycle)**: ใช้ ATP และ NADPH ที่สร้างขึ้นจากส่วนแรกเพื่อเปลี่ยนคาร์บอนไดออกไซด์ (CO₂) ให้กลายเป็นกลูโคส (C₆H₁₂O₆) น้ำตาลชนิดหนึ่งที่ใช้เป็นแหล่งพลังงานและธาตุโครงสร้างสำหรับพืช\n",
            "\n",
            "5. **ผลผลิตสุดท้าย**: ออกซิเจนเป็นผลผลิตส่วนเกินที่ถูกปล่อยออกไปในบรรยากาศ ซึ่งเป็นประโยชน์ต่อมนุษย์และสิ่งมีชีวิตอื่น ๆ ที่ต้องการออกซิเจนในการหายใจ\n",
            "\n",
            "กระบวนการสังเคราะห์แสงเป็นกระบวนการที่สำคัญต่อชีวิตบนโลกเพราะมันเป็นแหล่งสำคัญของพลังงานและอ็อกซิเจนในระบบนิเวศ\n",
            "\n",
            "Testing question: เมืองหลวงของประเทศแคนาดาคือเมืองอะไร?\n",
            "Initial response message:\n",
            "ChatCompletionMessage(content='เมืองหลวงของประเทศแคนาดาคือเมืองออตตาวา (Ottawa) ครับ', refusal=None, role='assistant', annotations=[], audio=None, function_call=None, tool_calls=None)\n",
            "No tool call. Direct response:\n",
            "เมืองหลวงของประเทศแคนาดาคือเมืองออตตาวา (Ottawa) ครับ\n",
            "\n",
            "Testing question: ช่วยสรุปเนื้อเรื่องของโรมิโอและจูเลียตหน่อย\n",
            "Initial response message:\n",
            "ChatCompletionMessage(content='\"โรมิโอและจูเลียต\" เป็นบทละครโศกนาฏกรรมที่เขียนโดยวิลเลียม เชกสเปียร์ เนื้อเรื่องเกี่ยวกับความรักต้องห้ามระหว่างหนุ่มสาวสองคน จากตระกูลใหญ่สองตระกูลในเมืองเวโรนา ประเทศอิตาลี ที่เป็นปฏิปักษ์ต่อกันมาโดยตลอด เรื่องราวเริ่มต้นเมื่อโรมิโอ มอนตาคิว แอบเข้าไปในงานเลี้ยงของตระกูลคาปุเล็ตและพบรักกับจูเลียต คาปุเล็ต\\n\\nแม้ว่าทั้งสองจะรักกันอย่างแท้จริง แต่เพราะความบาดหมางระหว่างสองตระกูล โรมิโอและจูเลียตต้องแอบพบกันและแต่งงานกันอย่างลับ ๆ โดยมีบาทหลวงลอว์เรนซ์เป็นผู้ช่วย หลังจากนั้น โรมิโอเกิดไปมีเรื่องกับไทบัลท์ ลูกพี่ลูกน้องของจูเลียต และฆ่าเขาโดยไม่ได้ตั้งใจ โรมิโอถูกเนรเทศออกจากเมืองเวโรนา\\n\\nจูเลียตที่ถูกบังคับให้หมั้นกับชายอื่น วางแผนลวงโดยใช้ยาพิษที่ทำให้ดูเหมือนเธอตายไป จากบาทหลวงลอว์เรนซ์ ซึ่งจะช่วยให้เธอหนีไปหาโรมิโอ แต่แผนการณ์กลับผิดพลาด เมื่อโรมิโอคิดว่าจูเลียตตายจริง ๆ เขาจึงตัดสินใจกินยาพิษฆ่าตัวตาย เมื่อจูเลียตตื่นขึ้นและพบว่าโรมิโอตายแล้ว เธอจึงใช้มีดปลิดชีพตนเอง เรื่องราวจบลงด้วยความโศกเศร้า ที่นำพาสองตระกูลให้ยุติความบาดหมางเพื่อรำลึกถึงความรักของโรมิโอและจูเลียต', refusal=None, role='assistant', annotations=[], audio=None, function_call=None, tool_calls=None)\n",
            "No tool call. Direct response:\n",
            "\"โรมิโอและจูเลียต\" เป็นบทละครโศกนาฏกรรมที่เขียนโดยวิลเลียม เชกสเปียร์ เนื้อเรื่องเกี่ยวกับความรักต้องห้ามระหว่างหนุ่มสาวสองคน จากตระกูลใหญ่สองตระกูลในเมืองเวโรนา ประเทศอิตาลี ที่เป็นปฏิปักษ์ต่อกันมาโดยตลอด เรื่องราวเริ่มต้นเมื่อโรมิโอ มอนตาคิว แอบเข้าไปในงานเลี้ยงของตระกูลคาปุเล็ตและพบรักกับจูเลียต คาปุเล็ต\n",
            "\n",
            "แม้ว่าทั้งสองจะรักกันอย่างแท้จริง แต่เพราะความบาดหมางระหว่างสองตระกูล โรมิโอและจูเลียตต้องแอบพบกันและแต่งงานกันอย่างลับ ๆ โดยมีบาทหลวงลอว์เรนซ์เป็นผู้ช่วย หลังจากนั้น โรมิโอเกิดไปมีเรื่องกับไทบัลท์ ลูกพี่ลูกน้องของจูเลียต และฆ่าเขาโดยไม่ได้ตั้งใจ โรมิโอถูกเนรเทศออกจากเมืองเวโรนา\n",
            "\n",
            "จูเลียตที่ถูกบังคับให้หมั้นกับชายอื่น วางแผนลวงโดยใช้ยาพิษที่ทำให้ดูเหมือนเธอตายไป จากบาทหลวงลอว์เรนซ์ ซึ่งจะช่วยให้เธอหนีไปหาโรมิโอ แต่แผนการณ์กลับผิดพลาด เมื่อโรมิโอคิดว่าจูเลียตตายจริง ๆ เขาจึงตัดสินใจกินยาพิษฆ่าตัวตาย เมื่อจูเลียตตื่นขึ้นและพบว่าโรมิโอตายแล้ว เธอจึงใช้มีดปลิดชีพตนเอง เรื่องราวจบลงด้วยความโศกเศร้า ที่นำพาสองตระกูลให้ยุติความบาดหมางเพื่อรำลึกถึงความรักของโรมิโอและจูเลียต\n",
            "\n",
            "Testing question: ข้าวผัดทำอย่างไร?\n",
            "Initial response message:\n",
            "ChatCompletionMessage(content='การทำข้าวผัดเป็นเรื่องง่ายและสามารถทำได้ที่บ้านด้วยวัตถุดิบที่หาได้ทั่วไป นี่คือวิธีทำข้าวผัดแบบพื้นฐาน:\\n\\n### วัตถุดิบ:\\n- ข้าวสุก 2 ถ้วย (ควรใช้ข้าวที่หุงทิ้งไว้ให้เย็นก่อน)\\n- ไข่ไก่ 2 ฟอง\\n- กระเทียมสับ 2 กลีบ\\n- หอมใหญ่หั่น 1/2 ลูก\\n- แครอทหั่นเต๋า 1/2 ลูก\\n- ต้นหอมซอย 2 ต้น\\n- ซอสถั่วเหลือง (ซีอิ๊วขาว) 2 ช้อนโต๊ะ\\n- ซอสหอยนางรม 1 ช้อนโต๊ะ\\n- น้ำตาลทราย 1 ช้อนชา\\n- น้ำมันพืช 2 ช้อนโต๊ะ\\n- พริกไทยและเกลือเล็กน้อย\\n\\n### วิธีทำ:\\n1. ตั้งกระทะบนไฟกลาง เพิ่มน้ำมันพืช แล้วใส่กระเทียมสับลงไปผัดจนหอม\\n2. ใส่หอมใหญ่และแครอทลงไปผัดจนสุก\\n3. ดันส่วนผสมในกระทะไปด้านข้าง แล้วตอกไข่ลงไป คนให้ไข่สุกและผสมเข้ากับส่วนผสมอื่นๆ\\n4. ใส่ข้าวสุกลงไปในกระทะ ใช้ไฟแรงขึ้น ผัดให้ทุกอย่างเข้ากันดี\\n5. เติมซอสถั่วเหลือง ซอสหอยนางรม และน้ำตาล ชิมรสและปรุงเพิ่มตามชอบ ผัดจนทุกอย่างเข้ากันดี\\n6. ใส่ต้นหอมซอยลงไป และปิดไฟ\\n7. ตักข้าวผัดใส่จาน เสิร์ฟพร้อมแตงกวาหรือมะนาวซีก\\n\\nเพียงเท่านี้ คุณก็จะได้ข้าวผัดรสชาติอร่อยที่สามารถทำได้ง่ายๆ ที่บ้านค่ะ!', refusal=None, role='assistant', annotations=[], audio=None, function_call=None, tool_calls=None)\n",
            "No tool call. Direct response:\n",
            "การทำข้าวผัดเป็นเรื่องง่ายและสามารถทำได้ที่บ้านด้วยวัตถุดิบที่หาได้ทั่วไป นี่คือวิธีทำข้าวผัดแบบพื้นฐาน:\n",
            "\n",
            "### วัตถุดิบ:\n",
            "- ข้าวสุก 2 ถ้วย (ควรใช้ข้าวที่หุงทิ้งไว้ให้เย็นก่อน)\n",
            "- ไข่ไก่ 2 ฟอง\n",
            "- กระเทียมสับ 2 กลีบ\n",
            "- หอมใหญ่หั่น 1/2 ลูก\n",
            "- แครอทหั่นเต๋า 1/2 ลูก\n",
            "- ต้นหอมซอย 2 ต้น\n",
            "- ซอสถั่วเหลือง (ซีอิ๊วขาว) 2 ช้อนโต๊ะ\n",
            "- ซอสหอยนางรม 1 ช้อนโต๊ะ\n",
            "- น้ำตาลทราย 1 ช้อนชา\n",
            "- น้ำมันพืช 2 ช้อนโต๊ะ\n",
            "- พริกไทยและเกลือเล็กน้อย\n",
            "\n",
            "### วิธีทำ:\n",
            "1. ตั้งกระทะบนไฟกลาง เพิ่มน้ำมันพืช แล้วใส่กระเทียมสับลงไปผัดจนหอม\n",
            "2. ใส่หอมใหญ่และแครอทลงไปผัดจนสุก\n",
            "3. ดันส่วนผสมในกระทะไปด้านข้าง แล้วตอกไข่ลงไป คนให้ไข่สุกและผสมเข้ากับส่วนผสมอื่นๆ\n",
            "4. ใส่ข้าวสุกลงไปในกระทะ ใช้ไฟแรงขึ้น ผัดให้ทุกอย่างเข้ากันดี\n",
            "5. เติมซอสถั่วเหลือง ซอสหอยนางรม และน้ำตาล ชิมรสและปรุงเพิ่มตามชอบ ผัดจนทุกอย่างเข้ากันดี\n",
            "6. ใส่ต้นหอมซอยลงไป และปิดไฟ\n",
            "7. ตักข้าวผัดใส่จาน เสิร์ฟพร้อมแตงกวาหรือมะนาวซีก\n",
            "\n",
            "เพียงเท่านี้ คุณก็จะได้ข้าวผัดรสชาติอร่อยที่สามารถทำได้ง่ายๆ ที่บ้านค่ะ!\n"
          ]
        }
      ],
      "source": [
        "\n",
        "\n",
        "\n",
        "# Loop through each question to test the code\n",
        "for question in questions:\n",
        "    print(f\"\\nTesting question: {question}\")\n",
        "    \n",
        "    # User query\n",
        "    messages = [{\"role\": \"user\", \"content\": question}]\n",
        "    \n",
        "    # First API call to check if tool is needed\n",
        "    response = client.chat.completions.create(\n",
        "        model=\"gpt-4o\",\n",
        "        messages=messages,\n",
        "        tools=tools,\n",
        "        tool_choice=\"auto\"\n",
        "    )\n",
        "    \n",
        "    # Get model's response\n",
        "    response_message = response.choices[0].message\n",
        "    print(\"Initial response message:\")\n",
        "    print(response_message)\n",
        "    \n",
        "    # Check if tool call is triggered\n",
        "    if response_message.tool_calls:\n",
        "        print(\"Tool call detected. Executing the tool...\")\n",
        "        \n",
        "        # Assuming single tool call for simplicity\n",
        "        tool_call = response_message.tool_calls[0]\n",
        "        function_name = tool_call.function.name\n",
        "        function_args = json.loads(tool_call.function.arguments)\n",
        "        \n",
        "        if function_name == \"get_weather\":\n",
        "            # Call the mock function\n",
        "            function_response = get_weather(function_args[\"location\"])\n",
        "            \n",
        "            # Append the tool response to messages\n",
        "            messages.append(response_message)  # Append the assistant's message with tool call\n",
        "            messages.append({\n",
        "                \"role\": \"tool\",\n",
        "                \"content\": function_response,\n",
        "                \"tool_call_id\": tool_call.id\n",
        "            })\n",
        "            \n",
        "            # Second API call to get the final response\n",
        "            second_response = client.chat.completions.create(\n",
        "                model=\"gpt-4o\",\n",
        "                messages=messages,\n",
        "                tools=tools,\n",
        "                tool_choice=\"auto\"\n",
        "            )\n",
        "            \n",
        "            final_message = second_response.choices[0].message\n",
        "            print(\"Final response after tool execution:\")\n",
        "            print(final_message.content)\n",
        "        else:\n",
        "            print(\"Unknown tool called.\")\n",
        "    else:\n",
        "        # No tool call, direct response\n",
        "        print(\"No tool call. Direct response:\")\n",
        "        print(response_message.content)\n"
      ]
    },
    {
      "cell_type": "markdown",
      "metadata": {},
      "source": [
        "## Practice Questions\n",
        "\n",
        "For each of the following 10 questions, define the appropriate tool(s), mock function(s), and implement the full function calling flow. Test with the given user query.\n",
        "\n",
        "### Question 1: Currency Conversion\n",
        "Create a tool to convert an amount from one currency to another (e.g., USD to EUR). Mock the conversion rate. Query: \"Convert 100 USD to EUR.\""
      ]
    },
    {
      "cell_type": "code",
      "execution_count": null,
      "metadata": {},
      "outputs": [],
      "source": [
        "# Your code here"
      ]
    },
    {
      "cell_type": "markdown",
      "metadata": {},
      "source": [
        "### Question 2: Current Time in Timezone\n",
        "Create a tool to get the current time in a specific timezone. Use Python's datetime for mock. Query: \"What time is it in Tokyo?\""
      ]
    },
    {
      "cell_type": "code",
      "execution_count": null,
      "metadata": {},
      "outputs": [],
      "source": [
        "# Your code here"
      ]
    },
    {
      "cell_type": "markdown",
      "metadata": {},
      "source": [
        "### Question 3: Stock Price Lookup\n",
        "Create a tool to get the current stock price for a company. Mock the price. Query: \"What's the stock price of Apple?\""
      ]
    },
    {
      "cell_type": "code",
      "execution_count": null,
      "metadata": {},
      "outputs": [],
      "source": [
        "# Your code here"
      ]
    },
    {
      "cell_type": "markdown",
      "metadata": {},
      "source": [
        "### Question 4: Math Calculation\n",
        "Create a tool to evaluate a math expression. Use eval() for mock (be careful). Query: \"What is 15 * 12?\""
      ]
    },
    {
      "cell_type": "code",
      "execution_count": null,
      "metadata": {},
      "outputs": [],
      "source": [
        "# Your code here"
      ]
    },
    {
      "cell_type": "markdown",
      "metadata": {},
      "source": [
        "### Question 5: Get a Random Joke\n",
        "Create a tool to fetch a random joke. Mock with a list of jokes. Query: \"Tell me a joke.\""
      ]
    },
    {
      "cell_type": "code",
      "execution_count": null,
      "metadata": {},
      "outputs": [],
      "source": [
        "# Your code here"
      ]
    },
    {
      "cell_type": "markdown",
      "metadata": {},
      "source": [
        "### Question 6: Text Translation\n",
        "Create a tool to translate text from English to Spanish. Mock with simple dictionary or fixed response. Query: \"Translate 'Hello, how are you?' to Spanish.\""
      ]
    },
    {
      "cell_type": "code",
      "execution_count": null,
      "metadata": {},
      "outputs": [],
      "source": [
        "# Your code here"
      ]
    },
    {
      "cell_type": "markdown",
      "metadata": {},
      "source": [
        "### Question 7: Capital of a Country\n",
        "Create a tool to get the capital city of a country. Mock with a dictionary. Query: \"What is the capital of Japan?\""
      ]
    },
    {
      "cell_type": "code",
      "execution_count": null,
      "metadata": {},
      "outputs": [],
      "source": [
        "# Your code here"
      ]
    },
    {
      "cell_type": "markdown",
      "metadata": {},
      "source": [
        "### Question 8: Add Two Numbers\n",
        "Create a tool to add two numbers. Query: \"Add 45 and 67.\""
      ]
    },
    {
      "cell_type": "code",
      "execution_count": null,
      "metadata": {},
      "outputs": [],
      "source": [
        "# Your code here"
      ]
    },
    {
      "cell_type": "markdown",
      "metadata": {},
      "source": [
        "### Question 9: Latest News Headline\n",
        "Create a tool to get the latest news on a topic. Mock response. Query: \"What's the latest news on AI?\""
      ]
    },
    {
      "cell_type": "code",
      "execution_count": null,
      "metadata": {},
      "outputs": [],
      "source": [
        "# Your code here"
      ]
    },
    {
      "cell_type": "markdown",
      "metadata": {},
      "source": [
        "### Question 10: Get User Email\n",
        "Create a tool to retrieve a user's email by username. Mock with dictionary. Query: \"What's the email for user john_doe?\""
      ]
    },
    {
      "cell_type": "code",
      "execution_count": null,
      "metadata": {},
      "outputs": [],
      "source": [
        "# Your code here"
      ]
    }
  ],
  "metadata": {
    "kernelspec": {
      "display_name": "torch",
      "language": "python",
      "name": "python3"
    },
    "language_info": {
      "codemirror_mode": {
        "name": "ipython",
        "version": 3
      },
      "file_extension": ".py",
      "mimetype": "text/x-python",
      "name": "python",
      "nbconvert_exporter": "python",
      "pygments_lexer": "ipython3",
      "version": "3.12.7"
    }
  },
  "nbformat": 4,
  "nbformat_minor": 4
}
