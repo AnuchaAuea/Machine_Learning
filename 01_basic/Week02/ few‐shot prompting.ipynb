{
 "cells": [
  {
   "cell_type": "code",
   "execution_count": 7,
   "id": "2436b659",
   "metadata": {},
   "outputs": [
    {
     "name": "stdout",
     "output_type": "stream",
     "text": [
      "Notebook cleaned.\n"
     ]
    }
   ],
   "source": [
    "import IPython\n",
    "import sys\n",
    "\n",
    "def clean_notebook():\n",
    "    IPython.display.clear_output(wait=True)\n",
    "    print(\"Notebook cleaned.\")\n",
    "\n",
    "!pip install openai\n",
    "!pip install gradio\n",
    "!pip install python-dotenv\n",
    "\n",
    "# Clean up the notebook\n",
    "clean_notebook()"
   ]
  },
  {
   "cell_type": "code",
   "execution_count": 1,
   "id": "6c4db6b1",
   "metadata": {},
   "outputs": [
    {
     "data": {
      "text/plain": [
       "True"
      ]
     },
     "execution_count": 1,
     "metadata": {},
     "output_type": "execute_result"
    }
   ],
   "source": [
    "import os\n",
    "from openai import OpenAI\n",
    "from dotenv import load_dotenv\n",
    "\n",
    "# Load environment variables\n",
    "load_dotenv()"
   ]
  },
  {
   "cell_type": "code",
   "execution_count": 2,
   "id": "e0894706",
   "metadata": {},
   "outputs": [],
   "source": [
    "import os\n",
    "from openai import OpenAI\n",
    "\n",
    "client = OpenAI(api_key=os.getenv(\"OPENAI_API_KEY\"))\n",
    "model_name = \"gpt-4.1\"    "
   ]
  },
  {
   "cell_type": "code",
   "execution_count": 4,
   "id": "f9316fdb",
   "metadata": {},
   "outputs": [
    {
     "name": "stdout",
     "output_type": "stream",
     "text": [
      "1. เริ่มจากการดูเลขคี่ในกลุ่มแต่ละกลุ่มที่รวมกันแล้วได้ผลลัพธ์เป็นเลขคู่\n",
      "2. ในกลุ่มแรก (4, 8, 9, 15, 12, 2, 1) มีเลขคี่ 9 และ 15 ซึ่งรวมกันได้ 24 (เลขคู่) ดังนั้นคำตอบคือ \"ไม่ใช่\"\n",
      "3. ในกลุ่มที่สอง (17, 10, 19, 4, 8, 12, 24) มีเลขคี่ 17 และ 19 ซึ่งรวมกันได้ 36 (เลขคู่) ดังนั้นคำตอบคือ \"ใช่\"\n",
      "4. ในกลุ่มที่สาม (16, 11, 14, 4, 8, 13, 24) มีเลขคี่ 11 และ 13 ซึ่งรวมกันได้ 24 (เลขคู่) ดังนั้นคำตอบคือ \"ใช่\"\n",
      "5. ในกลุ่มที่สี่ (17, 9, 10, 12, 13, 4, 2) มีเลขคี่ 9 และ 13 ซึ่งรวมกันได้ 22 (เลขคี่) ดังนั้นคำตอบคือ \"ไม่ใช่\"\n",
      "6. ในกลุ่มที่ห้า (15, 32, 5, 13, 82, 7, 1) มีเลขคี่ 5, 13, 7, 1 ซึ่งรวมกันได้ 26 (เลขคี่) ดังนั้นคำตอบคือ \"ไม่ใช่\"\n"
     ]
    }
   ],
   "source": [
    "import os\n",
    "from openai import OpenAI\n",
    "\n",
    "\n",
    "# 2. Build your few-shot prompt\n",
    "few_shot = \"\"\"\n",
    "เลขคี่ในกลุ่มนี้รวมกันแล้วได้ผลลัพธ์เป็นเลขคู่: 4, 8, 9, 15, 12, 2, 1\n",
    "A: คำตอบคือ ไม่ใช่\n",
    "\n",
    "เลขคี่ในกลุ่มนี้รวมกันแล้วได้ผลลัพธ์เป็นเลขคู่: 17, 10, 19, 4, 8, 12, 24\n",
    "A: คำตอบคือ ใช่\n",
    "\n",
    "เลขคี่ในกลุ่มนี้รวมกันแล้วได้ผลลัพธ์เป็นเลขคู่: 16, 11, 14, 4, 8, 13, 24\n",
    "A: คำตอบคือ ใช่\n",
    "\n",
    "เลขคี่ในกลุ่มนี้รวมกันแล้วได้ผลลัพธ์เป็นเลขคู่: 17, 9, 10, 12, 13, 4, 2\n",
    "A: คำตอบคือ ไม่ใช่\n",
    "\n",
    "เลขคี่ในกลุ่มนี้รวมกันแล้วได้ผลลัพธ์เป็นเลขคู่: 15, 32, 5, 13, 82, 7, 1\n",
    "A:\n",
    "\"\"\"\n",
    "\n",
    "# 3. Prepare messages for Chat API\n",
    "messages = [\n",
    "    {\"role\": \"system\", \"content\": \"You are a helpful assistant that thinks step by step.\"},\n",
    "    {\"role\": \"user\", \"content\": few_shot + \"Let's think step by step.\\n\"}\n",
    "]\n",
    "\n",
    "# 4. Call the API\n",
    "response = client.chat.completions.create(\n",
    "    model=model_name,\n",
    "    messages=messages,\n",
    "    temperature=0  # deterministic\n",
    ")\n",
    "\n",
    "# 5. Show the answer\n",
    "print(response.choices[0].message.content)\n"
   ]
  },
  {
   "cell_type": "markdown",
   "id": "0f11038a",
   "metadata": {},
   "source": [
    "# Abbreviation Expansion (Thai)"
   ]
  },
  {
   "cell_type": "code",
   "execution_count": 5,
   "id": "37a76881",
   "metadata": {},
   "outputs": [
    {
     "name": "stdout",
     "output_type": "stream",
     "text": [
      "To expand the abbreviation \"กทม.\", we can break it down into its individual parts:\n",
      "\n",
      "1. \"ก\" stands for \"กรุง\" which means city.\n",
      "2. \"ท\" stands for \"เทพ\" which means angel.\n",
      "3. \"ม\" stands for \"มหานคร\" which means capital city.\n",
      "\n",
      "Therefore, \"กทม.\" expanded is \"กรุงเทพมหานคร\" which translates to \"Bangkok\" in English.\n"
     ]
    }
   ],
   "source": [
    "import os\n",
    "from openai import OpenAI\n",
    "\n",
    "\n",
    "# 2. Build your few-shot prompt\n",
    "few_shot = \"\"\"\n",
    "Input: “ปชช.”  \n",
    "Expanded: “ประชาชน”\n",
    "\n",
    "Input: “ตม.”  \n",
    "Expanded: “ตรวจคนเข้าเมือง”\n",
    "\n",
    "Input: “สธ.”  \n",
    "Expanded: “กระทรวงสาธารณสุข”\n",
    "\n",
    "Input: “กทม.”  \n",
    "Expanded:\n",
    "\"\"\"\n",
    "\n",
    "# 3. Prepare messages for Chat API\n",
    "messages = [\n",
    "    {\"role\": \"system\", \"content\": \"You are a helpful assistant that thinks step by step.\"},\n",
    "    {\"role\": \"user\", \"content\": few_shot + \"Let's think step by step.\\n\"}\n",
    "]\n",
    "\n",
    "# 4. Call the API\n",
    "response = client.chat.completions.create(\n",
    "    model=model_name,\n",
    "    messages=messages,\n",
    "    temperature=0  # deterministic\n",
    ")\n",
    "\n",
    "# 5. Show the answer\n",
    "print(response.choices[0].message.content)\n"
   ]
  },
  {
   "cell_type": "markdown",
   "id": "26036cdd",
   "metadata": {},
   "source": [
    "แน่นอนครับ นี่คือเวอร์ชันที่จัดรูปแบบใหม่ให้อ่านง่ายขึ้นและสบายตา:\n",
    "\n",
    "---\n",
    "\n",
    "## 🏷️ Named Entity Recognition (NER): หมวดหมู่ของ Entity\n",
    "\n",
    "**Named Entity Recognition (NER)** คือกระบวนการในงานประมวลผลภาษาธรรมชาติ (NLP) ที่ใช้ในการระบุและจัดประเภทคำหรือกลุ่มคำในข้อความให้อยู่ในหมวดหมู่ต่าง ๆ เช่น:\n",
    "\n",
    "ได้เลยครับ นี่คือสรุป **หมวดหมู่ของ Named Entity Recognition (NER)** แบบสั้น ๆ เรียงตามลำดับ:\n",
    "\n",
    "1. **👤 บุคคล (Person)** — ชื่อคน เช่น นักเขียน กษัตริย์\n",
    "   *ตัวอย่าง:* `สมเด็จพระนางเจ้าสิริกิติ์`\n",
    "\n",
    "2. **🏛️ องค์กร (Organization)** — ชื่อบริษัท หน่วยงาน\n",
    "   *ตัวอย่าง:* `มหาวิทยาลัยมหิดล`, `AIS`\n",
    "\n",
    "3. **📍 สถานที่ (Location)** — เมือง จังหวัด ประเทศ\n",
    "   *ตัวอย่าง:* `กรุงเทพมหานคร`\n",
    "\n",
    "4. **🗓️ วันที่ / เวลา (Date / Time)** — วัน เดือน ปี เวลา\n",
    "   *ตัวอย่าง:* `1 มิถุนายน 2025`\n",
    "\n",
    "5. **🔢 จำนวน (Quantity)** — ตัวเลขที่มีหน่วย\n",
    "   *ตัวอย่าง:* `500 กรัม`\n",
    "\n",
    "6. **💰 จำนวนเงิน (Money)** — จำนวนเงินพร้อมสกุล\n",
    "   *ตัวอย่าง:* `1,000 บาท`\n",
    "\n",
    "7. **📊 เปอร์เซ็นต์ (Percent)** — ค่าร้อยละ\n",
    "   *ตัวอย่าง:* `75%`\n",
    "\n",
    "8. **📚 ผลงาน (Work)** — ชื่อหนังสือ เพลง ภาพยนตร์\n",
    "   *ตัวอย่าง:* `เศรษฐศาสตร์พอเพียง`\n",
    "\n",
    "9. **📦 สินค้า (Product)** — ชื่อสินค้า ยี่ห้อ รุ่น\n",
    "   *ตัวอย่าง:* `iPhone 12`\n",
    "\n",
    "10. **🈯 ภาษา (Language)** — ชื่อของภาษา\n",
    "    *ตัวอย่าง:* `ภาษาไทย`, `English`\n",
    "\n",
    "\n",
    "\n"
   ]
  },
  {
   "cell_type": "markdown",
   "id": "827c4004",
   "metadata": {},
   "source": [
    "ต่อไปนี้คือตัวอย่าง  ประโยคพร้อมการระบุ Named Entity Recognition (NER) ตามหมวดหมู่ที่กำหนด:\n",
    "\n",
    "1. **ประโยค**: สมเด็จพระกนิษฐาธิราชเจ้าเสด็จไปทรงงานที่จังหวัดเชียงใหม่  \n",
    "   **Entities**: [“สมเด็จพระกนิษฐาธิราชเจ้า” (Person), “จังหวัดเชียงใหม่” (Location)]\n",
    "\n",
    "2. **ประโยค**: บริษัท การบินไทย เปิดตัวแคมเปญตั๋วราคาพิเศษ 1,500 บาท  \n",
    "   **Entities**: [“การบินไทย” (Organization), “1,500 บาท” (Money)]\n",
    "\n",
    "3. **ประโยค**: กรุงเทพมหานครจัดงานเทศกาลสงกรานต์วันที่ 13 เมษายน 2568  \n",
    "   **Entities**: [“กรุงเทพมหานคร” (Location), “สงกรานต์” (Event), “13 เมษายน 2568” (Date)]\n",
    "\n",
    "4. **ประโยค**: ไอโฟน 14 เปิดตัวในประเทศไทยเมื่อวันที่ 7 ตุลาคม 2022  \n",
    "   **Entities**: [“ไอโฟน 14” (Product), “ประเทศไทย” (Location), “7 ตุลาคม 2022” (Date)]\n",
    "\n",
    "5. **ประโยค**: มหาวิทยาลัยธรรมศาสตร์ครบรอบ 90 ปีในปี 2024  \n",
    "   **Entities**: [“มหาวิทยาลัยธรรมศาสตร์” (Organization), “90 ปี” (Quantity), “2024” (Date)]\n",
    "\n",
    "6. **ประโยค**: นายกรัฐมนตรีสั่งเพิ่มงบประมาณ 2,000 ล้านบาทให้กระทรวงสาธารณสุข  \n",
    "   **Entities**: [“นายกรัฐมนตรี” (Person), “2,000 ล้านบาท” (Money), “กระทรวงสาธารณสุข” (Organization)]\n",
    "\n",
    "7. **ประโยค**: ทีมชาติไทยคว้าแชมป์ฟุตบอลที่สิงคโปร์เมื่อวานนี้  \n",
    "   **Entities**: [“ทีมชาติไทย” (Organization), “สิงคโปร์” (Location), “เมื่อวานนี้” (Date)]\n",
    "\n",
    "8. **ประโยค**: เพลง “ลาลาลอย” ได้รับรางวัลเพลงยอดนิยมในปี 2567  \n",
    "   **Entities**: [“ลาลาลอย” (Work), “2567” (Date)]\n",
    "\n",
    "9. **ประโยค**: ร้านกาแฟสตาร์บัคส์ที่ภูเก็ตมียอดขายเพิ่มขึ้นร้อยละ 15  \n",
    "   **Entities**: [“สตาร์บัคส์” (Organization), “ภูเก็ต” (Location), “ร้อยละ 15” (Percent)]\n",
    "\n",
    "10. **ประโยค**: นักเขียนชาวไทยได้รับรางวัลจากงานหนังสือที่เยอรมนี  \n",
    "   **Entities**: [“นักเขียนชาวไทย” (Person), “เยอรมนี” (Location)]\n",
    "\n",
    "11. **ประโยค**: โตโยต้า คัมรี่ รุ่นใหม่วางจำหน่ายในราคา 1.5 ล้านบาท  \n",
    "   **Entities**: [“โตโยต้า คัมรี่” (Product), “1.5 ล้านบาท” (Money)]\n",
    "\n",
    "12. **ประโยค**: ภาษาไทยถูกกำหนดให้เป็นวิชาบังคับในโรงเรียนตั้งแต่ปี 2510  \n",
    "   **Entities**: [“ภาษาไทย” (Language), “2510” (Date)]\n",
    "\n",
    "13. **ประโยค**: น้ำหนักของข้าวสารที่ซื้อมาคือ 25 กิโลกรัม  \n",
    "   **Entities**: [“25 กิโลกรัม” (Quantity)]\n",
    "\n",
    "14. **ประโยค**: ภาพยนตร์ “สัปเหร่อ” ทำรายได้ 700 ล้านบาทในประเทศไทย  \n",
    "   **Entities**: [“สัปเหร่อ” (Work), “700 ล้านบาท” (Money), “ประเทศไทย” (Location)]\n",
    "\n",
    "15. **ประโยค**: ธนาคารกสิกรไทยเปิดสาขาใหม่ที่ห้างเซ็นทรัลลาดพร้าว  \n",
    "   **Entities**: [“ธนาคารกสิกรไทย” (Organization), “เซ็นทรัลลาดพร้าว” (Location)]\n",
    "\n",
    "16. **ประโยค**: การประชุมเริ่มเวลา 09:00 น. ที่โรงแรมในจังหวัดขอนแก่น  \n",
    "   **Entities**: [“09:00 น.” (Time), “จังหวัดขอนแก่น” (Location)]\n",
    "\n",
    "17. **ประโยค**: น้ำมันดีเซลราคาเพิ่มขึ้นร้อยละ 5 ตั้งแต่เดือนมกราคม 2568  \n",
    "   **Entities**: [“ร้อยละ 5” (Percent), “มกราคม 2568” (Date)]\n",
    "\n",
    "18. **ประโยค**: แกงส้มสูตรปักษ์ใต้ใช้กุ้งหนัก 300 กรัม  \n",
    "   **Entities**: [“300 กรัม” (Quantity)]\n",
    "\n",
    "19. **ประโยค**: งานวัดภูเขาทองจัดขึ้นระหว่างวันที่ 10-15 พฤศจิกายน 2568  \n",
    "   **Entities**: [“วัดภูเขาทอง” (Location), “10-15 พฤศจิกายน 2568” (Date)]\n",
    "\n"
   ]
  },
  {
   "cell_type": "code",
   "execution_count": null,
   "id": "8fbfa081",
   "metadata": {},
   "outputs": [],
   "source": [
    "import os\n",
    "from openai import OpenAI\n",
    "\n",
    "\n",
    "# 2. Build your few-shot prompt\n",
    "few_shot = \"\"\"\n",
    "เลขคี่ในกลุ่มนี้รวมกันแล้วได้ผลลัพธ์เป็นเลขคู่: 4, 8, 9, 15, 12, 2, 1\n",
    "A: คำตอบคือ ไม่ใช่\n",
    "\n",
    "เลขคี่ในกลุ่มนี้รวมกันแล้วได้ผลลัพธ์เป็นเลขคู่: 17, 10, 19, 4, 8, 12, 24\n",
    "A: คำตอบคือ ใช่\n",
    "\n",
    "เลขคี่ในกลุ่มนี้รวมกันแล้วได้ผลลัพธ์เป็นเลขคู่: 16, 11, 14, 4, 8, 13, 24\n",
    "A: คำตอบคือ ใช่\n",
    "\n",
    "เลขคี่ในกลุ่มนี้รวมกันแล้วได้ผลลัพธ์เป็นเลขคู่: 17, 9, 10, 12, 13, 4, 2\n",
    "A: คำตอบคือ ไม่ใช่\n",
    "\n",
    "เลขคี่ในกลุ่มนี้รวมกันแล้วได้ผลลัพธ์เป็นเลขคู่: 15, 32, 5, 13, 82, 7, 1\n",
    "A:\n",
    "\"\"\"\n",
    "\n",
    "# 3. Prepare messages for Chat API\n",
    "messages = [\n",
    "    {\"role\": \"system\", \"content\": \"You are a helpful assistant that thinks step by step.\"},\n",
    "    {\"role\": \"user\", \"content\": few_shot + \"Let's think step by step.\\n\"}\n",
    "]\n",
    "\n",
    "# 4. Call the API\n",
    "response = client.chat.completions.create(\n",
    "    model=model_name,\n",
    "    messages=messages,\n",
    "    temperature=0  # deterministic\n",
    ")\n",
    "\n",
    "# 5. Show the answer\n",
    "print(response.choices[0].message.content)\n"
   ]
  },
  {
   "cell_type": "code",
   "execution_count": null,
   "id": "ad39966a",
   "metadata": {},
   "outputs": [],
   "source": []
  }
 ],
 "metadata": {
  "kernelspec": {
   "display_name": "torch",
   "language": "python",
   "name": "python3"
  },
  "language_info": {
   "codemirror_mode": {
    "name": "ipython",
    "version": 3
   },
   "file_extension": ".py",
   "mimetype": "text/x-python",
   "name": "python",
   "nbconvert_exporter": "python",
   "pygments_lexer": "ipython3",
   "version": "3.12.7"
  }
 },
 "nbformat": 4,
 "nbformat_minor": 5
}
