{
  "cells": [
    {
      "cell_type": "code",
      "execution_count": 9,
      "id": "ebb537e6",
      "metadata": {},
      "outputs": [
        {
          "name": "stdout",
          "output_type": "stream",
          "text": [
            "Notebook cleaned.\n"
          ]
        }
      ],
      "source": [
        "import IPython\n",
        "import sys\n",
        "\n",
        "def clean_notebook():\n",
        "    IPython.display.clear_output(wait=True)\n",
        "    print(\"Notebook cleaned.\")\n",
        "\n",
        "!pip install openai\n",
        "!pip install gradio\n",
        "\n",
        "# Clean up the notebook\n",
        "clean_notebook()"
      ]
    },
    {
      "cell_type": "code",
      "execution_count": 30,
      "id": "af52591f",
      "metadata": {},
      "outputs": [],
      "source": [
        "%%writefile .env\n",
        "OPENAI_API_KEY=your_api_key_here\n",
        "OPENTYPHOON_API_KEY=api_key_here"
      ]
    },
    {
      "cell_type": "code",
      "execution_count": 10,
      "id": "6ef5cda5",
      "metadata": {},
      "outputs": [
        {
          "data": {
            "text/plain": [
              "True"
            ]
          },
          "execution_count": 10,
          "metadata": {},
          "output_type": "execute_result"
        }
      ],
      "source": [
        "import os\n",
        "from openai import OpenAI\n",
        "from dotenv import load_dotenv\n",
        "\n",
        "# Load environment variables\n",
        "load_dotenv()"
      ]
    },
    {
      "cell_type": "code",
      "execution_count": 11,
      "id": "b2600d04",
      "metadata": {},
      "outputs": [],
      "source": [
        "import os\n",
        "from openai import OpenAI\n",
        "\n",
        "#openai_client = OpenAI(api_key=os.getenv(\"OPENAI_API_KEY\"))\n",
        "#model_name = \"gpt-3.5-turbo\"    \n",
        "\n",
        "openai_client = OpenAI(api_key=os.environ.get(\"OPENTYPHOON_API_KEY\"),base_url=\"https://api.opentyphoon.ai/v1\")\n",
        "model_name = \"typhoon-v1.5x-70b-instruct\"\n"
      ]
    },
    {
      "cell_type": "code",
      "execution_count": 25,
      "id": "3c3a2bf8",
      "metadata": {},
      "outputs": [],
      "source": [
        "import openai\n",
        "\n",
        "\n",
        "# Let's start using FUNCTIONS to simplify our API usage\n",
        "def complete(user_prompt, system_prompt):\n",
        "    completion = openai_client.chat.completions.create(\n",
        "        model=model_name,\n",
        "        messages=[\n",
        "            {\"role\": \"system\", \"content\": \"you are a helpful assistant.\"},\n",
        "            {\"role\": \"user\", \"content\": user_prompt},\n",
        "        ],\n",
        "        temperature=0,\n",
        "        max_tokens=300,\n",
        "    )\n",
        "    return completion"
      ]
    },
    {
      "cell_type": "code",
      "execution_count": 26,
      "id": "8a7d1fc4",
      "metadata": {},
      "outputs": [],
      "source": [
        "stemcells = \"\"\"What are stem cells?\n",
        "\n",
        "Stem cells are the body's raw materials — cells \\\n",
        "from which all other cells with specialized functions \\\n",
        "are generated. Under the right conditions in the body \\\n",
        "or a laboratory, stem cells divide to form more cells \\\n",
        "called daughter cells.\n",
        "\n",
        "These daughter cells become either new stem cells or \\\n",
        "specialized cells (differentiation) with a more specific \\\n",
        "function, such as blood cells, brain cells, heart muscle \\\n",
        "cells or bone cells. No other cell in the body has the \\\n",
        "natural ability to generate new cell types.\n",
        "\n",
        "Why is there such an interest in stem cells?\n",
        "Researchers hope stem cell studies can help to:\n",
        "\n",
        "Increase understanding of how diseases occur. By watching \\\n",
        "stem cells mature into cells in bones, heart muscle, nerves, \\\n",
        "and other organs and tissue, researchers may better \\\n",
        "understand how diseases and conditions develop.\n",
        "Generate healthy cells to replace cells affected by disease \\\n",
        "(regenerative medicine). Stem cells can be guided into \\\n",
        "becoming specific cells that can be used in people to \\\n",
        "regenerate and repair tissues that have been damaged or \\\n",
        "affected by disease.\n",
        "\n",
        "People who might benefit from stem cell therapies include \\\n",
        "those with spinal cord injuries, type 1 diabetes, Parkinson's \\\n",
        "disease, amyotrophic lateral sclerosis, Alzheimer's disease, \\\n",
        "heart disease, stroke, burns, cancer and osteoarthritis.\n",
        "\n",
        "Stem cells may have the potential to be grown to become new \\\n",
        "tissue for use in transplant and regenerative medicine. \\\n",
        "Researchers continue to advance the knowledge on stem cells \\\n",
        "and their applications in transplant and regenerative medicine.\n",
        "\n",
        "Test new drugs for safety and effectiveness. Before using \\\n",
        "investigational drugs in people, researchers can use some \\\n",
        "types of stem cells to test the drugs for safety and quality. \\\n",
        "This type of testing will most likely first have a direct \\\n",
        "impact on drug development for cardiac toxicity testing.\n",
        "\n",
        "New areas of study include the effectiveness of using human \\\n",
        "stem cells that have been programmed into tissue-specific \\\n",
        "cells to test new drugs. For the testing of new drugs to \\\n",
        "be accurate, the cells must be programmed to acquire \\\n",
        "properties of the type of cells targeted by the drug. \\\n",
        "Techniques to program cells into specific cells are under study.\n",
        "\n",
        "For instance, nerve cells could be generated to test a \\\n",
        "new drug for a nerve disease. Tests could show whether \\\n",
        "the new drug had any effect on the cells and whether the \\\n",
        "cells were harmed.\n",
        "\"\"\""
      ]
    },
    {
      "cell_type": "markdown",
      "id": "248ee0a5",
      "metadata": {},
      "source": [
        "# Example 1"
      ]
    },
    {
      "cell_type": "code",
      "execution_count": 27,
      "id": "ad3b8f3f",
      "metadata": {},
      "outputs": [],
      "source": [
        "prompt = f\"\"\"Please summarize the following article:\n",
        "\n",
        "```\n",
        "{stemcells}\n",
        "```\n",
        "\"\"\""
      ]
    },
    {
      "cell_type": "code",
      "execution_count": 28,
      "id": "64afdc93",
      "metadata": {},
      "outputs": [
        {
          "data": {
            "text/plain": [
              "\"Please summarize the following article:\\n\\n```\\nWhat are stem cells?\\n\\nStem cells are the body's raw materials — cells from which all other cells with specialized functions are generated. Under the right conditions in the body or a laboratory, stem cells divide to form more cells called daughter cells.\\n\\nThese daughter cells become either new stem cells or specialized cells (differentiation) with a more specific function, such as blood cells, brain cells, heart muscle cells or bone cells. No other cell in the body has the natural ability to generate new cell types.\\n\\nWhy is there such an interest in stem cells?\\nResearchers hope stem cell studies can help to:\\n\\nIncrease understanding of how diseases occur. By watching stem cells mature into cells in bones, heart muscle, nerves, and other organs and tissue, researchers may better understand how diseases and conditions develop.\\nGenerate healthy cells to replace cells affected by disease (regenerative medicine). Stem cells can be guided into becoming specific cells that can be used in people to regenerate and repair tissues that have been damaged or affected by disease.\\n\\nPeople who might benefit from stem cell therapies include those with spinal cord injuries, type 1 diabetes, Parkinson's disease, amyotrophic lateral sclerosis, Alzheimer's disease, heart disease, stroke, burns, cancer and osteoarthritis.\\n\\nStem cells may have the potential to be grown to become new tissue for use in transplant and regenerative medicine. Researchers continue to advance the knowledge on stem cells and their applications in transplant and regenerative medicine.\\n\\nTest new drugs for safety and effectiveness. Before using investigational drugs in people, researchers can use some types of stem cells to test the drugs for safety and quality. This type of testing will most likely first have a direct impact on drug development for cardiac toxicity testing.\\n\\nNew areas of study include the effectiveness of using human stem cells that have been programmed into tissue-specific cells to test new drugs. For the testing of new drugs to be accurate, the cells must be programmed to acquire properties of the type of cells targeted by the drug. Techniques to program cells into specific cells are under study.\\n\\nFor instance, nerve cells could be generated to test a new drug for a nerve disease. Tests could show whether the new drug had any effect on the cells and whether the cells were harmed.\\n\\n```\\n\""
            ]
          },
          "execution_count": 28,
          "metadata": {},
          "output_type": "execute_result"
        }
      ],
      "source": [
        "prompt "
      ]
    },
    {
      "cell_type": "code",
      "execution_count": 29,
      "id": "8416b8e7",
      "metadata": {},
      "outputs": [
        {
          "data": {
            "text/markdown": [
              "Please summarize the following article:\n",
              "\n",
              "```\n",
              "What are stem cells?\n",
              "\n",
              "Stem cells are the body's raw materials — cells from which all other cells with specialized functions are generated. Under the right conditions in the body or a laboratory, stem cells divide to form more cells called daughter cells.\n",
              "\n",
              "These daughter cells become either new stem cells or specialized cells (differentiation) with a more specific function, such as blood cells, brain cells, heart muscle cells or bone cells. No other cell in the body has the natural ability to generate new cell types.\n",
              "\n",
              "Why is there such an interest in stem cells?\n",
              "Researchers hope stem cell studies can help to:\n",
              "\n",
              "Increase understanding of how diseases occur. By watching stem cells mature into cells in bones, heart muscle, nerves, and other organs and tissue, researchers may better understand how diseases and conditions develop.\n",
              "Generate healthy cells to replace cells affected by disease (regenerative medicine). Stem cells can be guided into becoming specific cells that can be used in people to regenerate and repair tissues that have been damaged or affected by disease.\n",
              "\n",
              "People who might benefit from stem cell therapies include those with spinal cord injuries, type 1 diabetes, Parkinson's disease, amyotrophic lateral sclerosis, Alzheimer's disease, heart disease, stroke, burns, cancer and osteoarthritis.\n",
              "\n",
              "Stem cells may have the potential to be grown to become new tissue for use in transplant and regenerative medicine. Researchers continue to advance the knowledge on stem cells and their applications in transplant and regenerative medicine.\n",
              "\n",
              "Test new drugs for safety and effectiveness. Before using investigational drugs in people, researchers can use some types of stem cells to test the drugs for safety and quality. This type of testing will most likely first have a direct impact on drug development for cardiac toxicity testing.\n",
              "\n",
              "New areas of study include the effectiveness of using human stem cells that have been programmed into tissue-specific cells to test new drugs. For the testing of new drugs to be accurate, the cells must be programmed to acquire properties of the type of cells targeted by the drug. Techniques to program cells into specific cells are under study.\n",
              "\n",
              "For instance, nerve cells could be generated to test a new drug for a nerve disease. Tests could show whether the new drug had any effect on the cells and whether the cells were harmed.\n",
              "\n",
              "```\n"
            ],
            "text/plain": [
              "<IPython.core.display.Markdown object>"
            ]
          },
          "execution_count": 29,
          "metadata": {},
          "output_type": "execute_result"
        }
      ],
      "source": [
        "# pretty format the response\n",
        "IPython.display.Markdown(prompt )"
      ]
    },
    {
      "cell_type": "code",
      "execution_count": 31,
      "id": "f9aba9cb",
      "metadata": {},
      "outputs": [
        {
          "data": {
            "text/markdown": [
              "The article discusses stem cells, which are the body's basic building blocks that can develop into various specialized cells. They have the unique ability to divide and create more stem cells or differentiated cells with specific functions. The interest in stem cells lies in their potential to help researchers understand how diseases develop, generate healthy cells to replace damaged ones, and test new drugs for safety and effectiveness. Potential beneficiaries of stem cell therapies include individuals with conditions like spinal cord injuries, diabetes, Parkinson's disease, and heart disease. Additionally, stem cells could be used to grow new tissue for transplants and regenerative medicine. Ongoing research focuses on programming stem cells into specific types to accurately test new drugs and their effects on targeted cells."
            ],
            "text/plain": [
              "<IPython.core.display.Markdown object>"
            ]
          },
          "execution_count": 31,
          "metadata": {},
          "output_type": "execute_result"
        }
      ],
      "source": [
        "completion = complete(prompt, system_prompt=\"\")\n",
        "IPython.display.Markdown(completion.choices[0].message.content )"
      ]
    },
    {
      "cell_type": "markdown",
      "id": "9952c6df",
      "metadata": {},
      "source": [
        "# Example 2"
      ]
    },
    {
      "cell_type": "code",
      "execution_count": 32,
      "id": "5a95c744",
      "metadata": {},
      "outputs": [],
      "source": [
        "prompt = f\"\"\"Please summarize the following article. \\\n",
        "Use a maximum of 3 sentences:\n",
        "\n",
        "```\n",
        "{stemcells}\n",
        "```\n",
        "\"\"\""
      ]
    },
    {
      "cell_type": "code",
      "execution_count": 36,
      "id": "d32b8ff9",
      "metadata": {},
      "outputs": [
        {
          "data": {
            "text/markdown": [
              "Stem cells are the body's basic building blocks, capable of developing into various specialized cells with specific functions. Research into stem cells aims to increase understanding of disease development, generate healthy cells to replace diseased ones, and test new drugs for safety and effectiveness. Potential beneficiaries of stem cell therapies include individuals with conditions such as spinal cord injuries, diabetes, Parkinson's disease, and heart disease."
            ],
            "text/plain": [
              "<IPython.core.display.Markdown object>"
            ]
          },
          "execution_count": 36,
          "metadata": {},
          "output_type": "execute_result"
        }
      ],
      "source": [
        "completion = complete(prompt, system_prompt=\"\")\n",
        "IPython.display.Markdown(completion.choices[0].message.content) "
      ]
    },
    {
      "cell_type": "code",
      "execution_count": null,
      "id": "d40973c9",
      "metadata": {},
      "outputs": [],
      "source": []
    },
    {
      "cell_type": "code",
      "execution_count": null,
      "metadata": {
        "id": "S0acXBWCxiJL"
      },
      "outputs": [],
      "source": []
    },
    {
      "cell_type": "code",
      "execution_count": null,
      "metadata": {
        "id": "oaG3igwFxiQU"
      },
      "outputs": [],
      "source": []
    },
    {
      "cell_type": "code",
      "execution_count": null,
      "metadata": {
        "id": "PzQJleyoxiWi"
      },
      "outputs": [],
      "source": []
    },
    {
      "cell_type": "markdown",
      "metadata": {
        "id": "PFJd4PmsxjKb"
      },
      "source": [
        "![](https://deeplearningcourses.com/notebooks_v3_pxl?sc=AVRK7SgM9ASkQf5TAqs_wA&n=Summarize)"
      ]
    }
  ],
  "metadata": {
    "kernelspec": {
      "display_name": "Python 3 (ipykernel)",
      "language": "python",
      "name": "python3"
    },
    "language_info": {
      "codemirror_mode": {
        "name": "ipython",
        "version": 3
      },
      "file_extension": ".py",
      "mimetype": "text/x-python",
      "name": "python",
      "nbconvert_exporter": "python",
      "pygments_lexer": "ipython3",
      "version": "3.10.13"
    },
    "sc": "AVRK7SgM9ASkQf5TAqs_wA"
  },
  "nbformat": 4,
  "nbformat_minor": 5
}
