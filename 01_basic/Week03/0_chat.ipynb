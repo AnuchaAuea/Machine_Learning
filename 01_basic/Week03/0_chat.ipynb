{
 "cells": [
  {
   "attachments": {},
   "cell_type": "markdown",
   "metadata": {},
   "source": [
    "## Introduction to The ChatGPT APIs"
   ]
  },
  {
   "attachments": {},
   "cell_type": "markdown",
   "metadata": {},
   "source": [
    "Install or update the OpenAI Python library first"
   ]
  },
  {
   "cell_type": "code",
   "execution_count": 1,
   "metadata": {},
   "outputs": [
    {
     "name": "stdout",
     "output_type": "stream",
     "text": [
      "Notebook cleaned.\n"
     ]
    }
   ],
   "source": [
    "import IPython\n",
    "import sys\n",
    "\n",
    "def clean_notebook():\n",
    "    IPython.display.clear_output(wait=True)\n",
    "    print(\"Notebook cleaned.\")\n",
    "\n",
    "!pip install openai\n",
    "!pip install gradio\n",
    "\n",
    "# Clean up the notebook\n",
    "clean_notebook()"
   ]
  },
  {
   "cell_type": "code",
   "execution_count": null,
   "metadata": {},
   "outputs": [],
   "source": [
    "# %%writefile .env\n",
    "# OPENAI_API_KEY=your_api_key_here\n",
    "# OPENTYPHOON_API_KEY=api_key_here"
   ]
  },
  {
   "cell_type": "code",
   "execution_count": 10,
   "metadata": {},
   "outputs": [
    {
     "data": {
      "text/plain": [
       "True"
      ]
     },
     "execution_count": 10,
     "metadata": {},
     "output_type": "execute_result"
    }
   ],
   "source": [
    "import os\n",
    "from openai import OpenAI\n",
    "from dotenv import load_dotenv\n",
    "\n",
    "# Load environment variables\n",
    "load_dotenv()"
   ]
  },
  {
   "cell_type": "code",
   "execution_count": 11,
   "metadata": {},
   "outputs": [],
   "source": [
    "import os\n",
    "from openai import OpenAI\n",
    "\n",
    "\n",
    "openai_client = OpenAI(api_key=os.getenv(\"OPENAI_API_KEY\"))\n",
    "model_name = \"gpt-4.1\"    \n",
    "\n",
    "# openai_client = OpenAI(api_key=os.environ.get(\"OPENTYPHOON_API_KEY\"),base_url=\"https://api.opentyphoon.ai/v1\")\n",
    "# model_name = \"typhoon-instruct\""
   ]
  },
  {
   "attachments": {},
   "cell_type": "markdown",
   "metadata": {},
   "source": [
    "To load environment variables, you can use anything you like but I used `python-dotenv`. Just create a `.env` file with your `OPENAI_API_KEY` then load it."
   ]
  },
  {
   "attachments": {},
   "cell_type": "markdown",
   "metadata": {},
   "source": [
    "### Basic ChatGPT API Call"
   ]
  },
  {
   "attachments": {},
   "cell_type": "markdown",
   "metadata": {},
   "source": [
    "Let's do a basic chat API call to learn about the chat format:"
   ]
  },
  {
   "cell_type": "code",
   "execution_count": 12,
   "metadata": {},
   "outputs": [],
   "source": [
    "\n",
    "# Generate the completion\n",
    "response = openai_client.chat.completions.create(\n",
    "    model=model_name,\n",
    "    messages=[\n",
    "        {\"role\": \"system\", \"content\": \"You are an AI research assistant. You use a tone that is technical and scientific.\"},\n",
    "        {\"role\": \"user\", \"content\": \"Hello, who are you?\"},\n",
    "        {\"role\": \"assistant\", \"content\": \"Greetings! I am an AI research assistant. How can I help you today?\"},\n",
    "        {\"role\": \"user\", \"content\": \"Can you tell me about the creation of black holes?\"}\n",
    "    ],\n",
    "    temperature=0.8,\n",
    ")"
   ]
  },
  {
   "attachments": {},
   "cell_type": "markdown",
   "metadata": {},
   "source": [
    "Let's print the response:"
   ]
  },
  {
   "cell_type": "code",
   "execution_count": 14,
   "metadata": {},
   "outputs": [
    {
     "data": {
      "text/markdown": [
       "Certainly. Black holes are regions of spacetime exhibiting gravitational fields so intense that nothing—not even light—can escape from within their event horizons. The creation of black holes is understood primarily through the framework of general relativity and astrophysics.\n",
       "\n",
       "**Stellar-Mass Black Holes:**\n",
       "Most commonly, black holes form from the gravitational collapse of massive stars (typically those with initial masses > 20–25 solar masses). At the end of their life cycles, such stars undergo supernova explosions after exhausting their nuclear fuel. If the remnant core's mass exceeds the Tolman–Oppenheimer–Volkoff (TOV) limit (about 2–3 solar masses), neutron degeneracy pressure cannot halt collapse, and the core contracts into a singularity surrounded by an event horizon—a black hole.\n",
       "\n",
       "**Supermassive Black Holes:**\n",
       "These are found at the centers of most galaxies, with masses ranging from millions to billions of solar masses. Their formation remains an open question, but leading hypotheses include the direct collapse of massive gas clouds in the early universe, mergers of many smaller black holes, or rapid accretion processes.\n",
       "\n",
       "**Primordial Black Holes:**\n",
       "A speculative class, these could have formed in the early universe from density fluctuations soon after the Big Bang, long before stars existed. They remain hypothetical, but are of interest in studies of dark matter and early-universe cosmology.\n",
       "\n",
       "**Other Formation Channels:**\n",
       "- **Black Hole Mergers:** The coalescence of two black holes (detected via gravitational waves, e.g., by LIGO/Virgo) results in a more massive black hole.\n",
       "- **Accretion-Induced Collapse:** Neutron stars in binary systems that accrete enough mass may collapse into black holes.\n",
       "- **Runaway Stellar Mergers:** In dense star clusters, repeated stellar collisions can produce sufficiently massive stars that collapse into intermediate-mass black holes.\n",
       "\n",
       "**Key Theoretical Concepts:**\n",
       "- **Event Horizon:** The boundary beyond which escape velocity exceeds the speed of light.\n",
       "- **Singularity:** The point (or region) of infinite density at black hole centers (as predicted by classical general relativity).\n",
       "- **No-Hair Theorem:** Black holes are characterized externally only by mass, charge, and angular momentum.\n",
       "\n",
       "If you would like details on a specific black hole formation scenario or the relevant physics, please specify!"
      ],
      "text/plain": [
       "<IPython.core.display.Markdown object>"
      ]
     },
     "execution_count": 14,
     "metadata": {},
     "output_type": "execute_result"
    }
   ],
   "source": [
    "import IPython\n",
    "import sys\n",
    "# pretty format the response\n",
    "\n",
    "IPython.display.Markdown(response.choices[0].message.content)"
   ]
  },
  {
   "cell_type": "code",
   "execution_count": null,
   "metadata": {},
   "outputs": [],
   "source": []
  }
 ],
 "metadata": {
  "kernelspec": {
   "display_name": "torch",
   "language": "python",
   "name": "python3"
  },
  "language_info": {
   "codemirror_mode": {
    "name": "ipython",
    "version": 3
   },
   "file_extension": ".py",
   "mimetype": "text/x-python",
   "name": "python",
   "nbconvert_exporter": "python",
   "pygments_lexer": "ipython3",
   "version": "3.12.7"
  },
  "orig_nbformat": 4
 },
 "nbformat": 4,
 "nbformat_minor": 2
}
