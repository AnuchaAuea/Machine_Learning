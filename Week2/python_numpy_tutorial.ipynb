{
  "cells": [
    {
      "cell_type": "markdown",
      "metadata": {
        "id": "ML-0qcCIHknD"
      },
      "source": [
        "Python Crash Course\n",
        "===================\n",
        "\n",
        "*Fraida Fund*\n",
        "\n",
        "[![Open In Colab](https://colab.research.google.com/assets/colab-badge.svg)](https://colab.research.google.com/github/ffund/ml-notebooks/blob/master/notebooks/1-python-numpy-tutorial.ipynb)"
      ],
      "id": "ML-0qcCIHknD"
    },
    {
      "cell_type": "markdown",
      "metadata": {
        "id": "u9gqyZeqHknF"
      },
      "source": [
        "**Attribution**:\n",
        "\n",
        "-   Parts of this notebook are adapted from a [tutorial from CS231N at Stanford University](https://cs231n.github.io/python-numpy-tutorial/), which is shared under the [MIT license]((https://opensource.org/licenses/MIT)).\n",
        "-   Parts of this notebook are adapted from Jake VanderPlas’s [Whirlwind Tour of Python](https://colab.research.google.com/github/jakevdp/WhirlwindTourOfPython/blob/master/Index.ipynb), which is shared under the [Creative Commons CC0 Public Domain Dedication license](https://github.com/jakevdp/WhirlwindTourOfPython/blob/master/LICENSE).\n",
        "-   The visualizations in this notebook are from [A Visual Intro to NumPy](http://jalammar.github.io/visual-numpy/) by Jay Alammar, which is licensed under a Creative Commons Attribution-NonCommercial-ShareAlike 4.0 International License.\n",
        "-   Parts of this notebook (and some images) about `numpy` broadcasting are adapted from Sebastian Raschka’s [STATS451](https://github.com/rasbt/stat451-machine-learning-fs20) materials."
      ],
      "id": "u9gqyZeqHknF"
    },
    {
      "cell_type": "markdown",
      "metadata": {
        "id": "elc4AoE0HknG"
      },
      "source": [
        "Introduction\n",
        "------------"
      ],
      "id": "elc4AoE0HknG"
    },
    {
      "cell_type": "markdown",
      "metadata": {
        "id": "pOObl9YgHknH"
      },
      "source": [
        "Python is a great general-purpose programming language on its own, but with the help of a few popular *libraries* (`numpy`, `pandas`, `matplotlib`) it becomes a powerful environment for scientific computing."
      ],
      "id": "pOObl9YgHknH"
    },
    {
      "cell_type": "markdown",
      "metadata": {
        "id": "2271a2ocHknH"
      },
      "source": [
        "This tutorial is an introduction to Python and the `numpy` library for those who are already familiar with programming in another language.\n",
        "\n",
        "In this tutorial, we will cover:\n",
        "\n",
        "-   Basic Python: Basic data types, Containers (Lists, Dictionaries,, Tuples), Control Flow Statements, Errors and Exceptions, Functions, Classes\n",
        "-   `numpy`: Arrays, Array indexing, Datatypes, Array math, Broadcasting\n",
        "-   `matplotlib`: Basic Visualization, Subplots, Image Visualization"
      ],
      "id": "2271a2ocHknH"
    },
    {
      "cell_type": "markdown",
      "metadata": {
        "id": "lbInEQ00HknH"
      },
      "source": [
        "This tutorial is designed to run as a Python notebook on Colab. We’ll take a closer look at Colab and its features in a separate tutorial, but for now, here is what you need to know:\n",
        "\n",
        "-   When you see a “cell” with Python code in it, move your mouse over the margin on the left side of the cell. A \\> button will appear - click on that button to execute the code in the cell.\n",
        "-   The output of the code will appear underneath the cell.\n",
        "-   You can edit the code in the cell and press the \\> button again to execute the modified code.\n",
        "\n",
        "As you work through this tutorial, look at the code in each cell, and try to predict its output before you run it! Then, run the cell and check your understanding. You can also try to modify the code and observe the effect of your changes."
      ],
      "id": "lbInEQ00HknH"
    },
    {
      "cell_type": "markdown",
      "metadata": {
        "id": "aXHQvVPsHknI"
      },
      "source": [
        "A Brief Note on Python Versions\n",
        "-------------------------------\n",
        "\n",
        "As of Janurary 1, 2020, Python has [officially dropped support](https://www.python.org/doc/sunset-python-2/) for `python2`. We’ll be using Python 3 for this course."
      ],
      "id": "aXHQvVPsHknI"
    },
    {
      "cell_type": "markdown",
      "metadata": {
        "id": "OK8zpmWzHknI"
      },
      "source": [
        "Basics of Python\n",
        "----------------"
      ],
      "id": "OK8zpmWzHknI"
    },
    {
      "cell_type": "markdown",
      "metadata": {
        "id": "bK-58P9nHknI"
      },
      "source": [
        "Python is a high-level, dynamically typed multiparadigm programming language. Python code is often said to be almost like pseudocode, since it allows you to express very powerful ideas in very few lines of code while being very readable. As an example, here is an implementation of the classic quicksort algorithm in Python:"
      ],
      "id": "bK-58P9nHknI"
    },
    {
      "cell_type": "code",
      "execution_count": null,
      "metadata": {
        "id": "v_uthcJwHknJ"
      },
      "outputs": [],
      "source": [
        "def quicksort(arr):\n",
        "    if len(arr) <= 1:\n",
        "        return arr\n",
        "    pivot = arr[len(arr) // 2]\n",
        "    left = [x for x in arr if x < pivot]\n",
        "    middle = [x for x in arr if x == pivot]\n",
        "    right = [x for x in arr if x > pivot]\n",
        "    return quicksort(left) + middle + quicksort(right)\n",
        "\n",
        "print(quicksort([3,6,8,10,1,2,1]))"
      ],
      "id": "v_uthcJwHknJ"
    },
    {
      "cell_type": "markdown",
      "metadata": {
        "id": "EGuC9P-jHknK"
      },
      "source": [
        "### Basic data types"
      ],
      "id": "EGuC9P-jHknK"
    },
    {
      "cell_type": "markdown",
      "metadata": {
        "id": "mG41ihhMHknK"
      },
      "source": [
        "#### Numbers"
      ],
      "id": "mG41ihhMHknK"
    },
    {
      "cell_type": "markdown",
      "metadata": {
        "id": "mWLukdhJHknK"
      },
      "source": [
        "Integers and floats work as you would expect from other languages:"
      ],
      "id": "mWLukdhJHknK"
    },
    {
      "cell_type": "code",
      "execution_count": null,
      "metadata": {
        "id": "cOxrf3xfHknK"
      },
      "outputs": [],
      "source": [
        "x = 3\n",
        "print(x, type(x))"
      ],
      "id": "cOxrf3xfHknK"
    },
    {
      "cell_type": "markdown",
      "metadata": {
        "id": "FyreXWbOHknK"
      },
      "source": [
        "By the way: note that you did not have to declare the variable `x` or specify its type before you assigned a value to it. In Python, you can create a variable just by assigning something to it."
      ],
      "id": "FyreXWbOHknK"
    },
    {
      "cell_type": "code",
      "execution_count": null,
      "metadata": {
        "id": "bHQH0Kz_HknK"
      },
      "outputs": [],
      "source": [
        "print(x + 1)   # Addition\n",
        "print(x - 1)   # Subtraction\n",
        "print(x * 2)   # Multiplication\n",
        "print(x ** 2)  # Exponentiation"
      ],
      "id": "bHQH0Kz_HknK"
    },
    {
      "cell_type": "markdown",
      "metadata": {
        "id": "6q6VA4McHknK"
      },
      "source": [
        "Notice that in the cell above, there is a comment at the end of each line. Comments in Python are indicated by a pound sign (`#`), and anything on the line following the pound sign is ignored. You can have inline comments that follow a statement on the same line, like the ones above, or a comment on its own line."
      ],
      "id": "6q6VA4McHknK"
    },
    {
      "cell_type": "code",
      "execution_count": null,
      "metadata": {
        "id": "BQyxjgD6HknK"
      },
      "outputs": [],
      "source": [
        "x += 1\n",
        "print(x)\n",
        "x *= 2\n",
        "print(x)"
      ],
      "id": "BQyxjgD6HknK"
    },
    {
      "cell_type": "code",
      "execution_count": null,
      "metadata": {
        "id": "8w3khOJKHknK"
      },
      "outputs": [],
      "source": [
        "y = 2.5\n",
        "print(type(y))\n",
        "print(y, y + 1, y * 2, y ** 2)"
      ],
      "id": "8w3khOJKHknK"
    },
    {
      "cell_type": "markdown",
      "metadata": {
        "id": "Ur5lyHyCHknL"
      },
      "source": [
        "Note that unlike many languages, Python does not have unary increment (x++) or decrement (x--) operators.\n",
        "\n",
        "Python also has built-in types for long integers and complex numbers; you can find all of the details in the [documentation](https://docs.python.org/3.7/library/stdtypes.html#numeric-types-int-float-long-complex)."
      ],
      "id": "Ur5lyHyCHknL"
    },
    {
      "cell_type": "markdown",
      "metadata": {
        "id": "s4USHIgeHknL"
      },
      "source": [
        "#### Booleans"
      ],
      "id": "s4USHIgeHknL"
    },
    {
      "cell_type": "markdown",
      "metadata": {
        "id": "704bxzpYHknL"
      },
      "source": [
        "Python implements all of the usual operators for Boolean logic, but uses English words rather than symbols (`&&`, `||`, etc.):"
      ],
      "id": "704bxzpYHknL"
    },
    {
      "cell_type": "code",
      "execution_count": null,
      "metadata": {
        "id": "0qcs2MvuHknL"
      },
      "outputs": [],
      "source": [
        "t, f = True, False\n",
        "print(type(t))"
      ],
      "id": "0qcs2MvuHknL"
    },
    {
      "cell_type": "markdown",
      "metadata": {
        "id": "_dJHWLnfHknL"
      },
      "source": [
        "Now let's look at the operations:"
      ],
      "id": "_dJHWLnfHknL"
    },
    {
      "cell_type": "code",
      "execution_count": null,
      "metadata": {
        "id": "Hzul_NeLHknL"
      },
      "outputs": [],
      "source": [
        "print(t and f) # Logical AND;\n",
        "print(t or f)  # Logical OR;\n",
        "print(not t)   # Logical NOT;\n",
        "print(t != f)  # Logical XOR;"
      ],
      "id": "Hzul_NeLHknL"
    },
    {
      "cell_type": "markdown",
      "metadata": {
        "id": "2kN1ZdZjHknL"
      },
      "source": [
        "#### Strings"
      ],
      "id": "2kN1ZdZjHknL"
    },
    {
      "cell_type": "code",
      "execution_count": null,
      "metadata": {
        "id": "JK5WSnu8HknL"
      },
      "outputs": [],
      "source": [
        "hello = 'hello'   # String literals can use single quotes\n",
        "world = \"world\"   # or double quotes; it does not matter\n",
        "print(hello, len(hello))"
      ],
      "id": "JK5WSnu8HknL"
    },
    {
      "cell_type": "code",
      "execution_count": null,
      "metadata": {
        "id": "mjPGE4WRHknL"
      },
      "outputs": [],
      "source": [
        "hw = hello + ' ' + world  # String concatenation\n",
        "print(hw)"
      ],
      "id": "mjPGE4WRHknL"
    },
    {
      "cell_type": "code",
      "execution_count": null,
      "metadata": {
        "id": "HPOXVmUUHknL"
      },
      "outputs": [],
      "source": [
        "hw12 = '{} {} {}'.format(hello, world, 12)  # string formatting\n",
        "print(hw12)"
      ],
      "id": "HPOXVmUUHknL"
    },
    {
      "cell_type": "markdown",
      "metadata": {
        "id": "uDZKY8p0HknL"
      },
      "source": [
        "String objects have a bunch of useful methods; for example:"
      ],
      "id": "uDZKY8p0HknL"
    },
    {
      "cell_type": "code",
      "execution_count": null,
      "metadata": {
        "id": "cj9IHllZHknL"
      },
      "outputs": [],
      "source": [
        "s = \"hello\"\n",
        "print(s.capitalize())  # Capitalize a string\n",
        "print(s.upper())       # Convert a string to uppercase; prints \"HELLO\"\n",
        "print(s.rjust(7))      # Right-justify a string, padding with spaces\n",
        "print(s.center(7))     # Center a string, padding with spaces\n",
        "print(s.replace('l', '(ell)'))  # Replace all instances of one substring with another\n",
        "print('  world '.strip())  # Strip leading and trailing whitespace"
      ],
      "id": "cj9IHllZHknL"
    },
    {
      "cell_type": "markdown",
      "metadata": {
        "id": "cg5xbEqLHknL"
      },
      "source": [
        "You can find a list of all string methods in the [documentation](https://docs.python.org/3.7/library/stdtypes.html#string-methods)."
      ],
      "id": "cg5xbEqLHknL"
    },
    {
      "cell_type": "markdown",
      "metadata": {
        "id": "KD16_h-zHknM"
      },
      "source": [
        "### Containers"
      ],
      "id": "KD16_h-zHknM"
    },
    {
      "cell_type": "markdown",
      "metadata": {
        "id": "vKm9O2mpHknM"
      },
      "source": [
        "Python includes several built-in container types: lists, dictionaries, sets, and tuples."
      ],
      "id": "vKm9O2mpHknM"
    },
    {
      "cell_type": "markdown",
      "metadata": {
        "id": "hxpwYtc8HknM"
      },
      "source": [
        "#### Lists"
      ],
      "id": "hxpwYtc8HknM"
    },
    {
      "cell_type": "markdown",
      "metadata": {
        "id": "Lo6bNAtNHknM"
      },
      "source": [
        "A list is the Python equivalent of an array, but is resizeable and can contain elements of different types:"
      ],
      "id": "Lo6bNAtNHknM"
    },
    {
      "cell_type": "code",
      "execution_count": null,
      "metadata": {
        "id": "l46z1xhtHknM"
      },
      "outputs": [],
      "source": [
        "xs = [3, 1, 2]   # Create a list\n",
        "print(xs, xs[2])\n",
        "print(xs[-1])     # Negative indices count from the end of the list; prints \"2\""
      ],
      "id": "l46z1xhtHknM"
    },
    {
      "cell_type": "code",
      "execution_count": null,
      "metadata": {
        "id": "GkOJ5uxbHknM"
      },
      "outputs": [],
      "source": [
        "xs[2] = 'foo'    # Lists can contain elements of different types\n",
        "print(xs)"
      ],
      "id": "GkOJ5uxbHknM"
    },
    {
      "cell_type": "code",
      "execution_count": null,
      "metadata": {
        "id": "4BNxVfSlHknM"
      },
      "outputs": [],
      "source": [
        "xs.append('bar') # Add a new element to the end of the list\n",
        "print(xs)"
      ],
      "id": "4BNxVfSlHknM"
    },
    {
      "cell_type": "code",
      "execution_count": null,
      "metadata": {
        "id": "M7AW4lQqHknQ"
      },
      "outputs": [],
      "source": [
        "x = xs.pop()     # Remove and return the last element of the list\n",
        "print(x, xs)"
      ],
      "id": "M7AW4lQqHknQ"
    },
    {
      "cell_type": "markdown",
      "metadata": {
        "id": "5MYdji4kHknQ"
      },
      "source": [
        "As usual, you can find all the gory details about lists in the [documentation](https://docs.python.org/3.7/tutorial/datastructures.html#more-on-lists)."
      ],
      "id": "5MYdji4kHknQ"
    },
    {
      "cell_type": "markdown",
      "metadata": {
        "id": "q28JKmwkHknQ"
      },
      "source": [
        "#### Slicing"
      ],
      "id": "q28JKmwkHknQ"
    },
    {
      "cell_type": "markdown",
      "metadata": {
        "id": "UrVHNVU4HknQ"
      },
      "source": [
        "In addition to accessing list elements one at a time, Python provides concise syntax to access sublists; this is known as slicing:"
      ],
      "id": "UrVHNVU4HknQ"
    },
    {
      "cell_type": "code",
      "execution_count": null,
      "metadata": {
        "id": "5cYWvidhHknQ"
      },
      "outputs": [],
      "source": [
        "nums = list(range(5))    # range is a built-in function that creates a list of integers\n",
        "print(nums)         # Prints \"[0, 1, 2, 3, 4]\"\n",
        "print(nums[2:4])    # Get a slice from index 2 to 4 (exclusive); prints \"[2, 3]\"\n",
        "print(nums[2:])     # Get a slice from index 2 to the end; prints \"[2, 3, 4]\"\n",
        "print(nums[:2])     # Get a slice from the start to index 2 (exclusive); prints \"[0, 1]\"\n",
        "print(nums[:])      # Get a slice of the whole list; prints [\"0, 1, 2, 3, 4]\"\n",
        "print(nums[:-1])    # Slice indices can be negative; prints [\"0, 1, 2, 3]\"\n",
        "nums[2:4] = [8, 9] # Assign a new sublist to a slice\n",
        "print(nums)         # Prints \"[0, 1, 8, 9, 4]\""
      ],
      "id": "5cYWvidhHknQ"
    },
    {
      "cell_type": "markdown",
      "metadata": {
        "id": "1rZ_llJEHknQ"
      },
      "source": [
        "#### Dictionaries"
      ],
      "id": "1rZ_llJEHknQ"
    },
    {
      "cell_type": "markdown",
      "metadata": {
        "id": "7GFz1HiiHknQ"
      },
      "source": [
        "A dictionary stores (key, value) pairs, similar to a `Map` in Java or an object in Javascript. You can use it like this:"
      ],
      "id": "7GFz1HiiHknQ"
    },
    {
      "cell_type": "code",
      "execution_count": null,
      "metadata": {
        "id": "BSIr0OJoHknR"
      },
      "outputs": [],
      "source": [
        "d = {'cat': 'cute', 'dog': 'furry'}  # Create a new dictionary with some data\n",
        "print(d['cat'])       # Get an entry from a dictionary; prints \"cute\"\n",
        "print('cat' in d)     # Check if a dictionary has a given key; prints \"True\""
      ],
      "id": "BSIr0OJoHknR"
    },
    {
      "cell_type": "code",
      "execution_count": null,
      "metadata": {
        "id": "LaM_iI3cHknR"
      },
      "outputs": [],
      "source": [
        "d['fish'] = 'wet'    # Set an entry in a dictionary\n",
        "print(d['fish'])      # Prints \"wet\""
      ],
      "id": "LaM_iI3cHknR"
    },
    {
      "cell_type": "code",
      "execution_count": null,
      "metadata": {
        "id": "3y8ETw3THknR"
      },
      "outputs": [],
      "source": [
        "# note: this cell will raise an error\n",
        "print(d['monkey'])  # KeyError: 'monkey' not a key of d"
      ],
      "id": "3y8ETw3THknR"
    },
    {
      "cell_type": "code",
      "execution_count": null,
      "metadata": {
        "id": "uBwArBxCHknR"
      },
      "outputs": [],
      "source": [
        "print(d.get('monkey', 'N/A'))  # Get an element with a default; prints \"N/A\"\n",
        "print(d.get('fish', 'N/A'))    # Get an element with a default; prints \"wet\""
      ],
      "id": "uBwArBxCHknR"
    },
    {
      "cell_type": "code",
      "execution_count": null,
      "metadata": {
        "id": "V5rjR0dQHknR"
      },
      "outputs": [],
      "source": [
        "del d['fish']        # Remove an element from a dictionary\n",
        "print(d.get('fish', 'N/A')) # \"fish\" is no longer a key; prints \"N/A\""
      ],
      "id": "V5rjR0dQHknR"
    },
    {
      "cell_type": "markdown",
      "metadata": {
        "id": "k0Mh28kqHknR"
      },
      "source": [
        "You can find all you need to know about dictionaries in the [documentation](https://docs.python.org/2/library/stdtypes.html#dict)."
      ],
      "id": "k0Mh28kqHknR"
    },
    {
      "cell_type": "markdown",
      "metadata": {
        "id": "mENLEycVHknR"
      },
      "source": [
        "#### Tuples"
      ],
      "id": "mENLEycVHknR"
    },
    {
      "cell_type": "markdown",
      "metadata": {
        "id": "DSSX4UpBHknR"
      },
      "source": [
        "A tuple is an (immutable) ordered list of values. A tuple is in many ways similar to a list; one of the most important differences is that tuples can be used as keys in dictionaries and as elements of sets, while lists cannot. Here is a trivial example:"
      ],
      "id": "DSSX4UpBHknR"
    },
    {
      "cell_type": "code",
      "execution_count": null,
      "metadata": {
        "id": "vuJY2PhdHknR"
      },
      "outputs": [],
      "source": [
        "d = {(x, x + 1): x for x in range(10)}  # Create a dictionary with tuple keys\n",
        "t = (5, 6)       # Create a tuple\n",
        "print(type(t))\n",
        "print(d[t])\n",
        "\n",
        "print(d[(1, 2)])"
      ],
      "id": "vuJY2PhdHknR"
    },
    {
      "cell_type": "code",
      "execution_count": null,
      "metadata": {
        "id": "FaatqQCoHknR"
      },
      "outputs": [],
      "source": [
        "d[0] = 100 # you can change a value in the dictionary...\n",
        "print(d)"
      ],
      "id": "FaatqQCoHknR"
    },
    {
      "cell_type": "code",
      "execution_count": null,
      "metadata": {
        "id": "1aaLvHO4HknR"
      },
      "outputs": [],
      "source": [
        "t[0] = 1 # ...but not a value in the tuple\n",
        "# this cell raises an error! 'tuple' object does not support item assignment"
      ],
      "id": "1aaLvHO4HknR"
    },
    {
      "cell_type": "markdown",
      "metadata": {
        "id": "P9bapDxaHknR"
      },
      "source": [
        "### Control Flow Statements"
      ],
      "id": "P9bapDxaHknR"
    },
    {
      "cell_type": "markdown",
      "metadata": {
        "id": "pX4aP7kMHknR"
      },
      "source": [
        "#### If-Else\n",
        "\n",
        "Conditional statements, often referred to as *if-then* statements, allow the programmer to execute certain pieces of code depending on some Boolean condition.\n",
        "\n",
        "A basic example of a Python conditional statement is this:"
      ],
      "id": "pX4aP7kMHknR"
    },
    {
      "cell_type": "code",
      "execution_count": null,
      "metadata": {
        "id": "Y32dE2amHknS"
      },
      "outputs": [],
      "source": [
        "\n",
        "x = -15\n",
        "\n",
        "if x == 0:\n",
        "    print(x, \"is zero\")\n",
        "elif x > 0:\n",
        "    print(x, \"is positive\")\n",
        "elif x < 0:\n",
        "    print(x, \"is negative\")\n",
        "else:\n",
        "    print(x, \"is unlike anything I've ever seen...\")"
      ],
      "id": "Y32dE2amHknS"
    },
    {
      "cell_type": "markdown",
      "metadata": {
        "id": "QmOcl8zxHknS"
      },
      "source": [
        "Note especially the use of colons (`:`) and whitespace to denote separate blocks of code.\n",
        "\n",
        "A *block* of code is a set of statements that should be treated as a unit. In C, for example, code blocks are denoted by curly braces:\n",
        "\n",
        "``` c\n",
        "// C code\n",
        "for(int i=0; i<100; i++)\n",
        "   {\n",
        "      // curly braces indicate code block\n",
        "      total += i;\n",
        "   }\n",
        "```\n",
        "\n",
        "In Python, code blocks are denoted by *indentation*:\n",
        "\n",
        "``` python\n",
        "for i in range(100):\n",
        "    # indentation indicates code block\n",
        "    total += i\n",
        "```\n",
        "\n",
        "where all statements that should be evaluated within the “block” are at the same level of indentation.\n",
        "\n",
        "Indented code blocks are always preceded by a colon (`:`) on the previous line."
      ],
      "id": "QmOcl8zxHknS"
    },
    {
      "cell_type": "markdown",
      "metadata": {
        "id": "VfZuBDPmHknS"
      },
      "source": [
        "#### For\n",
        "\n",
        "Loops in Python are a way to repeatedly execute some code statement. So, for example, if we’d like to print each of the items in a list, we can use a `for` loop:"
      ],
      "id": "VfZuBDPmHknS"
    },
    {
      "cell_type": "code",
      "execution_count": null,
      "metadata": {
        "id": "HB5UiDtjHknS"
      },
      "outputs": [],
      "source": [
        "for N in [2, 3, 5, 7]:\n",
        "    print(N, end=' ') # print all on same line"
      ],
      "id": "HB5UiDtjHknS"
    },
    {
      "cell_type": "markdown",
      "metadata": {
        "id": "bA7z50D7HknS"
      },
      "source": [
        "Notice the simplicity of the `for` loop: we specify the variable we want to use, the sequence we want to loop over, and use the “`in`” operator to link them together in an intuitive and readable way. More precisely, the object to the right of the “`in`” can be any Python *iterator*.\n",
        "\n",
        "For example, one of the most commonly-used iterators in Python is the `range` object, which generates a sequence of numbers:"
      ],
      "id": "bA7z50D7HknS"
    },
    {
      "cell_type": "code",
      "execution_count": null,
      "metadata": {
        "id": "-JZfk7dUHknS"
      },
      "outputs": [],
      "source": [
        "for i in range(10):\n",
        "    print(i, end=' ')"
      ],
      "id": "-JZfk7dUHknS"
    },
    {
      "cell_type": "markdown",
      "metadata": {
        "id": "8-AV10RYHknS"
      },
      "source": [
        "Note that the range starts at zero by default, and that by convention the top of the range is not included in the output."
      ],
      "id": "8-AV10RYHknS"
    },
    {
      "cell_type": "markdown",
      "metadata": {
        "id": "iQrmzzLbHknS"
      },
      "source": [
        "We can loop over any list, no matter what type of object is stored in it."
      ],
      "id": "iQrmzzLbHknS"
    },
    {
      "cell_type": "code",
      "execution_count": null,
      "metadata": {
        "id": "MJMzpdG9HknS"
      },
      "outputs": [],
      "source": [
        "animals = ['cat', 'dog', 'monkey']\n",
        "for animal in animals:\n",
        "    print(animal)"
      ],
      "id": "MJMzpdG9HknS"
    },
    {
      "cell_type": "markdown",
      "metadata": {
        "id": "krnBwcMpHknS"
      },
      "source": [
        "If you want access to the index of each element within the body of a loop, use the built-in `enumerate` function:"
      ],
      "id": "krnBwcMpHknS"
    },
    {
      "cell_type": "code",
      "execution_count": null,
      "metadata": {
        "id": "PPg4HICnHknS"
      },
      "outputs": [],
      "source": [
        "animals = ['cat', 'dog', 'monkey']\n",
        "for idx, animal in enumerate(animals):\n",
        "    print('#{}: {}'.format(idx + 1, animal))"
      ],
      "id": "PPg4HICnHknS"
    },
    {
      "cell_type": "markdown",
      "metadata": {
        "id": "DDfERpH3HknS"
      },
      "source": [
        "It is easy to iterate over the keys in a dictionary:"
      ],
      "id": "DDfERpH3HknS"
    },
    {
      "cell_type": "code",
      "execution_count": null,
      "metadata": {
        "id": "DoBD7x3wHknS"
      },
      "outputs": [],
      "source": [
        "d = {'person': 2, 'cat': 4, 'spider': 8}\n",
        "for animal, legs in d.items():\n",
        "    print('A {} has {} legs'.format(animal, legs))"
      ],
      "id": "DoBD7x3wHknS"
    },
    {
      "cell_type": "markdown",
      "metadata": {
        "id": "cc5paSDdHknT"
      },
      "source": [
        "#### While\n",
        "\n",
        "The other type of loop in Python is a `while` loop, which iterates until some condition is met:"
      ],
      "id": "cc5paSDdHknT"
    },
    {
      "cell_type": "code",
      "execution_count": null,
      "metadata": {
        "id": "c0B13b6GHknT"
      },
      "outputs": [],
      "source": [
        "i = 0\n",
        "while i < 10:\n",
        "    print(i, end=' ')\n",
        "    i += 1"
      ],
      "id": "c0B13b6GHknT"
    },
    {
      "cell_type": "markdown",
      "metadata": {
        "id": "ddPYtHFrHknT"
      },
      "source": [
        "#### List comprehensions"
      ],
      "id": "ddPYtHFrHknT"
    },
    {
      "cell_type": "markdown",
      "metadata": {
        "id": "67bX0fPjHknT"
      },
      "source": [
        "When programming, frequently we want to transform one type of data into another. As a simple example, consider the following code that computes square numbers:"
      ],
      "id": "67bX0fPjHknT"
    },
    {
      "cell_type": "code",
      "execution_count": null,
      "metadata": {
        "id": "IHYoxDBQHknT"
      },
      "outputs": [],
      "source": [
        "nums = [0, 1, 2, 3, 4]\n",
        "squares = []\n",
        "for x in nums:\n",
        "    squares.append(x ** 2)\n",
        "print(squares)"
      ],
      "id": "IHYoxDBQHknT"
    },
    {
      "cell_type": "markdown",
      "metadata": {
        "id": "zCsetot6HknT"
      },
      "source": [
        "You can make this code simpler using a list comprehension:"
      ],
      "id": "zCsetot6HknT"
    },
    {
      "cell_type": "code",
      "execution_count": null,
      "metadata": {
        "id": "VxcGYTBsHknT"
      },
      "outputs": [],
      "source": [
        "nums = [0, 1, 2, 3, 4]\n",
        "squares = [x ** 2 for x in nums]\n",
        "print(squares)"
      ],
      "id": "VxcGYTBsHknT"
    },
    {
      "cell_type": "markdown",
      "metadata": {
        "id": "CkUB-fOEHknT"
      },
      "source": [
        "List comprehensions can also contain conditions:"
      ],
      "id": "CkUB-fOEHknT"
    },
    {
      "cell_type": "code",
      "execution_count": null,
      "metadata": {
        "id": "NTrxhBEnHknT"
      },
      "outputs": [],
      "source": [
        "nums = [0, 1, 2, 3, 4]\n",
        "even_squares = [x ** 2 for x in nums if x % 2 == 0]\n",
        "print(even_squares)"
      ],
      "id": "NTrxhBEnHknT"
    },
    {
      "cell_type": "markdown",
      "metadata": {
        "id": "tb7SOWe8HknT"
      },
      "source": [
        "Dictionary comprehensions are similar to list comprehensions, but allow you to easily construct dictionaries. For example:"
      ],
      "id": "tb7SOWe8HknT"
    },
    {
      "cell_type": "code",
      "execution_count": null,
      "metadata": {
        "id": "8-OVhhQgHknT"
      },
      "outputs": [],
      "source": [
        "nums = [0, 1, 2, 3, 4]\n",
        "even_num_to_square = {x: x ** 2 for x in nums if x % 2 == 0}\n",
        "print(even_num_to_square)"
      ],
      "id": "8-OVhhQgHknT"
    },
    {
      "cell_type": "markdown",
      "metadata": {
        "id": "pXDhRUANHknU"
      },
      "source": [
        "### Errors and Exceptions"
      ],
      "id": "pXDhRUANHknU"
    },
    {
      "cell_type": "markdown",
      "metadata": {
        "id": "lLj65XtgHknU"
      },
      "source": [
        "When you are working with Python, you are likely to come across errors. When an error occurs, Python tries to explain to you what went wrong, but it takes some experience to interpret the error messages."
      ],
      "id": "lLj65XtgHknU"
    },
    {
      "cell_type": "markdown",
      "metadata": {
        "id": "8VeCQc0CHknU"
      },
      "source": [
        "The code in the following cell will raise a `SyntaxError` because it tries to use a variable name that begins with a number, which is not allowed in Python.\n",
        "\n",
        "Run the code, and look for three key “ingredients” in the error message that is printed to the output:\n",
        "\n",
        "-   the type of error. In this case, it will be a `SyntaxError`. This type of error is raised by the *parser*, which checks to see if the code is valid before passing it to the *runtime* to execute the code.\n",
        "-   an explanation of the error, if available. In this case, the explanation is “invalid syntax”.\n",
        "-   details about where the error was detected. At what line of code, and what point in the line, did the error occur?"
      ],
      "id": "8VeCQc0CHknU"
    },
    {
      "cell_type": "code",
      "execution_count": null,
      "metadata": {
        "id": "2-xpYZbWHknU"
      },
      "outputs": [],
      "source": [
        "1st_number = 1"
      ],
      "id": "2-xpYZbWHknU"
    },
    {
      "cell_type": "markdown",
      "metadata": {
        "id": "I_I3jfw3HknU"
      },
      "source": [
        "Here are some more examples. Run the following cells, one at a time. Each will trigger an error message. Try to parse the error message by looking for the three “ingredients”.\n",
        "\n",
        "Look up each error type in [the documentation](https://docs.python.org/3/library/exceptions.html). Under what conditions is this error raised?"
      ],
      "id": "I_I3jfw3HknU"
    },
    {
      "cell_type": "code",
      "execution_count": null,
      "metadata": {
        "id": "qNWg4lVMHknU"
      },
      "outputs": [],
      "source": [
        "x=0\n",
        "x++"
      ],
      "id": "qNWg4lVMHknU"
    },
    {
      "cell_type": "code",
      "execution_count": null,
      "metadata": {
        "id": "cBOVN3PjHknU"
      },
      "outputs": [],
      "source": [
        "x=0\n",
        " x=x+1"
      ],
      "id": "cBOVN3PjHknU"
    },
    {
      "cell_type": "code",
      "execution_count": null,
      "metadata": {
        "id": "-RIUUETMHknU"
      },
      "outputs": [],
      "source": [
        "print('Hello'"
      ],
      "id": "-RIUUETMHknU"
    },
    {
      "cell_type": "code",
      "execution_count": null,
      "metadata": {
        "id": "0xJPYrQFHknU"
      },
      "outputs": [],
      "source": [
        "1 + 'asdf'"
      ],
      "id": "0xJPYrQFHknU"
    },
    {
      "cell_type": "code",
      "execution_count": null,
      "metadata": {
        "id": "EsUuxg4FHknU"
      },
      "outputs": [],
      "source": [
        "import NoSuchLibrary"
      ],
      "id": "EsUuxg4FHknU"
    },
    {
      "cell_type": "code",
      "execution_count": null,
      "metadata": {
        "id": "eLP7dSNxHknU"
      },
      "outputs": [],
      "source": [
        "print(xyz)"
      ],
      "id": "eLP7dSNxHknU"
    },
    {
      "cell_type": "code",
      "execution_count": null,
      "metadata": {
        "id": "eIIp5m5UHknU"
      },
      "outputs": [],
      "source": [
        "x=0\n",
        "5/x"
      ],
      "id": "eIIp5m5UHknU"
    },
    {
      "cell_type": "markdown",
      "metadata": {
        "id": "craZmc-PHknU"
      },
      "source": [
        "### Functions"
      ],
      "id": "craZmc-PHknU"
    },
    {
      "cell_type": "markdown",
      "metadata": {
        "id": "EF43dvYgHknU"
      },
      "source": [
        "Python functions are defined using the `def` keyword. For example:"
      ],
      "id": "EF43dvYgHknU"
    },
    {
      "cell_type": "code",
      "execution_count": null,
      "metadata": {
        "id": "r9Ub9eTSHknU"
      },
      "outputs": [],
      "source": [
        "def sign(x):\n",
        "    if x > 0:\n",
        "        return 'positive'\n",
        "    elif x < 0:\n",
        "        return 'negative'\n",
        "    else:\n",
        "        return 'zero'\n",
        "\n",
        "for x in [-1, 0, 1]:\n",
        "    print(sign(x))"
      ],
      "id": "r9Ub9eTSHknU"
    },
    {
      "cell_type": "markdown",
      "metadata": {
        "id": "a3TubGQ4HknU"
      },
      "source": [
        "We will often define functions to take optional keyword arguments, like this:"
      ],
      "id": "a3TubGQ4HknU"
    },
    {
      "cell_type": "code",
      "execution_count": null,
      "metadata": {
        "id": "BypwVIadHknV"
      },
      "outputs": [],
      "source": [
        "def hello(name, loud=False):\n",
        "    if loud:\n",
        "        print('HELLO, {}'.format(name.upper()))\n",
        "    else:\n",
        "        print('Hello, {}!'.format(name))\n",
        "\n",
        "hello('Bob')\n",
        "hello('Fred', loud=True)"
      ],
      "id": "BypwVIadHknV"
    },
    {
      "cell_type": "markdown",
      "metadata": {
        "id": "bcK4Eb79HknV"
      },
      "source": [
        "### Classes"
      ],
      "id": "bcK4Eb79HknV"
    },
    {
      "cell_type": "markdown",
      "metadata": {
        "id": "c0r8Y5w8HknV"
      },
      "source": [
        "The syntax for defining classes in Python is straightforward:"
      ],
      "id": "c0r8Y5w8HknV"
    },
    {
      "cell_type": "code",
      "execution_count": null,
      "metadata": {
        "id": "UwQONveUHknV"
      },
      "outputs": [],
      "source": [
        "class Greeter:\n",
        "\n",
        "    # Constructor\n",
        "    def __init__(self, name):\n",
        "        self.name = name  # Create an instance variable\n",
        "\n",
        "    # Instance method\n",
        "    def greet(self, loud=False):\n",
        "        if loud:\n",
        "          print('HELLO, {}'.format(self.name.upper()))\n",
        "        else:\n",
        "          print('Hello, {}!'.format(self.name))\n",
        "\n",
        "g = Greeter('Fred')  # Construct an instance of the Greeter class\n",
        "g.greet()            # Call an instance method; prints \"Hello, Fred\"\n",
        "g.greet(loud=True)   # Call an instance method; prints \"HELLO, FRED!\""
      ],
      "id": "UwQONveUHknV"
    },
    {
      "cell_type": "markdown",
      "metadata": {
        "id": "yT9ZZvk7HknV"
      },
      "source": [
        "Numpy\n",
        "-----"
      ],
      "id": "yT9ZZvk7HknV"
    },
    {
      "cell_type": "markdown",
      "metadata": {
        "id": "3MHnrDQeHknV"
      },
      "source": [
        "Numpy is the core library for scientific computing in Python. It provides a high-performance multidimensional array object, and tools for working with these arrays. If you are already familiar with MATLAB, you might find this [tutorial](http://wiki.scipy.org/NumPy_for_Matlab_Users) useful to get started with Numpy."
      ],
      "id": "3MHnrDQeHknV"
    },
    {
      "cell_type": "markdown",
      "metadata": {
        "id": "Jdz6R8JvHknV"
      },
      "source": [
        "To use Numpy, we first need to import the `numpy` package. By convention, we import it using the alias `np`. Then, when we want to use modules or functions in this library, we preface them with `np.`"
      ],
      "id": "Jdz6R8JvHknV"
    },
    {
      "cell_type": "code",
      "execution_count": null,
      "metadata": {
        "id": "1XofQHvFHknV"
      },
      "outputs": [],
      "source": [
        "import numpy as np"
      ],
      "id": "1XofQHvFHknV"
    },
    {
      "cell_type": "markdown",
      "metadata": {
        "id": "-C9V-Sf0HknV"
      },
      "source": [
        "### Arrays and array construction"
      ],
      "id": "-C9V-Sf0HknV"
    },
    {
      "cell_type": "markdown",
      "metadata": {
        "id": "k3SlUarMHknV"
      },
      "source": [
        "A numpy array is a grid of values, all of the same type, and is indexed by a tuple of nonnegative integers. The number of dimensions is the rank of the array; the shape of an array is a tuple of integers giving the size of the array along each dimension."
      ],
      "id": "k3SlUarMHknV"
    },
    {
      "cell_type": "markdown",
      "metadata": {
        "id": "ap417zyhHknV"
      },
      "source": [
        "We can create a `numpy` array by passing a Python list to `np.array()`."
      ],
      "id": "ap417zyhHknV"
    },
    {
      "cell_type": "code",
      "execution_count": null,
      "metadata": {
        "id": "PN6j4AxLHknV"
      },
      "outputs": [],
      "source": [
        "a = np.array([1, 2, 3])  # Create a rank 1 array"
      ],
      "id": "PN6j4AxLHknV"
    },
    {
      "cell_type": "markdown",
      "metadata": {
        "id": "JowYnbkAHknV"
      },
      "source": [
        "This creates the array we can see on the right here:\n",
        "\n",
        "![](http://jalammar.github.io/images/numpy/create-numpy-array-1.png)"
      ],
      "id": "JowYnbkAHknV"
    },
    {
      "cell_type": "code",
      "execution_count": null,
      "metadata": {
        "id": "lVfEPKbDHknV"
      },
      "outputs": [],
      "source": [
        "print(type(a), a.shape, a[0], a[1], a[2])\n",
        "a[0] = 5                 # Change an element of the array\n",
        "print(a)"
      ],
      "id": "lVfEPKbDHknV"
    },
    {
      "cell_type": "markdown",
      "metadata": {
        "id": "3ckACu2AHknV"
      },
      "source": [
        "To create a `numpy` array with more dimensions, we can pass nested lists, like this:\n",
        "\n",
        "![](http://jalammar.github.io/images/numpy/numpy-array-create-2d.png)\n",
        "\n",
        "![](http://jalammar.github.io/images/numpy/numpy-3d-array.png)"
      ],
      "id": "3ckACu2AHknV"
    },
    {
      "cell_type": "code",
      "execution_count": null,
      "metadata": {
        "id": "CL1VqSkIHknV"
      },
      "outputs": [],
      "source": [
        "b = np.array([[1,2],[3,4]])   # Create a rank 2 array\n",
        "print(b)"
      ],
      "id": "CL1VqSkIHknV"
    },
    {
      "cell_type": "code",
      "execution_count": null,
      "metadata": {
        "id": "AH_6Nxa9HknW"
      },
      "outputs": [],
      "source": [
        "print(b.shape)"
      ],
      "id": "AH_6Nxa9HknW"
    },
    {
      "cell_type": "markdown",
      "metadata": {
        "id": "m98HXqKFHknW"
      },
      "source": [
        "There are often cases when we want numpy to initialize the values of the array for us. numpy provides methods like `ones()`, `zeros()`, and `random.random()` for these cases. We just pass them the number of elements we want it to generate:\n",
        "\n",
        "![](http://jalammar.github.io/images/numpy/create-numpy-array-ones-zeros-random.png)"
      ],
      "id": "m98HXqKFHknW"
    },
    {
      "cell_type": "markdown",
      "metadata": {
        "id": "yiVTAO-YHknW"
      },
      "source": [
        "We can also use these methods to produce multi-dimensional arrays, as long as we pass them a tuple describing the dimensions of the matrix we want to create:\n",
        "\n",
        "![](http://jalammar.github.io/images/numpy/numpy-matrix-ones-zeros-random.png)\n",
        "\n",
        "![](http://jalammar.github.io/images/numpy/numpy-3d-array-creation.png)"
      ],
      "id": "yiVTAO-YHknW"
    },
    {
      "cell_type": "markdown",
      "metadata": {
        "id": "44UEEKaqHknW"
      },
      "source": [
        "Sometimes, we need an array of a specific shape with “placeholder” values that we plan to fill in with the result of a computation. The `zeros` or `ones` functions are handy for this:"
      ],
      "id": "44UEEKaqHknW"
    },
    {
      "cell_type": "code",
      "execution_count": null,
      "metadata": {
        "id": "4FVWQVV4HknW"
      },
      "outputs": [],
      "source": [
        "a = np.zeros((2,2))  # Create an array of all zeros\n",
        "print(a)"
      ],
      "id": "4FVWQVV4HknW"
    },
    {
      "cell_type": "code",
      "execution_count": null,
      "metadata": {
        "id": "wF54N4E6HknW"
      },
      "outputs": [],
      "source": [
        "b = np.ones((1,2))   # Create an array of all ones\n",
        "print(b)"
      ],
      "id": "wF54N4E6HknW"
    },
    {
      "cell_type": "code",
      "execution_count": null,
      "metadata": {
        "id": "8njYs_pIHknW"
      },
      "outputs": [],
      "source": [
        "c = np.full((2,2), 7) # Create a constant array\n",
        "print(c)"
      ],
      "id": "8njYs_pIHknW"
    },
    {
      "cell_type": "code",
      "execution_count": null,
      "metadata": {
        "id": "91cSibzKHknW"
      },
      "outputs": [],
      "source": [
        "d = np.eye(2)        # Create a 2x2 identity matrix\n",
        "print(d)"
      ],
      "id": "91cSibzKHknW"
    },
    {
      "cell_type": "code",
      "execution_count": null,
      "metadata": {
        "id": "8fePlY2FHknW"
      },
      "outputs": [],
      "source": [
        "e = np.random.random((2,2)) # Create an array filled with random values\n",
        "print(e)"
      ],
      "id": "8fePlY2FHknW"
    },
    {
      "cell_type": "markdown",
      "metadata": {
        "id": "VxjJscJyHknW"
      },
      "source": [
        "Lastly, I want to mention two very useful functions for creating sequences of numbers within a specified range, namely, arange and linspace. NumPy’s arange function follows the same syntax as Python’s range objects: If two arguments are provided, the first argument represents the start value and the second value defines the stop value of a half-open interval:"
      ],
      "id": "VxjJscJyHknW"
    },
    {
      "cell_type": "markdown",
      "metadata": {
        "id": "VuLONFAzHknW"
      },
      "source": [
        "Numpy also has two useful functions for creating sequences of numbers: `arange` and `linspace`.\n",
        "\n",
        "The `arange` function accepts three arguments, which define the start value, stop value of a half-open interval, and step size. (The default step size, if not explicitly specified, is 1; the default start value, if not explicitly specified, is 0.)\n",
        "\n",
        "The `linspace` function is similar, but we can specify the number of values instead of the step size, and it will create a sequence of evenly spaced values."
      ],
      "id": "VuLONFAzHknW"
    },
    {
      "cell_type": "code",
      "execution_count": null,
      "metadata": {
        "id": "J4czqnkBHknW"
      },
      "outputs": [],
      "source": [
        "f = np.arange(10,50,5)   # Create an array of values starting at 10 in increments of 5\n",
        "print(f)"
      ],
      "id": "J4czqnkBHknW"
    },
    {
      "cell_type": "markdown",
      "metadata": {
        "id": "-Pw-Ru5hHknW"
      },
      "source": [
        "Note this ends on 45, not 50 (does not include the top end of the interval)."
      ],
      "id": "-Pw-Ru5hHknW"
    },
    {
      "cell_type": "code",
      "execution_count": null,
      "metadata": {
        "id": "CNtYx5p7HknX"
      },
      "outputs": [],
      "source": [
        "g = np.linspace(0., 1., num=5)\n",
        "print(g)"
      ],
      "id": "CNtYx5p7HknX"
    },
    {
      "cell_type": "markdown",
      "metadata": {
        "id": "RjGvxzSdHknX"
      },
      "source": [
        "Sometimes, we may want to construct an array from existing arrays by “stacking” the existing arrays, either vertically or horizontally. We can use `vstack()` (or `row_stack`) and `hstack()` (or `column_stack`), respectively."
      ],
      "id": "RjGvxzSdHknX"
    },
    {
      "cell_type": "code",
      "execution_count": null,
      "metadata": {
        "id": "UKOTmBCoHknX"
      },
      "outputs": [],
      "source": [
        "a = np.array([1, 2, 3])\n",
        "b = np.array([4, 5, 6])\n",
        "np.vstack((a,b))"
      ],
      "id": "UKOTmBCoHknX"
    },
    {
      "cell_type": "code",
      "execution_count": null,
      "metadata": {
        "id": "T3_KEAX7HknX"
      },
      "outputs": [],
      "source": [
        "a = np.array([[7], [8], [9]])\n",
        "b = np.array([[4], [5], [6]])\n",
        "np.hstack((a,b))"
      ],
      "id": "T3_KEAX7HknX"
    },
    {
      "cell_type": "markdown",
      "metadata": {
        "id": "A70u2de0HknX"
      },
      "source": [
        "### Array indexing"
      ],
      "id": "A70u2de0HknX"
    },
    {
      "cell_type": "markdown",
      "metadata": {
        "id": "tBvvFlWsHknX"
      },
      "source": [
        "Numpy offers several ways to index into arrays."
      ],
      "id": "tBvvFlWsHknX"
    },
    {
      "cell_type": "markdown",
      "metadata": {
        "id": "azf8NT4jHknX"
      },
      "source": [
        "We can index and slice numpy arrays in all the ways we can slice Python lists:\n",
        "\n",
        "![](http://jalammar.github.io/images/numpy/numpy-array-slice.png)\n",
        "\n",
        "And you can index and slice numpy arrays in multiple dimensions. If slicing an array with more than one dimension, you should specify a slice for each dimension:\n",
        "\n",
        "![](http://jalammar.github.io/images/numpy/numpy-matrix-indexing.png)"
      ],
      "id": "azf8NT4jHknX"
    },
    {
      "cell_type": "code",
      "execution_count": null,
      "metadata": {
        "id": "YtjvhwoxHknX"
      },
      "outputs": [],
      "source": [
        "# Create the following rank 2 array with shape (3, 4)\n",
        "# [[ 1  2  3  4]\n",
        "#  [ 5  6  7  8]\n",
        "#  [ 9 10 11 12]]\n",
        "a = np.array([[1,2,3,4], [5,6,7,8], [9,10,11,12]])\n",
        "\n",
        "# Use slicing to pull out the subarray consisting of the first 2 rows\n",
        "# and columns 1 and 2; b is the following array of shape (2, 2):\n",
        "# [[2 3]\n",
        "#  [6 7]]\n",
        "b = a[:2, 1:3]\n",
        "print(b)"
      ],
      "id": "YtjvhwoxHknX"
    },
    {
      "cell_type": "markdown",
      "metadata": {
        "id": "cbGYlILeHknX"
      },
      "source": [
        "A slice of an array is a view into the same data, so modifying it will modify the original array."
      ],
      "id": "cbGYlILeHknX"
    },
    {
      "cell_type": "code",
      "execution_count": null,
      "metadata": {
        "id": "iSgEE3l4HknX"
      },
      "outputs": [],
      "source": [
        "print(a[0, 1])\n",
        "b[0, 0] = 77    # b[0, 0] is the same piece of data as a[0, 1]\n",
        "print(a[0, 1])"
      ],
      "id": "iSgEE3l4HknX"
    },
    {
      "cell_type": "markdown",
      "metadata": {
        "id": "lMC-pJMxHknX"
      },
      "source": [
        "You can also mix integer indexing with slice indexing. However, doing so will yield an array of lower rank than the original array. Note that this is quite different from the way that MATLAB handles array slicing:"
      ],
      "id": "lMC-pJMxHknX"
    },
    {
      "cell_type": "code",
      "execution_count": null,
      "metadata": {
        "id": "HZ4nzY8-HknX"
      },
      "outputs": [],
      "source": [
        "# Create the following rank 2 array with shape (3, 4)\n",
        "a = np.array([[1,2,3,4], [5,6,7,8], [9,10,11,12]])\n",
        "print(a)"
      ],
      "id": "HZ4nzY8-HknX"
    },
    {
      "cell_type": "markdown",
      "metadata": {
        "id": "falHNoNbHknX"
      },
      "source": [
        "Two ways of accessing the data in the middle row of the array. Mixing integer indexing with slices yields an array of lower rank, while using only slices yields an array of the same rank as the original array:"
      ],
      "id": "falHNoNbHknX"
    },
    {
      "cell_type": "code",
      "execution_count": null,
      "metadata": {
        "id": "EoBdcGtEHknX"
      },
      "outputs": [],
      "source": [
        "row_r1 = a[1, :]    # Rank 1 view of the second row of a\n",
        "row_r2 = a[1:2, :]  # Rank 2 view of the second row of a\n",
        "row_r3 = a[[1], :]  # Rank 2 view of the second row of a\n",
        "print(row_r1, row_r1.shape)\n",
        "print(row_r2, row_r2.shape)\n",
        "print(row_r3, row_r3.shape)"
      ],
      "id": "EoBdcGtEHknX"
    },
    {
      "cell_type": "code",
      "execution_count": null,
      "metadata": {
        "id": "Gs7VpzgJHknX"
      },
      "outputs": [],
      "source": [
        "# We can make the same distinction when accessing columns of an array:\n",
        "col_r1 = a[:, 1]\n",
        "col_r2 = a[:, 1:2]\n",
        "print(col_r1, col_r1.shape)\n",
        "print()\n",
        "print(col_r2, col_r2.shape)"
      ],
      "id": "Gs7VpzgJHknX"
    },
    {
      "cell_type": "markdown",
      "metadata": {
        "id": "OVoLxq4IHknX"
      },
      "source": [
        "Integer array indexing: When you index into numpy arrays using slicing, the resulting array view will always be a subarray of the original array. In contrast, integer array indexing allows you to construct arbitrary arrays using the data from another array. Here is an example:"
      ],
      "id": "OVoLxq4IHknX"
    },
    {
      "cell_type": "code",
      "execution_count": null,
      "metadata": {
        "id": "4ACMfxVeHknY"
      },
      "outputs": [],
      "source": [
        "a = np.array([[1,2], [3, 4], [5, 6]])\n",
        "\n",
        "# An example of integer array indexing.\n",
        "# The returned array will have shape (3,) and\n",
        "print(a[[0, 1, 2], [0, 1, 0]])\n",
        "\n",
        "# The above example of integer array indexing is equivalent to this:\n",
        "print(np.array([a[0, 0], a[1, 1], a[2, 0]]))"
      ],
      "id": "4ACMfxVeHknY"
    },
    {
      "cell_type": "code",
      "execution_count": null,
      "metadata": {
        "id": "4CpU4LUoHknY"
      },
      "outputs": [],
      "source": [
        "# When using integer array indexing, you can reuse the same\n",
        "# element from the source array:\n",
        "print(a[[0, 0], [1, 1]])\n",
        "\n",
        "# Equivalent to the previous integer array indexing example\n",
        "print(np.array([a[0, 1], a[0, 1]]))"
      ],
      "id": "4CpU4LUoHknY"
    },
    {
      "cell_type": "markdown",
      "metadata": {
        "id": "p_MEzBJVHknY"
      },
      "source": [
        "One useful trick with integer array indexing is selecting or mutating one element from each row of a matrix:"
      ],
      "id": "p_MEzBJVHknY"
    },
    {
      "cell_type": "code",
      "execution_count": null,
      "metadata": {
        "id": "RIA5rAM1HknY"
      },
      "outputs": [],
      "source": [
        "# Create a new array from which we will select elements\n",
        "a = np.array([[1,2,3], [4,5,6], [7,8,9], [10, 11, 12]])\n",
        "print(a)"
      ],
      "id": "RIA5rAM1HknY"
    },
    {
      "cell_type": "code",
      "execution_count": null,
      "metadata": {
        "id": "MqY8iziNHknY"
      },
      "outputs": [],
      "source": [
        "# Create an array of indices\n",
        "b = np.array([0, 2, 0, 1])\n",
        "\n",
        "# Select one element from each row of a using the indices in b\n",
        "print(a[np.arange(4), b])  # Prints \"[ 1  6  7 11]\""
      ],
      "id": "MqY8iziNHknY"
    },
    {
      "cell_type": "code",
      "execution_count": null,
      "metadata": {
        "id": "twdaSXUmHknY"
      },
      "outputs": [],
      "source": [
        "# Mutate one element from each row of a using the indices in b\n",
        "a[np.arange(4), b] += 10\n",
        "print(a)"
      ],
      "id": "twdaSXUmHknY"
    },
    {
      "cell_type": "markdown",
      "metadata": {
        "id": "-hgKu0SxHknY"
      },
      "source": [
        "Boolean array indexing: Boolean array indexing lets you pick out arbitrary elements of an array. Frequently this type of indexing is used to select the elements of an array that satisfy some condition. Here is an example:"
      ],
      "id": "-hgKu0SxHknY"
    },
    {
      "cell_type": "code",
      "execution_count": null,
      "metadata": {
        "id": "XhU-VY4bHknY"
      },
      "outputs": [],
      "source": [
        "import numpy as np\n",
        "\n",
        "a = np.array([[1,2], [3, 4], [5, 6]])\n",
        "\n",
        "bool_idx = (a > 2)  # Find the elements of a that are bigger than 2;\n",
        "                    # this returns a numpy array of Booleans of the same\n",
        "                    # shape as a, where each slot of bool_idx tells\n",
        "                    # whether that element of a is > 2.\n",
        "\n",
        "print(bool_idx)"
      ],
      "id": "XhU-VY4bHknY"
    },
    {
      "cell_type": "code",
      "execution_count": null,
      "metadata": {
        "id": "YcSUeAhWHknY"
      },
      "outputs": [],
      "source": [
        "# We use boolean array indexing to construct a rank 1 array\n",
        "# consisting of the elements of a corresponding to the True values\n",
        "# of bool_idx\n",
        "print(a[bool_idx])\n",
        "\n",
        "# We can do all of the above in a single concise statement:\n",
        "print(a[a > 2])"
      ],
      "id": "YcSUeAhWHknY"
    },
    {
      "cell_type": "markdown",
      "metadata": {
        "id": "ELkz4areHknY"
      },
      "source": [
        "When working with numpy arrays, it’s often helpful to get the *indices* (not only the values) of array elements that meet certain conditions. There are a few numpy functions that you’ll definitely want to remember:\n",
        "\n",
        "-   [`argmax`](https://numpy.org/doc/stable/reference/generated/numpy.argmax.html) (get index of maximum element in array)\n",
        "-   [`argmin`](https://numpy.org/doc/stable/reference/generated/numpy.argmin.html) (get index of minimum element in array)\n",
        "-   [`argsort`](https://numpy.org/doc/stable/reference/generated/numpy.argsort.html) (get sorted list of indices, by element value, in ascending order)\n",
        "-   [`where`](https://numpy.org/doc/stable/reference/generated/numpy.where.html) (get indices of elements that meet some condition)"
      ],
      "id": "ELkz4areHknY"
    },
    {
      "cell_type": "code",
      "execution_count": null,
      "metadata": {
        "id": "y3uE7M3YHknY"
      },
      "outputs": [],
      "source": [
        "a = np.array([1, 8, 9, -3, 2, 4, 7, 9])\n",
        "\n",
        "# Get the index of the maximum element in a\n",
        "print(np.argmax(a))\n",
        "\n",
        "# Get the index of the minimum element in a\n",
        "# (this array has two elements with the maximum value -\n",
        "# only one index is returned)\n",
        "print(np.argmin(a))\n",
        "\n",
        "# Get sorted list of indices\n",
        "print(np.argsort(a))\n",
        "\n",
        "# Get sorted list of indices in descending order\n",
        "# [::-1] is a special slicing index that returns the reversed list\n",
        "print(np.argsort(a)[::-1])\n",
        "\n",
        "# Get indices of elements that meet some condition\n",
        "# this returns a tuple, the list of indices is the first entry\n",
        "# so we use [0] to get it\n",
        "print(np.where(a > 5)[0])\n",
        "\n",
        "# Get indices of elements that meet some condition\n",
        "# this example shows how to get the index of *all* the max values\n",
        "print(np.where(a >= a[np.argmax(a)])[0])"
      ],
      "id": "y3uE7M3YHknY"
    },
    {
      "cell_type": "markdown",
      "metadata": {
        "id": "c_3N5W1FHknY"
      },
      "source": [
        "For brevity we have left out a lot of details about numpy array indexing; if you want to know more you should read the documentation."
      ],
      "id": "c_3N5W1FHknY"
    },
    {
      "cell_type": "markdown",
      "metadata": {
        "id": "irwaKwpmHknY"
      },
      "source": [
        "### Datatypes"
      ],
      "id": "irwaKwpmHknY"
    },
    {
      "cell_type": "markdown",
      "metadata": {
        "id": "0aFgGaDKHknZ"
      },
      "source": [
        "Every numpy array is a grid of elements of the same type. Numpy provides a large set of numeric datatypes that you can use to construct arrays. Numpy tries to guess a datatype when you create an array, but functions that construct arrays usually also include an optional argument to explicitly specify the datatype. Here is an example:"
      ],
      "id": "0aFgGaDKHknZ"
    },
    {
      "cell_type": "code",
      "execution_count": null,
      "metadata": {
        "id": "tHJ9SLhSHknZ"
      },
      "outputs": [],
      "source": [
        "x = np.array([1, 2])  # Let numpy choose the datatype\n",
        "y = np.array([1.0, 2.0])  # Let numpy choose the datatype\n",
        "z = np.array([1, 2], dtype=np.int64)  # Force a particular datatype\n",
        "\n",
        "print(x.dtype, y.dtype, z.dtype)"
      ],
      "id": "tHJ9SLhSHknZ"
    },
    {
      "cell_type": "markdown",
      "metadata": {
        "id": "SRBZvQX3HknZ"
      },
      "source": [
        "You can read all about numpy datatypes in the [documentation](http://docs.scipy.org/doc/numpy/reference/arrays.dtypes.html)."
      ],
      "id": "SRBZvQX3HknZ"
    },
    {
      "cell_type": "markdown",
      "metadata": {
        "id": "gF1GZLTOHknZ"
      },
      "source": [
        "### Array math"
      ],
      "id": "gF1GZLTOHknZ"
    },
    {
      "cell_type": "markdown",
      "metadata": {
        "id": "JWQowXlLHknZ"
      },
      "source": [
        "What makes working with `numpy` so powerful and convenient is that it comes with many *vectorized* math functions for computation over elements of an array. These functions are highly optimized and are *very* fast - much, much faster than using an explicit `for` loop.\n",
        "\n",
        "For example, let’s create a large array of random values and then sum it both ways. We’ll use a `%%time` *cell magic* to time them."
      ],
      "id": "JWQowXlLHknZ"
    },
    {
      "cell_type": "code",
      "execution_count": null,
      "metadata": {
        "id": "yV8Ss5hFHknZ"
      },
      "outputs": [],
      "source": [
        "a = np.random.random(100000000)"
      ],
      "id": "yV8Ss5hFHknZ"
    },
    {
      "cell_type": "code",
      "execution_count": null,
      "metadata": {
        "id": "TjVj9WGMHknZ"
      },
      "outputs": [],
      "source": [
        "%%time\n",
        "x = np.sum(a)"
      ],
      "id": "TjVj9WGMHknZ"
    },
    {
      "cell_type": "code",
      "execution_count": null,
      "metadata": {
        "id": "VhU5tnTRHknZ"
      },
      "outputs": [],
      "source": [
        "%%time\n",
        "x = 0\n",
        "for element in a:\n",
        "  x = x + element"
      ],
      "id": "VhU5tnTRHknZ"
    },
    {
      "cell_type": "markdown",
      "metadata": {
        "id": "4BVCkDy4HknZ"
      },
      "source": [
        "Look at the “Wall Time” in the output - note how much faster the vectorized version of the operation is! This type of fast computation is a major enabler of machine learning, which requires a *lot* of computation.\n",
        "\n",
        "Whenever possible, we will try to use these vectorized operations."
      ],
      "id": "4BVCkDy4HknZ"
    },
    {
      "cell_type": "markdown",
      "metadata": {
        "id": "V1w-9PP_HknZ"
      },
      "source": [
        "Some mathematic functions are available both as operator overloads and as functions in the numpy module."
      ],
      "id": "V1w-9PP_HknZ"
    },
    {
      "cell_type": "markdown",
      "metadata": {
        "id": "z1qY-UChHknZ"
      },
      "source": [
        "For example, you can perform an elementwise sum on two arrays using either the + operator or the `add()` function.\n",
        "\n",
        "![](http://jalammar.github.io/images/numpy/numpy-arrays-adding-1.png)\n",
        "\n",
        "![](http://jalammar.github.io/images/numpy/numpy-matrix-arithmetic.png)"
      ],
      "id": "z1qY-UChHknZ"
    },
    {
      "cell_type": "code",
      "execution_count": null,
      "metadata": {
        "id": "hOS01uj-HknZ"
      },
      "outputs": [],
      "source": [
        "x = np.array([[1,2],[3,4]], dtype=np.float64)\n",
        "y = np.array([[5,6],[7,8]], dtype=np.float64)\n",
        "\n",
        "# Elementwise sum; both produce the array\n",
        "print(x + y)\n",
        "print(np.add(x, y))"
      ],
      "id": "hOS01uj-HknZ"
    },
    {
      "cell_type": "markdown",
      "metadata": {
        "id": "HasDXtXaHknZ"
      },
      "source": [
        "And this works for other operations as well, not only addition:\n",
        "\n",
        "![](http://jalammar.github.io/images/numpy/numpy-array-subtract-multiply-divide.png)"
      ],
      "id": "HasDXtXaHknZ"
    },
    {
      "cell_type": "code",
      "execution_count": null,
      "metadata": {
        "id": "V3io_5XhHknZ"
      },
      "outputs": [],
      "source": [
        "# Elementwise difference; both produce the array\n",
        "print(x - y)\n",
        "print(np.subtract(x, y))"
      ],
      "id": "V3io_5XhHknZ"
    },
    {
      "cell_type": "code",
      "execution_count": null,
      "metadata": {
        "id": "u432RidzHknZ"
      },
      "outputs": [],
      "source": [
        "# Elementwise product; both produce the array\n",
        "print(x * y)\n",
        "print(np.multiply(x, y))"
      ],
      "id": "u432RidzHknZ"
    },
    {
      "cell_type": "code",
      "execution_count": null,
      "metadata": {
        "id": "6RMppdfxHkna"
      },
      "outputs": [],
      "source": [
        "# Elementwise division; both produce the array\n",
        "# [[ 0.2         0.33333333]\n",
        "#  [ 0.42857143  0.5       ]]\n",
        "print(x / y)\n",
        "print(np.divide(x, y))"
      ],
      "id": "6RMppdfxHkna"
    },
    {
      "cell_type": "code",
      "execution_count": null,
      "metadata": {
        "id": "Am1wvcMeHkna"
      },
      "outputs": [],
      "source": [
        "# Elementwise square root; produces the array\n",
        "# [[ 1.          1.41421356]\n",
        "#  [ 1.73205081  2.        ]]\n",
        "print(np.sqrt(x))"
      ],
      "id": "Am1wvcMeHkna"
    },
    {
      "cell_type": "markdown",
      "metadata": {
        "id": "dhSle2O3Hkna"
      },
      "source": [
        "Note that unlike MATLAB, `*` is elementwise multiplication, not matrix multiplication. We instead use the `dot()` function to compute inner products of vectors, to multiply a vector by a matrix, and to multiply matrices. `dot()` is available both as a function in the numpy module and as an instance method of array objects:\n",
        "\n",
        "![](http://jalammar.github.io/images/numpy/numpy-matrix-dot-product-1.png)"
      ],
      "id": "dhSle2O3Hkna"
    },
    {
      "cell_type": "code",
      "execution_count": null,
      "metadata": {
        "id": "QvMajUzuHkna"
      },
      "outputs": [],
      "source": [
        "x = np.array([[1,2],[3,4]])\n",
        "y = np.array([[5,6],[7,8]])\n",
        "\n",
        "v = np.array([9,10])\n",
        "w = np.array([11, 12])\n",
        "\n",
        "# Inner product of vectors; both produce 219\n",
        "print(v.dot(w))\n",
        "print(np.dot(v, w))"
      ],
      "id": "QvMajUzuHkna"
    },
    {
      "cell_type": "markdown",
      "metadata": {
        "id": "a--V70sAHkna"
      },
      "source": [
        "You can also use the `@` operator which is equivalent to numpy's `dot` operator."
      ],
      "id": "a--V70sAHkna"
    },
    {
      "cell_type": "code",
      "execution_count": null,
      "metadata": {
        "id": "pr_rv-LoHkna"
      },
      "outputs": [],
      "source": [
        "print(v @ w)"
      ],
      "id": "pr_rv-LoHkna"
    },
    {
      "cell_type": "code",
      "execution_count": null,
      "metadata": {
        "id": "-I04cX1SHkna"
      },
      "outputs": [],
      "source": [
        "# Matrix / vector product; both produce the rank 1 array [29 67]\n",
        "print(x.dot(v))\n",
        "print(np.dot(x, v))\n",
        "print(x @ v)"
      ],
      "id": "-I04cX1SHkna"
    },
    {
      "cell_type": "code",
      "execution_count": null,
      "metadata": {
        "id": "q2mSz75qHkna"
      },
      "outputs": [],
      "source": [
        "# Matrix / matrix product; both produce the rank 2 array\n",
        "# [[19 22]\n",
        "#  [43 50]]\n",
        "print(x.dot(y))\n",
        "print(np.dot(x, y))\n",
        "print(x @ y)"
      ],
      "id": "q2mSz75qHkna"
    },
    {
      "cell_type": "markdown",
      "metadata": {
        "id": "T37n-HXLHkna"
      },
      "source": [
        "Besides for the functions that overload operators, Numpy also provides many useful functions for performing computations on arrays, such as `min()`, `max()`, `sum()`, and others:\n",
        "\n",
        "![](http://jalammar.github.io/images/numpy/numpy-matrix-aggregation-1.png)"
      ],
      "id": "T37n-HXLHkna"
    },
    {
      "cell_type": "code",
      "execution_count": null,
      "metadata": {
        "id": "Cq9Yz4CPHkna"
      },
      "outputs": [],
      "source": [
        "x = np.array([[1, 2], [3, 4], [5, 6]])\n",
        "\n",
        "print(np.max(x))  # Compute sum of all elements; prints \"21\"\n",
        "print(np.min(x))  # Compute sum of all elements; prints \"21\"\n",
        "print(np.sum(x))  # Compute sum of all elements; prints \"21\""
      ],
      "id": "Cq9Yz4CPHkna"
    },
    {
      "cell_type": "markdown",
      "metadata": {
        "id": "h3alyhxAHkna"
      },
      "source": [
        "Not only can we aggregate all the values in a matrix using these functions, but we can also aggregate across the rows or columns by using the `axis` parameter:\n",
        "\n",
        "![](http://jalammar.github.io/images/numpy/numpy-matrix-aggregation-4.png)"
      ],
      "id": "h3alyhxAHkna"
    },
    {
      "cell_type": "code",
      "execution_count": null,
      "metadata": {
        "id": "tBZHZdg5Hkna"
      },
      "outputs": [],
      "source": [
        "x = np.array([[1, 2], [5, 3], [4, 6]])\n",
        "\n",
        "print(np.max(x, axis=0))  # Compute max of each column; prints \"[5 6]\"\n",
        "print(np.max(x, axis=1))  # Compute max of each row; prints \"[2 5 6]\""
      ],
      "id": "tBZHZdg5Hkna"
    },
    {
      "cell_type": "markdown",
      "metadata": {
        "id": "gck0jTxyHkna"
      },
      "source": [
        "You can find the full list of mathematical functions provided by numpy in the [documentation](http://docs.scipy.org/doc/numpy/reference/routines.math.html)."
      ],
      "id": "gck0jTxyHkna"
    },
    {
      "cell_type": "markdown",
      "metadata": {
        "id": "o3msD6CoHkna"
      },
      "source": [
        "Apart from computing mathematical functions using arrays, we frequently need to reshape or otherwise manipulate data in arrays. The simplest example of this type of operation is transposing a matrix; to transpose a matrix, simply use the T attribute of an array object.\n",
        "\n",
        "![](http://jalammar.github.io/images/numpy/numpy-transpose.png)"
      ],
      "id": "o3msD6CoHkna"
    },
    {
      "cell_type": "code",
      "execution_count": null,
      "metadata": {
        "id": "_Z3Kvj4THkna"
      },
      "outputs": [],
      "source": [
        "x = np.array([[1, 2], [3, 4], [5, 6]])\n",
        "\n",
        "print(x)\n",
        "print(\"transpose\\n\", x.T)"
      ],
      "id": "_Z3Kvj4THkna"
    },
    {
      "cell_type": "code",
      "execution_count": null,
      "metadata": {
        "id": "d5YgfBIZHknb"
      },
      "outputs": [],
      "source": [
        "v = np.array([[1,2,3]])\n",
        "print(v )\n",
        "print(\"transpose\\n\", v.T)"
      ],
      "id": "d5YgfBIZHknb"
    },
    {
      "cell_type": "markdown",
      "metadata": {
        "id": "sF1GwwVgHknb"
      },
      "source": [
        "In more advanced use case, you may find yourself needing to change the dimensions of a certain matrix. This is often the case in machine learning applications where a certain model expects a certain shape for the inputs that is different from your dataset. numpy's `reshape()` method is useful in these cases.\n",
        "\n",
        "![](http://jalammar.github.io/images/numpy/numpy-reshape.png)"
      ],
      "id": "sF1GwwVgHknb"
    },
    {
      "cell_type": "markdown",
      "metadata": {
        "id": "qOjoZnPVHknb"
      },
      "source": [
        "A common task in this class will be to convert a 1D array to a 2D array, and vice versa. We can use `reshape()` for this."
      ],
      "id": "qOjoZnPVHknb"
    },
    {
      "cell_type": "markdown",
      "metadata": {
        "id": "Zzn7WnE7Hknb"
      },
      "source": [
        "For example, suppose we had this 2D array, but we need to pass it to a function that expects a 1D array."
      ],
      "id": "Zzn7WnE7Hknb"
    },
    {
      "cell_type": "code",
      "execution_count": null,
      "metadata": {
        "id": "siJkEa59Hknb"
      },
      "outputs": [],
      "source": [
        "w = np.array([[1],[2],[3]])\n",
        "print(w)\n",
        "w.shape"
      ],
      "id": "siJkEa59Hknb"
    },
    {
      "cell_type": "markdown",
      "metadata": {
        "id": "kdbjG07iHknb"
      },
      "source": [
        "We can remove the “unnecessary” extra dimension with"
      ],
      "id": "kdbjG07iHknb"
    },
    {
      "cell_type": "code",
      "execution_count": null,
      "metadata": {
        "id": "eHt1VLSrHknb"
      },
      "outputs": [],
      "source": [
        "y = w.reshape(-1,)\n",
        "print(y)\n",
        "y.shape"
      ],
      "id": "eHt1VLSrHknb"
    },
    {
      "cell_type": "markdown",
      "metadata": {
        "id": "E6ltARzzHknb"
      },
      "source": [
        "Note that we can pass -1 as one dimension and numpy will infer the correct size based on our matrix size!\n",
        "\n",
        "There’s also a `squeeze()` function that removes *all* of the “unnecessary” dimensions (dimensions that have size 1) from an array:"
      ],
      "id": "E6ltARzzHknb"
    },
    {
      "cell_type": "code",
      "execution_count": null,
      "metadata": {
        "id": "b0TWwVtDHknb"
      },
      "outputs": [],
      "source": [
        "z = w.squeeze()\n",
        "print(z)\n",
        "z.shape"
      ],
      "id": "b0TWwVtDHknb"
    },
    {
      "cell_type": "markdown",
      "metadata": {
        "id": "4XfyqpVpHknb"
      },
      "source": [
        "To go from a 1D to 2D array, we can just add in another dimension of size 1:"
      ],
      "id": "4XfyqpVpHknb"
    },
    {
      "cell_type": "code",
      "execution_count": null,
      "metadata": {
        "id": "Yo9Vpj1mHknb"
      },
      "outputs": [],
      "source": [
        "y.reshape((-1,1))"
      ],
      "id": "Yo9Vpj1mHknb"
    },
    {
      "cell_type": "markdown",
      "metadata": {
        "id": "gaFZfDSVHknb"
      },
      "source": [
        "### Broadcasting"
      ],
      "id": "gaFZfDSVHknb"
    },
    {
      "cell_type": "markdown",
      "metadata": {
        "id": "hF5e8MBQHknb"
      },
      "source": [
        "Broadcasting is a powerful mechanism that allows numpy to work with arrays of different shapes when performing arithmetic operations."
      ],
      "id": "hF5e8MBQHknb"
    },
    {
      "cell_type": "markdown",
      "metadata": {
        "id": "qre6dTV1Hknb"
      },
      "source": [
        "For example: basic linear algebra, we can only add (and perform similar element-wise operations) two matrics that have the *same* dimension. In numpy, if we want to add two matrics that have different dimensions, numpy will implicitly “extend” the dimension of one matrix to match the other so that we can perform the operation.\n",
        "\n",
        "So these operations will work, instead of returning an error:\n",
        "\n",
        "![](https://sebastianraschka.com/images/blog/2020/numpy-intro/broadcasting-1.png)\n",
        "\n",
        "![](https://sebastianraschka.com/images/blog/2020/numpy-intro/broadcasting-2.png)"
      ],
      "id": "qre6dTV1Hknb"
    },
    {
      "cell_type": "markdown",
      "metadata": {
        "id": "_ZRBraQiHknb"
      },
      "source": [
        "Broadcasting two arrays together follows these rules:\n",
        "\n",
        "**Rule 1**: If the two arrays differ in their number of dimensions, the shape of the one with fewer dimensions is padded with ones on its leading (left) side.\n",
        "\n",
        "For example, in the following cell, `a` will be implicitly extended to shape (1,3):"
      ],
      "id": "_ZRBraQiHknb"
    },
    {
      "cell_type": "code",
      "execution_count": null,
      "metadata": {
        "id": "nSjRnGCcHknb"
      },
      "outputs": [],
      "source": [
        "a = np.array([1,2,3])         # has shape (3,): one dimension\n",
        "b = np.array([[4], [5], [6]]) # has shape (3,1): two dimensions\n",
        "c = a + b                     # will have shape (3,3) (two dimensions)"
      ],
      "id": "nSjRnGCcHknb"
    },
    {
      "cell_type": "markdown",
      "metadata": {
        "id": "rFSwTiz8Hknc"
      },
      "source": [
        "**Rule 2**: If the shape of the two arrays does not match in any dimension, the array with shape equal to 1 in that dimension is stretched to match the other shape.\n",
        "\n",
        "For example, in the following cell `a` will be implicitly extended to shape (3,2):"
      ],
      "id": "rFSwTiz8Hknc"
    },
    {
      "cell_type": "code",
      "execution_count": null,
      "metadata": {
        "id": "NRN3jDN6Hknc"
      },
      "outputs": [],
      "source": [
        "a = np.array([[1],[2],[3]])         # has shape (3,1)\n",
        "b = np.array([[4,5], [6,7], [8,9]]) # has shape (3,2)\n",
        "c = a + b                           # will have shape (3,2)"
      ],
      "id": "NRN3jDN6Hknc"
    },
    {
      "cell_type": "markdown",
      "metadata": {
        "id": "akCqgitoHknc"
      },
      "source": [
        "**Rule 3**: If in any dimension the sizes disagree and neither is equal to 1, an error is raised:"
      ],
      "id": "akCqgitoHknc"
    },
    {
      "cell_type": "code",
      "execution_count": null,
      "metadata": {
        "id": "G8A6Zh5iHknc"
      },
      "outputs": [],
      "source": [
        "a = np.array([[1],[2],[3],[4]])      # has shape (4,1)\n",
        "b = np.array([[4,5], [6,7], [8,9]])  # has shape (3,2)\n",
        "c = a + b                            # ValueError: operands could not be broadcast"
      ],
      "id": "G8A6Zh5iHknc"
    },
    {
      "cell_type": "markdown",
      "metadata": {
        "id": "hmcRyv-sHknc"
      },
      "source": [
        "For more detail, you can read the explanation from the [documentation](http://docs.scipy.org/doc/numpy/user/basics.broadcasting.html)."
      ],
      "id": "hmcRyv-sHknc"
    },
    {
      "cell_type": "markdown",
      "metadata": {
        "id": "4bIK0_dEHknc"
      },
      "source": [
        "Functions that support broadcasting are known as universal functions. You can find the list of all universal functions in the [documentation](http://docs.scipy.org/doc/numpy/reference/ufuncs.html#available-ufuncs)."
      ],
      "id": "4bIK0_dEHknc"
    },
    {
      "cell_type": "markdown",
      "metadata": {
        "id": "dFw2v_GnHknc"
      },
      "source": [
        "Here are a few visual examples involving broadcasting.\n",
        "\n",
        "![](http://jalammar.github.io/images/numpy/numpy-array-broadcast.png)\n",
        "\n",
        "Note that these arrays are compatible in each dimension if they have either the same size in that dimension, or if one array has size 1 in that dimension.\n",
        "\n",
        "![](http://jalammar.github.io/images/numpy/numpy-matrix-broadcast.png)"
      ],
      "id": "dFw2v_GnHknc"
    },
    {
      "cell_type": "markdown",
      "metadata": {
        "id": "A83rrSnDHknc"
      },
      "source": [
        "And here are some more practical applications:"
      ],
      "id": "A83rrSnDHknc"
    },
    {
      "cell_type": "code",
      "execution_count": null,
      "metadata": {
        "id": "X1khAsdgHknc"
      },
      "outputs": [],
      "source": [
        "# Compute outer product of vectors\n",
        "v = np.array([1,2,3])  # v has shape (3,)\n",
        "w = np.array([4,5])    # w has shape (2,)\n",
        "# To compute an outer product, we first reshape v to be a column\n",
        "# vector of shape (3, 1); we can then broadcast it against w to yield\n",
        "# an output of shape (3, 2), which is the outer product of v and w:\n",
        "\n",
        "print(np.reshape(v, (3, 1)) * w)"
      ],
      "id": "X1khAsdgHknc"
    },
    {
      "cell_type": "code",
      "execution_count": null,
      "metadata": {
        "id": "Pl2lLEUPHknc"
      },
      "outputs": [],
      "source": [
        "# Add a vector to each row of a matrix\n",
        "x = np.array([[1,2,3], [4,5,6]])\n",
        "# x has shape (2, 3) and v has shape (3,) so they broadcast to (2, 3),\n",
        "# giving the following matrix:\n",
        "\n",
        "print(x + v)"
      ],
      "id": "Pl2lLEUPHknc"
    },
    {
      "cell_type": "code",
      "execution_count": null,
      "metadata": {
        "id": "aFUD2b7uHknc"
      },
      "outputs": [],
      "source": [
        "# Add a vector to each column of a matrix\n",
        "# x has shape (2, 3) and w has shape (2,).\n",
        "# If we transpose x then it has shape (3, 2) and can be broadcast\n",
        "# against w to yield a result of shape (3, 2); transposing this result\n",
        "# yields the final result of shape (2, 3) which is the matrix x with\n",
        "# the vector w added to each column. Gives the following matrix:\n",
        "\n",
        "print((x.T + w).T)"
      ],
      "id": "aFUD2b7uHknc"
    },
    {
      "cell_type": "code",
      "execution_count": null,
      "metadata": {
        "id": "ti9poRtsHknc"
      },
      "outputs": [],
      "source": [
        "# Another solution is to reshape w to be a row vector of shape (2, 1);\n",
        "# we can then broadcast it directly against x to produce the same\n",
        "# output.\n",
        "print(x + np.reshape(w, (2, 1)))"
      ],
      "id": "ti9poRtsHknc"
    },
    {
      "cell_type": "code",
      "execution_count": null,
      "metadata": {
        "id": "Qkot9881Hknc"
      },
      "outputs": [],
      "source": [
        "# Multiply a matrix by a constant:\n",
        "# x has shape (2, 3). Numpy treats scalars as arrays of shape ();\n",
        "# these can be broadcast together to shape (2, 3), producing the\n",
        "# following array:\n",
        "print(x * 2)"
      ],
      "id": "Qkot9881Hknc"
    },
    {
      "cell_type": "markdown",
      "metadata": {
        "id": "GpnA1_G2Hknc"
      },
      "source": [
        "Broadcasting typically makes your code more concise and faster, so you should strive to use it where possible."
      ],
      "id": "GpnA1_G2Hknc"
    },
    {
      "cell_type": "markdown",
      "metadata": {
        "id": "U0nJToIFHknc"
      },
      "source": [
        "This brief overview has touched on many of the important things that you need to know about numpy, but is far from complete. Check out the [numpy reference](http://docs.scipy.org/doc/numpy/reference/) to find out much more about numpy."
      ],
      "id": "U0nJToIFHknc"
    },
    {
      "cell_type": "markdown",
      "metadata": {
        "id": "IXYLgHt5Hknc"
      },
      "source": [
        "Matplotlib\n",
        "----------"
      ],
      "id": "IXYLgHt5Hknc"
    },
    {
      "cell_type": "markdown",
      "metadata": {
        "id": "p6Hv8cy5Hknc"
      },
      "source": [
        "Matplotlib is a plotting library. In this section we give a brief introduction to the `matplotlib.pyplot` module, which provides a plotting system similar to that of MATLAB.\n",
        "\n",
        "By convention, we typically import this module using the `plt` alias:"
      ],
      "id": "p6Hv8cy5Hknc"
    },
    {
      "cell_type": "code",
      "execution_count": null,
      "metadata": {
        "id": "umjSS102Hknd"
      },
      "outputs": [],
      "source": [
        "import matplotlib.pyplot as plt"
      ],
      "id": "umjSS102Hknd"
    },
    {
      "cell_type": "markdown",
      "metadata": {
        "id": "FlsSadrbHknd"
      },
      "source": [
        "### Plotting"
      ],
      "id": "FlsSadrbHknd"
    },
    {
      "cell_type": "markdown",
      "metadata": {
        "id": "P5ElHL8uHknd"
      },
      "source": [
        "The most important function in `matplotlib` is `plot`, which allows you to plot 2D data as a line plot. Here is a simple example:"
      ],
      "id": "P5ElHL8uHknd"
    },
    {
      "cell_type": "code",
      "execution_count": null,
      "metadata": {
        "id": "9QhBqmvZHknd"
      },
      "outputs": [],
      "source": [
        "# Compute the x and y coordinates for points on a sine curve\n",
        "x = np.arange(0, 3 * np.pi, 0.1)\n",
        "y = np.sin(x)\n",
        "\n",
        "# Plot the points using matplotlib\n",
        "plt.plot(x, y)\n",
        "\n",
        "# Show the figure.\n",
        "plt.show()"
      ],
      "id": "9QhBqmvZHknd"
    },
    {
      "cell_type": "markdown",
      "metadata": {
        "id": "U_-bgUkjHknd"
      },
      "source": [
        "With just a little bit of extra work we can easily plot multiple lines at once, and add a title, legend, and axis labels:"
      ],
      "id": "U_-bgUkjHknd"
    },
    {
      "cell_type": "code",
      "execution_count": null,
      "metadata": {
        "id": "qGxOh8nIHknd"
      },
      "outputs": [],
      "source": [
        "y_sin = np.sin(x)\n",
        "y_cos = np.cos(x)\n",
        "\n",
        "# Plot the points using matplotlib\n",
        "plt.plot(x, y_sin, label='Sine')\n",
        "plt.plot(x, y_cos, label='Cosine')\n",
        "plt.legend() # uses the label arguments given above\n",
        "\n",
        "plt.xlabel('x axis label')\n",
        "plt.ylabel('y axis label')\n",
        "plt.title('Sine and Cosine')\n",
        "\n",
        "# Show the figure.\n",
        "plt.show()"
      ],
      "id": "qGxOh8nIHknd"
    },
    {
      "cell_type": "markdown",
      "metadata": {
        "id": "0DQCBbteHknd"
      },
      "source": [
        "Another useful, basic, plot is the `scatter` plot:"
      ],
      "id": "0DQCBbteHknd"
    },
    {
      "cell_type": "code",
      "execution_count": null,
      "metadata": {
        "id": "cTpV2fqcHknd"
      },
      "outputs": [],
      "source": [
        "x = np.random.rand(50)\n",
        "y = np.random.rand(50)\n",
        "colors = np.random.randint(0, 2, 50)\n",
        "\n",
        "plt.scatter(x, y, c=colors)\n",
        "\n",
        "plt.show()"
      ],
      "id": "cTpV2fqcHknd"
    },
    {
      "cell_type": "markdown",
      "metadata": {
        "id": "nIRsd8J1Hknd"
      },
      "source": [
        "When there is no logical connection between adjacent points (for example: if the horizontal axis is a categorical variable without a logical order), then you should *not* connect them (as in a line plot), since this implies a relationship that does not exist! Instead, you would use a scatter plot."
      ],
      "id": "nIRsd8J1Hknd"
    },
    {
      "cell_type": "markdown",
      "metadata": {
        "id": "czs_q1DLHknd"
      },
      "source": [
        "### Subplots"
      ],
      "id": "czs_q1DLHknd"
    },
    {
      "cell_type": "markdown",
      "metadata": {
        "id": "KaxIO5kyHknd"
      },
      "source": [
        "You can plot different things in the same figure using the `subplot` function. Here is an example:"
      ],
      "id": "KaxIO5kyHknd"
    },
    {
      "cell_type": "code",
      "execution_count": null,
      "metadata": {
        "id": "4UdYcKm2Hknd"
      },
      "outputs": [],
      "source": [
        "# Compute the x and y coordinates for points on sine and cosine curves\n",
        "x = np.arange(0, 3 * np.pi, 0.1)\n",
        "y_sin = np.sin(x)\n",
        "y_cos = np.cos(x)\n",
        "\n",
        "# Set up a subplot grid that has height 2 and width 1,\n",
        "# and set the first such subplot as active.\n",
        "plt.subplot(2, 1, 1)\n",
        "\n",
        "# Make the first plot\n",
        "plt.plot(x, y_sin)\n",
        "plt.title('Sine')\n",
        "\n",
        "# Set the second subplot as active, and make the second plot.\n",
        "plt.subplot(2, 1, 2)\n",
        "plt.plot(x, y_cos)\n",
        "plt.title('Cosine')\n",
        "\n",
        "# Adjust spacing between subplots\n",
        "plt.subplots_adjust(hspace = 0.4)\n",
        "\n",
        "# Show the figure.\n",
        "plt.show()"
      ],
      "id": "4UdYcKm2Hknd"
    },
    {
      "cell_type": "markdown",
      "metadata": {
        "id": "GbzI1G--Hknd"
      },
      "source": [
        "You can read much more about the `subplot` function in the [documentation](http://matplotlib.org/api/pyplot_api.html#matplotlib.pyplot.subplot)."
      ],
      "id": "GbzI1G--Hknd"
    },
    {
      "cell_type": "markdown",
      "metadata": {
        "id": "EERVJBjXHknd"
      },
      "source": [
        "You can use the `imshow` function to display images from a file. Here is an example:"
      ],
      "id": "EERVJBjXHknd"
    },
    {
      "cell_type": "code",
      "execution_count": null,
      "metadata": {
        "id": "5572Svk6Hknd"
      },
      "outputs": [],
      "source": [
        "from matplotlib.cbook import get_sample_data\n",
        "\n",
        "img_file = get_sample_data('grace_hopper.jpg')\n",
        "\n",
        "img = plt.imread(img_file)\n",
        "plt.imshow(img)\n",
        "plt.show()"
      ],
      "id": "5572Svk6Hknd"
    },
    {
      "cell_type": "markdown",
      "metadata": {
        "id": "cY3NfElwHknd"
      },
      "source": [
        "The `matplotlib` library is very flexible, and you can create virtually any plot and modify its appearance in any way you might think of. If you don’t like the way your plot looks, fix it! Use the [documentation](http://matplotlib.org/api/pyplot_api.html) to learn more."
      ],
      "id": "cY3NfElwHknd"
    }
  ],
  "nbformat": 4,
  "nbformat_minor": 5,
  "metadata": {
    "colab": {
      "provenance": []
    }
  }
}